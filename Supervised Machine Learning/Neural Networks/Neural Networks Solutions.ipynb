{
 "cells": [
  {
   "cell_type": "markdown",
   "metadata": {},
   "source": [
    "# [Computational Social Science] Neural Networks\n",
    "\n",
    "In this lab, we will introduce and explore neural networks. Neural nets are a popular example of \"artificial intelligence.\" They can improve on many of the models we have learned so far, but are not without their limitations!"
   ]
  },
  {
   "cell_type": "markdown",
   "metadata": {},
   "source": [
    "<img src=\"../../images/ai now and then.jpg\" />"
   ]
  },
  {
   "cell_type": "markdown",
   "metadata": {},
   "source": [
    "Sklearn does have neural network implementations, but these may not always be adequate. Neural networks benefit from access to more powerful hardware, so we will also see some examples with more common neural network libraries. If you do not already have [keras](https://keras.io/) and [tensorflow](https://www.tensorflow.org/) installed, run the following lines of code: "
   ]
  },
  {
   "cell_type": "code",
   "execution_count": null,
   "metadata": {},
   "outputs": [],
   "source": [
    "#!pip install keras"
   ]
  },
  {
   "cell_type": "code",
   "execution_count": null,
   "metadata": {},
   "outputs": [],
   "source": [
    "#!pip install tensorflow"
   ]
  },
  {
   "cell_type": "code",
   "execution_count": 3,
   "metadata": {},
   "outputs": [],
   "source": [
    "# import all the needed module\n",
    "import numpy as np\n",
    "import keras\n",
    "import matplotlib.pyplot as plt\n",
    "\n",
    "# Sklearn\n",
    "from sklearn.datasets import load_digits\n",
    "from sklearn.model_selection import train_test_split\n",
    "from sklearn.neural_network import MLPClassifier\n",
    "from sklearn.preprocessing import StandardScaler\n",
    "from sklearn.metrics import classification_report,confusion_matrix\n",
    "\n",
    "# Keras\n",
    "from keras.datasets import mnist\n",
    "from keras.models import Sequential\n",
    "from keras.layers import Dense, Dropout\n",
    "from keras.optimizers import RMSprop"
   ]
  },
  {
   "cell_type": "markdown",
   "metadata": {},
   "source": [
    "## Neural Networks"
   ]
  },
  {
   "cell_type": "markdown",
   "metadata": {},
   "source": [
    "Neural networks are a set of algorithms, modeled loosely after the human brain, that are designed to recognize patterns.\n",
    "\n",
    "Neural networks help us cluster and classify. They group unlabeled data according to similarities among the example inputs.\n",
    "\n",
    "Classification problems depend on labeled datasets, i.e. humans need to label the data for a neural to learn the correlation between labels and data. This is supervised learning. Below, we'll dive into MLP, which utilizes a supervised learning technique."
   ]
  },
  {
   "cell_type": "markdown",
   "metadata": {},
   "source": [
    "## Multi-Layer Perceptrons"
   ]
  },
  {
   "cell_type": "markdown",
   "metadata": {},
   "source": [
    "A multi-layer perceptron (MLP) is a class of neural network that consists of at least three layers of nodes (first layer being inputs and last layer being outputs). Except for the input layer, activation of nodes of a certain layer depends on which nodes are activated in the previous layer. Each node is a neuron that uses a nonlinear activation function. Below is an image that represents a MLP."
   ]
  },
  {
   "cell_type": "markdown",
   "metadata": {},
   "source": [
    "<img src=\"https://www.safaribooksonline.com/library/view/getting-started-with/9781786468574/graphics/B05474_04_05.jpg\" style=\"width: 500px;\"/>"
   ]
  },
  {
   "cell_type": "markdown",
   "metadata": {},
   "source": [
    "# Load Data"
   ]
  },
  {
   "cell_type": "markdown",
   "metadata": {},
   "source": [
    "For this lab, we will use the famous [Handwritten Digits Data Set](http://yann.lecun.com/exdb/mnist/). The dataset contains images of handwritten number digits from 0 - 9. The training set has 60,000 examples and the test set has 10,000 examples."
   ]
  },
  {
   "cell_type": "code",
   "execution_count": 4,
   "metadata": {},
   "outputs": [
    {
     "name": "stdout",
     "output_type": "stream",
     "text": [
      "1797 samples\n"
     ]
    }
   ],
   "source": [
    "# Load digiti data\n",
    "digits = load_digits()\n",
    "print('%d samples' %len(digits.target))"
   ]
  },
  {
   "cell_type": "markdown",
   "metadata": {},
   "source": [
    "How many classes do we have in the target?"
   ]
  },
  {
   "cell_type": "code",
   "execution_count": 5,
   "metadata": {},
   "outputs": [
    {
     "name": "stdout",
     "output_type": "stream",
     "text": [
      "[0 1 2 3 4 5 6 7 8 9]\n"
     ]
    }
   ],
   "source": [
    "print(np.unique(digits.target))"
   ]
  },
  {
   "cell_type": "markdown",
   "metadata": {},
   "source": [
    "And let's look at what the features look like:"
   ]
  },
  {
   "cell_type": "code",
   "execution_count": 6,
   "metadata": {},
   "outputs": [
    {
     "data": {
      "text/plain": [
       "array([ 0.,  0.,  5., 13.,  9.,  1.,  0.,  0.,  0.,  0., 13., 15., 10.,\n",
       "       15.,  5.,  0.,  0.,  3., 15.,  2.,  0., 11.,  8.,  0.,  0.,  4.,\n",
       "       12.,  0.,  0.,  8.,  8.,  0.,  0.,  5.,  8.,  0.,  0.,  9.,  8.,\n",
       "        0.,  0.,  4., 11.,  0.,  1., 12.,  7.,  0.,  0.,  2., 14.,  5.,\n",
       "       10., 12.,  0.,  0.,  0.,  0.,  6., 13., 10.,  0.,  0.,  0.])"
      ]
     },
     "execution_count": 6,
     "metadata": {},
     "output_type": "execute_result"
    }
   ],
   "source": [
    "digits.data[0]"
   ]
  },
  {
   "cell_type": "markdown",
   "metadata": {},
   "source": [
    "Looks like the features are stored as an array! This type of structure is common when working with image and video data. In this case, the values correspond to pixel values in an 8x8 image. Let's plot the first 64 samples to see what we're working with:"
   ]
  },
  {
   "cell_type": "code",
   "execution_count": 7,
   "metadata": {},
   "outputs": [
    {
     "data": {
      "image/png": "[encoded data removed]",
      "text/plain": [
       "<Figure size 576x576 with 64 Axes>"
      ]
     },
     "metadata": {},
     "output_type": "display_data"
    }
   ],
   "source": [
    "## plot the first 64 samples, and get a sense of the data\n",
    "fig = plt.figure(figsize = (8,8))\n",
    "fig.subplots_adjust(left=0, right=1, bottom=0, top=1, hspace=0.05, wspace=0.05)\n",
    "for i in range(64):\n",
    "    ax = fig.add_subplot(8, 8, i+1, xticks=[], yticks=[])\n",
    "    ax.imshow(digits.images[i],cmap=plt.cm.binary,interpolation='nearest')\n",
    "    ax.text(0, 7, str(digits.target[i]))"
   ]
  },
  {
   "cell_type": "markdown",
   "metadata": {},
   "source": [
    "**Question**: What do you notice about these handwritten digits? Do some of them look ambiguous enough that a computer might struggle to read them?"
   ]
  },
  {
   "cell_type": "markdown",
   "metadata": {},
   "source": [
    "**Answer**: Some of the digits could be confusing for a computer. For instance some \"2s\" look like \"3s\" and \"7s\" with a dash could be mistake for a \"4.\""
   ]
  },
  {
   "cell_type": "markdown",
   "metadata": {},
   "source": [
    "Next, let's make our usual train test splits. Fill in the following code to to do a 80/20 split."
   ]
  },
  {
   "cell_type": "code",
   "execution_count": 8,
   "metadata": {},
   "outputs": [],
   "source": [
    "X_train, X_test, y_train, y_test = train_test_split(digits.data, digits.target, test_size=0.2, random_state=16)"
   ]
  },
  {
   "cell_type": "markdown",
   "metadata": {},
   "source": [
    "We should also be sure to preprocess data. As with more conventional numerical data, the [`StandardScaler()`](https://scikit-learn.org/stable/modules/generated/sklearn.preprocessing.StandardScaler.html) method can be useful here."
   ]
  },
  {
   "cell_type": "code",
   "execution_count": 9,
   "metadata": {},
   "outputs": [],
   "source": [
    "scaler = StandardScaler()\n",
    "# Fit only to the training data\n",
    "scaler.fit(X_train)\n",
    "\n",
    "# Now apply the transformations to the data:\n",
    "X_train_scaled = scaler.transform(X_train)\n",
    "X_test_scaled = scaler.transform(X_test)"
   ]
  },
  {
   "cell_type": "markdown",
   "metadata": {},
   "source": [
    "Now let's initialize and fit the model! We are going to use a multilayer perception classifier, or [`MLPClassifier`](https://scikit-learn.org/stable/modules/generated/sklearn.neural_network.MLPClassifier.html). Try experimenting with some different parameters to initialize the model, and then fit it. In particular, try using the \"hidden_layer_sizes\" and \"activation\" hyperparameters."
   ]
  },
  {
   "cell_type": "code",
   "execution_count": 10,
   "metadata": {},
   "outputs": [
    {
     "data": {
      "text/plain": [
       "MLPClassifier(activation='logistic', hidden_layer_sizes=(30, 30, 30),\n",
       "              max_iter=1000)"
      ]
     },
     "execution_count": 10,
     "metadata": {},
     "output_type": "execute_result"
    }
   ],
   "source": [
    "# Initialize ANN classifier\n",
    "mlp = MLPClassifier(hidden_layer_sizes=(30,30,30), \n",
    "                    activation='logistic', \n",
    "                    max_iter = 1000)\n",
    "\n",
    "# Train the classifier with the traning data\n",
    "mlp.fit(X_train_scaled, y_train)"
   ]
  },
  {
   "cell_type": "markdown",
   "metadata": {},
   "source": [
    "Now let's plot the confusion matrix to take a look at how well we did! Run the code below to plot the confusion matrix. Note that we also call the \"predict\" function. "
   ]
  },
  {
   "cell_type": "code",
   "execution_count": 11,
   "metadata": {},
   "outputs": [],
   "source": [
    "def plot_confusion_matrix(cm, classes,\n",
    "                          normalize=False,\n",
    "                          title='Confusion matrix',\n",
    "                          cmap=plt.cm.Blues):\n",
    "    \"\"\"\n",
    "    This function prints and plots the confusion matrix.\n",
    "    Normalization can be applied by setting `normalize=True`.\n",
    "    \"\"\"\n",
    "    import itertools\n",
    "    fig = plt.figure(figsize=(8, 8)) \n",
    "    plt.imshow(cm, interpolation='nearest', cmap=cmap)\n",
    "    plt.title(title)\n",
    "    plt.colorbar()\n",
    "    tick_marks = np.arange(len(classes))\n",
    "    plt.xticks(tick_marks, classes, rotation=45)\n",
    "    plt.yticks(tick_marks, classes)\n",
    "\n",
    "    if normalize:\n",
    "        cm = cm.astype('float') / cm.sum(axis=1)[:, np.newaxis]\n",
    "\n",
    "    thresh = cm.max() / 2.\n",
    "    for i, j in itertools.product(range(cm.shape[0]), range(cm.shape[1])):\n",
    "        plt.text(j, i, cm[i, j],\n",
    "                 horizontalalignment=\"center\",\n",
    "                 color=\"white\" if cm[i, j] > thresh else \"black\")\n",
    "\n",
    "    plt.tight_layout()\n",
    "    plt.ylabel('True label')\n",
    "    plt.xlabel('Predicted label')\n",
    "    plt.show()"
   ]
  },
  {
   "cell_type": "code",
   "execution_count": 12,
   "metadata": {},
   "outputs": [
    {
     "data": {
      "image/png": "[encoded data removed]",
      "text/plain": [
       "<Figure size 576x576 with 2 Axes>"
      ]
     },
     "metadata": {
      "needs_background": "light"
     },
     "output_type": "display_data"
    }
   ],
   "source": [
    "# predict results from the test data\n",
    "predicted = mlp.predict(X_test_scaled)\n",
    "\n",
    "# plot the confusion matrix\n",
    "cm = confusion_matrix(y_test,predicted)\n",
    "plot_confusion_matrix(cm, classes=digits.target_names,\n",
    "                      title='Confusion matrix, without normalization')"
   ]
  },
  {
   "cell_type": "code",
   "execution_count": 13,
   "metadata": {},
   "outputs": [
    {
     "data": {
      "image/png": "[encoded data removed]",
      "text/plain": [
       "<Figure size 576x576 with 64 Axes>"
      ]
     },
     "metadata": {},
     "output_type": "display_data"
    }
   ],
   "source": [
    "expected = y_test \n",
    "fig = plt.figure(figsize=(8, 8))  # figure size in inches\n",
    "fig.subplots_adjust(left=0, right=1, bottom=0, top=1, hspace=0.05, wspace=0.05)\n",
    "\n",
    "# plot the digits: each image is 8x8 pixels\n",
    "for i in range(64):\n",
    "    ax = fig.add_subplot(8, 8, i + 1, xticks=[], yticks=[])\n",
    "    ax.imshow(X_test.reshape(-1, 8, 8)[i], cmap=plt.cm.binary, interpolation='nearest')\n",
    "\n",
    "    # label the image with the target value\n",
    "    if predicted[i] == expected[i]:\n",
    "        ax.text(0, 7, str(predicted[i]), color='green')\n",
    "    else:\n",
    "        ax.text(0, 7, str(predicted[i]), color='red')"
   ]
  },
  {
   "cell_type": "markdown",
   "metadata": {},
   "source": [
    "**Question**: Taking a look at the plot above to see where we correctly classified and misclassified certain digits. Are you surprised by the ones that were misclassified?"
   ]
  },
  {
   "cell_type": "markdown",
   "metadata": {},
   "source": [
    "**Answer**: The ones that were misclassified do look a little ambiguous, in part because they are a little fuzzy."
   ]
  },
  {
   "cell_type": "markdown",
   "metadata": {},
   "source": [
    "## Keras Implementation"
   ]
  },
  {
   "cell_type": "markdown",
   "metadata": {},
   "source": [
    "Now, let's try thes ame thing with keras. THe main advantage of keras is that it is built on tensorflow, which provides access to the latest deep learning models and can take advantage of higher end hardware than sklearn. We won't be using Graphical Processing Units (GPUs) or Tensor Processing Units (TPUs) in this lab, but it is a good idea to keep them in the back of your mind as you continue to explore AI and deep learning. First, let's reload the dataset, using the keras example this time: "
   ]
  },
  {
   "cell_type": "code",
   "execution_count": 14,
   "metadata": {},
   "outputs": [],
   "source": [
    "# load data, and they are saving to the training and testing data\n",
    "(x_train, y_train), (x_test, y_test) = mnist.load_data()"
   ]
  },
  {
   "cell_type": "code",
   "execution_count": 15,
   "metadata": {},
   "outputs": [
    {
     "name": "stdout",
     "output_type": "stream",
     "text": [
      "The dataset contains 1437 training data examples, and 360 test data examples\n"
     ]
    }
   ],
   "source": [
    "print(f'The dataset contains {len(X_train)} training data examples, and {len(X_test)} test data examples')"
   ]
  },
  {
   "cell_type": "markdown",
   "metadata": {},
   "source": [
    "Now let's plot the images we're working with. "
   ]
  },
  {
   "cell_type": "code",
   "execution_count": 16,
   "metadata": {},
   "outputs": [
    {
     "data": {
      "image/png": "[encoded data removed]",
      "text/plain": [
       "<Figure size 576x576 with 64 Axes>"
      ]
     },
     "metadata": {},
     "output_type": "display_data"
    }
   ],
   "source": [
    "## plot the first 64 samples, and get a sense of the data\n",
    "fig = plt.figure(figsize = (8,8))\n",
    "fig.subplots_adjust(left=0, right=1, bottom=0, top=1, hspace=0.05, wspace=0.05)\n",
    "for i in range(64):\n",
    "    ax = fig.add_subplot(8, 8, i+1, xticks=[], yticks=[])\n",
    "    ax.imshow(x_train[i],cmap=plt.cm.binary,interpolation='nearest')\n",
    "    ax.text(0, 7, str(y_train[i]))"
   ]
  },
  {
   "cell_type": "markdown",
   "metadata": {},
   "source": [
    "Now let's preprocess the data to get it ready for analysis. Run the following code to flatten the training and test features, and normalize the data by dividing the maximum pixel value."
   ]
  },
  {
   "cell_type": "code",
   "execution_count": 17,
   "metadata": {},
   "outputs": [],
   "source": [
    "# Flatten the images into 1D array\n",
    "num_pixels = x_train.shape[1] * x_train.shape[2]\n",
    "num_pixels\n",
    "\n",
    "x_train = x_train.reshape(60000, 784)\n",
    "x_test = x_test.reshape(10000, 784)\n",
    "\n",
    "# Convert the data type from int to float\n",
    "x_train = x_train.astype('float32')\n",
    "x_test = x_test.astype('float32')\n",
    "\n",
    "# Normalize the data by dividing the maximum value\n",
    "x_train /= 255\n",
    "x_test /= 255"
   ]
  },
  {
   "cell_type": "markdown",
   "metadata": {},
   "source": [
    "Then use keras [`to_categorical()`](https://www.tensorflow.org/api_docs/python/tf/keras/utils/to_categorical) to convert the target label. What process does this remind you from sklearn?\n",
    "\n",
    "**Answer**: This is similar to one-hot encoding from sklearn."
   ]
  },
  {
   "cell_type": "code",
   "execution_count": 18,
   "metadata": {},
   "outputs": [],
   "source": [
    "num_classes = 10\n",
    "# convert class vectors to binary class matrices\n",
    "y_train = keras.utils.to_categorical(y_train, num_classes)\n",
    "y_test = keras.utils.to_categorical(y_test, num_classes)"
   ]
  },
  {
   "cell_type": "code",
   "execution_count": 19,
   "metadata": {},
   "outputs": [
    {
     "data": {
      "text/plain": [
       "10"
      ]
     },
     "execution_count": 19,
     "metadata": {},
     "output_type": "execute_result"
    }
   ],
   "source": [
    "# See what the labeling look like now by printing out the first label\n",
    "y_train[0]\n",
    "\n",
    "num_classes = y_test.shape[1]\n",
    "num_classes"
   ]
  },
  {
   "cell_type": "markdown",
   "metadata": {},
   "source": [
    "We can build a multilayer perception network by adding layers to the model. Let's start with an empty stack:"
   ]
  },
  {
   "cell_type": "code",
   "execution_count": 20,
   "metadata": {},
   "outputs": [],
   "source": [
    "model = Sequential()"
   ]
  },
  {
   "cell_type": "markdown",
   "metadata": {},
   "source": [
    "Create an input layer using the Dense function (refer to <a href=\"https://keras.io/layers/core/\">this doc</a>), then add the layer to our model using `model.add(...)`. The input layer should use ['relu'](https://en.wikipedia.org/wiki/Rectifier_(neural_networks)) activation, a 'normal' [kernel_initializer](https://datascience.stackexchange.com/questions/37378/what-are-kernel-initializers-and-what-is-their-significance), and the number of pixels for input_dim. 'Relu' is a \"rectified\" activation function that is flat before the activiation threshold and then positively slopes up. The kernel initializer determines the probability distribution to draw the initial weights from. "
   ]
  },
  {
   "cell_type": "code",
   "execution_count": 21,
   "metadata": {},
   "outputs": [],
   "source": [
    "\"\"\"\n",
    "Dense(...) creates a regular densely connected layer. \n",
    "relu is a rectifier activation function.\n",
    "\"\"\"\n",
    "model.add(\n",
    "    Dense(num_pixels, input_dim=num_pixels, kernel_initializer='normal', activation='relu')\n",
    ")"
   ]
  },
  {
   "cell_type": "markdown",
   "metadata": {},
   "source": [
    "Add in the output layer to our model. We then initialize the output layer using a [\"softmax\"](https://en.wikipedia.org/wiki/Softmax_function) activation function. Softmax is an extension of logistic regression that extends to multiple categories."
   ]
  },
  {
   "cell_type": "code",
   "execution_count": 22,
   "metadata": {},
   "outputs": [],
   "source": [
    "\"\"\"\n",
    "A softmax activation function is used on the output layer to turn the outputs into \n",
    "probability-like values\n",
    "\"\"\"\n",
    "model.add(\n",
    "    Dense(num_classes, kernel_initializer='normal', activation='softmax')\n",
    ")"
   ]
  },
  {
   "cell_type": "markdown",
   "metadata": {},
   "source": [
    "Compile our model. We will use [\"categorical crossentropy\"](https://machinelearningmastery.com/cross-entropy-for-machine-learning/) as our loss measure. Cross-entropy is a measure of the difference in the probability distribution implied by the predictions and the distribution implied by the actual values. ['Adam'](https://machinelearningmastery.com/adam-optimization-algorithm-for-deep-learning/) stands for adaptive moment estimation. At a high level, it utilizes second moments to update the [learning rate](https://machinelearningmastery.com/understand-the-dynamics-of-learning-rate-on-deep-learning-neural-networks/) dynamically. The learning rate controls how much the model will update when faced with errors."
   ]
  },
  {
   "cell_type": "code",
   "execution_count": 23,
   "metadata": {},
   "outputs": [],
   "source": [
    "\"\"\"\n",
    "categorical_crossentropy is a logarithmic loss function and\n",
    "adam is a gradient descent algorithm\n",
    "\"\"\"\n",
    "model.compile(loss='categorical_crossentropy', optimizer='adam', metrics=['accuracy'])"
   ]
  },
  {
   "cell_type": "markdown",
   "metadata": {},
   "source": [
    "Let's now fit our model on the training dataset. We fit our model over 10 epochs and update it every 200 images. It might take a few minutes."
   ]
  },
  {
   "cell_type": "code",
   "execution_count": 24,
   "metadata": {},
   "outputs": [
    {
     "name": "stdout",
     "output_type": "stream",
     "text": [
      "Epoch 1/10\n",
      "300/300 - 5s - loss: 0.2765 - accuracy: 0.9208 - val_loss: 0.1363 - val_accuracy: 0.9605\n",
      "Epoch 2/10\n",
      "300/300 - 5s - loss: 0.1104 - accuracy: 0.9674 - val_loss: 0.0930 - val_accuracy: 0.9721\n",
      "Epoch 3/10\n",
      "300/300 - 6s - loss: 0.0715 - accuracy: 0.9793 - val_loss: 0.0772 - val_accuracy: 0.9765\n",
      "Epoch 4/10\n",
      "300/300 - 5s - loss: 0.0507 - accuracy: 0.9855 - val_loss: 0.0685 - val_accuracy: 0.9790\n",
      "Epoch 5/10\n",
      "300/300 - 6s - loss: 0.0360 - accuracy: 0.9902 - val_loss: 0.0624 - val_accuracy: 0.9807\n",
      "Epoch 6/10\n",
      "300/300 - 7s - loss: 0.0280 - accuracy: 0.9926 - val_loss: 0.0583 - val_accuracy: 0.9817\n",
      "Epoch 7/10\n",
      "300/300 - 6s - loss: 0.0198 - accuracy: 0.9951 - val_loss: 0.0658 - val_accuracy: 0.9802\n",
      "Epoch 8/10\n",
      "300/300 - 5s - loss: 0.0146 - accuracy: 0.9966 - val_loss: 0.0670 - val_accuracy: 0.9801\n",
      "Epoch 9/10\n",
      "300/300 - 6s - loss: 0.0110 - accuracy: 0.9979 - val_loss: 0.0617 - val_accuracy: 0.9823\n",
      "Epoch 10/10\n",
      "300/300 - 5s - loss: 0.0086 - accuracy: 0.9982 - val_loss: 0.0603 - val_accuracy: 0.9825\n"
     ]
    },
    {
     "data": {
      "text/plain": [
       "<tensorflow.python.keras.callbacks.History at 0x241ebbf1fd0>"
      ]
     },
     "execution_count": 24,
     "metadata": {},
     "output_type": "execute_result"
    }
   ],
   "source": [
    "model.fit(x_train, y_train, validation_data=(x_test, y_test), epochs=10, batch_size=200, verbose=2)"
   ]
  },
  {
   "cell_type": "markdown",
   "metadata": {},
   "source": [
    "## Convolutional Nerual Networks"
   ]
  },
  {
   "cell_type": "markdown",
   "metadata": {},
   "source": [
    "MLPs did give us pretty good accuracy. However, As each pixel of an image is an input, we will have too many inputs for a large image. Convolutional neural nets, on the other hand, can take in 3-D inputs (2D + color) instead of just 1-D."
   ]
  },
  {
   "cell_type": "markdown",
   "metadata": {},
   "source": [
    "<img src=\"https://www.mathworks.com/content/mathworks/www/en/discovery/convolutional-neural-network/jcr:content/mainParsys/image_copy.adapt.full.high.jpg/1517522275430.jpg\" style=\"width: 600px;\"/>"
   ]
  },
  {
   "cell_type": "markdown",
   "metadata": {},
   "source": [
    "#### Filtering"
   ]
  },
  {
   "cell_type": "markdown",
   "metadata": {},
   "source": [
    "ConvNets have \"features\" and match them with parts of an image rather than the whole thing. "
   ]
  },
  {
   "cell_type": "markdown",
   "metadata": {},
   "source": [
    "<img src=\"../../images/match_pieces.png\" style=\"width: 500px;\"/>"
   ]
  },
  {
   "cell_type": "markdown",
   "metadata": {},
   "source": [
    "In the example above, we have three features: left-to-right diagonal, central X, and right to left diagonal. To match features, we use a process called filtering."
   ]
  },
  {
   "cell_type": "markdown",
   "metadata": {},
   "source": [
    "1. Assign each black pixel -1 and each white pixel 1. \n",
    "2. Line up a feature with an image patch (for example, line up left-to-right diagonal with the green box above)\n",
    "3. Multiply each feature pixel with the corresponding image patch pixel\n",
    "4. Take the average of the products"
   ]
  },
  {
   "cell_type": "markdown",
   "metadata": {},
   "source": [
    "<b>Question:</b> In the example above when we match the left-to-right diagonal feature with the green box, what would the process output?"
   ]
  },
  {
   "cell_type": "markdown",
   "metadata": {},
   "source": [
    "<b>Answer: 1</b>"
   ]
  },
  {
   "cell_type": "markdown",
   "metadata": {},
   "source": [
    "#### Convolutional Layer\n",
    " \n",
    "The process of filtering for every possible image patch with every feature."
   ]
  },
  {
   "cell_type": "markdown",
   "metadata": {},
   "source": [
    "<img src=\"../../images/convolution.png\" style=\"width: 500px;\"/>"
   ]
  },
  {
   "cell_type": "markdown",
   "metadata": {},
   "source": [
    "As you can see in the image above, after applying our left-to-right diagonal filter, we get higher scores on the left to right diagonal."
   ]
  },
  {
   "cell_type": "markdown",
   "metadata": {},
   "source": [
    "<b>Question:</b> If we apply the central X filter in this example, where will the highest score occur?"
   ]
  },
  {
   "cell_type": "markdown",
   "metadata": {},
   "source": [
    "<b>Answer: The very center of the entire image</b>"
   ]
  },
  {
   "cell_type": "markdown",
   "metadata": {},
   "source": [
    "#### ReLU (Rectified Linear Units)"
   ]
  },
  {
   "cell_type": "markdown",
   "metadata": {},
   "source": [
    "This process is applied on filtered images. It simply changes every negative value to 0 and leaves positive values unchanged."
   ]
  },
  {
   "cell_type": "markdown",
   "metadata": {},
   "source": [
    "#### Pooling Layer"
   ]
  },
  {
   "cell_type": "markdown",
   "metadata": {},
   "source": [
    "In this layer, we shrink the filtered images by the following process:\n",
    "1. Pick a window size and a stride size\n",
    "2. Walk our window on the filtered image, each time shifting by the stride size\n",
    "3. For each step, take the maximum score contained in the window"
   ]
  },
  {
   "cell_type": "markdown",
   "metadata": {},
   "source": [
    "<img src=\"../../images/pooling.png\" style=\"width: 500px;\"/>"
   ]
  },
  {
   "cell_type": "markdown",
   "metadata": {},
   "source": [
    "This layer helps because it does not care about where in the window the maximum value occurs, i.e. it's less sensitive to specific positioning of pixels."
   ]
  },
  {
   "cell_type": "markdown",
   "metadata": {},
   "source": [
    "<b>Question:</b> How would the pooling layer help in classifying digits? "
   ]
  },
  {
   "cell_type": "markdown",
   "metadata": {},
   "source": [
    "<b>Answer: Handwritten digits follow a general pattern but where each pixel lands can be undeterminstic. Matching parts of an image can tell us which general pattern occurs without caring too much about where it occurs.</b>"
   ]
  },
  {
   "cell_type": "markdown",
   "metadata": {},
   "source": [
    "#### Fully Connected Layer"
   ]
  },
  {
   "cell_type": "markdown",
   "metadata": {},
   "source": [
    "This layer flattens the pooled images and each value gets a vote, which is how strongly that value suggests a certain outcome."
   ]
  },
  {
   "cell_type": "markdown",
   "metadata": {},
   "source": [
    "One question you might have now is where do the initial features and voting weights come from. They are obtained by a process called <a href=\"https://brilliant.org/wiki/backpropagation/\">backpropragation</a>, which we don't have enough time to explain here."
   ]
  },
  {
   "cell_type": "markdown",
   "metadata": {},
   "source": [
    "Now we've learned that the layers are combined together: <b>convolutional + ReLU + pooling</b> constitute the first part while <b>fully connected</b> the second. One note is that each part can be applied multiple times, as we can see in [the overview of a CNN at the beginning](#conv_image)."
   ]
  },
  {
   "cell_type": "markdown",
   "metadata": {},
   "source": [
    "### Create a CNN"
   ]
  },
  {
   "cell_type": "markdown",
   "metadata": {},
   "source": [
    "Keras also provides useful methods to create a CNN."
   ]
  },
  {
   "cell_type": "code",
   "execution_count": 25,
   "metadata": {},
   "outputs": [],
   "source": [
    "# importing dependencies\n",
    "import numpy\n",
    "from keras.models import Sequential\n",
    "from keras.layers import Dense\n",
    "from keras.layers import Dropout\n",
    "from keras.layers import Flatten\n",
    "from keras.layers.convolutional import Conv2D\n",
    "from keras.layers.convolutional import MaxPooling2D\n",
    "from keras.utils import np_utils\n",
    "from keras import backend as K\n",
    "K.set_image_data_format('channels_last')\n",
    "#K.set_image_dim_ordering('th')\n",
    "from keras.datasets import mnist"
   ]
  },
  {
   "cell_type": "markdown",
   "metadata": {},
   "source": [
    "In Keras, the layers used for two-dimensional convolutions expect pixel values with the dimensions [pixels][width][height]. We'll set the pixels dimension to 1 because the pixel values in MNIST are gray scale. As a reminder, all images in MNIST are 28x28."
   ]
  },
  {
   "cell_type": "code",
   "execution_count": 26,
   "metadata": {},
   "outputs": [],
   "source": [
    "# load data\n",
    "(X_train, y_train), (X_test, y_test) = mnist.load_data()\n",
    "\n",
    "# reshape to [samples][width][height][pixels]\n",
    "X_train = X_train.reshape(X_train.shape[0], 28, 28, 1)\n",
    "X_test = X_test.reshape(X_test.shape[0], 28, 28, 1)"
   ]
  },
  {
   "cell_type": "markdown",
   "metadata": {},
   "source": [
    "Below, fill out the blanks to normalize the datasets and one hot encode the output values."
   ]
  },
  {
   "cell_type": "code",
   "execution_count": 27,
   "metadata": {},
   "outputs": [],
   "source": [
    "# normalize inputs from 0-255 to 0-1\n",
    "X_train = X_train / 255\n",
    "X_test = X_test / 255\n",
    "# one hot encode outputs\n",
    "y_train = np_utils.to_categorical(y_train)\n",
    "y_test = np_utils.to_categorical(y_test)\n",
    "num_classes = y_test.shape[1]"
   ]
  },
  {
   "cell_type": "markdown",
   "metadata": {},
   "source": [
    "Let's define a function that creates our CNN. Read through the comments to understand what each line does."
   ]
  },
  {
   "cell_type": "code",
   "execution_count": 28,
   "metadata": {},
   "outputs": [],
   "source": [
    "def CNN_model():\n",
    "    # create model\n",
    "    model = Sequential()\n",
    "    \n",
    "    # A convolutional layer that has 32 features of size 5x5\n",
    "    #model.add(Conv2D(32, (5, 5), input_shape=(1,28, 28), activation='relu', data_format = 'channels_first'))\n",
    "    model.add(Conv2D(32, (3, 3), activation = \"relu\", kernel_initializer = \"he_uniform\", input_shape = (28, 28, 1)))\n",
    "\n",
    "    # A pooling layer with a window size of 2x2\n",
    "    model.add(MaxPooling2D(pool_size=(2, 2)))\n",
    "    \n",
    "    # A dropout layer that randomly excludes 20% of neurons in the layer \n",
    "    model.add(Dropout(0.2))\n",
    "    \n",
    "    # A flatten layer\n",
    "    model.add(Flatten())\n",
    "    \n",
    "    # A fully connected layer with 128 neurons\n",
    "    model.add(Dense(128, activation='relu'))\n",
    "    \n",
    "    # An output layer with softmax as in MLP\n",
    "    model.add(Dense(num_classes, activation='softmax'))\n",
    "    \n",
    "    # Compile model as before in MLP\n",
    "    model.compile(loss='categorical_crossentropy', optimizer='adam', metrics=['accuracy'])\n",
    "    return model"
   ]
  },
  {
   "cell_type": "code",
   "execution_count": 29,
   "metadata": {},
   "outputs": [
    {
     "name": "stdout",
     "output_type": "stream",
     "text": [
      "Epoch 1/10\n",
      "300/300 - 42s - loss: 0.2037 - accuracy: 0.9370 - val_loss: 0.0798 - val_accuracy: 0.9749\n",
      "Epoch 2/10\n",
      "300/300 - 40s - loss: 0.0683 - accuracy: 0.9795 - val_loss: 0.0564 - val_accuracy: 0.9818\n",
      "Epoch 3/10\n",
      "300/300 - 46s - loss: 0.0467 - accuracy: 0.9856 - val_loss: 0.0485 - val_accuracy: 0.9843\n",
      "Epoch 4/10\n",
      "300/300 - 44s - loss: 0.0322 - accuracy: 0.9901 - val_loss: 0.0463 - val_accuracy: 0.9852\n",
      "Epoch 5/10\n",
      "300/300 - 46s - loss: 0.0255 - accuracy: 0.9923 - val_loss: 0.0422 - val_accuracy: 0.9862\n",
      "Epoch 6/10\n",
      "300/300 - 45s - loss: 0.0192 - accuracy: 0.9941 - val_loss: 0.0456 - val_accuracy: 0.9850\n",
      "Epoch 7/10\n",
      "300/300 - 43s - loss: 0.0165 - accuracy: 0.9946 - val_loss: 0.0423 - val_accuracy: 0.9868\n",
      "Epoch 8/10\n",
      "300/300 - 39s - loss: 0.0128 - accuracy: 0.9961 - val_loss: 0.0371 - val_accuracy: 0.9881\n",
      "Epoch 9/10\n",
      "300/300 - 43s - loss: 0.0107 - accuracy: 0.9966 - val_loss: 0.0423 - val_accuracy: 0.9875\n",
      "Epoch 10/10\n",
      "300/300 - 41s - loss: 0.0094 - accuracy: 0.9971 - val_loss: 0.0429 - val_accuracy: 0.9882\n",
      "CNN Error: 1.18%\n"
     ]
    }
   ],
   "source": [
    "model = CNN_model()\n",
    "# Fit the model\n",
    "model.fit(X_train, y_train, validation_data=(X_test, y_test), epochs=10, batch_size=200, verbose=2)\n",
    "\n",
    "# Evaluation of the model\n",
    "scores = model.evaluate(X_test, y_test, verbose=0)\n",
    "print(\"CNN Error: %.2f%%\" % (100-scores[1]*100))"
   ]
  },
  {
   "cell_type": "markdown",
   "metadata": {},
   "source": [
    "Now let's experiment with the parameters: number of features, size of features, size of the window in pooling, dropout percentage, and so on. Modify the parameters to your best judgment in the function below."
   ]
  },
  {
   "cell_type": "code",
   "execution_count": 30,
   "metadata": {},
   "outputs": [],
   "source": [
    "def diff_CNN_model():\n",
    "    # create model\n",
    "    model = Sequential()\n",
    "    \n",
    "    # A convolutional layer that has 32 features of size 5x5\n",
    "    model.add(Conv2D(32, (3, 3), activation = \"relu\", kernel_initializer = \"he_uniform\", input_shape = (28, 28, 1)))\n",
    "    \n",
    "    # A pooling layer with a window size of 2x2\n",
    "    model.add(MaxPooling2D(pool_size=(4, 4)))\n",
    "    \n",
    "    # A dropout layer that randomly excludes 20% of neurons in the layer \n",
    "    model.add(Dropout(0.5))\n",
    "    \n",
    "    # A flatten layer\n",
    "    model.add(Flatten())\n",
    "    \n",
    "    # A fully connected layer with 128 neurons\n",
    "    model.add(Dense(128, activation='relu'))\n",
    "    \n",
    "    # An output layer with softmax as in MLP\n",
    "    model.add(Dense(num_classes, activation='softmax'))\n",
    "    \n",
    "    # Compile model as before in MLP\n",
    "    model.compile(loss='categorical_crossentropy', optimizer='adam', metrics=['accuracy'])\n",
    "    return model"
   ]
  },
  {
   "cell_type": "code",
   "execution_count": 31,
   "metadata": {},
   "outputs": [
    {
     "name": "stdout",
     "output_type": "stream",
     "text": [
      "Epoch 1/10\n",
      "300/300 - 23s - loss: 0.4360 - accuracy: 0.8631 - val_loss: 0.1238 - val_accuracy: 0.9646\n",
      "Epoch 2/10\n",
      "300/300 - 23s - loss: 0.1739 - accuracy: 0.9457 - val_loss: 0.0798 - val_accuracy: 0.9753\n",
      "Epoch 3/10\n",
      "300/300 - 24s - loss: 0.1344 - accuracy: 0.9584 - val_loss: 0.0657 - val_accuracy: 0.9801\n",
      "Epoch 4/10\n",
      "300/300 - 25s - loss: 0.1124 - accuracy: 0.9646 - val_loss: 0.0582 - val_accuracy: 0.9820\n",
      "Epoch 5/10\n",
      "300/300 - 21s - loss: 0.0962 - accuracy: 0.9697 - val_loss: 0.0496 - val_accuracy: 0.9836\n",
      "Epoch 6/10\n",
      "300/300 - 24s - loss: 0.0883 - accuracy: 0.9723 - val_loss: 0.0443 - val_accuracy: 0.9851\n",
      "Epoch 7/10\n",
      "300/300 - 26s - loss: 0.0783 - accuracy: 0.9753 - val_loss: 0.0398 - val_accuracy: 0.9864\n",
      "Epoch 8/10\n",
      "300/300 - 29s - loss: 0.0719 - accuracy: 0.9772 - val_loss: 0.0387 - val_accuracy: 0.9876\n",
      "Epoch 9/10\n",
      "300/300 - 26s - loss: 0.0663 - accuracy: 0.9797 - val_loss: 0.0354 - val_accuracy: 0.9885\n",
      "Epoch 10/10\n",
      "300/300 - 27s - loss: 0.0614 - accuracy: 0.9801 - val_loss: 0.0347 - val_accuracy: 0.9881\n",
      "CNN Error: 1.19%\n"
     ]
    }
   ],
   "source": [
    "model = diff_CNN_model()\n",
    "# Fit the model\n",
    "model.fit(X_train, y_train, validation_data=(X_test, y_test), epochs=10, batch_size=200, verbose=2)\n",
    "\n",
    "# Evaluation of the model\n",
    "scores = model.evaluate(X_test, y_test, verbose=0)\n",
    "print(\"CNN Error: %.2f%%\" % (100-scores[1]*100))"
   ]
  },
  {
   "cell_type": "markdown",
   "metadata": {},
   "source": [
    "Do you get different accuracies for the two different models? Make some conclusions about different parameters."
   ]
  },
  {
   "cell_type": "markdown",
   "metadata": {},
   "source": [
    "---\n",
    "Authored by Aniket Kesari. Materials adapted from D-Lab [ANN Fundamentals](https://github.com/dlab-berkeley/ANN-Fundamentals/tree/master/notebooks) and LS123 Data, Prediction, and Law [Neural Networks](https://github.com/Akesari12/LS123_Data_Prediction_Law_Spring-2019/tree/master/labs/Neural%20Nets)."
   ]
  }
 ],
 "metadata": {
  "kernelspec": {
   "display_name": "Python 3",
   "language": "python",
   "name": "python3"
  },
  "language_info": {
   "codemirror_mode": {
    "name": "ipython",
    "version": 3
   },
   "file_extension": ".py",
   "mimetype": "text/x-python",
   "name": "python",
   "nbconvert_exporter": "python",
   "pygments_lexer": "ipython3",
   "version": "3.8.3"
  }
 },
 "nbformat": 4,
 "nbformat_minor": 4
}
