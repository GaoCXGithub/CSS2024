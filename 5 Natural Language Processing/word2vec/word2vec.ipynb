{
 "cells": [
  {
   "cell_type": "markdown",
   "metadata": {},
   "source": [
    "# Computational Social Science: word2vec\n",
    "\n",
    "In this lab we will use the techniques we introduce word embeddings via word2vec."
   ]
  },
  {
   "cell_type": "code",
   "execution_count": 1,
   "metadata": {},
   "outputs": [],
   "source": [
    "#!pip install gensim\n",
    "#!pip install tqdm\n",
    "#!pip install adjustText\n",
    "#!pip install multiprocessing"
   ]
  },
  {
   "cell_type": "code",
   "execution_count": 2,
   "metadata": {},
   "outputs": [],
   "source": [
    "import pandas as pd\n",
    "import numpy as np\n",
    "import spacy\n",
    "import en_core_web_sm\n",
    "nlp = en_core_web_sm.load()\n",
    "from spacy.lang.en.stop_words import STOP_WORDS\n",
    "from string import punctuation\n",
    "\n",
    "from tqdm import tqdm\n",
    "\n",
    "import gensim\n",
    "from gensim import models\n",
    "from gensim.models import KeyedVectors\n",
    "from gensim.models.doc2vec import Doc2Vec, TaggedDocument\n",
    "\n",
    "\n",
    "from sklearn.preprocessing import StandardScaler\n",
    "from sklearn.decomposition import PCA\n",
    "from sklearn import utils\n",
    "from sklearn.linear_model import LogisticRegression\n",
    "from sklearn.model_selection import train_test_split\n",
    "from sklearn.metrics import confusion_matrix\n",
    "from sklearn.preprocessing import LabelBinarizer\n",
    "from sklearn.manifold import TSNE\n",
    "\n",
    "import multiprocessing\n",
    "\n",
    "import seaborn as sns\n",
    "import matplotlib.pyplot as plt\n",
    "%matplotlib inline"
   ]
  },
  {
   "cell_type": "markdown",
   "metadata": {},
   "source": [
    "## Data"
   ]
  },
  {
   "cell_type": "markdown",
   "metadata": {},
   "source": [
    "<img src = \"../../images/cfpb logo.png\"  />"
   ]
  },
  {
   "cell_type": "markdown",
   "metadata": {},
   "source": [
    "We'll once again use the Consumer Financial Protection Bureau's [Consumer Complaint Database](https://www.consumerfinance.gov/data-research/consumer-complaints/). Picking up from where we left off last time, we'll focus on predicting whether a consumer complaint narrative is talking about a \"mortgage\" issue or a \"student loan\" issue."
   ]
  },
  {
   "cell_type": "code",
   "execution_count": 3,
   "metadata": {},
   "outputs": [],
   "source": [
    "cfpb = pd.read_csv(\"../../data/CFPB 2020 Complaints.csv\")\n",
    "cfpb = cfpb.dropna(subset = ['Consumer complaint narrative'])\n",
    "cfpb = cfpb[(cfpb['Product']=='Mortgage') | (cfpb['Product'] == 'Student loan')]\n",
    "cfpb = cfpb[:1000].reset_index(drop = True)"
   ]
  },
  {
   "cell_type": "markdown",
   "metadata": {},
   "source": [
    "## Overview <a id='context'></a>\n",
    "\n",
    "In this lab, we will be turning individual words in the data set into vectors, called \"Word Embeddings\". Word embedding attempt to identify semantic relationships between words by observing them in the context that the word appears. Word2Vec is the most prominent word embedding algorithm.\n",
    "\n",
    "Imagine that each word in a novel has its meaning determined by the ones that surround it in a limited window. For example, in Moby Dick's first sentence, “me” is paired on either side by “Call” and “Ishmael.” After observing the windows around every word in the novel (or many novels), the computer will notice a pattern in which “me” falls between similar pairs of words to “her,” “him,” or “them.” Of course, the computer had gone through a similar process over the words “Call” and “Ishmael,” for which “me” is reciprocally part of their contexts.  This chaining of signifiers to one another mirrors some of humanists' most sophisticated interpretative frameworks of language.\n",
    "\n",
    "The two main flavors of Word2Vec are CBOW (Continuous Bag of Words) and Skip-Gram, which can be distinguished partly by their input and output during training. Skip-Gram takes a word of interest as its input (e.g., \"me\") and tries to learn how to predict its context words (\"Call\", \"Ishmael\"). CBOW does the opposite, taking the context words (\"Call\", \"Ishmael\") as a single input and tries to predict the word of interest (\"me\").\n",
    "\n",
    "In general, CBOW is is faster and does well with frequent words, while Skip-Gram potentially represents rare words better.\n",
    "\n",
    "### Word2Vec Features\n",
    "\n",
    "* `vector_size`: Number of dimensions for word embedding model (*formerly* `size`) \n",
    "* `window`: Number of context words to observe in each direction\n",
    "* `min_count`: Minimum frequency for words included in model\n",
    "* `sg` (Skip-Gram): '0' indicates CBOW model; '1' indicates Skip-Gram\n",
    "* `alpha`: Learning rate (initial); prevents model from over-correcting, enables finer tuning\n",
    "* `epochs`: Number of passes through dataset (*formerly* `iterations`) \n",
    "* `batch_words`: Number of words to sample from data during each pass\n",
    "\n",
    "\n",
    "For more detailed background on Word2Vec's mechanics, I suggest this  <a href=\"https://www.tensorflow.org/versions/r0.8/tutorials/word2vec/index.html\">brief tutorial</a> by Google, especially the sections \"Motivation,\" \"Skip-Gram Model,\" and \"Visualizing.\"\n",
    "\n",
    "We will be using the default value for most of our parameters."
   ]
  },
  {
   "cell_type": "markdown",
   "metadata": {},
   "source": [
    "## Preprocessing"
   ]
  },
  {
   "cell_type": "markdown",
   "metadata": {},
   "source": [
    "First let's use our handy preprocessing function. Notice that this version will return a list of tokens (not a string), and we also added the `str.lower()` method."
   ]
  },
  {
   "cell_type": "code",
   "execution_count": 4,
   "metadata": {},
   "outputs": [],
   "source": [
    "def rem_punc_stop(text):\n",
    "    stop_words = STOP_WORDS\n",
    "    # Individually\n",
    "    # nlp.Defaults.stop_words.add(\"XX\")\n",
    "    # nlp.Defaults.stop_words.add(\"XXXX\")\n",
    "    # nlp.Defaults.stop_words.add(\"XXXXXXX\")\n",
    "    \n",
    "    # Using the bitwise |= (or) operator\n",
    "    nlp.Defaults.stop_words |= {\"xx\", \"xxxx\",\"xxxxxxxx\"}\n",
    "    \n",
    "    punc = set(punctuation)\n",
    "    \n",
    "    punc_free = \"\".join([ch for ch in text if ch not in punc])\n",
    "    \n",
    "    doc = nlp(punc_free)\n",
    "    \n",
    "    spacy_words = [token.text.lower() for token in doc]\n",
    "    \n",
    "    no_punc = [word for word in spacy_words if word not in stop_words]\n",
    "    \n",
    "    return no_punc"
   ]
  },
  {
   "cell_type": "code",
   "execution_count": 5,
   "metadata": {},
   "outputs": [
    {
     "data": {
      "text/plain": [
       "0      [contacting, ocwen, mortgage, phh, mortgage, a...\n",
       "1      [purchased, house, assignment, deed, trust, si...\n",
       "2      [past, issues, mortgage, solutions, colorado, ...\n",
       "3      [called, nationstar, multiple, times, request,...\n",
       "4      [documents, short, sale, review, sent, xxxx20,...\n",
       "                             ...                        \n",
       "995    [contacted, offering, complete, application, l...\n",
       "996    [parent, plus, loan, opened, children, start, ...\n",
       "997    [tcf, refusing, provide, account, information,...\n",
       "998    [asking, loan, modification, years, particular...\n",
       "999    [loan, bayview, loan, services, went, 3,  , 72...\n",
       "Name: tokens, Length: 1000, dtype: object"
      ]
     },
     "execution_count": 5,
     "metadata": {},
     "output_type": "execute_result"
    }
   ],
   "source": [
    "cfpb['tokens'] = cfpb['Consumer complaint narrative'].map(lambda x: rem_punc_stop(x))\n",
    "cfpb['tokens']"
   ]
  },
  {
   "cell_type": "markdown",
   "metadata": {},
   "source": [
    "## Model Training"
   ]
  },
  {
   "cell_type": "markdown",
   "metadata": {},
   "source": [
    "Now that we have pre-processed our text, we can use the [`gensim`](https://radimrehurek.com/gensim/) library to construct our word embeddings. We will use the Continous Bag of Words model (CBOW), which predicts target words from its neighboring context words to learn word embeddings from raw text.\n",
    "\n",
    "Read through the documentation of the Word2Vec method in gensim to understand how to implement the Word2Vec model. Then fill in the blanks so that: we use a CBOW model to create word embeddings of size 100 for words that appear in the text 5 or more times. Set the learning rate to .025, number of iterations to 5, and sample 10,000 words from the data during each pass."
   ]
  },
  {
   "cell_type": "code",
   "execution_count": 6,
   "metadata": {},
   "outputs": [],
   "source": [
    "model = gensim.models.Word2Vec(cfpb['tokens'], vector_size=100, window=5, \n",
    "                               min_count=5, sg=0, alpha=0.025, epochs = 5, batch_words=10000)"
   ]
  },
  {
   "cell_type": "markdown",
   "metadata": {},
   "source": [
    "## Embeddings <a id='subsection 2'></a>\n",
    "\n",
    "Now that we've trained the model, we can return the actual high-dimensional vector by simply indexing the model with the word as the key:"
   ]
  },
  {
   "cell_type": "code",
   "execution_count": 7,
   "metadata": {},
   "outputs": [
    {
     "name": "stdout",
     "output_type": "stream",
     "text": [
      "[[-0.29181632  0.29972202  0.10012579  0.0281761   0.37192369 -0.669997\n",
      "   0.298       0.633999   -0.16226082 -0.15785304 -0.12405617 -0.45147526\n",
      "  -0.18161155  0.3645466   0.38363805 -0.18794464  0.14124644 -0.356673\n",
      "  -0.38907102 -0.853439    0.13360463  0.04188524  0.32506987 -0.29526663\n",
      "   0.05962892 -0.00181494  0.02253922 -0.29166555 -0.4516088  -0.06931194\n",
      "   0.634133    0.07047346 -0.0441348  -0.26058328 -0.39266008  0.2952001\n",
      "  -0.00794585 -0.35307026 -0.33897835 -0.8562957   0.01888711 -0.19284815\n",
      "  -0.10812441 -0.18650672  0.23498006 -0.1893522  -0.16582857  0.05061195\n",
      "   0.2989948   0.3437884   0.02373481 -0.5281177  -0.189662   -0.15269497\n",
      "  -0.22039467  0.06779833  0.06538693 -0.02133165 -0.51801455  0.22391878\n",
      "   0.11894876  0.17296444  0.2945588   0.05470419 -0.5889313   0.48144743\n",
      "   0.15617387  0.4960323  -0.6233639   0.27079126 -0.20120215  0.50067353\n",
      "   0.19922528 -0.16644649  0.2942744   0.22354862  0.18062925  0.04416242\n",
      "  -0.3558839  -0.06733628 -0.19289567  0.02317477 -0.43379754  0.3989042\n",
      "   0.22091967 -0.0611486   0.05810574  0.34122604  0.6301271  -0.09328807\n",
      "   0.66759837  0.24561352  0.14419837 -0.00846668  0.56610674  0.21646205\n",
      "   0.367504   -0.40156838  0.3024842  -0.04207593]]\n"
     ]
    }
   ],
   "source": [
    "# New syntax as of gensim 4.0.0\n",
    "print(model.wv.__getitem__(['account']))"
   ]
  },
  {
   "cell_type": "markdown",
   "metadata": {},
   "source": [
    "Check out the shape of the vectors for 'account', what do you notice?"
   ]
  },
  {
   "cell_type": "code",
   "execution_count": 8,
   "metadata": {},
   "outputs": [
    {
     "data": {
      "text/plain": [
       "(1, 100)"
      ]
     },
     "execution_count": 8,
     "metadata": {},
     "output_type": "execute_result"
    }
   ],
   "source": [
    "model.wv.__getitem__(['account']).shape"
   ]
  },
  {
   "cell_type": "markdown",
   "metadata": {},
   "source": [
    "**Answer**: There are 100 elements in this array. Notice that this was one of the parameters we set in the training process!"
   ]
  },
  {
   "cell_type": "markdown",
   "metadata": {},
   "source": [
    "Use the following empty cells to look at what the word embeddings look like for words you think may appear in the text! Keep in mind that even if a word shows up in the text as seen above, a word vector will not be created unless it satisfies all conditions we inputted into the model above. "
   ]
  },
  {
   "cell_type": "code",
   "execution_count": 9,
   "metadata": {},
   "outputs": [
    {
     "data": {
      "text/plain": [
       "array([[-0.4806925 ,  0.5085051 ,  0.13610184,  0.00529748,  0.13711204,\n",
       "        -0.718671  ,  0.02484709,  0.5508456 , -0.12219559, -0.01441744,\n",
       "        -0.33127317, -0.55426544, -0.16728969,  0.3391473 ,  0.25292978,\n",
       "        -0.25002667, -0.07568862, -0.42964044, -0.34786087, -0.8234296 ,\n",
       "         0.10245973,  0.01323794,  0.24422684, -0.1407906 , -0.09693615,\n",
       "         0.05284402, -0.01500184, -0.22174428, -0.62432355, -0.05610704,\n",
       "         0.61514693,  0.02176945, -0.04009018, -0.22542214, -0.3434527 ,\n",
       "         0.3277022 ,  0.04209591, -0.34452245, -0.34671235, -0.86900616,\n",
       "        -0.00682529, -0.10981004, -0.33560508, -0.21621445,  0.2965353 ,\n",
       "        -0.2523515 , -0.12051185,  0.10611044,  0.40816715,  0.22027199,\n",
       "         0.10991393, -0.47036707, -0.0199431 , -0.16998434, -0.22172214,\n",
       "         0.12912695,  0.01313887, -0.01673238, -0.621862  ,  0.22959311,\n",
       "         0.23114482,  0.27753928,  0.20247206,  0.0657566 , -0.47475174,\n",
       "         0.4391682 ,  0.14322363,  0.48861322, -0.56851697,  0.2872177 ,\n",
       "        -0.2674651 ,  0.47588673,  0.19499208, -0.33514228,  0.37159625,\n",
       "         0.3632726 ,  0.20687106, -0.12833613, -0.20919244, -0.11446118,\n",
       "        -0.0939974 , -0.0214199 , -0.42095837,  0.5885427 ,  0.01715526,\n",
       "        -0.09034424, -0.02952222,  0.37689272,  0.8411852 ,  0.04658773,\n",
       "         0.72252744,  0.32098886,  0.17422302, -0.00512355,  0.60742766,\n",
       "         0.18717018,  0.27073368, -0.21984139,  0.14233129,  0.07152518]],\n",
       "      dtype=float32)"
      ]
     },
     "execution_count": 9,
     "metadata": {},
     "output_type": "execute_result"
    }
   ],
   "source": [
    "# word 1\n",
    "model.wv.__getitem__(['navient'])"
   ]
  },
  {
   "cell_type": "code",
   "execution_count": 10,
   "metadata": {},
   "outputs": [
    {
     "data": {
      "text/plain": [
       "array([[-3.2283536e-01,  3.6324710e-01,  9.5958695e-02, -2.4591975e-03,\n",
       "         2.4663866e-01, -6.1143696e-01,  1.7287925e-01,  5.6413043e-01,\n",
       "        -1.1443497e-01, -1.3087387e-01, -1.3903026e-01, -5.0645745e-01,\n",
       "        -1.2162539e-01,  3.2697415e-01,  2.5636092e-01, -8.5074127e-02,\n",
       "         6.7540273e-02, -3.5085991e-01, -4.1751188e-01, -7.8456551e-01,\n",
       "         1.4363581e-01,  1.0715710e-02,  2.9012576e-01, -2.3310229e-01,\n",
       "         7.0209109e-04,  1.1797813e-02,  3.9591275e-02, -1.9632646e-01,\n",
       "        -5.1280212e-01, -3.2034323e-02,  5.6071401e-01,  1.1510784e-02,\n",
       "        -7.9256268e-03, -2.2992246e-01, -3.0199882e-01,  3.1819624e-01,\n",
       "         5.9317466e-02, -3.0749950e-01, -4.0482509e-01, -7.5922263e-01,\n",
       "        -3.4892119e-02, -1.3729665e-01, -2.1175903e-01, -1.2222119e-01,\n",
       "         2.2271147e-01, -2.8096411e-01, -1.0466003e-01,  3.4058385e-02,\n",
       "         2.9610428e-01,  2.6049361e-01,  7.4288204e-02, -5.2765948e-01,\n",
       "        -1.0288919e-01, -1.8146677e-01, -2.3007503e-01,  6.0149860e-02,\n",
       "         3.1322177e-02, -1.7742161e-02, -5.3313410e-01,  2.7218789e-01,\n",
       "         1.9762312e-01,  1.8579686e-01,  2.9223725e-01,  9.0921000e-02,\n",
       "        -6.0203397e-01,  4.9591607e-01,  1.3852049e-01,  5.2883869e-01,\n",
       "        -4.7419572e-01,  2.4476480e-01, -1.8869819e-01,  4.4832104e-01,\n",
       "         2.2744508e-01, -1.9217946e-01,  3.2726148e-01,  3.1981042e-01,\n",
       "         1.5179399e-01, -8.0348447e-02, -2.3465861e-01, -8.9155078e-02,\n",
       "        -1.5632227e-01,  2.4348559e-02, -3.9845592e-01,  4.8704684e-01,\n",
       "         7.2922595e-02,  5.3618131e-03, -1.2389613e-02,  2.2316685e-01,\n",
       "         6.9777614e-01, -6.2807545e-02,  7.1552026e-01,  2.7402660e-01,\n",
       "         2.3609866e-01,  3.2502756e-02,  5.0689906e-01,  2.4150553e-01,\n",
       "         3.2957074e-01, -2.5612473e-01,  1.8483663e-01, -6.3633826e-03]],\n",
       "      dtype=float32)"
      ]
     },
     "execution_count": 10,
     "metadata": {},
     "output_type": "execute_result"
    }
   ],
   "source": [
    "# word 2\n",
    "model.wv.__getitem__(['company'])"
   ]
  },
  {
   "cell_type": "code",
   "execution_count": 11,
   "metadata": {},
   "outputs": [
    {
     "data": {
      "text/plain": [
       "array([[-0.5501917 ,  0.57299083,  0.0929878 ,  0.0154468 ,  0.1577769 ,\n",
       "        -0.84240365, -0.01083231,  0.51116437, -0.13220006, -0.00424365,\n",
       "        -0.50391436, -0.59064984, -0.22703353,  0.2501175 ,  0.10889842,\n",
       "        -0.34734103, -0.15675737, -0.34997225, -0.33528095, -0.76432985,\n",
       "         0.129593  , -0.06641541,  0.22518855, -0.1999572 , -0.12073232,\n",
       "         0.07186767,  0.00399265, -0.09605682, -0.619122  , -0.16963963,\n",
       "         0.56804335, -0.00973107,  0.01400158, -0.17289884, -0.48978782,\n",
       "         0.4833916 ,  0.18608351, -0.36601317, -0.5895336 , -0.7477112 ,\n",
       "         0.03819621, -0.10815363, -0.33865497, -0.1985204 ,  0.39507622,\n",
       "        -0.35506466, -0.21335202, -0.03804197,  0.36947623,  0.10093702,\n",
       "         0.13065293, -0.6182277 , -0.05456583, -0.03175445, -0.36122173,\n",
       "         0.16275111,  0.00656844, -0.00916962, -0.5661543 ,  0.32968354,\n",
       "         0.28613937,  0.25613406,  0.27440375, -0.0782526 , -0.5245731 ,\n",
       "         0.41011444,  0.0160989 ,  0.6173001 , -0.59851414,  0.3591713 ,\n",
       "        -0.42168847,  0.53911406,  0.28661153, -0.43769702,  0.39645135,\n",
       "         0.45022827,  0.22502382, -0.12014437, -0.22778235, -0.2118293 ,\n",
       "        -0.23638731, -0.0921537 , -0.46471977,  0.61153233,  0.08962159,\n",
       "        -0.05965956, -0.08842971,  0.3445574 ,  0.9329208 ,  0.18892165,\n",
       "         0.65735465,  0.38232416,  0.15799831, -0.25046447,  0.5573013 ,\n",
       "         0.2550814 ,  0.39305094, -0.17683119,  0.31988114,  0.09206362]],\n",
       "      dtype=float32)"
      ]
     },
     "execution_count": 11,
     "metadata": {},
     "output_type": "execute_result"
    }
   ],
   "source": [
    "# word 3 \n",
    "model.wv.__getitem__(['credit'])"
   ]
  },
  {
   "cell_type": "markdown",
   "metadata": {},
   "source": [
    "If you're curious, the cell directly below will return a list of words that have been turned into word vectors by the model above:"
   ]
  },
  {
   "cell_type": "code",
   "execution_count": 12,
   "metadata": {},
   "outputs": [
    {
     "name": "stdout",
     "output_type": "stream",
     "text": [
      "[' ', 'loan', 'mortgage', 'payment', '\\n\\n', 'payments', 'account', 'told', 'received', 'nt', 'company', 'time', '\\n', 'called', 'pay', 'credit', 'home', 'sent', 'escrow', 'paid', 'said', 'letter', 'interest', 'bank', 'information', 'loans', 'month', 'phone', 'insurance', 'email', 'new', 'asked', 'property', 'months', 'request', 'days', 's', 'help', 'years', 'forbearance', 'late', 'money', 'check', 'process', 'times', 'monthly', 'service', 'documents', 'need', 'date', 'modification', 'servicing', 'complaint', 'xxxx2020', 'application', '3', 'income', 'contacted', 'financial', '  ', 'customer', 'rate', 'closing', 'number', 'taxes', 'servicer', 'like', '2', 'know', 'issue', 'balance', 'spoke', 'year', 'plan', 'stated', 'statement', 'navient', 'tax', 'contact', 'm', 'requested', 'provided', 'fees', 'house', 'going', 'work', 'paying', 'day', 'wells', 'foreclosure', 'xxxx2019', 'receive', 'refinance', 'department', 'representative', 'fargo', 'response', 'informed', 'current', 'student']\n"
     ]
    }
   ],
   "source": [
    "words = list(model.wv.index_to_key)\n",
    "print(words[0:100])"
   ]
  },
  {
   "cell_type": "markdown",
   "metadata": {},
   "source": [
    "`gensim` comes with some handy methods to analyze word relationships. `similarity` will give us a number from 0-1 based on how similar two words are. If this sounds like cosine similarity for words, you'd be right! It just takes the cosine similarity of the high dimensional vectors we input. \n",
    "\n",
    "In the following cell, find the similarity between the words `credit` and `debt`:"
   ]
  },
  {
   "cell_type": "code",
   "execution_count": 13,
   "metadata": {},
   "outputs": [
    {
     "data": {
      "text/plain": [
       "0.9721836"
      ]
     },
     "execution_count": 13,
     "metadata": {},
     "output_type": "execute_result"
    }
   ],
   "source": [
    "# New syntax as of gensim 4.0.0\n",
    "model.wv.similarity('credit', 'debt')"
   ]
  },
  {
   "cell_type": "markdown",
   "metadata": {},
   "source": [
    "We can also find cosine distance between two clusters of word vectors. Each cluster is measured as the mean of its words:"
   ]
  },
  {
   "cell_type": "code",
   "execution_count": 14,
   "metadata": {},
   "outputs": [
    {
     "data": {
      "text/plain": [
       "0.97162473"
      ]
     },
     "execution_count": 14,
     "metadata": {},
     "output_type": "execute_result"
    }
   ],
   "source": [
    "# Similarity between credit/debt and loan/mortgage\n",
    "model.wv.n_similarity(['credit','debt'],['loan','mortgage'])"
   ]
  },
  {
   "cell_type": "markdown",
   "metadata": {},
   "source": [
    "We can find words that don't belong with `doesnt_match`. It finds the mean vector of the words in the `list`, and identifies the furthest away. Out of the three words in the list `['credit', 'loan', 'student']`, which is the furthest vector from the mean?"
   ]
  },
  {
   "cell_type": "code",
   "execution_count": 15,
   "metadata": {},
   "outputs": [
    {
     "data": {
      "text/plain": [
       "'credit'"
      ]
     },
     "execution_count": 15,
     "metadata": {},
     "output_type": "execute_result"
    }
   ],
   "source": [
    "# New syntax for 4.0.0 requires passing a tuple () a list []\n",
    "model.wv.doesnt_match(['credit', 'loan', 'student'])"
   ]
  },
  {
   "cell_type": "code",
   "execution_count": 16,
   "metadata": {},
   "outputs": [
    {
     "data": {
      "text/plain": [
       "'bank'"
      ]
     },
     "execution_count": 16,
     "metadata": {},
     "output_type": "execute_result"
    }
   ],
   "source": [
    "model.wv.doesnt_match(['pandemic', 'covid', 'bank'])"
   ]
  },
  {
   "cell_type": "markdown",
   "metadata": {},
   "source": [
    "The most famous implementation of this vector math is semantics. What happens if we take:\n",
    "\n",
    "$$\\vec{house} - \\vec{rent} + \\vec{loan} = $$"
   ]
  },
  {
   "cell_type": "code",
   "execution_count": 17,
   "metadata": {},
   "outputs": [
    {
     "data": {
      "text/plain": [
       "[('highest', 0.985614538192749),\n",
       " ('years', 0.9849762916564941),\n",
       " ('lower', 0.9849460124969482),\n",
       " ('paying', 0.9847341775894165),\n",
       " ('current', 0.9821224808692932),\n",
       " ('total', 0.9820664525032043),\n",
       " ('accruing', 0.9819559454917908),\n",
       " ('year', 0.9810093641281128),\n",
       " ('original', 0.9800306558609009),\n",
       " ('rate', 0.9790214896202087)]"
      ]
     },
     "execution_count": 17,
     "metadata": {},
     "output_type": "execute_result"
    }
   ],
   "source": [
    "model.wv.most_similar(positive=['house', 'loan'], negative=['rent'])"
   ]
  },
  {
   "cell_type": "markdown",
   "metadata": {},
   "source": [
    "Okay...mortgage is pretty high up there! Remember, these relationships are coming from our model trained on only 1000 complaints! "
   ]
  },
  {
   "cell_type": "markdown",
   "metadata": {},
   "source": [
    "# Principal Component Analysis <a id='section 2'></a>\n",
    "\n",
    "Next we will explore the word embeddings of our `text` visually with PCA. \n",
    "\n",
    "We can retrieve __all__ of the vectors from a trained model as follows:"
   ]
  },
  {
   "cell_type": "code",
   "execution_count": 18,
   "metadata": {},
   "outputs": [],
   "source": [
    "X = model.wv.__getitem__(model.wv.index_to_key)"
   ]
  },
  {
   "cell_type": "markdown",
   "metadata": {},
   "source": [
    "As we do with non-text features, we want to standardize X so that all features have the same scale. Do this by creating a StandardScaler(), then run its fit_transform method on X. "
   ]
  },
  {
   "cell_type": "code",
   "execution_count": 19,
   "metadata": {},
   "outputs": [],
   "source": [
    "# scale the data\n",
    "X_std = StandardScaler().fit_transform(X)"
   ]
  },
  {
   "cell_type": "markdown",
   "metadata": {},
   "source": [
    "We can then train a projection method on the vectors, such as those methods offered in scikit-learn, then plot the projection as a scatter plot which we will do next.\n",
    "\n",
    "### Plot Word Vectors Using PCA <a id='subsection 3'></a>\n",
    "\n",
    "Recall that we can create a 2-dimensional PCA model of the word vectors using the scikit-learn PCA class. Construct a PCA objectusing the `PCA()` class of the scikit-learn library (setting n_components=2 so we can graph it in two dimensions) and use its fit_transform method on your standardized X to get Y_pca: the principal components."
   ]
  },
  {
   "cell_type": "code",
   "execution_count": 20,
   "metadata": {},
   "outputs": [],
   "source": [
    "# make a PCA\n",
    "pca = PCA(n_components=2) #set n_components to 2 to graph in 2-D\n",
    "\n",
    "# fit the standardized data\n",
    "Y_pca = pca.fit_transform(X_std)"
   ]
  },
  {
   "cell_type": "markdown",
   "metadata": {},
   "source": [
    "The resulting projection can be plotted using matplotlib, pulling out the two dimensions as x and y coordinates. Create a scatter plot of the standardized word embeddings, setting the __size of each scatter point to 5__ to avoid overcrowding."
   ]
  },
  {
   "cell_type": "code",
   "execution_count": 21,
   "metadata": {},
   "outputs": [
    {
     "data": {
      "text/plain": [
       "<AxesSubplot:>"
      ]
     },
     "execution_count": 21,
     "metadata": {},
     "output_type": "execute_result"
    },
    {
     "data": {
      "image/png": "[encoded data removed]",
      "text/plain": [
       "<Figure size 432x288 with 1 Axes>"
      ]
     },
     "metadata": {
      "needs_background": "light"
     },
     "output_type": "display_data"
    }
   ],
   "source": [
    "sns.scatterplot(x = Y_pca[:, 0], y = Y_pca[:, 1])"
   ]
  },
  {
   "cell_type": "markdown",
   "metadata": {},
   "source": [
    "__Question__: What do each point represent? What do the x and y axes represent?"
   ]
  },
  {
   "cell_type": "markdown",
   "metadata": {},
   "source": [
    "__ANSWER__: Each point represents a word. Explanation for axes are below as a part of the lab:"
   ]
  },
  {
   "cell_type": "markdown",
   "metadata": {},
   "source": [
    "You might at this point still be confused on what the x- and y- axes represent. Because PCA selects and combines features according to what best describes and models the desired variable, the x and y axes actually don't have an intuitive meaning on a human level. PCA's job is to reduce the dimension of the features, and in this case it manipulated the 100 features each word vector had to just 2 that best described the words we modeled on. So, don't worry too much about what the coordinates of each word represents - we just want you to have a general visual understanding of word vectors and how they may be related to one another on a graph.\n",
    "\n",
    "On that note, run the following cell. This will label each vector with its respective word. "
   ]
  },
  {
   "cell_type": "code",
   "execution_count": 22,
   "metadata": {},
   "outputs": [
    {
     "data": {
      "image/png": "[encoded data removed]",
      "text/plain": [
       "<Figure size 432x288 with 1 Axes>"
      ]
     },
     "metadata": {
      "needs_background": "light"
     },
     "output_type": "display_data"
    }
   ],
   "source": [
    "import random\n",
    "random.seed(10)\n",
    "\n",
    "# take randomm sample of 25 word embeddings \n",
    "rando = random.sample(list(model.wv.index_to_key), 25) \n",
    "\n",
    "X1 = model.wv.__getitem__(rando)\n",
    "pca1 = PCA(n_components=2)\n",
    "result = pca1.fit_transform(X1)\n",
    "result_df = pd.DataFrame(result, columns = ['PC1', 'PC2'], index = rando)\n",
    "sns.scatterplot(x = 'PC1', y = 'PC2', data = result_df)\n",
    "\n",
    "from adjustText import adjust_text\n",
    "texts = []\n",
    "\n",
    "# Append words to list\n",
    "for word in result_df.index:\n",
    "    texts.append(plt.text(result_df.loc[word, 'PC1'], result_df.loc[word, 'PC2'], word, fontsize = 8))\n",
    "    \n",
    "# Plot text using adjust_text (because overlapping text is hard to read)\n",
    "adjust_text(texts, force_points = 0.4, force_text = 0.4, \n",
    "            expand_points = (2,1), expand_text = (1,2),\n",
    "            arrowprops = dict(arrowstyle = \"-\", color = 'black', lw = 0.5))\n",
    "\n",
    "plt.show()"
   ]
  },
  {
   "cell_type": "markdown",
   "metadata": {},
   "source": [
    "## t-SNE"
   ]
  },
  {
   "cell_type": "markdown",
   "metadata": {},
   "source": [
    "Another popular unsupervised method for summarizing and visualizing word embeddings is [t-distributed stochastic neighbor embedding](https://en.wikipedia.org/wiki/T-distributed_stochastic_neighbor_embedding). We won't get into the details here, but the basic method involves:\n",
    "\n",
    "1. Estimating the joint probability estimating the distance between each pair of points, assuming a Gaussian distribution.\n",
    "2. Project the data into 1-dimension, and then estimate the joint probability of the distance between each pair of points assuming a Student's t-distribution.\n",
    "3. Use gradient descent to update the second distribution to become similar to the first one.\n",
    "\n",
    "The basic idea behind this two-step procedure is that we search for the the best lower dimensional representation that gets closest to modeling the original distances in higher dimensional space."
   ]
  },
  {
   "cell_type": "code",
   "execution_count": 23,
   "metadata": {},
   "outputs": [
    {
     "data": {
      "text/plain": [
       "(2759, 100)"
      ]
     },
     "execution_count": 23,
     "metadata": {},
     "output_type": "execute_result"
    }
   ],
   "source": [
    "# Filter the list of vectors to include only those that Word2Vec has a vector for\n",
    "vector_list = [model.wv.__getitem__(word) for word in words if word in model.wv.index_to_key]\n",
    "\n",
    "# Create a list of the words corresponding to these vectors\n",
    "words_filtered = [word for word in words if word in model.wv.index_to_key]\n",
    "\n",
    "# Zip the words together with their vector representations\n",
    "word_vec_zip = zip(words_filtered, vector_list)\n",
    "\n",
    "# Cast to a dict so we can turn it into a dataframe\n",
    "word_vec_dict = dict(word_vec_zip)\n",
    "word_vec_df = pd.DataFrame.from_dict(word_vec_dict, orient='index')\n",
    "word_vec_df.shape"
   ]
  },
  {
   "cell_type": "markdown",
   "metadata": {},
   "source": [
    "Here we initialize a t-SNE model using 2 components as the key hyperparameter. "
   ]
  },
  {
   "cell_type": "code",
   "execution_count": 24,
   "metadata": {},
   "outputs": [
    {
     "data": {
      "image/png": "[encoded data removed]",
      "text/plain": [
       "<Figure size 842.4x595.44 with 1 Axes>"
      ]
     },
     "metadata": {
      "needs_background": "light"
     },
     "output_type": "display_data"
    }
   ],
   "source": [
    "# Initialize t-SNE\n",
    "tsne = TSNE(n_components = 2, init = 'random', random_state = 10, perplexity = 100)\n",
    "\n",
    "# Use 400 rows to speed up training time\n",
    "tsne_df = tsne.fit_transform(word_vec_df[:400])\n",
    "\n",
    "fig, ax = plt.subplots(figsize = (11.7, 8.27))\n",
    "sns.scatterplot(x = tsne_df[:, 0], y = tsne_df[:, 1], alpha = 0.5)\n",
    "\n",
    "# Use adjustText to jitter the labels\n",
    "from adjustText import adjust_text\n",
    "texts = []\n",
    "words_to_plot = list(np.arange(0, 400, 10))\n",
    "\n",
    "# Append words to list\n",
    "for word in words_to_plot:\n",
    "    texts.append(plt.text(tsne_df[word, 0], tsne_df[word, 1], word_vec_df.index[word], fontsize = 10))\n",
    "    \n",
    "adjust_text(texts, force_points = 0.4, force_text = 0.2, \n",
    "            expand_points = (2,1), expand_text = (1,2),\n",
    "            arrowprops = dict(arrowstyle = \"-\", color = 'black', lw = 0.5))\n",
    "\n",
    "plt.show()"
   ]
  },
  {
   "cell_type": "markdown",
   "metadata": {},
   "source": [
    "Here we initialize a t-SNE model using 3 components as the key hyperparameter. "
   ]
  },
  {
   "cell_type": "markdown",
   "metadata": {},
   "source": [
    "## Challenge: t-SNE hyperparameters\n",
    "\n",
    "Try playing with the hyperparameters to see if you can get a different looking plot. Why might this be a problem for interpretability or inference?"
   ]
  },
  {
   "cell_type": "code",
   "execution_count": 25,
   "metadata": {},
   "outputs": [
    {
     "data": {
      "image/png": "[encoded data removed]",
      "text/plain": [
       "<Figure size 842.4x595.44 with 1 Axes>"
      ]
     },
     "metadata": {
      "needs_background": "light"
     },
     "output_type": "display_data"
    }
   ],
   "source": [
    "# Initialize t-SNE\n",
    "tsne = TSNE(n_components = 3, init = 'random', random_state = 10, perplexity = 40)\n",
    "\n",
    "# Use 400 rows to speed up training time\n",
    "tsne_df = tsne.fit_transform(word_vec_df[:400])\n",
    "\n",
    "fig, ax = plt.subplots(figsize = (11.7, 8.27))\n",
    "sns.scatterplot(x = tsne_df[:, 0], y = tsne_df[:, 2], alpha = 0.5)\n",
    "\n",
    "# Use adjustText to jitter the labels\n",
    "from adjustText import adjust_text\n",
    "texts = []\n",
    "words_to_plot = list(np.arange(0, 400, 10))\n",
    "\n",
    "# Append words to list\n",
    "for word in words_to_plot:\n",
    "    texts.append(plt.text(tsne_df[word, 0], tsne_df[word, 1], word_vec_df.index[word], fontsize = 10))\n",
    "    \n",
    "adjust_text(texts, force_points = 0.4, force_text = 0.2, \n",
    "            expand_points = (2,1), expand_text = (1,2),\n",
    "            arrowprops = dict(arrowstyle = \"-\", color = 'black', lw = 0.5))\n",
    "\n",
    "plt.show()"
   ]
  },
  {
   "cell_type": "markdown",
   "metadata": {},
   "source": [
    "## Averaging Word Embeddings"
   ]
  },
  {
   "cell_type": "markdown",
   "metadata": {},
   "source": [
    "You'll notice that right now each token is represented by a 100-dimensional array. If we passed these directly to a classification algorithm our feature space would get very high dimensional quickly! A common practice to avoid this problem is to average the word embeddings somehow. You might have heard of variations of word2vec like sent2vec and par2vec which creates embeddings for sentences and paragraphs. We'll introduce a similar method below, but one straightforward way to do this without a fancy new model is to simply average the word embeddings at the document level.\n",
    "\n",
    "To get a sense of how this works, let's look at how many tokens we have in our first document:"
   ]
  },
  {
   "cell_type": "code",
   "execution_count": 27,
   "metadata": {},
   "outputs": [
    {
     "data": {
      "text/plain": [
       "223"
      ]
     },
     "execution_count": 27,
     "metadata": {},
     "output_type": "execute_result"
    }
   ],
   "source": [
    "len(cfpb['tokens'][0])"
   ]
  },
  {
   "cell_type": "markdown",
   "metadata": {},
   "source": [
    "223 - but remember not all documents will have vectors associated with them if they do not meet word2vec's criteria. Let's see how many we have that are in our model's vocabulary:"
   ]
  },
  {
   "cell_type": "code",
   "execution_count": 28,
   "metadata": {},
   "outputs": [
    {
     "data": {
      "text/plain": [
       "195"
      ]
     },
     "execution_count": 28,
     "metadata": {},
     "output_type": "execute_result"
    }
   ],
   "source": [
    "doc = [word for word in cfpb['tokens'][0] if word in model.wv.index_to_key]\n",
    "len(doc)"
   ]
  },
  {
   "cell_type": "markdown",
   "metadata": {},
   "source": [
    "195! Looks like quite a few tokens didn't make it into the model. Let's look at a few that did: "
   ]
  },
  {
   "cell_type": "code",
   "execution_count": 29,
   "metadata": {},
   "outputs": [
    {
     "data": {
      "text/plain": [
       "['contacting', 'ocwen', 'mortgage', 'phh', 'mortgage']"
      ]
     },
     "execution_count": 29,
     "metadata": {},
     "output_type": "execute_result"
    }
   ],
   "source": [
    "doc[0:5]"
   ]
  },
  {
   "cell_type": "markdown",
   "metadata": {},
   "source": [
    "Let's also look at the array for 'contacting'. Notice that it is represented by a 100-dimensional array. "
   ]
  },
  {
   "cell_type": "code",
   "execution_count": 30,
   "metadata": {},
   "outputs": [
    {
     "name": "stdout",
     "output_type": "stream",
     "text": [
      "[-0.14169553  0.14135641  0.03954198 -0.00350826  0.07534887 -0.21806471\n",
      "  0.04374082  0.18001604 -0.0400649  -0.00872124 -0.06660838 -0.18214332\n",
      " -0.04900043  0.11575551  0.08466714 -0.0709445  -0.00121619 -0.14441207\n",
      " -0.13229315 -0.2691822   0.04307744  0.00832809  0.10352281 -0.0613462\n",
      " -0.00816169  0.00949349  0.01108179 -0.06772036 -0.20315069 -0.02039919\n",
      "  0.20174932  0.01134431 -0.01076728 -0.06918946 -0.10304667  0.09498712\n",
      "  0.01005919 -0.11754113 -0.12353278 -0.27941874 -0.0006851  -0.04544739\n",
      " -0.0914719  -0.06351986  0.10401436 -0.07309434 -0.02480326  0.03789489\n",
      "  0.10604239  0.07439028  0.03796324 -0.16731574 -0.01195346 -0.0568428\n",
      " -0.07915252  0.0335879  -0.00038629 -0.00061208 -0.19329019  0.08221129\n",
      "  0.0868241   0.08579357  0.08302943  0.03480038 -0.1712541   0.15009056\n",
      "  0.05229482  0.18882255 -0.17447498  0.07636482 -0.08939457  0.15578899\n",
      "  0.07420503 -0.08492967  0.11568272  0.12630653  0.06806705 -0.04944223\n",
      " -0.08189741 -0.03627905 -0.03437899  0.00390858 -0.15089723  0.17834955\n",
      "  0.02374942 -0.00355475 -0.01802307  0.09939609  0.24412255  0.00674846\n",
      "  0.24558058  0.11438988  0.06885828  0.00098597  0.20920414  0.08284604\n",
      "  0.10617094 -0.07091256  0.0424696   0.00321661]\n",
      "(100,)\n"
     ]
    }
   ],
   "source": [
    "print(model.wv.__getitem__('contacting'))\n",
    "print(model.wv.__getitem__('contacting').shape)"
   ]
  },
  {
   "cell_type": "code",
   "execution_count": 31,
   "metadata": {},
   "outputs": [
    {
     "data": {
      "text/plain": [
       "0.0021209936"
      ]
     },
     "execution_count": 31,
     "metadata": {},
     "output_type": "execute_result"
    }
   ],
   "source": [
    "np.mean(model.wv.__getitem__('contacting'))"
   ]
  },
  {
   "cell_type": "markdown",
   "metadata": {},
   "source": [
    "Now let's grab the first vector each token and take their mean:"
   ]
  },
  {
   "cell_type": "code",
   "execution_count": 32,
   "metadata": {},
   "outputs": [
    {
     "data": {
      "text/plain": [
       "-0.3175734"
      ]
     },
     "execution_count": 32,
     "metadata": {},
     "output_type": "execute_result"
    }
   ],
   "source": [
    "first_vec = []\n",
    "for token in model.wv.__getitem__(doc):\n",
    "    first_vec.append(token[0])\n",
    "np.mean(first_vec)"
   ]
  },
  {
   "cell_type": "markdown",
   "metadata": {},
   "source": [
    "And then let's do this for every token and document in our corpus:"
   ]
  },
  {
   "cell_type": "code",
   "execution_count": 33,
   "metadata": {},
   "outputs": [],
   "source": [
    "def document_vector(word2vec_model, doc):\n",
    "    doc = [word for word in doc if word in model.wv.index_to_key]\n",
    "    return np.mean(word2vec_model.wv.__getitem__(doc), axis=0)"
   ]
  },
  {
   "cell_type": "code",
   "execution_count": 34,
   "metadata": {},
   "outputs": [],
   "source": [
    "# Initialize an array for the size of the corpus\n",
    "empty_list_embeddings_means = []\n",
    "for puppy in cfpb['tokens']: # append the vector for each document\n",
    "    empty_list_embeddings_means.append(document_vector(model, puppy))\n",
    "    \n",
    "doc_average_embeddings = np.array(empty_list_embeddings_means) # list to array"
   ]
  },
  {
   "cell_type": "code",
   "execution_count": 35,
   "metadata": {},
   "outputs": [
    {
     "data": {
      "text/plain": [
       "array([[-0.31757334,  0.3258052 ,  0.08124341, ..., -0.19652013,\n",
       "         0.14523736,  0.01272848],\n",
       "       [-0.3177512 ,  0.30771455,  0.09085532, ..., -0.18749437,\n",
       "         0.14141096,  0.00840287],\n",
       "       [-0.28568074,  0.26890016,  0.08843938, ..., -0.16345043,\n",
       "         0.10545329, -0.00106402],\n",
       "       ...,\n",
       "       [-0.34217855,  0.3160577 ,  0.11485761, ..., -0.21798664,\n",
       "         0.14683807, -0.02156809],\n",
       "       [-0.3256504 ,  0.35777345,  0.07193675, ..., -0.23203464,\n",
       "         0.17272113,  0.0422267 ],\n",
       "       [-0.34064177,  0.3540302 ,  0.09212411, ..., -0.21480606,\n",
       "         0.16394667,  0.02807985]], dtype=float32)"
      ]
     },
     "execution_count": 35,
     "metadata": {},
     "output_type": "execute_result"
    }
   ],
   "source": [
    "doc_average_embeddings"
   ]
  },
  {
   "cell_type": "markdown",
   "metadata": {},
   "source": [
    "Ultimately we get an array with `n` rows and 100 columns:"
   ]
  },
  {
   "cell_type": "code",
   "execution_count": 36,
   "metadata": {},
   "outputs": [
    {
     "data": {
      "text/plain": [
       "(1000, 100)"
      ]
     },
     "execution_count": 36,
     "metadata": {},
     "output_type": "execute_result"
    }
   ],
   "source": [
    "doc_average_embeddings.shape"
   ]
  },
  {
   "cell_type": "markdown",
   "metadata": {},
   "source": [
    "## doc2vec"
   ]
  },
  {
   "cell_type": "markdown",
   "metadata": {},
   "source": [
    "Document averaged word embeddings tend to perform well with downstream prediction tasks, but there are other options as well. Here, we'll take a look at Doc2Vec. "
   ]
  },
  {
   "cell_type": "markdown",
   "metadata": {},
   "source": [
    "We're getting close to classifying, and this is a good point to do our train/test splits. While normally we recommend waiting to do splits until after all preprocessing is done, in this case it will be easier to do the split now because of the way the `TaggedDocument` class works. Let's take a look:"
   ]
  },
  {
   "cell_type": "code",
   "execution_count": 37,
   "metadata": {},
   "outputs": [
    {
     "data": {
      "text/html": [
       "<div>\n",
       "<style scoped>\n",
       "    .dataframe tbody tr th:only-of-type {\n",
       "        vertical-align: middle;\n",
       "    }\n",
       "\n",
       "    .dataframe tbody tr th {\n",
       "        vertical-align: top;\n",
       "    }\n",
       "\n",
       "    .dataframe thead th {\n",
       "        text-align: right;\n",
       "    }\n",
       "</style>\n",
       "<table border=\"1\" class=\"dataframe\">\n",
       "  <thead>\n",
       "    <tr style=\"text-align: right;\">\n",
       "      <th></th>\n",
       "      <th>Date received</th>\n",
       "      <th>Product</th>\n",
       "      <th>Sub-product</th>\n",
       "      <th>Issue</th>\n",
       "      <th>Sub-issue</th>\n",
       "      <th>Consumer complaint narrative</th>\n",
       "      <th>Company public response</th>\n",
       "      <th>Company</th>\n",
       "      <th>State</th>\n",
       "      <th>ZIP code</th>\n",
       "      <th>Tags</th>\n",
       "      <th>Consumer consent provided?</th>\n",
       "      <th>Submitted via</th>\n",
       "      <th>Date sent to company</th>\n",
       "      <th>Company response to consumer</th>\n",
       "      <th>Timely response?</th>\n",
       "      <th>Consumer disputed?</th>\n",
       "      <th>Complaint ID</th>\n",
       "      <th>tokens</th>\n",
       "      <th>Product_binary</th>\n",
       "    </tr>\n",
       "  </thead>\n",
       "  <tbody>\n",
       "    <tr>\n",
       "      <th>29</th>\n",
       "      <td>01/23/20</td>\n",
       "      <td>Student loan</td>\n",
       "      <td>Federal student loan servicing</td>\n",
       "      <td>Dealing with your lender or servicer</td>\n",
       "      <td>Keep getting calls about your loan</td>\n",
       "      <td>I called Bass and Associates in XX/XX/XXXX and...</td>\n",
       "      <td>None</td>\n",
       "      <td>Bass &amp; Associates, P.C., Attorneys at Law</td>\n",
       "      <td>DC</td>\n",
       "      <td>200XX</td>\n",
       "      <td>None</td>\n",
       "      <td>Consent provided</td>\n",
       "      <td>Web</td>\n",
       "      <td>01/23/20</td>\n",
       "      <td>Closed with explanation</td>\n",
       "      <td>Yes</td>\n",
       "      <td>NaN</td>\n",
       "      <td>3506557</td>\n",
       "      <td>[called, bass, associates, company, claim, stu...</td>\n",
       "      <td>1</td>\n",
       "    </tr>\n",
       "    <tr>\n",
       "      <th>535</th>\n",
       "      <td>02/11/20</td>\n",
       "      <td>Student loan</td>\n",
       "      <td>Federal student loan servicing</td>\n",
       "      <td>Dealing with your lender or servicer</td>\n",
       "      <td>Trouble with how payments are being handled</td>\n",
       "      <td>I have been working with Premier Student Loan ...</td>\n",
       "      <td>None</td>\n",
       "      <td>Premier Student Loan Center</td>\n",
       "      <td>ND</td>\n",
       "      <td>585XX</td>\n",
       "      <td>None</td>\n",
       "      <td>Consent provided</td>\n",
       "      <td>Web</td>\n",
       "      <td>02/11/20</td>\n",
       "      <td>Untimely response</td>\n",
       "      <td>No</td>\n",
       "      <td>NaN</td>\n",
       "      <td>3528302</td>\n",
       "      <td>[working, premier, student, loan, center,  , p...</td>\n",
       "      <td>1</td>\n",
       "    </tr>\n",
       "    <tr>\n",
       "      <th>695</th>\n",
       "      <td>01/06/20</td>\n",
       "      <td>Mortgage</td>\n",
       "      <td>Other type of mortgage</td>\n",
       "      <td>Trouble during payment process</td>\n",
       "      <td>None</td>\n",
       "      <td>Back in the beginning of 2019 ( XXXX ) notific...</td>\n",
       "      <td>Company believes complaint is the result of an...</td>\n",
       "      <td>Ditech Financial LLC</td>\n",
       "      <td>FL</td>\n",
       "      <td>320XX</td>\n",
       "      <td>None</td>\n",
       "      <td>Consent provided</td>\n",
       "      <td>Web</td>\n",
       "      <td>01/06/20</td>\n",
       "      <td>Closed with explanation</td>\n",
       "      <td>Yes</td>\n",
       "      <td>NaN</td>\n",
       "      <td>3486795</td>\n",
       "      <td>[beginning, 2019,  ,  , notification, sent, di...</td>\n",
       "      <td>0</td>\n",
       "    </tr>\n",
       "    <tr>\n",
       "      <th>557</th>\n",
       "      <td>04/30/20</td>\n",
       "      <td>Mortgage</td>\n",
       "      <td>Conventional home mortgage</td>\n",
       "      <td>Trouble during payment process</td>\n",
       "      <td>None</td>\n",
       "      <td>My loan was sold to this company. They have 'f...</td>\n",
       "      <td>Company has responded to the consumer and the ...</td>\n",
       "      <td>Specialized Loan Servicing Holdings LLC</td>\n",
       "      <td>AZ</td>\n",
       "      <td>852XX</td>\n",
       "      <td>None</td>\n",
       "      <td>Consent provided</td>\n",
       "      <td>Web</td>\n",
       "      <td>04/30/20</td>\n",
       "      <td>Closed with explanation</td>\n",
       "      <td>Yes</td>\n",
       "      <td>NaN</td>\n",
       "      <td>3631157</td>\n",
       "      <td>[loan, sold, company, fees,  , disclosed, loan...</td>\n",
       "      <td>0</td>\n",
       "    </tr>\n",
       "    <tr>\n",
       "      <th>836</th>\n",
       "      <td>02/15/20</td>\n",
       "      <td>Mortgage</td>\n",
       "      <td>Conventional home mortgage</td>\n",
       "      <td>Struggling to pay mortgage</td>\n",
       "      <td>None</td>\n",
       "      <td>Mortgage is delinquent by {$14000.00}, working...</td>\n",
       "      <td>Company believes it acted appropriately as aut...</td>\n",
       "      <td>Shellpoint Partners, LLC</td>\n",
       "      <td>PA</td>\n",
       "      <td>None</td>\n",
       "      <td>Older American</td>\n",
       "      <td>Consent provided</td>\n",
       "      <td>Web</td>\n",
       "      <td>02/15/20</td>\n",
       "      <td>Closed with explanation</td>\n",
       "      <td>Yes</td>\n",
       "      <td>NaN</td>\n",
       "      <td>3532998</td>\n",
       "      <td>[mortgage, delinquent, 1400000, working, loss,...</td>\n",
       "      <td>0</td>\n",
       "    </tr>\n",
       "  </tbody>\n",
       "</table>\n",
       "</div>"
      ],
      "text/plain": [
       "    Date received       Product                     Sub-product  \\\n",
       "29       01/23/20  Student loan  Federal student loan servicing   \n",
       "535      02/11/20  Student loan  Federal student loan servicing   \n",
       "695      01/06/20      Mortgage          Other type of mortgage   \n",
       "557      04/30/20      Mortgage      Conventional home mortgage   \n",
       "836      02/15/20      Mortgage      Conventional home mortgage   \n",
       "\n",
       "                                    Issue  \\\n",
       "29   Dealing with your lender or servicer   \n",
       "535  Dealing with your lender or servicer   \n",
       "695        Trouble during payment process   \n",
       "557        Trouble during payment process   \n",
       "836            Struggling to pay mortgage   \n",
       "\n",
       "                                       Sub-issue  \\\n",
       "29            Keep getting calls about your loan   \n",
       "535  Trouble with how payments are being handled   \n",
       "695                                         None   \n",
       "557                                         None   \n",
       "836                                         None   \n",
       "\n",
       "                          Consumer complaint narrative  \\\n",
       "29   I called Bass and Associates in XX/XX/XXXX and...   \n",
       "535  I have been working with Premier Student Loan ...   \n",
       "695  Back in the beginning of 2019 ( XXXX ) notific...   \n",
       "557  My loan was sold to this company. They have 'f...   \n",
       "836  Mortgage is delinquent by {$14000.00}, working...   \n",
       "\n",
       "                               Company public response  \\\n",
       "29                                                None   \n",
       "535                                               None   \n",
       "695  Company believes complaint is the result of an...   \n",
       "557  Company has responded to the consumer and the ...   \n",
       "836  Company believes it acted appropriately as aut...   \n",
       "\n",
       "                                       Company State ZIP code            Tags  \\\n",
       "29   Bass & Associates, P.C., Attorneys at Law    DC    200XX            None   \n",
       "535                Premier Student Loan Center    ND    585XX            None   \n",
       "695                       Ditech Financial LLC    FL    320XX            None   \n",
       "557    Specialized Loan Servicing Holdings LLC    AZ    852XX            None   \n",
       "836                   Shellpoint Partners, LLC    PA     None  Older American   \n",
       "\n",
       "    Consumer consent provided? Submitted via Date sent to company  \\\n",
       "29            Consent provided           Web             01/23/20   \n",
       "535           Consent provided           Web             02/11/20   \n",
       "695           Consent provided           Web             01/06/20   \n",
       "557           Consent provided           Web             04/30/20   \n",
       "836           Consent provided           Web             02/15/20   \n",
       "\n",
       "    Company response to consumer Timely response?  Consumer disputed?  \\\n",
       "29       Closed with explanation              Yes                 NaN   \n",
       "535            Untimely response               No                 NaN   \n",
       "695      Closed with explanation              Yes                 NaN   \n",
       "557      Closed with explanation              Yes                 NaN   \n",
       "836      Closed with explanation              Yes                 NaN   \n",
       "\n",
       "     Complaint ID                                             tokens  \\\n",
       "29        3506557  [called, bass, associates, company, claim, stu...   \n",
       "535       3528302  [working, premier, student, loan, center,  , p...   \n",
       "695       3486795  [beginning, 2019,  ,  , notification, sent, di...   \n",
       "557       3631157  [loan, sold, company, fees,  , disclosed, loan...   \n",
       "836       3532998  [mortgage, delinquent, 1400000, working, loss,...   \n",
       "\n",
       "     Product_binary  \n",
       "29                1  \n",
       "535               1  \n",
       "695               0  \n",
       "557               0  \n",
       "836               0  "
      ]
     },
     "execution_count": 37,
     "metadata": {},
     "output_type": "execute_result"
    }
   ],
   "source": [
    "# binarize label\n",
    "lb_style = LabelBinarizer()\n",
    "y = cfpb['Product_binary'] = lb_style.fit_transform(cfpb[\"Product\"])\n",
    "\n",
    "# train/test split\n",
    "train, test = train_test_split(cfpb, test_size=0.2, random_state=42)\n",
    "train.head()"
   ]
  },
  {
   "cell_type": "markdown",
   "metadata": {},
   "source": [
    "After we do our train test splits, we apply the `TaggedDocument()` function to every token. This allows us to associate each document with the class that we want to predict later:"
   ]
  },
  {
   "cell_type": "code",
   "execution_count": 38,
   "metadata": {},
   "outputs": [
    {
     "data": {
      "text/plain": [
       "TaggedDocument(words=['contacting', 'ocwen', 'mortgage', 'phh', 'mortgage', 'avail', 'expressed', 'concern', 'extent', 'damage', 'house', 'severe', 'termite', 'infestation', 'mold', 'mildew', 'continued', '2200000', 'dollars', 'mortgage', 'payments', 'house', 'water', 'called', 'backs', 'approved', 'loan', 'refinancing', 'told', 'lender', 'house', 'renovated', 'house', 'flooded', 'continued', 'payments', 'living', 'house', 'deemed', 'uninhabitable', 'unsafe', 'structural', 'integrity', 'house', 'invested', 'walk', 'away', 'property', '\\n', 'flood', 'insurance', 'house', '24yrs', '\\n', 'submitted', 'pictures', 'damage', 'caused', 'termites', 'thing', 'mortgage', 'companies', 'interested', 'mortgage', 'monthly', 'payments', 'submitted', 'supporting', 'documentation', 'work', 'related', 'injuries', 'sustained', 'job', 'working', 'waiting', 'help', 'restore', 'louisiana', 'program', 'gotten', 'help', 'restore', 'louisiana', 'program', 'fixed', 'house', 'sold', 'choosing', 'told', 'ocwen', 'mortgage', 'phh', 'mortgage', 'desire', 'helping', 'homeowners', 'homes', 'foreclosure', 'auctions', 'bid', 'offered', 'chance', 'refinance', 'mortgage', 'companies', 'involved', 'given', 'chance', 'loan', 'modification', 'chance', 'forbearance', 'parties', 'mentioned', 'aware', 'house', 'flooded', 'lender', 'refinance', 'ocwen', 'mortgage', 'phh', 'mortgage', 'newrez', 'contacted', 'phh', 'mortgage', 'interest', 'loan', 'modification', 'asked', 'send', 'packet', 'email', 'address', 'told', 'packet', 'emailed', 'told', 'time', 'website', 'loan', 'modification', 'packet', 'tried', 'got', 'employees', 'public', 'library', 'help', 'avail', 'today', 'sunday', 'waiting', 'loan', 'modification', 'packet', 'arrive', 'mail', 'forget', 'asked', 'agents', 'phh', 'mortgage', 'interest', 'refinancing', 'phh', 'mortgage', 'told', 'agent', 'house', 'fixed', 'explained', 'agent', 'phh', 'mortgage', 'refinance', 'expect', 'lending', 'company', 'refinance', 'add', 'risked', 'mu', 'health', 'staying', 'house', 'affected', 'health', 'addressed', 'staying', 'refuse', 'let', 'children', 'subjected', 'health', 'concerns', 'staying', 'prevent', 'squatters', 'dwelling', 'house', 'told', 'loan', 'modification', 'packet', 'returned', 'thirty', 'days', 'submitted', 'claim', 'prior', 'claim', 'difference', 'told', 'previous', 'years', 'consumer', 'financial', 'protection', 'bureau', 'like'], tags=[0])"
      ]
     },
     "execution_count": 38,
     "metadata": {},
     "output_type": "execute_result"
    }
   ],
   "source": [
    "cfpb_train_tagged = train.apply(lambda r: TaggedDocument(words=r['tokens'], tags=[r.Product_binary]), axis=1)\n",
    "cfpb_test_tagged = test.apply(lambda r: TaggedDocument(words=r['tokens'], tags=[r.Product_binary]), axis=1)\n",
    "\n",
    "cfpb_train_tagged[0]"
   ]
  },
  {
   "cell_type": "markdown",
   "metadata": {},
   "source": [
    "We're now ready to train our doc2vec! One of the key features of gensim is that it natively allows multicore processing - meaning it can take advantage of your CPU cores. Note that this is slightly different from tensorflow that we covered last semester, which also allows GPU acceleration. You can check how many CPU cores you have available: "
   ]
  },
  {
   "cell_type": "code",
   "execution_count": 39,
   "metadata": {},
   "outputs": [
    {
     "data": {
      "text/plain": [
       "4"
      ]
     },
     "execution_count": 39,
     "metadata": {},
     "output_type": "execute_result"
    }
   ],
   "source": [
    "cores = multiprocessing.cpu_count()\n",
    "cores"
   ]
  },
  {
   "cell_type": "markdown",
   "metadata": {},
   "source": [
    "[Parallel processing](https://en.wikipedia.org/wiki/Parallel_computing) is an important topic in computational social science - it will be the key to speeding up lots of different operations. In general, we recommend that whenever you use parallel processing you reserve 1 CPU core for your computer's other functions (keeping your browser and other software running), and use the remaining for your task at hand. In this case, doc2vec's training process is an example of [embarrassingly parallel](https://en.wikipedia.org/wiki/Embarrassingly_parallel) meaning that the different CPUs don't need to talk to each other to do their computations. They can independently work and combine the results at the end. In this case, we are working with very few observations (just 1000), but this is a useful technique to keep in mind for your projects and research! "
   ]
  },
  {
   "cell_type": "markdown",
   "metadata": {},
   "source": [
    "First we'll train the model (notice the use of the [`tqdm`](https://tqdm.github.io/) library for progerss bars):"
   ]
  },
  {
   "cell_type": "code",
   "execution_count": 40,
   "metadata": {},
   "outputs": [
    {
     "name": "stderr",
     "output_type": "stream",
     "text": [
      "100%|██████████| 800/800 [00:00<00:00, 1517613.39it/s]\n"
     ]
    }
   ],
   "source": [
    "model_dbow = Doc2Vec(dm=0, vector_size=300, negative=5, hs=0, min_count=2, sample = 0, workers=cores - 1)\n",
    "model_dbow.build_vocab([x for x in tqdm(cfpb_train_tagged.values)])"
   ]
  },
  {
   "cell_type": "markdown",
   "metadata": {},
   "source": [
    "We'll allow the model to train for 30 iterations (epochs - this is the same as our neural nets lab):"
   ]
  },
  {
   "cell_type": "code",
   "execution_count": 41,
   "metadata": {},
   "outputs": [
    {
     "name": "stderr",
     "output_type": "stream",
     "text": [
      "100%|██████████| 800/800 [00:00<00:00, 512907.86it/s]\n",
      "100%|██████████| 800/800 [00:00<00:00, 739899.27it/s]\n",
      "100%|██████████| 800/800 [00:00<00:00, 1956526.65it/s]\n",
      "100%|██████████| 800/800 [00:00<00:00, 3174496.88it/s]\n",
      "100%|██████████| 800/800 [00:00<00:00, 3267228.04it/s]\n",
      "100%|██████████| 800/800 [00:00<00:00, 2020134.38it/s]\n",
      "100%|██████████| 800/800 [00:00<00:00, 1593277.87it/s]\n",
      "100%|██████████| 800/800 [00:00<00:00, 1455092.45it/s]\n",
      "100%|██████████| 800/800 [00:00<00:00, 2057291.97it/s]\n",
      "100%|██████████| 800/800 [00:00<00:00, 1778189.30it/s]\n",
      "100%|██████████| 800/800 [00:00<00:00, 3238844.79it/s]\n",
      "100%|██████████| 800/800 [00:00<00:00, 3171496.41it/s]\n",
      "100%|██████████| 800/800 [00:00<00:00, 1918492.40it/s]\n",
      "100%|██████████| 800/800 [00:00<00:00, 2712565.24it/s]\n",
      "100%|██████████| 800/800 [00:00<00:00, 1649677.09it/s]\n",
      "100%|██████████| 800/800 [00:00<00:00, 2557502.44it/s]\n",
      "100%|██████████| 800/800 [00:00<00:00, 1672703.49it/s]\n",
      "100%|██████████| 800/800 [00:00<00:00, 1606243.75it/s]\n",
      "100%|██████████| 800/800 [00:00<00:00, 2452809.36it/s]\n",
      "100%|██████████| 800/800 [00:00<00:00, 730714.98it/s]\n",
      "100%|██████████| 800/800 [00:00<00:00, 895979.49it/s]\n",
      "100%|██████████| 800/800 [00:00<00:00, 1552727.07it/s]\n",
      "100%|██████████| 800/800 [00:00<00:00, 2185956.48it/s]\n",
      "100%|██████████| 800/800 [00:00<00:00, 2741375.16it/s]\n",
      "100%|██████████| 800/800 [00:00<00:00, 2961556.22it/s]\n",
      "100%|██████████| 800/800 [00:00<00:00, 3292878.51it/s]\n",
      "100%|██████████| 800/800 [00:00<00:00, 3238844.79it/s]\n",
      "100%|██████████| 800/800 [00:00<00:00, 2110341.64it/s]\n",
      "100%|██████████| 800/800 [00:00<00:00, 2056031.37it/s]\n"
     ]
    }
   ],
   "source": [
    "for epoch in range(1,30):\n",
    "    model_dbow.train(utils.shuffle([x for x in tqdm(cfpb_train_tagged.values)]), \n",
    "                     total_examples=len(cfpb_train_tagged.values), epochs=epoch)\n",
    "    model_dbow.alpha -= 0.002\n",
    "    model_dbow.min_alpha = model_dbow.alpha"
   ]
  },
  {
   "cell_type": "markdown",
   "metadata": {},
   "source": [
    "Finally, we'll define a function that will grab the embeddings for each document:"
   ]
  },
  {
   "cell_type": "code",
   "execution_count": 42,
   "metadata": {},
   "outputs": [],
   "source": [
    "def vec_for_learning(model, tagged_docs):\n",
    "    sents = tagged_docs.values\n",
    "    targets, regressors = zip(*[(doc.tags[0], model.infer_vector(doc.words)) for doc in sents])\n",
    "    return targets, regressors"
   ]
  },
  {
   "cell_type": "markdown",
   "metadata": {},
   "source": [
    "## Classification"
   ]
  },
  {
   "cell_type": "markdown",
   "metadata": {},
   "source": [
    "And finally, let's use logistic regression to see how well our document embeddings do:"
   ]
  },
  {
   "cell_type": "code",
   "execution_count": 43,
   "metadata": {},
   "outputs": [
    {
     "name": "stderr",
     "output_type": "stream",
     "text": [
      "/Applications/anaconda3/lib/python3.8/site-packages/sklearn/linear_model/_logistic.py:763: ConvergenceWarning: lbfgs failed to converge (status=1):\n",
      "STOP: TOTAL NO. of ITERATIONS REACHED LIMIT.\n",
      "\n",
      "Increase the number of iterations (max_iter) or scale the data as shown in:\n",
      "    https://scikit-learn.org/stable/modules/preprocessing.html\n",
      "Please also refer to the documentation for alternative solver options:\n",
      "    https://scikit-learn.org/stable/modules/linear_model.html#logistic-regression\n",
      "  n_iter_i = _check_optimize_result(\n"
     ]
    },
    {
     "data": {
      "image/png": "[encoded data removed]",
      "text/plain": [
       "<Figure size 720x504 with 2 Axes>"
      ]
     },
     "metadata": {
      "needs_background": "light"
     },
     "output_type": "display_data"
    }
   ],
   "source": [
    "y_train, X_train = vec_for_learning(model_dbow, cfpb_train_tagged)\n",
    "y_test, X_test = vec_for_learning(model_dbow, cfpb_test_tagged)\n",
    "logit_reg = LogisticRegression()\n",
    "logit_model = logit_reg.fit(X_train, y_train)\n",
    "y_pred = logit_model.predict(X_test)\n",
    "\n",
    "cf_matrix = confusion_matrix(y_test, y_pred, normalize = \"true\")\n",
    "\n",
    "df_cm = pd.DataFrame(cf_matrix, range(2),\n",
    "                  range(2))\n",
    "\n",
    "df_cm = df_cm.rename(index=str, columns={0: \"Mortgage\", 1: \"Student loan\"})\n",
    "df_cm.index = [\"Mortgage\", \"Student loan\"]\n",
    "plt.figure(figsize = (10,7))\n",
    "sns.set(font_scale=1.4)#for label size\n",
    "sns.heatmap(df_cm, \n",
    "           annot=True,\n",
    "           annot_kws={\"size\": 16},\n",
    "           fmt='g')\n",
    "\n",
    "plt.title('Confusion Matrix')\n",
    "plt.xlabel(\"Predicted Label\")\n",
    "plt.ylabel(\"True Label\")\n",
    "plt.show()"
   ]
  },
  {
   "cell_type": "markdown",
   "metadata": {},
   "source": [
    "Hmm, not as well as we might think! But this shouldn't be too surprising with a small dataset - word embeddings tend to work best when given lots of data."
   ]
  },
  {
   "cell_type": "markdown",
   "metadata": {},
   "source": [
    "## Loading Pre-Trained Embeddings"
   ]
  },
  {
   "cell_type": "markdown",
   "metadata": {},
   "source": [
    "So far we have been working with embeddings trained on our particular corpus. However, this is not usually standard - as you saw above, word2vec works best when it has lots of data. The problem is that training state-of-the-art models requires intense computational resources. It also has a [large carbon footprint](https://arxiv.org/pdf/1906.02243.pdf). Luckily, we can use pre-trained models like Google News or Stanford's GloVe. Note to run this next chunk of code, you need to have the [GoogleNews embeddings](https://drive.google.com/file/d/0B7XkCwpI5KDYNlNUTTlSS21pQmM/edit) in your \"data\" directory in this repo."
   ]
  },
  {
   "cell_type": "code",
   "execution_count": null,
   "metadata": {},
   "outputs": [],
   "source": [
    "googlenews_word2vec_model = gensim.models.KeyedVectors.load_word2vec_format('../../data/GoogleNews-vectors-negative300.bin.gz', binary = True) "
   ]
  },
  {
   "cell_type": "markdown",
   "metadata": {},
   "source": [
    "We can also tune the Google News embeddings to a domain-specific corpus. This may or may not be necessary depending on how specific or unique you think words in your corpus might be:"
   ]
  },
  {
   "cell_type": "code",
   "execution_count": null,
   "metadata": {},
   "outputs": [],
   "source": [
    "# retrain cfpb['tokens'] model so it has the same dimensions as the google vector\n",
    "#word2vec_model = gensim.models.Word2Vec(vector_size = 300, window=5, min_count = 1, workers = 3)\n",
    " \n",
    "#googlenews_word2vec_model.build_vocab(cfpb['tokens'])\n",
    "\n",
    "# set lockf = 1 to allow updating\n",
    "#word2vec_googlenews_model = KeyedVectors.load_word2vec_format('../../data/GoogleNews-vectors-negative300.bin.gz', lockf=1.0, binary=True)\n",
    "#word2vec_model.intersect_word2vec_format('../../data/GoogleNews-vectors-negative300.bin.gz', lockf=1.0, binary=True)\n",
    " \n",
    "# Finish training model\n",
    "#googlenews_word2vec_model.train(cfpb['tokens'], total_examples=3, epochs = 5)"
   ]
  },
  {
   "cell_type": "markdown",
   "metadata": {},
   "source": [
    "## Challenge"
   ]
  },
  {
   "cell_type": "markdown",
   "metadata": {},
   "source": [
    "Repeat the exploration we did in the first part where we trained word embeddings with the new Google model. Do you notice any differences? Create document averaged word embeddings and predict our outcome ('Product_binary'). How did this compare to dov2vec?"
   ]
  },
  {
   "cell_type": "markdown",
   "metadata": {},
   "source": [
    "### Challenge Embeddings "
   ]
  },
  {
   "cell_type": "code",
   "execution_count": null,
   "metadata": {},
   "outputs": [],
   "source": [
    "# New syntax as of gensim 4.0.0\n",
    "print(googlenews_word2vec_model.__getitem__(['account']))"
   ]
  },
  {
   "cell_type": "markdown",
   "metadata": {},
   "source": [
    "Check out the shape of the vectors for 'account', what do you notice?"
   ]
  },
  {
   "cell_type": "code",
   "execution_count": null,
   "metadata": {},
   "outputs": [],
   "source": [
    "googlenews_word2vec_model.__getitem__(['account']).shape"
   ]
  },
  {
   "cell_type": "markdown",
   "metadata": {},
   "source": [
    "**Answer**: There are 300 elements in this array, which is the number of embeddings in each Google News vector. "
   ]
  },
  {
   "cell_type": "markdown",
   "metadata": {},
   "source": [
    "Use the following empty cells to look at what the word embeddings look like for words you think may appear in the text! Keep in mind that even if a word shows up in the text as seen above, a word vector will not be created unless it satisfies all conditions we inputted into the model above. "
   ]
  },
  {
   "cell_type": "code",
   "execution_count": null,
   "metadata": {},
   "outputs": [],
   "source": [
    "# word 1\n",
    "#googlenews_word2vec_model.__getitem__(['navient'])"
   ]
  },
  {
   "cell_type": "markdown",
   "metadata": {},
   "source": [
    "Note the above code now no longer runs because Navient is not present in the Google News corpus. Why might this be? "
   ]
  },
  {
   "cell_type": "code",
   "execution_count": null,
   "metadata": {},
   "outputs": [],
   "source": [
    "# word 2\n",
    "googlenews_word2vec_model.__getitem__(['company'])"
   ]
  },
  {
   "cell_type": "code",
   "execution_count": null,
   "metadata": {},
   "outputs": [],
   "source": [
    "# word 3 \n",
    "googlenews_word2vec_model.__getitem__(['credit'])"
   ]
  },
  {
   "cell_type": "markdown",
   "metadata": {},
   "source": [
    "As above, the cell directly below will return a list of words that have been turned into word vectors by the model above:"
   ]
  },
  {
   "cell_type": "code",
   "execution_count": null,
   "metadata": {},
   "outputs": [],
   "source": [
    "words = list(googlenews_word2vec_model.index_to_key)\n",
    "print(words[0:100])"
   ]
  },
  {
   "cell_type": "markdown",
   "metadata": {},
   "source": [
    "`gensim` comes with some handy methods to analyze word relationships. `similarity` will give us a number from 0-1 based on how similar two words are. If this sounds like cosine similarity for words, you'd be right! It just takes the cosine similarity of the high dimensional vectors we input. \n",
    "\n",
    "In the following cell, find the similarity between the words `credit` and `debt`:"
   ]
  },
  {
   "cell_type": "code",
   "execution_count": null,
   "metadata": {},
   "outputs": [],
   "source": [
    "# New syntax as of gensim 4.0.0\n",
    "googlenews_word2vec_model.similarity('credit', 'debt')"
   ]
  },
  {
   "cell_type": "markdown",
   "metadata": {},
   "source": [
    "We can also find cosine distance between two clusters of word vectors. Each cluster is measured as the mean of its words:"
   ]
  },
  {
   "cell_type": "code",
   "execution_count": null,
   "metadata": {},
   "outputs": [],
   "source": [
    "# Similarity between credit/debt and loan/mortgage\n",
    "googlenews_word2vec_model.n_similarity(['credit','debt'],['loan','mortgage'])"
   ]
  },
  {
   "cell_type": "markdown",
   "metadata": {},
   "source": [
    "We can find words that don't belong with `doesnt_match`. It finds the mean vector of the words in the `list`, and identifies the furthest away. Out of the three words in the list `['credit', 'loan', 'student']`, which is the furthest vector from the mean?"
   ]
  },
  {
   "cell_type": "code",
   "execution_count": null,
   "metadata": {},
   "outputs": [],
   "source": [
    "# New syntax for 4.0.0 requires passing a tuple ()  a list []\n",
    "googlenews_word2vec_model.doesnt_match(['credit', 'loan', 'student'])"
   ]
  },
  {
   "cell_type": "code",
   "execution_count": null,
   "metadata": {},
   "outputs": [],
   "source": [
    "googlenews_word2vec_model.doesnt_match(('pandemic', 'covid', 'bank'))"
   ]
  },
  {
   "cell_type": "markdown",
   "metadata": {},
   "source": [
    "Let's look at how the Google News model did for this example above: \n",
    "$$\\vec{house} - \\vec{rent} + \\vec{loan} = $$"
   ]
  },
  {
   "cell_type": "code",
   "execution_count": null,
   "metadata": {},
   "outputs": [],
   "source": [
    "googlenews_word2vec_model.most_similar(positive=['house', 'loan'], negative=['rent'])"
   ]
  },
  {
   "cell_type": "markdown",
   "metadata": {},
   "source": [
    "### Challenge PCA\n",
    "\n",
    "Next we will explore the word embeddings of our `text` visually with PCA. \n",
    "\n",
    "We can retrieve __all__ of the vectors from a trained model as follows:"
   ]
  },
  {
   "cell_type": "code",
   "execution_count": null,
   "metadata": {},
   "outputs": [],
   "source": [
    "model_words = [word for word in doc if word in model.wv.index_to_key and word in googlenews_word2vec_model.index_to_key]\n",
    "X = googlenews_word2vec_model.__getitem__(model_words)\n",
    "print(X.shape) # 227 words, 300 element vectors \n",
    "print(model_words)"
   ]
  },
  {
   "cell_type": "markdown",
   "metadata": {},
   "source": [
    "As we do with non-text features, we want to standardize X so that all features have the same scale. Do this by creating a StandardScaler(), then run its fit_transform method on X. "
   ]
  },
  {
   "cell_type": "code",
   "execution_count": null,
   "metadata": {},
   "outputs": [],
   "source": [
    "# scale the data\n",
    "X_std = StandardScaler().fit_transform(X)"
   ]
  },
  {
   "cell_type": "code",
   "execution_count": null,
   "metadata": {},
   "outputs": [],
   "source": [
    "# make a PCA\n",
    "pca = PCA(n_components=2) #set n_components to 2 to graph in 2-D\n",
    "\n",
    "# fit the standardized data\n",
    "Y_pca = pca.fit_transform(X_std)"
   ]
  },
  {
   "cell_type": "code",
   "execution_count": null,
   "metadata": {},
   "outputs": [],
   "source": [
    "sns.scatterplot(x = Y_pca[:, 0], y = Y_pca[:, 1])"
   ]
  },
  {
   "cell_type": "code",
   "execution_count": null,
   "metadata": {},
   "outputs": [],
   "source": [
    "import random\n",
    "random.seed(10)\n",
    "\n",
    "rando_words = random.sample(model_words, 25) \n",
    "\n",
    "X1 = model.wv.__getitem__(rando_words)\n",
    "pca1 = PCA(n_components=2)\n",
    "result = pca1.fit_transform(X1)\n",
    "result_df = pd.DataFrame(result, columns = ['PC1', 'PC2'], index = rando)\n",
    "sns.scatterplot(x = 'PC1', y = 'PC2', data = result_df)\n",
    "\n",
    "\n",
    "from adjustText import adjust_text\n",
    "texts = []\n",
    "\n",
    "# Append words to list\n",
    "for word in rando_words:\n",
    "    texts.append(plt.text(result_df.loc[word, 'PC1'], result_df.loc[word, 'PC2'], word, fontsize = 8))\n",
    "    \n",
    "# Plot text using adjust_text (because overlapping text is hard to read)\n",
    "adjust_text(texts, force_points = 0.4, force_text = 0.4, \n",
    "          #  expand_points = (2,1), expand_text = (1,2),\n",
    "            arrowprops = dict(arrowstyle = \"-\", color = 'black', lw = 0.5))\n",
    "\n",
    "plt.show()"
   ]
  },
  {
   "cell_type": "code",
   "execution_count": null,
   "metadata": {},
   "outputs": [],
   "source": [
    "\n",
    "\n",
    "from adjustText import adjust_text\n",
    "texts = []\n",
    "\n",
    "# Append words to list\n",
    "for word in result_df.index:\n",
    "    texts.append(plt.text(result_df.loc[word, 'PC1'], result_df.loc[word, 'PC2'], word, fontsize = 8))\n",
    "    \n",
    "# Plot text using adjust_text (because overlapping text is hard to read)\n",
    "adjust_text(texts, force_points = 0.4, force_text = 0.4, \n",
    "            expand_points = (2,1), expand_text = (1,2),\n",
    "            arrowprops = dict(arrowstyle = \"-\", color = 'black', lw = 0.5))\n"
   ]
  },
  {
   "cell_type": "markdown",
   "metadata": {},
   "source": [
    "### Challenge t-SNE"
   ]
  },
  {
   "cell_type": "code",
   "execution_count": null,
   "metadata": {},
   "outputs": [],
   "source": [
    "# Filter the list of vectors to include only those that Word2Vec has a vector for\n",
    "vector_list = [googlenews_word2vec_model.__getitem__(word) for word in words if word in googlenews_word2vec_model.index_to_key]\n",
    "\n",
    "# Create a list of the words corresponding to these vectors\n",
    "words_filtered = [word for word in words if word in googlenews_word2vec_model.index_to_key]\n",
    "\n",
    "# Zip the words together with their vector representations\n",
    "word_vec_zip = zip(words_filtered, vector_list)\n",
    "\n",
    "# Cast to a dict so we can turn it into a dataframe\n",
    "word_vec_dict = dict(word_vec_zip)\n",
    "word_vec_df = pd.DataFrame.from_dict(word_vec_dict, orient='index')\n",
    "word_vec_df.shape"
   ]
  },
  {
   "cell_type": "code",
   "execution_count": null,
   "metadata": {},
   "outputs": [],
   "source": [
    "from sklearn.manifold import TSNE\n",
    "\n",
    "# Initialize t-SNE\n",
    "tsne = TSNE(n_components = 2, init = 'random', random_state = 10, perplexity = 100)\n",
    "\n",
    "# Use only 400 rows to shorten processing time\n",
    "tsne_df = tsne.fit_transform(word_vec_df[:400])\n",
    "\n",
    "fig, ax = plt.subplots(figsize = (11.7, 8.27))\n",
    "sns.scatterplot(x = tsne_df[:, 0], y = tsne_df[:, 1], alpha = 0.5)\n",
    "\n",
    "# Second plot: Import adjustText, initialize list of texts\n",
    "from adjustText import adjust_text\n",
    "texts = []\n",
    "words_to_plot = list(np.arange(0, 400, 10))\n",
    "\n",
    "# Append words to list\n",
    "for word in words_to_plot:\n",
    "    texts.append(plt.text(tsne_df[word, 0], tsne_df[word, 1], word_vec_df.index[word], fontsize = 10))\n",
    "    \n",
    "# Plot text using adjust_text (because overlapping text is hard to read)\n",
    "adjust_text(texts, force_points = 0.4, force_text = 0.2, \n",
    "            expand_points = (2,1), expand_text = (1,2),\n",
    "            arrowprops = dict(arrowstyle = \"-\", color = 'black', lw = 0.5))\n",
    "\n",
    "plt.show()"
   ]
  },
  {
   "cell_type": "code",
   "execution_count": null,
   "metadata": {},
   "outputs": [],
   "source": [
    "from sklearn.manifold import TSNE\n",
    "\n",
    "# Initialize t-SNE\n",
    "tsne = TSNE(n_components = 3, init = 'random', random_state = 10, perplexity = 40)\n",
    "\n",
    "# Use only 400 rows to shorten processing time\n",
    "tsne_df = tsne.fit_transform(word_vec_df[:400])\n",
    "\n",
    "fig, ax = plt.subplots(figsize = (11.7, 8.27))\n",
    "sns.scatterplot(x = tsne_df[:, 0], y = tsne_df[:, 1], alpha = 0.5)\n",
    "\n",
    "# Second plot: Import adjustText, initialize list of texts\n",
    "from adjustText import adjust_text\n",
    "texts = []\n",
    "words_to_plot = list(np.arange(0, 400, 10))\n",
    "\n",
    "# Append words to list\n",
    "for word in words_to_plot:\n",
    "    texts.append(plt.text(tsne_df[word, 0], tsne_df[word, 1], word_vec_df.index[word], fontsize = 10))\n",
    "    \n",
    "# Plot text using adjust_text (because overlapping text is hard to read)\n",
    "adjust_text(texts, force_points = 0.4, force_text = 0.2, \n",
    "            expand_points = (2,1), expand_text = (1,2),\n",
    "            arrowprops = dict(arrowstyle = \"-\", color = 'black', lw = 0.5))\n",
    "\n",
    "plt.show()"
   ]
  },
  {
   "cell_type": "markdown",
   "metadata": {},
   "source": [
    "## Averaging Word Embeddings"
   ]
  },
  {
   "cell_type": "markdown",
   "metadata": {},
   "source": [
    "And then let's do this for every token and document in our corpus:"
   ]
  },
  {
   "cell_type": "code",
   "execution_count": null,
   "metadata": {},
   "outputs": [],
   "source": [
    "def document_vector(model, doc):\n",
    "    doc = [word for word in doc if word in model.index_to_key]\n",
    "    return np.mean(model.__getitem__(doc), axis=0)"
   ]
  },
  {
   "cell_type": "code",
   "execution_count": null,
   "metadata": {},
   "outputs": [],
   "source": [
    "# Initialize an array for the size of the corpus\n",
    "empty_list_embeddings_means = []\n",
    "for doc in cfpb['tokens']: # append the vector for each document\n",
    "    empty_list_embeddings_means.append(document_vector(googlenews_word2vec_model, doc))\n",
    "    \n",
    "doc_average_embeddings = np.array(empty_list_embeddings_means) # list to array"
   ]
  },
  {
   "cell_type": "code",
   "execution_count": null,
   "metadata": {},
   "outputs": [],
   "source": [
    "doc_average_embeddings"
   ]
  },
  {
   "cell_type": "markdown",
   "metadata": {},
   "source": [
    "### Challenge: Classification"
   ]
  },
  {
   "cell_type": "code",
   "execution_count": null,
   "metadata": {},
   "outputs": [],
   "source": [
    "word2vec_features_df = pd.DataFrame(doc_average_embeddings)"
   ]
  },
  {
   "cell_type": "code",
   "execution_count": null,
   "metadata": {},
   "outputs": [],
   "source": [
    "y = cfpb['Product_binary']\n",
    "\n",
    "X_train, X_test, y_train, y_test = train_test_split(word2vec_features_df, \n",
    "                                                    y, \n",
    "                                                    train_size = .80, \n",
    "                                                    test_size=0.20, \n",
    "                                                    random_state = 10)\n",
    "# create a model\n",
    "logit_reg = LogisticRegression()\n",
    "\n",
    "# fit the model\n",
    "logit_model = logit_reg.fit(X_train, y_train.ravel())\n",
    "\n",
    "y_pred = logit_model.predict(X_test)\n",
    "\n",
    "cf_matrix = confusion_matrix(y_test, y_pred, normalize = \"true\")\n",
    "\n",
    "df_cm = pd.DataFrame(cf_matrix, range(2),\n",
    "                  range(2))\n",
    "\n",
    "df_cm = df_cm.rename(index=str, columns={0: \"Checking or savings account\", 1: \"Student loan\"})\n",
    "df_cm.index = [\"Checking or savings account\", \"Student loan\"]\n",
    "plt.figure(figsize = (10,7))\n",
    "sns.set(font_scale=1.4)#for label size\n",
    "sns.heatmap(df_cm, \n",
    "           annot=True,\n",
    "           annot_kws={\"size\": 16},\n",
    "           fmt='g')\n",
    "\n",
    "plt.title('Google Document Averaged Embeddings')\n",
    "plt.xlabel(\"Predicted Label\")\n",
    "plt.ylabel(\"True Label\")\n",
    "plt.show()"
   ]
  },
  {
   "cell_type": "markdown",
   "metadata": {},
   "source": [
    "### Discussion\n",
    "\n",
    "You've now had a gentle introduction to word embeddings! There are a few major lessons here. Word embeddings are powerful and capture a lot of context that frequency based embeddings do not. However, this isn't perfect! And as with any machine learning application, your choice of model and hyperparameters can matter quite a lot. In this case, some of our simpler featurizations and models actually did better than word embeddings, but this won't always be true. It is also worth learning more about other embeddings like [GloVe](https://nlp.stanford.edu/projects/glove/), transformer based models like [BERT](https://arxiv.org/abs/1810.04805) and deep learning approaches like [ELMo](https://arxiv.org/abs/1802.05365)."
   ]
  },
  {
   "cell_type": "markdown",
   "metadata": {},
   "source": [
    "---\n",
    "Notebook developed by Aniket Kesari. Some materials borrowed from [LS123: Data, Prediction, and Law](https://github.com/Akesari12/LS123_Data_Prediction_Law_Spring-2019/blob/master/labs/Word%20Embedding/LEGALST-190%20Word%20Embedding%20SOLUTIONS.ipynb)"
   ]
  }
 ],
 "metadata": {
  "kernelspec": {
   "display_name": "Python 3",
   "language": "python",
   "name": "python3"
  },
  "language_info": {
   "codemirror_mode": {
    "name": "ipython",
    "version": 3
   },
   "file_extension": ".py",
   "mimetype": "text/x-python",
   "name": "python",
   "nbconvert_exporter": "python",
   "pygments_lexer": "ipython3",
   "version": "3.8.11"
  }
 },
 "nbformat": 4,
 "nbformat_minor": 4
}
