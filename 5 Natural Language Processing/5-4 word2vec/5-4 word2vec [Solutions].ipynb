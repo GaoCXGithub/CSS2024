{
 "cells": [
  {
   "cell_type": "markdown",
   "metadata": {},
   "source": [
    "# [Computational Social Science]\n",
    "## 5-4 word2vec - Solutions\n",
    "\n",
    "In this lab we will use the techniques we introduce word embeddings via word2vec."
   ]
  },
  {
   "cell_type": "markdown",
   "metadata": {},
   "source": [
    "## Virtual Environment\n",
    "Remember to always activate your virtual environment first before you install packages or run a notebook! This helps to prevent conflicts between dependencies across different projects and ensures that you are using the correct versions of packages. You must have created anaconda virtual enviornment in the `Anaconda Installation` lab. If you have not or want to create a new virtual environment, follow the instruction in the `Anaconda Installation` lab. \n",
    "\n",
    "<br>\n",
    "\n",
    "If you have already created a virtual enviornment, you can run the following command to activate it: \n",
    "\n",
    "<br>\n",
    "\n",
    "`conda activate <virtual_env_name>`\n",
    "\n",
    "<br>\n",
    "\n",
    "For example, if your virtual environment was named as CSS, run the following command. \n",
    "\n",
    "<br>\n",
    "\n",
    "`conda activate CSS`\n",
    "\n",
    "<br>\n",
    "\n",
    "To deactivate your virtual environment after you are done working with the lab, run the following command. \n",
    "\n",
    "<br>\n",
    "\n",
    "`conda deactivate`\n",
    "\n",
    "<br>"
   ]
  },
  {
   "cell_type": "code",
   "execution_count": 4,
   "metadata": {},
   "outputs": [],
   "source": [
    "# download and install new libraries -- WILL NEED TO UNCOMMENT AND RUN ONLY FIRST \n",
    "# ----------\n",
    "#!pip install gensim\n",
    "#!pip install tqdm\n",
    "#!pip install adjustText\n",
    "#!pip install multiprocessing - ONLY NECESSARY ON OLD VERSIONS OF PYTHON (BEFORE 2.6)"
   ]
  },
  {
   "cell_type": "code",
   "execution_count": 5,
   "metadata": {},
   "outputs": [
    {
     "name": "stdout",
     "output_type": "stream",
     "text": [
      "Requirement already satisfied: gensim in /opt/anaconda3/envs/CSS/lib/python3.12/site-packages (4.3.3)\n",
      "Requirement already satisfied: numpy<2.0,>=1.18.5 in /opt/anaconda3/envs/CSS/lib/python3.12/site-packages (from gensim) (1.26.4)\n",
      "Requirement already satisfied: scipy<1.14.0,>=1.7.0 in /opt/anaconda3/envs/CSS/lib/python3.12/site-packages (from gensim) (1.13.1)\n",
      "Requirement already satisfied: smart-open>=1.8.1 in /opt/anaconda3/envs/CSS/lib/python3.12/site-packages (from gensim) (7.1.0)\n",
      "Requirement already satisfied: wrapt in /opt/anaconda3/envs/CSS/lib/python3.12/site-packages (from smart-open>=1.8.1->gensim) (1.17.2)\n"
     ]
    }
   ],
   "source": [
    "!pip install -U gensim"
   ]
  },
  {
   "cell_type": "code",
   "execution_count": 6,
   "metadata": {},
   "outputs": [
    {
     "name": "stdout",
     "output_type": "stream",
     "text": [
      "Requirement already satisfied: seaborn in /opt/anaconda3/envs/CSS/lib/python3.12/site-packages (0.13.2)\n",
      "Requirement already satisfied: numpy!=1.24.0,>=1.20 in /opt/anaconda3/envs/CSS/lib/python3.12/site-packages (from seaborn) (1.26.4)\n",
      "Requirement already satisfied: pandas>=1.2 in /opt/anaconda3/envs/CSS/lib/python3.12/site-packages (from seaborn) (2.2.3)\n",
      "Requirement already satisfied: matplotlib!=3.6.1,>=3.4 in /opt/anaconda3/envs/CSS/lib/python3.12/site-packages (from seaborn) (3.10.0)\n",
      "Requirement already satisfied: contourpy>=1.0.1 in /opt/anaconda3/envs/CSS/lib/python3.12/site-packages (from matplotlib!=3.6.1,>=3.4->seaborn) (1.3.1)\n",
      "Requirement already satisfied: cycler>=0.10 in /opt/anaconda3/envs/CSS/lib/python3.12/site-packages (from matplotlib!=3.6.1,>=3.4->seaborn) (0.12.1)\n",
      "Requirement already satisfied: fonttools>=4.22.0 in /opt/anaconda3/envs/CSS/lib/python3.12/site-packages (from matplotlib!=3.6.1,>=3.4->seaborn) (4.56.0)\n",
      "Requirement already satisfied: kiwisolver>=1.3.1 in /opt/anaconda3/envs/CSS/lib/python3.12/site-packages (from matplotlib!=3.6.1,>=3.4->seaborn) (1.4.8)\n",
      "Requirement already satisfied: packaging>=20.0 in /opt/anaconda3/envs/CSS/lib/python3.12/site-packages (from matplotlib!=3.6.1,>=3.4->seaborn) (24.2)\n",
      "Requirement already satisfied: pillow>=8 in /opt/anaconda3/envs/CSS/lib/python3.12/site-packages (from matplotlib!=3.6.1,>=3.4->seaborn) (11.1.0)\n",
      "Requirement already satisfied: pyparsing>=2.3.1 in /opt/anaconda3/envs/CSS/lib/python3.12/site-packages (from matplotlib!=3.6.1,>=3.4->seaborn) (3.2.1)\n",
      "Requirement already satisfied: python-dateutil>=2.7 in /opt/anaconda3/envs/CSS/lib/python3.12/site-packages (from matplotlib!=3.6.1,>=3.4->seaborn) (2.9.0.post0)\n",
      "Requirement already satisfied: pytz>=2020.1 in /opt/anaconda3/envs/CSS/lib/python3.12/site-packages (from pandas>=1.2->seaborn) (2025.1)\n",
      "Requirement already satisfied: tzdata>=2022.7 in /opt/anaconda3/envs/CSS/lib/python3.12/site-packages (from pandas>=1.2->seaborn) (2025.1)\n",
      "Requirement already satisfied: six>=1.5 in /opt/anaconda3/envs/CSS/lib/python3.12/site-packages (from python-dateutil>=2.7->matplotlib!=3.6.1,>=3.4->seaborn) (1.17.0)\n"
     ]
    }
   ],
   "source": [
    "!pip install seaborn"
   ]
  },
  {
   "cell_type": "code",
   "execution_count": 7,
   "metadata": {},
   "outputs": [],
   "source": [
    "# load libraries\n",
    "# ----------\n",
    "import pandas as pd\n",
    "import numpy as np\n",
    "import spacy\n",
    "import en_core_web_sm\n",
    "nlp = en_core_web_sm.load()\n",
    "from spacy.lang.en.stop_words import STOP_WORDS\n",
    "from string import punctuation\n",
    "\n",
    "from tqdm import tqdm\n",
    "\n",
    "import gensim\n",
    "from gensim import models\n",
    "from gensim.models import KeyedVectors\n",
    "from gensim.models.doc2vec import Doc2Vec, TaggedDocument\n",
    "\n",
    "from sklearn.preprocessing import StandardScaler\n",
    "from sklearn.decomposition import PCA\n",
    "from sklearn import utils\n",
    "from sklearn.linear_model import LogisticRegression\n",
    "from sklearn.model_selection import train_test_split\n",
    "from sklearn.metrics import confusion_matrix\n",
    "from sklearn.preprocessing import LabelBinarizer\n",
    "from sklearn.manifold import TSNE\n",
    "\n",
    "import multiprocessing\n",
    "\n",
    "import seaborn as sns\n",
    "import matplotlib.pyplot as plt\n",
    "%matplotlib inline"
   ]
  },
  {
   "cell_type": "markdown",
   "metadata": {},
   "source": [
    "## Data"
   ]
  },
  {
   "cell_type": "markdown",
   "metadata": {},
   "source": [
    "<img src = \"../../images/cfpb_logo.png\"/>"
   ]
  },
  {
   "cell_type": "markdown",
   "metadata": {},
   "source": [
    "We'll once again use the Consumer Financial Protection Bureau's [Consumer Complaint Database](https://www.consumerfinance.gov/data-research/consumer-complaints/). Picking up from where we left off last time, we'll focus on predicting whether a consumer complaint narrative is talking about a \"mortgage\" issue or a \"student loan\" issue."
   ]
  },
  {
   "cell_type": "code",
   "execution_count": 9,
   "metadata": {},
   "outputs": [
    {
     "name": "stderr",
     "output_type": "stream",
     "text": [
      "/var/folders/f5/cxwzf1714jl8np8by14r5y8m0000gn/T/ipykernel_97921/3761492183.py:3: DtypeWarning: Columns (16) have mixed types. Specify dtype option on import or set low_memory=False.\n",
      "  cfpb = pd.read_csv(\"./data/CFPB 2020 Complaints.csv\")\n"
     ]
    }
   ],
   "source": [
    "# load the data\n",
    "# ----------\n",
    "cfpb = pd.read_csv(\"./data/CFPB 2020 Complaints.csv\")\n",
    "cfpb = cfpb.dropna(subset = ['Consumer complaint narrative'])\n",
    "cfpb = cfpb[(cfpb['Product']=='Mortgage') | (cfpb['Product'] == 'Student loan')]\n",
    "cfpb = cfpb[:1000].reset_index(drop = True)"
   ]
  },
  {
   "cell_type": "markdown",
   "metadata": {},
   "source": [
    "## Overview <a id='context'></a>\n",
    "\n",
    "In this lab, we will be turning individual words in the data set into vectors, called \"Word Embeddings\". **Word embedding** attempt to identify semantic relationships between words by observing them in the context that the word appears. `Word2Vec` is the most prominent word embedding algorithm.\n",
    "\n",
    "Imagine that each word in a novel has its meaning determined by the ones that surround it in a limited window. For example, in Moby Dick's first sentence, “me” is paired on either side by “Call” and “Ishmael.” (`“Call me Ishmael\"`). After observing the windows around every word in the novel (or many novels), the computer will notice a pattern in which “me” falls between similar pairs of words to “her,” “him,” or “them.” Of course, the computer had gone through a similar process over the words “Call” and “Ishmael,” for which “me” is reciprocally part of their contexts.  This chaining of signifiers to one another mirrors some of humanists' most sophisticated interpretative frameworks of language.\n",
    "\n",
    "The two main flavors of `Word2Vec` are CBOW (Continuous Bag of Words) and Skip-Gram, which can be distinguished partly by their input and output during training. **Skip-Grams** take a word of interest as its input (e.g., \"me\") and tries to learn how to predict its context words (\"Call\", \"Ishmael\"). **CBOW** does the opposite, taking the context words (\"Call\", \"Ishmael\") as a single input and tries to predict the word of interest (\"me\").\n",
    "\n",
    "In general, CBOW is is faster and does well with frequent words, while Skip-Gram potentially represents rare words better.\n",
    "\n",
    "### Word2Vec Features\n",
    "\n",
    "* `vector_size`: Number of dimensions for word embedding model (*formerly* `size`) \n",
    "* `window`: Number of context words to observe in each direction\n",
    "* `min_count`: Minimum frequency for words included in model\n",
    "* `sg` (Skip-Gram): '0' indicates CBOW model; '1' indicates Skip-Gram\n",
    "* `alpha`: Learning rate (initial); prevents model from over-correcting, enables finer tuning\n",
    "* `epochs`: Number of passes through dataset (*formerly* `iterations`) \n",
    "* `batch_words`: Number of words to sample from data during each pass\n",
    "\n",
    "\n",
    "For more detailed background on Word2Vec's mechanics, I suggest this  <a href=\"https://www.tensorflow.org/text/tutorials/word2vec\">brief tutorial</a> by Google, especially the sections \"Motivation,\" \"Skip-Gram Model,\" and \"Visualizing.\" There is also this [tutorial](https://radimrehurek.com/gensim/auto_examples/tutorials/run_word2vec.html#sphx-glr-auto-examples-tutorials-run-word2vec-py) that might be helpful as well. \n",
    "\n",
    "We will be using the default value for most of our parameters."
   ]
  },
  {
   "cell_type": "markdown",
   "metadata": {},
   "source": [
    "## Preprocessing"
   ]
  },
  {
   "cell_type": "markdown",
   "metadata": {},
   "source": [
    "First let's use our handy preprocessing function. Notice that this version will return a list of tokens (not a string), and we also added the `str.lower()` method."
   ]
  },
  {
   "cell_type": "code",
   "execution_count": 10,
   "metadata": {},
   "outputs": [],
   "source": [
    "# create preprocessing function - like we have in the past few labs\n",
    "# ----------\n",
    "\n",
    "def rem_punc_stop(text):\n",
    "    stop_words = STOP_WORDS\n",
    "    # Individually\n",
    "    # nlp.Defaults.stop_words.add(\"XX\")\n",
    "    # nlp.Defaults.stop_words.add(\"XXXX\")\n",
    "    # nlp.Defaults.stop_words.add(\"XXXXXXX\")\n",
    "    \n",
    "    # Using the bitwise |= (or) operator\n",
    "    nlp.Defaults.stop_words |= {\"xx\", \"xxxx\",\"xxxxxxxx\"}\n",
    "    \n",
    "    punc = set(punctuation)\n",
    "    \n",
    "    punc_free = \"\".join([ch for ch in text if ch not in punc])\n",
    "    \n",
    "    doc = nlp(punc_free)\n",
    "    \n",
    "    spacy_words = [token.text.lower() for token in doc]\n",
    "    \n",
    "    no_punc = [word for word in spacy_words if word not in stop_words]\n",
    "    \n",
    "    return no_punc"
   ]
  },
  {
   "cell_type": "code",
   "execution_count": 11,
   "metadata": {},
   "outputs": [
    {
     "data": {
      "text/plain": [
       "0      [hello, cosigner, fha, loan, loan, number, mor...\n",
       "1      [loans, serviced, aidvantage, \\n\\n, enrolled, ...\n",
       "2      [financial, hardship, government, worker, affo...\n",
       "3      [mohela, failed, communicate, important, accur...\n",
       "4      [stolen, identity, end, fix, department, educa...\n",
       "                             ...                        \n",
       "995    [lender, private, loan, servicer, mohela, deni...\n",
       "996    [covid19, forebearance, act, told, plan, descr...\n",
       "997    [recently, reviewed, years, statements, charge...\n",
       "998    [1, emailed, sps, xxxxyear, called, sps, multi...\n",
       "999    [called, mohela, took,  , student, loans, prio...\n",
       "Name: tokens, Length: 1000, dtype: object"
      ]
     },
     "execution_count": 11,
     "metadata": {},
     "output_type": "execute_result"
    }
   ],
   "source": [
    "# apply our preprocessing function to the consumer complaint column in our original dataframe\n",
    "# ----------\n",
    "cfpb['tokens'] = cfpb['Consumer complaint narrative'].map(lambda x: rem_punc_stop(x))\n",
    "cfpb['tokens']"
   ]
  },
  {
   "cell_type": "markdown",
   "metadata": {},
   "source": [
    "## Model Training\n",
    "\n",
    "Now that we have pre-processed our text, we can use the [`gensim`](https://radimrehurek.com/gensim/models/word2vec.html) library to construct our word embeddings. We will use the Continous Bag of Words model (CBOW), which predicts target words from its neighboring context words to learn word embeddings from raw text.\n",
    "\n",
    "Read through the documentation of the Word2Vec method in gensim to understand how to implement the Word2Vec model. Then fill in the blanks so that: we use a __Continuous Bag of Words__ model to create word embeddings of __vector_size 100__ for words that appear in the `text` at least __5 or more times__. Set the learning rate to .025, epochs/number of iterations to 5, and sample 10000 words from the data during each pass.\n",
    "\n",
    "**CHALLENGE:** Go ahead and annotate each line so you know what each one is doing. "
   ]
  },
  {
   "cell_type": "code",
   "execution_count": 12,
   "metadata": {},
   "outputs": [],
   "source": [
    "# apply CBOW Word2vec model to our cfpb data \n",
    "# ----------\n",
    "model = gensim.models.Word2Vec(cfpb['tokens'],    # specify data - sentences\n",
    "                               vector_size=100,   # set embedding size at 100\n",
    "                               window=5,          # max distance between current and predicted word\n",
    "                               min_count=5,       # ignores words with freq fewer than this threshold\n",
    "                               sg=0,              # specify Continuous Bag of Words Algorithim\n",
    "                               alpha=0.025,       # learning rate\n",
    "                               epochs = 5,        # iterations\n",
    "                               seed = 1,          # set random seed (same as random_state in sklearn )\n",
    "                               batch_words=10000, # sample size \n",
    "                               workers = 1)       # set cores to 1 to ensure this embeddings are fully reproducible"
   ]
  },
  {
   "cell_type": "markdown",
   "metadata": {},
   "source": [
    "## Practice with Embeddings <a id='subsection 2'></a>\n",
    "\n",
    "Now that we've trained the mode, we can return the actual high-dimensional vector by simply indexing the model with the word as the key:"
   ]
  },
  {
   "cell_type": "code",
   "execution_count": 13,
   "metadata": {},
   "outputs": [
    {
     "name": "stdout",
     "output_type": "stream",
     "text": [
      "[[ 0.24344993  0.31578335  0.06451663  0.1095332   0.35501528 -0.5416415\n",
      "   0.5516655   1.0132245  -0.6408544  -0.22039337 -0.08962109 -0.7467598\n",
      "  -0.03871423  0.23840211 -0.02000556 -0.33053318  0.17386052 -0.46034384\n",
      "  -0.13459948 -0.879492    0.3680024   0.05144975  0.23645209 -0.20849016\n",
      "  -0.23635612 -0.0504833  -0.18092637 -0.07067711 -0.4106745   0.00212887\n",
      "   0.557341   -0.02065592  0.09469675 -0.34950665  0.08785382  0.37539378\n",
      "   0.18266475 -0.20775582 -0.28670615 -0.7884625   0.1880717  -0.51093054\n",
      "  -0.03268567 -0.00553956  0.3223483  -0.13760969 -0.20237918 -0.28011203\n",
      "   0.2669099   0.17100416  0.09787075 -0.37176424 -0.1498552   0.14230934\n",
      "  -0.5232562   0.22517641  0.13942105 -0.11891489 -0.3777184   0.2527201\n",
      "   0.27465865  0.09365211  0.22196005  0.05349127 -0.73539376  0.44660828\n",
      "   0.3018718   0.32612103 -0.65532553  0.5218315  -0.11955392  0.2579307\n",
      "   0.204896    0.14238535  0.54111725  0.13021852  0.23287229  0.15093699\n",
      "  -0.35014313 -0.00621492 -0.09421898 -0.22628707 -0.7717728   0.44007355\n",
      "  -0.27926403 -0.28102267  0.07990661  0.25202602  0.3397184   0.511326\n",
      "   0.34095165 -0.00498883  0.00524914  0.07435286  0.5381731   0.2809042\n",
      "   0.15164408 -0.4544178   0.41765407 -0.07513455]]\n"
     ]
    }
   ],
   "source": [
    "# return embeddings for specific word\n",
    "# ----------\n",
    "print(model.wv.__getitem__(['account'])) # specify a key word here: \"account\""
   ]
  },
  {
   "cell_type": "markdown",
   "metadata": {},
   "source": [
    "**QUESTION:** Check out the shape of the vectors for 'account', what do you notice?"
   ]
  },
  {
   "cell_type": "code",
   "execution_count": 14,
   "metadata": {},
   "outputs": [
    {
     "data": {
      "text/plain": [
       "(1, 100)"
      ]
     },
     "execution_count": 14,
     "metadata": {},
     "output_type": "execute_result"
    }
   ],
   "source": [
    "# get shape\n",
    "# ----------\n",
    "model.wv.__getitem__(['account']).shape "
   ]
  },
  {
   "cell_type": "markdown",
   "metadata": {},
   "source": [
    "**ANSWER:** There are 100 elements in this array. Notice that this was one of the parameters we set in the training process!"
   ]
  },
  {
   "cell_type": "markdown",
   "metadata": {},
   "source": [
    "**CHALLENGE:** Use the following empty cells to look at what the word embeddings look like for words you think may appear in the text, for example, `bank`. Keep in mind that even if a word shows up in the text as seen above, a word vector will not be created unless it satisfies all conditions we inputted into the model above. "
   ]
  },
  {
   "cell_type": "code",
   "execution_count": 15,
   "metadata": {},
   "outputs": [
    {
     "data": {
      "text/plain": [
       "array([[-1.57541335e-01,  2.68256128e-01,  2.64267195e-02,\n",
       "        -8.60527381e-02,  1.02936998e-01, -4.71092045e-01,\n",
       "         2.09030136e-01,  6.64322853e-01, -2.31488362e-01,\n",
       "        -3.69498253e-01, -1.52737305e-01, -5.21648169e-01,\n",
       "         3.61111888e-04,  6.92051351e-02,  2.72858012e-02,\n",
       "        -1.52390376e-01,  5.68249151e-02, -4.17068034e-01,\n",
       "        -9.25852433e-02, -5.99129021e-01,  1.78099990e-01,\n",
       "         1.56359017e-01,  1.64839625e-01, -9.81850773e-02,\n",
       "        -1.02275401e-01,  3.89024653e-02, -2.03285635e-01,\n",
       "        -1.13979228e-01, -4.21244681e-01, -1.46382665e-02,\n",
       "         2.22476423e-01,  1.26951009e-01,  1.08080849e-01,\n",
       "        -1.90954015e-01, -1.25269845e-01,  2.04578266e-01,\n",
       "         1.18572466e-01, -2.29824543e-01, -2.73346186e-01,\n",
       "        -5.04960716e-01,  6.70947358e-02, -2.13866338e-01,\n",
       "        -1.28642559e-01,  9.40599386e-03,  3.07827145e-01,\n",
       "        -2.00742912e-02, -4.29997407e-02, -1.66987389e-01,\n",
       "         2.04377398e-01,  1.93880707e-01,  1.46823823e-01,\n",
       "        -2.06437439e-01, -6.50148690e-02,  2.84216758e-02,\n",
       "        -2.81459540e-01,  1.35699928e-01,  5.94708100e-02,\n",
       "        -1.19557634e-01, -3.65698993e-01,  1.57806963e-01,\n",
       "         1.08209714e-01,  9.58563909e-02, -8.45399275e-02,\n",
       "         5.60733043e-02, -4.31112528e-01,  2.37705946e-01,\n",
       "         1.45441085e-01,  1.39618725e-01, -2.91596085e-01,\n",
       "         2.89742857e-01, -1.22548237e-01,  1.61615327e-01,\n",
       "         2.55725235e-01, -1.32284882e-02,  3.93971562e-01,\n",
       "         2.35025555e-01,  6.83018118e-02, -1.35158613e-01,\n",
       "        -2.84459084e-01,  4.10283841e-02,  5.84065840e-02,\n",
       "        -9.39076245e-02, -3.83426964e-01,  3.19522798e-01,\n",
       "        -2.91397795e-02, -6.62947744e-02,  1.14447333e-01,\n",
       "         2.78015107e-01,  2.30556354e-01,  2.49172509e-01,\n",
       "         3.96228373e-01,  4.05125581e-02, -1.20180130e-01,\n",
       "         1.21478751e-01,  4.86233741e-01,  3.18284184e-01,\n",
       "         1.21077739e-01, -2.09985971e-01,  7.36781433e-02,\n",
       "        -9.69745219e-02]], dtype=float32)"
      ]
     },
     "execution_count": 15,
     "metadata": {},
     "output_type": "execute_result"
    }
   ],
   "source": [
    "# word 1\n",
    "# ----------\n",
    "model.wv.__getitem__(['navient'])"
   ]
  },
  {
   "cell_type": "code",
   "execution_count": 16,
   "metadata": {},
   "outputs": [
    {
     "data": {
      "text/plain": [
       "array([[ 0.11375749,  0.24882162,  0.12708202, -0.06504998,  0.1964015 ,\n",
       "        -0.7299965 ,  0.4220093 ,  0.84959286, -0.3658291 , -0.3342389 ,\n",
       "        -0.01957136, -0.8031745 , -0.00368447,  0.28581163,  0.06396842,\n",
       "        -0.3072696 ,  0.05019041, -0.5389082 ,  0.06455358, -0.80097514,\n",
       "         0.13942444,  0.06872287,  0.07808539, -0.32820606, -0.24606715,\n",
       "         0.07815795, -0.2167897 ,  0.08418915, -0.3581967 , -0.02520843,\n",
       "         0.43149677,  0.00713649,  0.127401  , -0.4679041 , -0.08635306,\n",
       "         0.41609308,  0.28375962, -0.35983515, -0.45128915, -0.69405615,\n",
       "         0.13598946, -0.41660225, -0.14744164,  0.01566669,  0.42045662,\n",
       "        -0.17582303, -0.03713631, -0.1409681 ,  0.18184118,  0.11302673,\n",
       "         0.19299401, -0.38522512, -0.00624657,  0.2788795 , -0.5042204 ,\n",
       "         0.2778294 ,  0.13105239, -0.14250611, -0.23003091,  0.09662392,\n",
       "         0.08255723,  0.09464203,  0.18887028,  0.14555345, -0.77938807,\n",
       "         0.39920342,  0.22521262,  0.18106969, -0.5116113 ,  0.4174646 ,\n",
       "        -0.08750802,  0.37834364,  0.3339309 ,  0.01543626,  0.6003809 ,\n",
       "         0.30166993,  0.01689005,  0.05113219, -0.47403637, -0.01235674,\n",
       "        -0.19637583,  0.0122856 , -0.45614544,  0.40774164, -0.04909474,\n",
       "        -0.11247665,  0.01877253,  0.3298478 ,  0.24412073,  0.4824752 ,\n",
       "         0.5259621 ,  0.06614856, -0.14238915,  0.00586734,  0.59406596,\n",
       "         0.29253602,  0.13364442, -0.29482898,  0.25778186, -0.00450287]],\n",
       "      dtype=float32)"
      ]
     },
     "execution_count": 16,
     "metadata": {},
     "output_type": "execute_result"
    }
   ],
   "source": [
    "# word 2\n",
    "# ----------\n",
    "model.wv.__getitem__(['company'])"
   ]
  },
  {
   "cell_type": "code",
   "execution_count": 17,
   "metadata": {},
   "outputs": [
    {
     "data": {
      "text/plain": [
       "array([[-0.00335635,  0.38468307,  0.04477159, -0.18532181,  0.1128015 ,\n",
       "        -0.70264703,  0.21052502,  1.1161896 , -0.37971294, -0.41676474,\n",
       "        -0.31289524, -0.7319767 , -0.05324484,  0.0883823 ,  0.00553258,\n",
       "        -0.26002297,  0.15175876, -0.69577307, -0.19301176, -1.0936441 ,\n",
       "         0.36771724,  0.12755279,  0.14361645, -0.23655936, -0.23320353,\n",
       "         0.09802682, -0.48712212, -0.2179837 , -0.52337885,  0.06495519,\n",
       "         0.53488153,  0.2388629 , -0.11802755, -0.20857158, -0.13425954,\n",
       "         0.33623603,  0.2819367 , -0.41872007, -0.41474977, -0.90320814,\n",
       "        -0.01090942, -0.5015552 , -0.13423419,  0.01160467,  0.43944854,\n",
       "        -0.0655745 , -0.13393098, -0.2733462 ,  0.286422  ,  0.29933956,\n",
       "         0.22135282, -0.38913527, -0.26338807,  0.03685405, -0.44572952,\n",
       "         0.12582779, -0.09508486, -0.29183426, -0.6676071 ,  0.39603737,\n",
       "         0.26927975,  0.18734986, -0.16921212,  0.19505802, -0.48961484,\n",
       "         0.34211013,  0.4110605 ,  0.14662218, -0.54729533,  0.46114504,\n",
       "        -0.21842891,  0.1805604 ,  0.27334493, -0.12496475,  0.4190395 ,\n",
       "         0.35853863,  0.12243563, -0.16222101, -0.34739956,  0.07480716,\n",
       "         0.31374496, -0.01604416, -0.72265255,  0.45831367, -0.00653579,\n",
       "        -0.12631257,  0.16868825,  0.5998177 ,  0.390401  ,  0.33540532,\n",
       "         0.48998848,  0.06683861, -0.14735141,  0.07202064,  0.6772532 ,\n",
       "         0.44278583,  0.10825427, -0.42519945,  0.17988792, -0.14800455]],\n",
       "      dtype=float32)"
      ]
     },
     "execution_count": 17,
     "metadata": {},
     "output_type": "execute_result"
    }
   ],
   "source": [
    "# word 3 \n",
    "# ----------\n",
    "model.wv.__getitem__(['credit'])"
   ]
  },
  {
   "cell_type": "markdown",
   "metadata": {},
   "source": [
    "If you're curious, the cell directly below will return a list of words that have been turned into word vectors by the model above:"
   ]
  },
  {
   "cell_type": "code",
   "execution_count": 18,
   "metadata": {},
   "outputs": [
    {
     "name": "stdout",
     "output_type": "stream",
     "text": [
      "[' ', 'loan', 'payment', '\\n\\n', 'mortgage', '\\n', 'account', 'payments', 'received', 'told', 'nt', 'insurance', 'time', 'loans', 'mohela', 'called', 'interest', 'information', 'escrow', 'sent', 'letter', 'pay', 'home', 'company', 'forbearance', 'credit', 'xxxxyear', 'request', 'bank', 'paid', 'property', 'said', 'months', 's', 'email', 'check', 'days', 'wells', 'month', 'date', 'complaint', 'phone', 'new', 'fargo', 'modification', 'process', 'years', 'plan', 'student', 'financial', 'monthly', 'balance', 'need', 'asked', 'application', 'money', 'late', 'issue', 'requested', 'provide', 'foreclosure', 'year', 'documents', 'stated', 'times', 'federal', 'response', 'taxes', 'shellpoint', 'help', 'newrez', 'contacted', 'service', 'department', 'contact', 'applied', 'rate', '  ', 'funds', 'freedom', 'stating', 'customer', 'number', 'provided', 'tax', 'receive', 'fees', 'submitted', 'm', 'informed', 'required', 'repayment', 'debt', 'day', 'know', 'despite', 'servicing', 'send', 'able', 'multiple']\n"
     ]
    }
   ],
   "source": [
    "# return a list of word for which we have calculations\n",
    "# ----------\n",
    "words = list(model.wv.index_to_key)\n",
    "print(words[0:100])  # print the first 100 words"
   ]
  },
  {
   "cell_type": "markdown",
   "metadata": {},
   "source": [
    "`gensim` comes with some handy methods to analyze word relationships. `similarity` will give us a number from 0-1 based on how similar two words are. If this sounds like cosine similarity for words, you'd be right! It just takes the cosine similarity of the high dimensional vectors we input. \n",
    "\n",
    "In the following cell, find the similarity between the words `credit` and `debt`:"
   ]
  },
  {
   "cell_type": "code",
   "execution_count": 19,
   "metadata": {},
   "outputs": [
    {
     "data": {
      "text/plain": [
       "0.9716112"
      ]
     },
     "execution_count": 19,
     "metadata": {},
     "output_type": "execute_result"
    }
   ],
   "source": [
    "# similarty between credit and debt\n",
    "# ----------\n",
    "model.wv.similarity('credit', 'debt')"
   ]
  },
  {
   "cell_type": "markdown",
   "metadata": {},
   "source": [
    "We can also find cosine distance between two clusters of word vectors. Each cluster is measured as the mean of its words:"
   ]
  },
  {
   "cell_type": "code",
   "execution_count": 20,
   "metadata": {},
   "outputs": [
    {
     "data": {
      "text/plain": [
       "0.95213807"
      ]
     },
     "execution_count": 20,
     "metadata": {},
     "output_type": "execute_result"
    }
   ],
   "source": [
    "# similarity between credit/debt and loan/mortgage\n",
    "# ----------\n",
    "model.wv.n_similarity(['credit','debt'],['loan','mortgage'])"
   ]
  },
  {
   "cell_type": "markdown",
   "metadata": {},
   "source": [
    "We can find words that don't belong with `doesnt_match`. It finds the mean vector of the words in the `list`, and identifies the furthest away. Out of the three words in the list `['credit', 'loan', 'student']`, which is the furthest vector from the mean?"
   ]
  },
  {
   "cell_type": "code",
   "execution_count": 21,
   "metadata": {},
   "outputs": [
    {
     "data": {
      "text/plain": [
       "'student'"
      ]
     },
     "execution_count": 21,
     "metadata": {},
     "output_type": "execute_result"
    }
   ],
   "source": [
    "# which doesn't belong? 1\n",
    "# ----------\n",
    "model.wv.doesnt_match(['credit', 'loan', 'student'])"
   ]
  },
  {
   "cell_type": "markdown",
   "metadata": {},
   "source": [
    "We can also pull out words that don't match based on the word relations scores. What do we think will not match?"
   ]
  },
  {
   "cell_type": "code",
   "execution_count": 22,
   "metadata": {},
   "outputs": [
    {
     "data": {
      "text/plain": [
       "'bank'"
      ]
     },
     "execution_count": 22,
     "metadata": {},
     "output_type": "execute_result"
    }
   ],
   "source": [
    "# which doesn't belong? 2\n",
    "# ----------\n",
    "model.wv.doesnt_match(['pandemic', 'covid', 'bank'])"
   ]
  },
  {
   "cell_type": "markdown",
   "metadata": {},
   "source": [
    "The most famous implementation of this vector math is semantics. What happens if we take:\n",
    "\n",
    "$$\\vec{house} - \\vec{rent} + \\vec{loan} = $$"
   ]
  },
  {
   "cell_type": "code",
   "execution_count": 23,
   "metadata": {},
   "outputs": [
    {
     "data": {
      "text/plain": [
       "[('private', 0.986602783203125),\n",
       " ('refinanced', 0.9839140176773071),\n",
       " ('currently', 0.982589840888977),\n",
       " ('prior', 0.9823843240737915),\n",
       " ('direct', 0.9822716116905212),\n",
       " ('years', 0.9820576310157776),\n",
       " ('consolidate', 0.9818472862243652),\n",
       " ('rates', 0.9816218018531799),\n",
       " ('servicer', 0.9813063740730286),\n",
       " ('discharged', 0.9811983108520508)]"
      ]
     },
     "execution_count": 23,
     "metadata": {},
     "output_type": "execute_result"
    }
   ],
   "source": [
    "# vector math\n",
    "# ----------\n",
    "model.wv.most_similar(positive=['house', 'loan'], \n",
    "                      negative=['rent'])"
   ]
  },
  {
   "cell_type": "markdown",
   "metadata": {},
   "source": [
    "Okay...mortgage is pretty high up there! Remember, these relationships are coming from our model trained on only 1000 complaints! "
   ]
  },
  {
   "cell_type": "markdown",
   "metadata": {},
   "source": [
    "## Principal Component Analysis <a id='section 2'></a>\n",
    "\n",
    "Next we will explore the word embeddings of our `text` visually with PCA. We can retrieve __all__ of the vectors from a trained model as follows:"
   ]
  },
  {
   "cell_type": "code",
   "execution_count": 24,
   "metadata": {},
   "outputs": [],
   "source": [
    "# retrieve vectors from trained model\n",
    "# ----------\n",
    "X = model.wv.__getitem__(model.wv.index_to_key)"
   ]
  },
  {
   "cell_type": "markdown",
   "metadata": {},
   "source": [
    "As we do with non-text features, we want to standardize X so that all features have the same scale. Do this by creating a `StandardScaler()`, then run its `fit_transform` method on X. "
   ]
  },
  {
   "cell_type": "code",
   "execution_count": 25,
   "metadata": {},
   "outputs": [],
   "source": [
    "# scale the data\n",
    "# ----------\n",
    "X_std = StandardScaler().fit_transform(X)"
   ]
  },
  {
   "cell_type": "markdown",
   "metadata": {},
   "source": [
    "We can then train a projection method on the vectors, such as those methods offered in scikit-learn, then plot the projection as a scatter plot which we will do next.\n",
    "\n",
    "### Plot Word Vectors Using PCA <a id='subsection 3'></a>\n",
    "\n",
    "Recall that we can create a 2-dimensional PCA model of the word vectors using the scikit-learn PCA class. Construct a PCA objectusing the `PCA()` class of the scikit-learn library (setting n_components=2 so we can graph it in two dimensions) and use its fit_transform method on your standardized X to get Y_pca: the principal components."
   ]
  },
  {
   "cell_type": "code",
   "execution_count": 26,
   "metadata": {},
   "outputs": [],
   "source": [
    "# make a PCA\n",
    "# ----------\n",
    "# set n_components to 2 to graph in 2-D\n",
    "pca = PCA(n_components=2, \n",
    "          random_state = 2021)  \n",
    "\n",
    "# fit and transform the standardized data\n",
    "# ----------\n",
    "Y_pca = pca.fit_transform(X_std)"
   ]
  },
  {
   "cell_type": "markdown",
   "metadata": {},
   "source": [
    "The resulting projection can be plotted using `matplotlib`, pulling out the two dimensions as x and y coordinates. Create a scatter plot of the standardized word embeddings, setting the __size of each scatter point to 5__ to avoid overcrowding."
   ]
  },
  {
   "cell_type": "code",
   "execution_count": 27,
   "metadata": {},
   "outputs": [
    {
     "data": {
      "image/png": "[encoded data removed]",
      "text/plain": [
       "<Figure size 640x480 with 1 Axes>"
      ]
     },
     "metadata": {},
     "output_type": "display_data"
    }
   ],
   "source": [
    "# visualize\n",
    "# ----------\n",
    "sns.scatterplot(x = Y_pca[:, 0],  # extract all the elements from the first column\n",
    "                y = Y_pca[:, 1]); # extract all the elements from the second column"
   ]
  },
  {
   "cell_type": "markdown",
   "metadata": {},
   "source": [
    "__QUESTION__: What do each point represent? What do the x and y axes represent?"
   ]
  },
  {
   "cell_type": "markdown",
   "metadata": {},
   "source": [
    "__ANSWER__: Each point represents a word. Explanation for axes are below as a part of the lab:"
   ]
  },
  {
   "cell_type": "markdown",
   "metadata": {},
   "source": [
    "You might at this point still be confused on what the x- and y- axes represent. Because PCA selects and combines features according to what best describes and models the desired variable, the x and y axes actually **don't have an intuitive meaning on a human level.** PCA's job is to reduce the dimension of the features, and in this case it reduce the 100 features of each word vector to just the 2 that best described the words we modeled on. So, don't worry too much about what the coordinates of each word represents - we just want you to have a general and visual understanding of word vectors and how they may be related to one another on a graph.\n",
    "\n",
    "On that note, run the following cell. This will label each vector with its respective word. \n",
    "\n",
    "**CHALLENGE:** Make sure you know have a clear understanding of each line in the code cell below."
   ]
  },
  {
   "cell_type": "code",
   "execution_count": 28,
   "metadata": {},
   "outputs": [
    {
     "data": {
      "image/png": "[encoded data removed]",
      "text/plain": [
       "<Figure size 640x480 with 1 Axes>"
      ]
     },
     "metadata": {},
     "output_type": "display_data"
    }
   ],
   "source": [
    "# recreate visualization with points\n",
    "# ----------\n",
    "\n",
    "# load libraires\n",
    "import random\n",
    "from adjustText import adjust_text\n",
    "\n",
    "# set seeed\n",
    "random.seed(10)\n",
    "\n",
    "# take random sample of 25 word embeddings \n",
    "rando = random.sample(list(model.wv.index_to_key), 25) \n",
    "\n",
    "# get embeddings\n",
    "X1 = model.wv.__getitem__(rando)\n",
    "\n",
    "# initalize PCA\n",
    "pca1 = PCA(n_components=2, \n",
    "           random_state=15)\n",
    "\n",
    "# fit and transform\n",
    "result = pca1.fit_transform(X1)\n",
    "\n",
    "# convert to dataframe \n",
    "result_df = pd.DataFrame(result,                   # specify data\n",
    "                         columns = ['PC1', 'PC2'], # specify column names\n",
    "                         index = rando)            # set index\n",
    "\n",
    "# create scatterplot\n",
    "sns.scatterplot(x = 'PC1',         # specify x-axis\n",
    "                y = 'PC2',         # specify y-axis\n",
    "                data = result_df)  # specify data\n",
    "\n",
    "# initialize empty list\n",
    "texts = []\n",
    "\n",
    "# append words to list\n",
    "for word in result_df.index:\n",
    "    texts.append(plt.text(result_df.loc[word, 'PC1'], \n",
    "                          result_df.loc[word, 'PC2'], \n",
    "                          word, \n",
    "                          fontsize = 8))\n",
    "    \n",
    "# adjust plot text to prevent overlapping \n",
    "adjust_text(texts, \n",
    "            force_text = (0.4,0.4),\n",
    "            expand = (1.2,1),\n",
    "            arrowprops = dict(arrowstyle = \"-\", \n",
    "                              color = 'black', \n",
    "                              lw = 0.5))\n",
    "\n",
    "# plot \n",
    "plt.show();"
   ]
  },
  {
   "cell_type": "markdown",
   "metadata": {},
   "source": [
    "## t-SNE\n",
    "\n",
    "Another popular unsupervised method for summarizing and visualizing word embeddings is [t-distributed stochastic neighbor embedding](https://en.wikipedia.org/wiki/T-distributed_stochastic_neighbor_embedding). We won't get into the details here, but the basic method involves:\n",
    "\n",
    "1. Estimating the joint probability of the distance between each pair of points, assuming a Gaussian distribution.\n",
    "2. Project the data into 1-dimension, and then estimate the joint probability of the distance between each pair of points assuming a Student's t-distribution.\n",
    "3. Use gradient descent to update the second distribution to become similar to the first one.\n",
    "\n",
    "The basic idea behind this two-step procedure is that we search for the the best lower dimensional representation that gets closest to modeling the original distances in higher dimensional space."
   ]
  },
  {
   "cell_type": "code",
   "execution_count": 29,
   "metadata": {},
   "outputs": [
    {
     "data": {
      "text/plain": [
       "(2976, 100)"
      ]
     },
     "execution_count": 29,
     "metadata": {},
     "output_type": "execute_result"
    }
   ],
   "source": [
    "# preprocessing\n",
    "# ----------\n",
    "\n",
    "# filter to include only those for which Word2Vec has a vector\n",
    "vector_list = [model.wv.__getitem__(word) for word in words if word in model.wv.index_to_key]\n",
    "\n",
    "# create a list of the words corresponding to these vectors\n",
    "words_filtered = [word for word in words if word in model.wv.index_to_key]\n",
    "\n",
    "# bind together both lists using zip\n",
    "word_vec_zip = zip(words_filtered, vector_list)\n",
    "\n",
    "# create a dictionary and save as a dataframe\n",
    "word_vec_dict = dict(word_vec_zip)\n",
    "word_vec_df = pd.DataFrame.from_dict(word_vec_dict, orient='index')\n",
    "word_vec_df.shape"
   ]
  },
  {
   "cell_type": "markdown",
   "metadata": {},
   "source": [
    "Here we initialize a t-SNE model using 2 components as the key hyperparameter. "
   ]
  },
  {
   "cell_type": "code",
   "execution_count": 30,
   "metadata": {},
   "outputs": [
    {
     "data": {
      "image/png": "[encoded data removed]",
      "text/plain": [
       "<Figure size 1170x827 with 1 Axes>"
      ]
     },
     "metadata": {},
     "output_type": "display_data"
    }
   ],
   "source": [
    "# create t-SNE visualization\n",
    "# ----------\n",
    "\n",
    "# initialize t-SNE\n",
    "tsne = TSNE(n_components = 2,  # specify 2 components\n",
    "            init = 'random',   # set initalization\n",
    "            random_state = 10, # set seed\n",
    "            perplexity = 100)  # set preplexity threshold\n",
    "\n",
    "# subset to only 400 rows to speed up training time\n",
    "tsne_df = tsne.fit_transform(word_vec_df[:400])\n",
    "\n",
    "# figure specifications\n",
    "fig, ax = plt.subplots(figsize = (11.7, 8.27))\n",
    "sns.scatterplot(x = tsne_df[:, 0], \n",
    "                y = tsne_df[:, 1], \n",
    "                alpha = 0.5)\n",
    "\n",
    "# initialize empty list\n",
    "texts = []\n",
    "\n",
    "# create list of words\n",
    "words_to_plot = list(np.arange(0, 400, 10))\n",
    "\n",
    "# append words to list using loop\n",
    "for word in words_to_plot:\n",
    "    texts.append(plt.text(tsne_df[word, 0], \n",
    "                          tsne_df[word, 1], \n",
    "                          word_vec_df.index[word], \n",
    "                          fontsize = 10))\n",
    "    \n",
    "# adjust text to clearlly see labels\n",
    "adjust_text(texts, \n",
    "            force_text = (0.4,0.4),\n",
    "            expand = (1.2,1),\n",
    "            arrowprops = dict(arrowstyle = \"-\",\n",
    "                              color = 'black', \n",
    "                              lw = 0.5))\n",
    "\n",
    "# plot\n",
    "plt.show()"
   ]
  },
  {
   "cell_type": "markdown",
   "metadata": {},
   "source": [
    "### Challenge: t-SNE hyperparameters\n",
    "\n",
    "Try playing with the hyperparameters to see if you can get a different looking plot. Why might this be a problem for interpretability or inference?"
   ]
  },
  {
   "cell_type": "code",
   "execution_count": 31,
   "metadata": {},
   "outputs": [
    {
     "data": {
      "image/png": "[encoded data removed]",
      "text/plain": [
       "<Figure size 1170x827 with 1 Axes>"
      ]
     },
     "metadata": {},
     "output_type": "display_data"
    }
   ],
   "source": [
    "# recreate t-SNE visualization with 3 components\n",
    "# ----------\n",
    "tsne = TSNE(n_components = 3,  # specify 3 components  \n",
    "            init = 'random',   # set initalization \n",
    "            random_state = 10, # set seed   \n",
    "            perplexity = 40)   # set preplexity threshold\n",
    "   \n",
    "\n",
    "# subset to only 400 rows to speed up training time\n",
    "tsne_df = tsne.fit_transform(word_vec_df[:400])\n",
    "\n",
    "\n",
    "\n",
    "# figure specifications\n",
    "fig, ax = plt.subplots(figsize = (11.7, 8.27))\n",
    "sns.scatterplot(x = tsne_df[:, 0], \n",
    "                y = tsne_df[:, 2], \n",
    "                alpha = 0.5)\n",
    "\n",
    "\n",
    "# initialize empty list\n",
    "texts = []\n",
    "\n",
    "# create list of words\n",
    "words_to_plot = list(np.arange(0, 400, 10))\n",
    "\n",
    "# append words to list using loop\n",
    "for word in words_to_plot:\n",
    "    texts.append(plt.text(tsne_df[word, 0], \n",
    "                          tsne_df[word, 1],\n",
    "                          word_vec_df.index[word], \n",
    "                          fontsize = 10))\n",
    "    \n",
    "# adjust text to clearlly see labels   \n",
    "adjust_text(texts, \n",
    "            force_text = (0.4,0.4),\n",
    "            expand = (1.2,1),\n",
    "            arrowprops = dict(arrowstyle = \"-\",\n",
    "                              color = 'black', \n",
    "                              lw = 0.5))\n",
    "\n",
    "# plot \n",
    "plt.show()"
   ]
  },
  {
   "cell_type": "markdown",
   "metadata": {},
   "source": [
    "## Averaging Word Embeddings\n",
    "\n",
    "You'll notice that right now each token is represented by a 100-dimensional array. If we passed these directly to a classification algorithm our feature space would get very high dimensional quickly! A common practice to avoid this problem is to average the word embeddings somehow. You might have heard of variations of `word2vec` like `sent2vec` and `par2vec` which creates embeddings for sentences and paragraphs, respectively. We'll introduce a similar method below, but one straightforward way to do this without a fancy new model is to simply average the word embeddings at the document level.\n",
    "\n",
    "To get a sense of how this works, let's look at how many tokens we have in our first document:"
   ]
  },
  {
   "cell_type": "code",
   "execution_count": null,
   "metadata": {},
   "outputs": [
    {
     "data": {
      "text/plain": [
       "223"
      ]
     },
     "execution_count": 26,
     "metadata": {},
     "output_type": "execute_result"
    }
   ],
   "source": [
    "# get length\n",
    "# ----------\n",
    "len(cfpb['tokens'][0])"
   ]
  },
  {
   "cell_type": "markdown",
   "metadata": {},
   "source": [
    "223 - but remember not all documents will have vectors associated with them if they do not meet word2vec's criteria. Let's see how many we have that are in our model's vocabulary:"
   ]
  },
  {
   "cell_type": "code",
   "execution_count": null,
   "metadata": {},
   "outputs": [
    {
     "data": {
      "text/plain": [
       "195"
      ]
     },
     "execution_count": 27,
     "metadata": {},
     "output_type": "execute_result"
    }
   ],
   "source": [
    "# get model's vocabulary\n",
    "# ----------\n",
    "doc = [word for word in cfpb['tokens'][0] if word in model.wv.index_to_key]\n",
    "len(doc)"
   ]
  },
  {
   "cell_type": "markdown",
   "metadata": {},
   "source": [
    "195! Looks like quite a few tokens didn't make it into the model. Let's look at a few that did: "
   ]
  },
  {
   "cell_type": "code",
   "execution_count": null,
   "metadata": {},
   "outputs": [
    {
     "data": {
      "text/plain": [
       "['contacting', 'ocwen', 'mortgage', 'phh', 'mortgage']"
      ]
     },
     "execution_count": 28,
     "metadata": {},
     "output_type": "execute_result"
    }
   ],
   "source": [
    "# look at the first five\n",
    "# ----------\n",
    "doc[0:5]"
   ]
  },
  {
   "cell_type": "markdown",
   "metadata": {},
   "source": [
    "Let's also look at the array for 'contacting'. Notice that it is represented by a 100-dimensional array. "
   ]
  },
  {
   "cell_type": "code",
   "execution_count": null,
   "metadata": {},
   "outputs": [
    {
     "name": "stdout",
     "output_type": "stream",
     "text": [
      "[-1.54721558e-01  1.54312536e-01  4.59569991e-02 -1.73158175e-03\n",
      "  6.61910027e-02 -2.44631365e-01  4.83566634e-02  1.93481773e-01\n",
      " -4.72270660e-02 -2.17628796e-02 -7.70419836e-02 -1.78486332e-01\n",
      " -4.78276499e-02  1.13348864e-01  8.96187574e-02 -6.07398413e-02\n",
      " -4.30073915e-03 -1.64666548e-01 -1.24314174e-01 -2.72523224e-01\n",
      "  3.92405465e-02  1.52946590e-02  9.68291089e-02 -6.86288252e-02\n",
      " -9.90106259e-03  1.66885518e-02  1.11162718e-02 -7.00536966e-02\n",
      " -1.92914858e-01 -1.31553337e-02  1.92916840e-01  9.18452349e-03\n",
      " -1.07940203e-02 -8.23566690e-02 -1.01649441e-01  9.20086876e-02\n",
      "  1.31066656e-02 -1.20107055e-01 -1.03655614e-01 -2.80757189e-01\n",
      " -7.55914534e-03 -3.49577144e-02 -1.07271716e-01 -7.50006884e-02\n",
      "  9.97245833e-02 -8.36612955e-02 -3.73724103e-02  4.89264280e-02\n",
      "  8.83977488e-02  7.75209889e-02  4.68116179e-02 -1.78699031e-01\n",
      " -2.20296048e-02 -6.36496693e-02 -7.49361590e-02  2.46940386e-02\n",
      " -4.86727851e-03 -6.31237868e-03 -1.83302209e-01  9.54660177e-02\n",
      "  7.92152733e-02  8.95105302e-02  5.95487840e-02  2.91586947e-02\n",
      " -1.64898857e-01  1.56938717e-01  5.49971089e-02  1.93792656e-01\n",
      " -1.69855312e-01  7.73646086e-02 -9.40331966e-02  1.50015637e-01\n",
      "  8.35325792e-02 -9.05040279e-02  1.15007393e-01  1.18033767e-01\n",
      "  6.45378903e-02 -5.91498949e-02 -9.70801860e-02 -3.49841341e-02\n",
      " -2.51734909e-02 -3.24135716e-03 -1.52386099e-01  1.78445548e-01\n",
      "  1.98772103e-02  9.44115382e-05 -2.70982217e-02  1.10948928e-01\n",
      "  2.55935609e-01  7.35443225e-03  2.52421945e-01  1.20695941e-01\n",
      "  7.62714073e-02  5.64981485e-03  2.35333353e-01  5.61724938e-02\n",
      "  9.90304649e-02 -7.66611099e-02  4.85129543e-02 -7.35633017e-04]\n",
      "(100,)\n"
     ]
    }
   ],
   "source": [
    "# word embeddings for \"contacting\"\n",
    "# ----------\n",
    "print(model.wv.__getitem__('contacting'))\n",
    "print(model.wv.__getitem__('contacting').shape)"
   ]
  },
  {
   "cell_type": "code",
   "execution_count": null,
   "metadata": {},
   "outputs": [
    {
     "data": {
      "text/plain": [
       "0.0008822248"
      ]
     },
     "execution_count": 30,
     "metadata": {},
     "output_type": "execute_result"
    }
   ],
   "source": [
    "# find the mean\n",
    "# ----------\n",
    "np.mean(model.wv.__getitem__('contacting'))"
   ]
  },
  {
   "cell_type": "markdown",
   "metadata": {},
   "source": [
    "Now let's grab the first vector each token and take their mean:"
   ]
  },
  {
   "cell_type": "code",
   "execution_count": null,
   "metadata": {},
   "outputs": [
    {
     "data": {
      "text/plain": [
       "-0.3328481"
      ]
     },
     "execution_count": 31,
     "metadata": {},
     "output_type": "execute_result"
    }
   ],
   "source": [
    "# find the first vector of each token and find their mean\n",
    "# ----------\n",
    "# create empty list\n",
    "first_vec = []\n",
    "\n",
    "# loop over each document\n",
    "for token in model.wv.__getitem__(doc):\n",
    "    first_vec.append(token[0])\n",
    "    \n",
    "# calculate their mean\n",
    "np.mean(first_vec)"
   ]
  },
  {
   "cell_type": "markdown",
   "metadata": {},
   "source": [
    "And then let's do this for every token and document in our corpus:"
   ]
  },
  {
   "cell_type": "code",
   "execution_count": null,
   "metadata": {},
   "outputs": [],
   "source": [
    "# create function to do this for every token and document in our corpus\n",
    "# ----------\n",
    "def document_vector(word2vec_model, doc):\n",
    "    doc = [word for word in doc if word in model.wv.index_to_key]\n",
    "    return np.mean(word2vec_model.wv.__getitem__(doc), axis=0)"
   ]
  },
  {
   "cell_type": "code",
   "execution_count": null,
   "metadata": {},
   "outputs": [
    {
     "data": {
      "text/plain": [
       "array([[-0.33284813,  0.35290685,  0.09058993, ..., -0.21634932,\n",
       "         0.15448211, -0.00573974],\n",
       "       [-0.33000925,  0.329981  ,  0.09847703, ..., -0.20678774,\n",
       "         0.1498091 , -0.00776935],\n",
       "       [-0.29892597,  0.2886155 ,  0.09616207, ..., -0.17878538,\n",
       "         0.11786972, -0.0143623 ],\n",
       "       ...,\n",
       "       [-0.3518183 ,  0.3449886 ,  0.11379322, ..., -0.23430343,\n",
       "         0.16865784, -0.02737121],\n",
       "       [-0.33493572,  0.39811763,  0.07626386, ..., -0.25976738,\n",
       "         0.17708787,  0.01184073],\n",
       "       [-0.35535476,  0.37701866,  0.10430832, ..., -0.24297775,\n",
       "         0.17280954, -0.00259955]], dtype=float32)"
      ]
     },
     "execution_count": 33,
     "metadata": {},
     "output_type": "execute_result"
    }
   ],
   "source": [
    "# create an array for the size of the corpus\n",
    "# ----------\n",
    "# create empty list\n",
    "empty_list_embeddings_means = []\n",
    "\n",
    "# loop over each each token\n",
    "for puppy in cfpb['tokens']: # append the vector for each document\n",
    "    empty_list_embeddings_means.append(document_vector(model, puppy))\n",
    "    \n",
    "# convert the list to array\n",
    "doc_average_embeddings = np.array(empty_list_embeddings_means) \n",
    "\n",
    "# print averages\n",
    "doc_average_embeddings"
   ]
  },
  {
   "cell_type": "markdown",
   "metadata": {},
   "source": [
    "Ultimately we get an array with `n` rows and 100 columns:"
   ]
  },
  {
   "cell_type": "code",
   "execution_count": null,
   "metadata": {},
   "outputs": [
    {
     "data": {
      "text/plain": [
       "(1000, 100)"
      ]
     },
     "execution_count": 34,
     "metadata": {},
     "output_type": "execute_result"
    }
   ],
   "source": [
    "# find the shape \n",
    "doc_average_embeddings.shape"
   ]
  },
  {
   "cell_type": "markdown",
   "metadata": {},
   "source": [
    "## Document averaged work embedding (doc2vec)\n",
    "\n",
    "Document averaged word embeddings tend to perform well with downstream prediction tasks, but there are other options as well. Here, we'll take a look at [Doc2Vec](https://radimrehurek.com/gensim/models/doc2vec.html). This is also a very helpful [tutorial](https://radimrehurek.com/gensim/auto_examples/tutorials/run_doc2vec_lee.html).  \n",
    "\n",
    "We're getting close to classifying, and this is a good point to do our train/test splits. While normally we recommend waiting to do splits until after all preprocessing is done, in this case it will be easier to do the split now because of the way the `TaggedDocument` class works. Let's take a look:"
   ]
  },
  {
   "cell_type": "code",
   "execution_count": null,
   "metadata": {},
   "outputs": [
    {
     "data": {
      "text/html": [
       "<div>\n",
       "<style scoped>\n",
       "    .dataframe tbody tr th:only-of-type {\n",
       "        vertical-align: middle;\n",
       "    }\n",
       "\n",
       "    .dataframe tbody tr th {\n",
       "        vertical-align: top;\n",
       "    }\n",
       "\n",
       "    .dataframe thead th {\n",
       "        text-align: right;\n",
       "    }\n",
       "</style>\n",
       "<table border=\"1\" class=\"dataframe\">\n",
       "  <thead>\n",
       "    <tr style=\"text-align: right;\">\n",
       "      <th></th>\n",
       "      <th>Date received</th>\n",
       "      <th>Product</th>\n",
       "      <th>Sub-product</th>\n",
       "      <th>Issue</th>\n",
       "      <th>Sub-issue</th>\n",
       "      <th>Consumer complaint narrative</th>\n",
       "      <th>Company public response</th>\n",
       "      <th>Company</th>\n",
       "      <th>State</th>\n",
       "      <th>ZIP code</th>\n",
       "      <th>Tags</th>\n",
       "      <th>Consumer consent provided?</th>\n",
       "      <th>Submitted via</th>\n",
       "      <th>Date sent to company</th>\n",
       "      <th>Company response to consumer</th>\n",
       "      <th>Timely response?</th>\n",
       "      <th>Consumer disputed?</th>\n",
       "      <th>Complaint ID</th>\n",
       "      <th>tokens</th>\n",
       "      <th>Product_binary</th>\n",
       "    </tr>\n",
       "  </thead>\n",
       "  <tbody>\n",
       "    <tr>\n",
       "      <th>29</th>\n",
       "      <td>01/23/20</td>\n",
       "      <td>Student loan</td>\n",
       "      <td>Federal student loan servicing</td>\n",
       "      <td>Dealing with your lender or servicer</td>\n",
       "      <td>Keep getting calls about your loan</td>\n",
       "      <td>I called Bass and Associates in XX/XX/XXXX and...</td>\n",
       "      <td>NaN</td>\n",
       "      <td>Bass &amp; Associates, P.C., Attorneys at Law</td>\n",
       "      <td>DC</td>\n",
       "      <td>200XX</td>\n",
       "      <td>NaN</td>\n",
       "      <td>Consent provided</td>\n",
       "      <td>Web</td>\n",
       "      <td>01/23/20</td>\n",
       "      <td>Closed with explanation</td>\n",
       "      <td>Yes</td>\n",
       "      <td>NaN</td>\n",
       "      <td>3506557</td>\n",
       "      <td>[called, bass, associates, company, claim, stu...</td>\n",
       "      <td>1</td>\n",
       "    </tr>\n",
       "    <tr>\n",
       "      <th>535</th>\n",
       "      <td>02/11/20</td>\n",
       "      <td>Student loan</td>\n",
       "      <td>Federal student loan servicing</td>\n",
       "      <td>Dealing with your lender or servicer</td>\n",
       "      <td>Trouble with how payments are being handled</td>\n",
       "      <td>I have been working with Premier Student Loan ...</td>\n",
       "      <td>NaN</td>\n",
       "      <td>Premier Student Loan Center</td>\n",
       "      <td>ND</td>\n",
       "      <td>585XX</td>\n",
       "      <td>NaN</td>\n",
       "      <td>Consent provided</td>\n",
       "      <td>Web</td>\n",
       "      <td>02/11/20</td>\n",
       "      <td>Untimely response</td>\n",
       "      <td>No</td>\n",
       "      <td>NaN</td>\n",
       "      <td>3528302</td>\n",
       "      <td>[working, premier, student, loan, center,  , p...</td>\n",
       "      <td>1</td>\n",
       "    </tr>\n",
       "    <tr>\n",
       "      <th>695</th>\n",
       "      <td>01/06/20</td>\n",
       "      <td>Mortgage</td>\n",
       "      <td>Other type of mortgage</td>\n",
       "      <td>Trouble during payment process</td>\n",
       "      <td>NaN</td>\n",
       "      <td>Back in the beginning of 2019 ( XXXX ) notific...</td>\n",
       "      <td>Company believes complaint is the result of an...</td>\n",
       "      <td>Ditech Financial LLC</td>\n",
       "      <td>FL</td>\n",
       "      <td>320XX</td>\n",
       "      <td>NaN</td>\n",
       "      <td>Consent provided</td>\n",
       "      <td>Web</td>\n",
       "      <td>01/06/20</td>\n",
       "      <td>Closed with explanation</td>\n",
       "      <td>Yes</td>\n",
       "      <td>NaN</td>\n",
       "      <td>3486795</td>\n",
       "      <td>[beginning, 2019,  ,  , notification, sent, di...</td>\n",
       "      <td>0</td>\n",
       "    </tr>\n",
       "    <tr>\n",
       "      <th>557</th>\n",
       "      <td>04/30/20</td>\n",
       "      <td>Mortgage</td>\n",
       "      <td>Conventional home mortgage</td>\n",
       "      <td>Trouble during payment process</td>\n",
       "      <td>NaN</td>\n",
       "      <td>My loan was sold to this company. They have 'f...</td>\n",
       "      <td>Company has responded to the consumer and the ...</td>\n",
       "      <td>Specialized Loan Servicing Holdings LLC</td>\n",
       "      <td>AZ</td>\n",
       "      <td>852XX</td>\n",
       "      <td>NaN</td>\n",
       "      <td>Consent provided</td>\n",
       "      <td>Web</td>\n",
       "      <td>04/30/20</td>\n",
       "      <td>Closed with explanation</td>\n",
       "      <td>Yes</td>\n",
       "      <td>NaN</td>\n",
       "      <td>3631157</td>\n",
       "      <td>[loan, sold, company, fees,  , disclosed, loan...</td>\n",
       "      <td>0</td>\n",
       "    </tr>\n",
       "    <tr>\n",
       "      <th>836</th>\n",
       "      <td>02/15/20</td>\n",
       "      <td>Mortgage</td>\n",
       "      <td>Conventional home mortgage</td>\n",
       "      <td>Struggling to pay mortgage</td>\n",
       "      <td>NaN</td>\n",
       "      <td>Mortgage is delinquent by {$14000.00}, working...</td>\n",
       "      <td>Company believes it acted appropriately as aut...</td>\n",
       "      <td>Shellpoint Partners, LLC</td>\n",
       "      <td>PA</td>\n",
       "      <td>NaN</td>\n",
       "      <td>Older American</td>\n",
       "      <td>Consent provided</td>\n",
       "      <td>Web</td>\n",
       "      <td>02/15/20</td>\n",
       "      <td>Closed with explanation</td>\n",
       "      <td>Yes</td>\n",
       "      <td>NaN</td>\n",
       "      <td>3532998</td>\n",
       "      <td>[mortgage, delinquent, 1400000, working, loss,...</td>\n",
       "      <td>0</td>\n",
       "    </tr>\n",
       "  </tbody>\n",
       "</table>\n",
       "</div>"
      ],
      "text/plain": [
       "    Date received       Product                     Sub-product  \\\n",
       "29       01/23/20  Student loan  Federal student loan servicing   \n",
       "535      02/11/20  Student loan  Federal student loan servicing   \n",
       "695      01/06/20      Mortgage          Other type of mortgage   \n",
       "557      04/30/20      Mortgage      Conventional home mortgage   \n",
       "836      02/15/20      Mortgage      Conventional home mortgage   \n",
       "\n",
       "                                    Issue  \\\n",
       "29   Dealing with your lender or servicer   \n",
       "535  Dealing with your lender or servicer   \n",
       "695        Trouble during payment process   \n",
       "557        Trouble during payment process   \n",
       "836            Struggling to pay mortgage   \n",
       "\n",
       "                                       Sub-issue  \\\n",
       "29            Keep getting calls about your loan   \n",
       "535  Trouble with how payments are being handled   \n",
       "695                                          NaN   \n",
       "557                                          NaN   \n",
       "836                                          NaN   \n",
       "\n",
       "                          Consumer complaint narrative  \\\n",
       "29   I called Bass and Associates in XX/XX/XXXX and...   \n",
       "535  I have been working with Premier Student Loan ...   \n",
       "695  Back in the beginning of 2019 ( XXXX ) notific...   \n",
       "557  My loan was sold to this company. They have 'f...   \n",
       "836  Mortgage is delinquent by {$14000.00}, working...   \n",
       "\n",
       "                               Company public response  \\\n",
       "29                                                 NaN   \n",
       "535                                                NaN   \n",
       "695  Company believes complaint is the result of an...   \n",
       "557  Company has responded to the consumer and the ...   \n",
       "836  Company believes it acted appropriately as aut...   \n",
       "\n",
       "                                       Company State ZIP code            Tags  \\\n",
       "29   Bass & Associates, P.C., Attorneys at Law    DC    200XX             NaN   \n",
       "535                Premier Student Loan Center    ND    585XX             NaN   \n",
       "695                       Ditech Financial LLC    FL    320XX             NaN   \n",
       "557    Specialized Loan Servicing Holdings LLC    AZ    852XX             NaN   \n",
       "836                   Shellpoint Partners, LLC    PA      NaN  Older American   \n",
       "\n",
       "    Consumer consent provided? Submitted via Date sent to company  \\\n",
       "29            Consent provided           Web             01/23/20   \n",
       "535           Consent provided           Web             02/11/20   \n",
       "695           Consent provided           Web             01/06/20   \n",
       "557           Consent provided           Web             04/30/20   \n",
       "836           Consent provided           Web             02/15/20   \n",
       "\n",
       "    Company response to consumer Timely response?  Consumer disputed?  \\\n",
       "29       Closed with explanation              Yes                 NaN   \n",
       "535            Untimely response               No                 NaN   \n",
       "695      Closed with explanation              Yes                 NaN   \n",
       "557      Closed with explanation              Yes                 NaN   \n",
       "836      Closed with explanation              Yes                 NaN   \n",
       "\n",
       "     Complaint ID                                             tokens  \\\n",
       "29        3506557  [called, bass, associates, company, claim, stu...   \n",
       "535       3528302  [working, premier, student, loan, center,  , p...   \n",
       "695       3486795  [beginning, 2019,  ,  , notification, sent, di...   \n",
       "557       3631157  [loan, sold, company, fees,  , disclosed, loan...   \n",
       "836       3532998  [mortgage, delinquent, 1400000, working, loss,...   \n",
       "\n",
       "     Product_binary  \n",
       "29                1  \n",
       "535               1  \n",
       "695               0  \n",
       "557               0  \n",
       "836               0  "
      ]
     },
     "execution_count": 35,
     "metadata": {},
     "output_type": "execute_result"
    }
   ],
   "source": [
    "# preprocessing\n",
    "# ----------\n",
    "\n",
    "# intitalize label binarizer\n",
    "lb_style = LabelBinarizer()\n",
    "\n",
    "# fit transform\n",
    "y = cfpb['Product_binary'] = lb_style.fit_transform(cfpb[\"Product\"])\n",
    "\n",
    "# train/test split\n",
    "train, test = train_test_split(cfpb,             # specify dataset\n",
    "                               test_size=0.2,    # specify test size\n",
    "                               random_state=42)  # set seed\n",
    "# view\n",
    "train.head()"
   ]
  },
  {
   "cell_type": "markdown",
   "metadata": {},
   "source": [
    "After we do our train test splits, we apply the `TaggedDocument()` function to every token. This allows us to associate each document with the class that we want to predict later:"
   ]
  },
  {
   "cell_type": "code",
   "execution_count": null,
   "metadata": {},
   "outputs": [
    {
     "data": {
      "text/plain": [
       "TaggedDocument(words=['contacting', 'ocwen', 'mortgage', 'phh', 'mortgage', 'avail', 'expressed', 'concern', 'extent', 'damage', 'house', 'severe', 'termite', 'infestation', 'mold', 'mildew', 'continued', '2200000', 'dollars', 'mortgage', 'payments', 'house', 'water', 'called', 'backs', 'approved', 'loan', 'refinancing', 'told', 'lender', 'house', 'renovated', 'house', 'flooded', 'continued', 'payments', 'living', 'house', 'deemed', 'uninhabitable', 'unsafe', 'structural', 'integrity', 'house', 'invested', 'walk', 'away', 'property', '\\n', 'flood', 'insurance', 'house', '24yrs', '\\n', 'submitted', 'pictures', 'damage', 'caused', 'termites', 'thing', 'mortgage', 'companies', 'interested', 'mortgage', 'monthly', 'payments', 'submitted', 'supporting', 'documentation', 'work', 'related', 'injuries', 'sustained', 'job', 'working', 'waiting', 'help', 'restore', 'louisiana', 'program', 'gotten', 'help', 'restore', 'louisiana', 'program', 'fixed', 'house', 'sold', 'choosing', 'told', 'ocwen', 'mortgage', 'phh', 'mortgage', 'desire', 'helping', 'homeowners', 'homes', 'foreclosure', 'auctions', 'bid', 'offered', 'chance', 'refinance', 'mortgage', 'companies', 'involved', 'given', 'chance', 'loan', 'modification', 'chance', 'forbearance', 'parties', 'mentioned', 'aware', 'house', 'flooded', 'lender', 'refinance', 'ocwen', 'mortgage', 'phh', 'mortgage', 'newrez', 'contacted', 'phh', 'mortgage', 'interest', 'loan', 'modification', 'asked', 'send', 'packet', 'email', 'address', 'told', 'packet', 'emailed', 'told', 'time', 'website', 'loan', 'modification', 'packet', 'tried', 'got', 'employees', 'public', 'library', 'help', 'avail', 'today', 'sunday', 'waiting', 'loan', 'modification', 'packet', 'arrive', 'mail', 'forget', 'asked', 'agents', 'phh', 'mortgage', 'interest', 'refinancing', 'phh', 'mortgage', 'told', 'agent', 'house', 'fixed', 'explained', 'agent', 'phh', 'mortgage', 'refinance', 'expect', 'lending', 'company', 'refinance', 'add', 'risked', 'mu', 'health', 'staying', 'house', 'affected', 'health', 'addressed', 'staying', 'refuse', 'let', 'children', 'subjected', 'health', 'concerns', 'staying', 'prevent', 'squatters', 'dwelling', 'house', 'told', 'loan', 'modification', 'packet', 'returned', 'thirty', 'days', 'submitted', 'claim', 'prior', 'claim', 'difference', 'told', 'previous', 'years', 'consumer', 'financial', 'protection', 'bureau', 'like'], tags=[0])"
      ]
     },
     "execution_count": 36,
     "metadata": {},
     "output_type": "execute_result"
    }
   ],
   "source": [
    "# apply tag to each train/test dataset\n",
    "# ----------\n",
    "\n",
    "# tag training datatset\n",
    "cfpb_train_tagged = train.apply(lambda r: TaggedDocument(words=r['tokens'],\n",
    "                                                         tags=[r.Product_binary]), \n",
    "                                axis=1)\n",
    "\n",
    "# tag testing datatset\n",
    "cfpb_test_tagged = test.apply(lambda r: TaggedDocument(words=r['tokens'], \n",
    "                                                       tags=[r.Product_binary]),\n",
    "                              axis=1)\n",
    "\n",
    "# view the first row\n",
    "cfpb_train_tagged[0]"
   ]
  },
  {
   "cell_type": "markdown",
   "metadata": {},
   "source": [
    "We're now ready to train our `doc2vec!` One of the key features of gensim is that it natively allows multicore processing - meaning it can take advantage of your CPU cores. Note that this is slightly different from tensorflow that we covered last semester, which also allows GPU acceleration. You can check how many CPU cores you have available: "
   ]
  },
  {
   "cell_type": "code",
   "execution_count": null,
   "metadata": {},
   "outputs": [
    {
     "data": {
      "text/plain": [
       "8"
      ]
     },
     "execution_count": 37,
     "metadata": {},
     "output_type": "execute_result"
    }
   ],
   "source": [
    "# count your cores for processing\n",
    "# ----------\n",
    "cores = multiprocessing.cpu_count()\n",
    "cores"
   ]
  },
  {
   "cell_type": "markdown",
   "metadata": {},
   "source": [
    "[Parallel processing](https://en.wikipedia.org/wiki/Parallel_computing) is an important topic in computational social science - it will be the key to speeding up lots of different operations. In general, we recommend that whenever you use parallel processing you reserve 1 CPU core for your computer's other functions (keeping your browser and other software running), and use the remaining for your task at hand. In this case, doc2vec's training process is an example of [embarrassingly parallel](https://en.wikipedia.org/wiki/Embarrassingly_parallel) meaning that the different CPUs don't need to talk to each other to do their computations. They can independently work and combine the results at the end. In this case, we are working with very few observations (just 1000), but this is a useful technique to keep in mind for your projects and research! \n",
    "\n",
    "First we'll train the model (notice the use of the [`tqdm`](https://tqdm.github.io/) library for progerss bars):"
   ]
  },
  {
   "cell_type": "code",
   "execution_count": null,
   "metadata": {},
   "outputs": [
    {
     "name": "stderr",
     "output_type": "stream",
     "text": [
      "100%|████████████████████████████████████████████████████████████████████████████████████████| 800/800 [00:00<00:00, 5429519.74it/s]\n"
     ]
    }
   ],
   "source": [
    "# train a Doc2Vec model \n",
    "# ----------\n",
    "# initalize Doc2Vec\n",
    "model_dbow = Doc2Vec(dm=0,              # training algorithim: distributed bag of words\n",
    "                     vector_size=300,   # word embedding size\n",
    "                     negative=5,        # how many negative samples\n",
    "                     hs=0,              # hierarchical softmax using negative samples\n",
    "                     min_count=2,       # ignores all words with a total frequency lower than this threshold.\n",
    "                     sample = 0,        # how much downsampling - 0 means none\n",
    "                     seed = 1995, \n",
    "                     workers=cores - 1) # how many cores will be used - will not be fully reproducible however\n",
    "\n",
    "# apply to training data\n",
    "model_dbow.build_vocab([x for x in tqdm(cfpb_train_tagged.values)])"
   ]
  },
  {
   "cell_type": "markdown",
   "metadata": {},
   "source": [
    "We'll allow the model to train for 30 iterations (epochs - this is the same as our neural nets lab):"
   ]
  },
  {
   "cell_type": "code",
   "execution_count": null,
   "metadata": {},
   "outputs": [
    {
     "name": "stderr",
     "output_type": "stream",
     "text": [
      "100%|████████████████████████████████████████████████████████████████████████████████████████| 800/800 [00:00<00:00, 7626007.27it/s]\n",
      "100%|████████████████████████████████████████████████████████████████████████████████████████| 800/800 [00:00<00:00, 7608714.74it/s]\n",
      "100%|████████████████████████████████████████████████████████████████████████████████████████| 800/800 [00:00<00:00, 7489828.57it/s]\n",
      "100%|████████████████████████████████████████████████████████████████████████████████████████| 800/800 [00:00<00:00, 8715436.88it/s]\n",
      "100%|████████████████████████████████████████████████████████████████████████████████████████| 800/800 [00:00<00:00, 8876833.86it/s]\n",
      "100%|████████████████████████████████████████████████████████████████████████████████████████| 800/800 [00:00<00:00, 8244332.19it/s]\n",
      "100%|████████████████████████████████████████████████████████████████████████████████████████| 800/800 [00:00<00:00, 8430761.81it/s]\n",
      "100%|████████████████████████████████████████████████████████████████████████████████████████| 800/800 [00:00<00:00, 9093342.01it/s]\n",
      "100%|████████████████████████████████████████████████████████████████████████████████████████| 800/800 [00:00<00:00, 8516353.30it/s]\n",
      "100%|████████████████████████████████████████████████████████████████████████████████████████| 800/800 [00:00<00:00, 8244332.19it/s]\n",
      "100%|████████████████████████████████████████████████████████████████████████████████████████| 800/800 [00:00<00:00, 8603700.51it/s]\n",
      "100%|████████████████████████████████████████████████████████████████████████████████████████| 800/800 [00:00<00:00, 8971773.26it/s]\n",
      "100%|████████████████████████████████████████████████████████████████████████████████████████| 800/800 [00:00<00:00, 8603700.51it/s]\n",
      "100%|████████████████████████████████████████████████████████████████████████████████████████| 800/800 [00:00<00:00, 8876833.86it/s]\n",
      "100%|████████████████████████████████████████████████████████████████████████████████████████| 800/800 [00:00<00:00, 8244332.19it/s]\n",
      "100%|████████████████████████████████████████████████████████████████████████████████████████| 800/800 [00:00<00:00, 8494792.91it/s]\n",
      "100%|████████████████████████████████████████████████████████████████████████████████████████| 800/800 [00:00<00:00, 8603700.51it/s]\n",
      "100%|████████████████████████████████████████████████████████████████████████████████████████| 800/800 [00:00<00:00, 7626007.27it/s]\n",
      "100%|████████████████████████████████████████████████████████████████████████████████████████| 800/800 [00:00<00:00, 8900379.84it/s]\n",
      "100%|████████████████████████████████████████████████████████████████████████████████████████| 800/800 [00:00<00:00, 8430761.81it/s]\n",
      "100%|████████████████████████████████████████████████████████████████████████████████████████| 800/800 [00:00<00:00, 8516353.30it/s]\n",
      "100%|████████████████████████████████████████████████████████████████████████████████████████| 800/800 [00:00<00:00, 8603700.51it/s]\n",
      "100%|████████████████████████████████████████████████████████████████████████████████████████| 800/800 [00:00<00:00, 8971773.26it/s]\n",
      "100%|████████████████████████████████████████████████████████████████████████████████████████| 800/800 [00:00<00:00, 8494792.91it/s]\n",
      "100%|████████████████████████████████████████████████████████████████████████████████████████| 800/800 [00:00<00:00, 8516353.30it/s]\n",
      "100%|████████████████████████████████████████████████████████████████████████████████████████| 800/800 [00:00<00:00, 9093342.01it/s]\n",
      "100%|████████████████████████████████████████████████████████████████████████████████████████| 800/800 [00:00<00:00, 8806937.53it/s]\n",
      "100%|████████████████████████████████████████████████████████████████████████████████████████| 800/800 [00:00<00:00, 8494792.91it/s]\n",
      "100%|████████████████████████████████████████████████████████████████████████████████████████| 800/800 [00:00<00:00, 8603700.51it/s]\n"
     ]
    }
   ],
   "source": [
    "# loop over our data\n",
    "# ----------\n",
    "for epoch in range(1,30):\n",
    "    model_dbow.train(utils.shuffle([x for x in tqdm(cfpb_train_tagged.values)]), \n",
    "                     total_examples=len(cfpb_train_tagged.values), \n",
    "                     epochs=epoch)\n",
    "    model_dbow.alpha -= 0.002\n",
    "    model_dbow.min_alpha = model_dbow.alpha"
   ]
  },
  {
   "cell_type": "markdown",
   "metadata": {},
   "source": [
    "Finally, we'll define a function that will grab the embeddings for each document:"
   ]
  },
  {
   "cell_type": "code",
   "execution_count": null,
   "metadata": {},
   "outputs": [],
   "source": [
    "# grab the embeddings\n",
    "# ----------\n",
    "def vec_for_learning(model, tagged_docs):\n",
    "    sents = tagged_docs.values\n",
    "    targets, regressors = zip(*[(doc.tags[0], model.infer_vector(doc.words)) for doc in sents])\n",
    "    return targets, regressors"
   ]
  },
  {
   "cell_type": "markdown",
   "metadata": {},
   "source": [
    "## Classification\n",
    "\n",
    "And finally, let's use logistic regression to see how well our document embeddings do:"
   ]
  },
  {
   "cell_type": "code",
   "execution_count": null,
   "metadata": {},
   "outputs": [
    {
     "data": {
      "image/png": "[encoded data removed]",
      "text/plain": [
       "<Figure size 1000x700 with 2 Axes>"
      ]
     },
     "metadata": {},
     "output_type": "display_data"
    }
   ],
   "source": [
    "#\n",
    "# Classifcation model\n",
    "# ----------------------------------------\n",
    "\n",
    "\n",
    "# intialize a logit model\n",
    "# ----------\n",
    "\n",
    "# split into training\n",
    "y_train, X_train = vec_for_learning(model_dbow, # specify datasets for split\n",
    "                                    cfpb_train_tagged)\n",
    "\n",
    "# split into testing\n",
    "y_test, X_test = vec_for_learning(model_dbow,  # specify datasets for split\n",
    "                                  cfpb_test_tagged)\n",
    "\n",
    "# initalize model\n",
    "logit_reg = LogisticRegression(random_state = 75) # intialize logit model\n",
    "\n",
    "# fit on training\n",
    "logit_model = logit_reg.fit(X_train,  # fit to training data\n",
    "                            y_train)\n",
    "\n",
    "# predict on test data\n",
    "y_pred = logit_model.predict(X_test)  # predict on testing data\n",
    "\n",
    "\n",
    "# confusion matrix\n",
    "# ----------\n",
    "\n",
    "# create confusion matrix \n",
    "cf_matrix = confusion_matrix(y_test,              # actual\n",
    "                             y_pred,              # predictions\n",
    "                             normalize = \"true\")  # normalize\n",
    "\n",
    "# create dataframe\n",
    "df_cm = pd.DataFrame(cf_matrix,   # specify matrix for calculations\n",
    "                     range(2),\n",
    "                     range(2))\n",
    "\n",
    "# rename indices\n",
    "df_cm = df_cm.rename(index=str, columns={0: \"Checking or savings account\", \n",
    "                                         1: \"Student loan\"})\n",
    "\n",
    "df_cm.index = [\"Checking or savings account\", \"Student loan\"]\n",
    "\n",
    "# plot specifications\n",
    "# ----------\n",
    "plt.figure(figsize = (10,7))\n",
    "sns.set(font_scale=1.4) # for label size\n",
    "sns.heatmap(df_cm, \n",
    "           annot=True,\n",
    "           annot_kws={\"size\": 16},\n",
    "           fmt='g')\n",
    "\n",
    "plt.title('Confusion Matrix')\n",
    "plt.xlabel(\"Predicted Label\")\n",
    "plt.ylabel(\"True Label\")\n",
    "plt.show()"
   ]
  },
  {
   "cell_type": "markdown",
   "metadata": {},
   "source": [
    "Hmm, not as well as we might think! But this shouldn't be too surprising with a small dataset - word embeddings tend to work best when given lots of data."
   ]
  },
  {
   "cell_type": "markdown",
   "metadata": {},
   "source": [
    "# Loading Pre-Trained Embeddings\n",
    "\n",
    "So far we have been working with embeddings trained on our particular corpus. However, this is not usually standard - as you saw above, word2vec works best when it has lots of data. The problem is that training state-of-the-art models requires intense computational resources. It also has a [large carbon footprint](https://arxiv.org/pdf/1906.02243.pdf). Luckily, we can use pre-trained models like Google News or Stanford's GloVe. Note to run this next chunk of code, you need to have the [GoogleNews embeddings](https://drive.google.com/file/d/0B7XkCwpI5KDYNlNUTTlSS21pQmM/edit) in your \"data\" directory in this repo."
   ]
  },
  {
   "cell_type": "code",
   "execution_count": null,
   "metadata": {},
   "outputs": [],
   "source": [
    "# load pre-trained Google News model \n",
    "# ----------\n",
    "googlenews_word2vec_model = gensim.models.KeyedVectors.load_word2vec_format('../../data/GoogleNews-vectors-negative300.bin.gz', \n",
    "                                                                            binary = True) "
   ]
  },
  {
   "cell_type": "markdown",
   "metadata": {},
   "source": [
    "We can also tune the Google News embeddings to a domain-specific corpus. This may or may not be necessary depending on how specific or unique you think words in your corpus might be:"
   ]
  },
  {
   "cell_type": "code",
   "execution_count": null,
   "metadata": {},
   "outputs": [],
   "source": [
    "# retrain google on your own corpus\n",
    "# ----------\n",
    "\n",
    "# ! NOTE: THIS TAKES A VERY LONG TIME TO RUN - SO WE WON'T RUN IT HERE\n",
    "# ! BUT WE CAN RE-RUN FROM HERE TO SEE HOW THIS MIGHT ULTIMATELY AFFECT\n",
    "# ! OUR CLASSIFICATION MODEL\n",
    "\n",
    "\n",
    "\n",
    "## specify your corpus\n",
    "#your_corpus = cfpb['tokens']  # Load your corpus here, make sure it's tokenized\n",
    "#\n",
    "## initialize Word2Vec model with the same dimensions as the Google News vectors\n",
    "#word2vec_model = gensim.models.Word2Vec(vector_size=300,    # word embedding size\n",
    "#                                        window=5,           # window size\n",
    "#                                        min_count=1,        # ignores words w/ frequency lower than this threshold\n",
    "#                                        workers=cores - 1)  # how many cores will be used\n",
    "#\n",
    "## build vocabulary \n",
    "#word2vec_model.build_vocab(your_corpus)\n",
    "#\n",
    "## initialize word vectors using the Google News pre-trained vectors\n",
    "#word2vec_model.wv.vectors = googlenews_word2vec_model.vectors\n",
    "#\n",
    "## training model\n",
    "#word2vec_model.train(your_corpus, \n",
    "#                     total_examples=len(your_corpus), \n",
    "#                     epochs=5, \n",
    "#                     compute_loss=True)"
   ]
  },
  {
   "cell_type": "markdown",
   "metadata": {},
   "source": [
    "## Challenges\n",
    "\n",
    "### Challenge Embeddings \n",
    "\n",
    "Repeat the exploration we did in the first part where we trained word embeddings with the new Google model. Do you notice any differences? Create document averaged word embeddings and predict our outcome ('Product_binary'). How did this compare to doc2vec?"
   ]
  },
  {
   "cell_type": "code",
   "execution_count": null,
   "metadata": {
    "scrolled": true
   },
   "outputs": [
    {
     "name": "stdout",
     "output_type": "stream",
     "text": [
      "[[-0.02563477 -0.00460815  0.03039551 -0.21484375 -0.12011719  0.19726562\n",
      "   0.16210938 -0.01361084  0.26757812 -0.04077148  0.04370117 -0.01037598\n",
      "  -0.09228516  0.02209473  0.00344849  0.0324707   0.02539062  0.02758789\n",
      "  -0.03930664  0.0703125   0.17285156 -0.11035156 -0.00897217 -0.00340271\n",
      "   0.12011719 -0.06933594 -0.37109375 -0.00595093  0.01080322  0.16601562\n",
      "  -0.36914062 -0.203125   -0.0067749   0.15039062 -0.08886719 -0.22558594\n",
      "   0.10302734 -0.19140625 -0.02783203  0.05273438  0.16015625 -0.0612793\n",
      "   0.10498047 -0.0390625   0.0402832  -0.32421875  0.07910156  0.14453125\n",
      "  -0.14746094 -0.13867188  0.06591797 -0.16601562 -0.07128906 -0.15039062\n",
      "   0.06103516  0.09228516 -0.28125     0.01037598  0.11621094 -0.296875\n",
      "  -0.09667969 -0.09570312  0.12988281  0.13769531 -0.07568359  0.22363281\n",
      "   0.03063965  0.03808594  0.00860596 -0.1484375  -0.05908203  0.14355469\n",
      "   0.4375     -0.13964844  0.01312256  0.12109375  0.10107422  0.13183594\n",
      "   0.0030365  -0.04199219  0.09667969 -0.18847656  0.03613281  0.20800781\n",
      "   0.04663086 -0.01586914 -0.12792969  0.08203125 -0.14648438 -0.04174805\n",
      "   0.18847656  0.04858398 -0.09619141 -0.35742188 -0.16308594 -0.03540039\n",
      "  -0.2890625   0.0546875   0.26367188 -0.13085938 -0.09423828 -0.1015625\n",
      "  -0.1015625  -0.01757812  0.0189209  -0.34179688 -0.29101562 -0.08886719\n",
      "   0.15820312  0.125       0.06542969 -0.29101562 -0.30664062 -0.09033203\n",
      "  -0.04663086  0.16308594 -0.24511719  0.07666016  0.16308594  0.21777344\n",
      "  -0.20800781 -0.14648438 -0.11865234  0.1484375   0.16308594  0.15429688\n",
      "   0.02307129  0.22753906 -0.05322266 -0.07470703 -0.12695312 -0.1796875\n",
      "  -0.16796875  0.05712891  0.44335938 -0.05639648 -0.42773438 -0.10644531\n",
      "  -0.13476562  0.01293945 -0.06640625  0.14160156  0.05249023  0.02050781\n",
      "  -0.01037598  0.03857422  0.01953125 -0.03491211 -0.20117188  0.14355469\n",
      "   0.12792969  0.13183594  0.10498047  0.13378906 -0.00448608 -0.21191406\n",
      "  -0.16210938  0.11621094 -0.00466919  0.16992188  0.01379395  0.0546875\n",
      "   0.04077148  0.00242615 -0.03222656  0.0703125   0.06298828  0.02612305\n",
      "  -0.14453125  0.14257812 -0.08349609  0.21484375 -0.08349609 -0.13964844\n",
      "  -0.0480957  -0.140625    0.06005859 -0.17675781 -0.05053711  0.05615234\n",
      "   0.12695312 -0.09667969 -0.13183594 -0.0559082  -0.07910156 -0.45898438\n",
      "   0.06176758  0.19921875 -0.203125    0.22753906 -0.171875   -0.14453125\n",
      "  -0.171875    0.02758789 -0.22949219  0.19140625 -0.13574219 -0.04223633\n",
      "   0.14355469 -0.23925781 -0.06494141  0.25195312 -0.01916504 -0.04003906\n",
      "   0.21972656  0.13769531 -0.234375   -0.12890625  0.08105469 -0.01348877\n",
      "   0.15234375  0.13964844 -0.05200195  0.29101562 -0.3203125   0.15332031\n",
      "   0.14746094  0.0145874  -0.13183594 -0.13574219  0.08447266  0.1953125\n",
      "  -0.07275391 -0.15917969  0.140625    0.19628906  0.10595703 -0.02966309\n",
      "  -0.28515625  0.14355469  0.12695312  0.01477051  0.02648926  0.02893066\n",
      "   0.11914062 -0.06591797  0.06445312  0.13085938 -0.12792969 -0.08740234\n",
      "  -0.04516602  0.13867188  0.29296875 -0.04150391 -0.04272461  0.078125\n",
      "  -0.15429688  0.17480469  0.02355957  0.03735352 -0.06982422 -0.06396484\n",
      "  -0.33007812 -0.13085938 -0.01049805 -0.03271484  0.16992188  0.16796875\n",
      "  -0.07910156 -0.00363159 -0.05004883  0.0050354  -0.140625    0.12451172\n",
      "  -0.16992188  0.23339844 -0.26953125  0.13476562 -0.17285156 -0.06884766\n",
      "  -0.05566406  0.12060547 -0.09716797 -0.01928711  0.07470703 -0.328125\n",
      "  -0.06494141 -0.03076172 -0.109375    0.0859375   0.16894531 -0.06738281\n",
      "  -0.41992188 -0.0177002   0.05004883  0.01818848  0.00601196  0.33203125\n",
      "   0.15722656  0.07910156 -0.00326538  0.09814453  0.08886719 -0.20898438\n",
      "  -0.21191406 -0.27148438  0.21289062 -0.17089844 -0.18945312 -0.05371094]]\n"
     ]
    }
   ],
   "source": [
    "# print embeddings for specific word -- \"account\"\n",
    "# ----------\n",
    "print(googlenews_word2vec_model.__getitem__(['account']))"
   ]
  },
  {
   "cell_type": "markdown",
   "metadata": {},
   "source": [
    "**QUESTION:** Check out the shape of the vectors for 'account', what do you notice?"
   ]
  },
  {
   "cell_type": "code",
   "execution_count": null,
   "metadata": {},
   "outputs": [
    {
     "data": {
      "text/plain": [
       "(1, 300)"
      ]
     },
     "execution_count": 45,
     "metadata": {},
     "output_type": "execute_result"
    }
   ],
   "source": [
    "# get the shape of the embeddings - what does this tell us?\n",
    "# ----------\n",
    "googlenews_word2vec_model.__getitem__(['account']).shape"
   ]
  },
  {
   "cell_type": "markdown",
   "metadata": {},
   "source": [
    "**ANSWER**: There are 300 elements in this array, which is the number of embeddings in each Google News vector. "
   ]
  },
  {
   "cell_type": "markdown",
   "metadata": {},
   "source": [
    "Use the following empty cells to look at what the word embeddings look like for words you think may appear in the text! Keep in mind that even if a word shows up in the text as seen above, a word vector will not be created unless it satisfies all conditions we inputted into the model above. "
   ]
  },
  {
   "cell_type": "code",
   "execution_count": null,
   "metadata": {
    "scrolled": true
   },
   "outputs": [],
   "source": [
    "# word 1\n",
    "# ----------\n",
    "#googlenews_word2vec_model.__getitem__(['navient'])"
   ]
  },
  {
   "cell_type": "markdown",
   "metadata": {},
   "source": [
    "**QUESTION:** Did this run as you expected? Why or why not?"
   ]
  },
  {
   "cell_type": "markdown",
   "metadata": {},
   "source": [
    "**ANSWER:** This no longer runs because `Navient` is not present in the Google News corpus. Why might this be? Because that is a very specific work entered by someone writing a complaint but is not common enough to be captured in Google's training data. "
   ]
  },
  {
   "cell_type": "code",
   "execution_count": null,
   "metadata": {
    "scrolled": true
   },
   "outputs": [
    {
     "data": {
      "text/plain": [
       "array([[-3.56445312e-02, -1.33789062e-01, -7.32421875e-02,\n",
       "        -9.37500000e-02,  6.59179688e-02, -3.69262695e-03,\n",
       "         1.39648438e-01,  4.56542969e-02,  1.20239258e-02,\n",
       "        -6.54296875e-02, -8.78906250e-02,  1.54296875e-01,\n",
       "         1.30859375e-01, -1.86523438e-01, -3.53515625e-01,\n",
       "         5.71289062e-02, -5.24902344e-03, -6.29882812e-02,\n",
       "        -3.02734375e-02, -2.02636719e-02, -7.29370117e-03,\n",
       "         2.13623047e-02, -1.27929688e-01, -8.49609375e-02,\n",
       "         2.94189453e-02,  2.84423828e-02, -3.18527222e-04,\n",
       "         1.63085938e-01,  1.07910156e-01, -1.95312500e-01,\n",
       "         8.78906250e-02, -1.28906250e-01, -1.06445312e-01,\n",
       "         9.08203125e-02,  4.58984375e-02,  2.02636719e-02,\n",
       "         2.27539062e-01, -5.20019531e-02,  6.93359375e-02,\n",
       "         4.15039062e-02,  9.71679688e-02,  1.42578125e-01,\n",
       "         1.41601562e-01,  8.15429688e-02, -2.30468750e-01,\n",
       "        -1.74804688e-01, -1.97753906e-02,  1.06445312e-01,\n",
       "        -1.25976562e-01,  2.01416016e-02,  2.79296875e-01,\n",
       "         3.85742188e-02,  1.40625000e-01, -4.32128906e-02,\n",
       "         1.15234375e-01, -1.78222656e-02, -8.05664062e-02,\n",
       "         5.55419922e-03,  1.12792969e-01,  4.41894531e-02,\n",
       "         8.23974609e-03,  5.81054688e-02, -1.75781250e-01,\n",
       "         3.22265625e-02, -7.22656250e-02,  2.88085938e-02,\n",
       "        -5.00488281e-02, -1.58691406e-02,  9.42382812e-02,\n",
       "         1.45507812e-01, -1.04980469e-01,  4.54101562e-02,\n",
       "        -1.23291016e-02,  1.94091797e-02, -1.31835938e-01,\n",
       "         1.70898438e-01,  2.47802734e-02, -7.53784180e-03,\n",
       "        -2.27050781e-02, -7.22656250e-02, -8.72802734e-03,\n",
       "        -2.38281250e-01,  3.00292969e-02,  2.03125000e-01,\n",
       "        -6.80541992e-03,  3.27148438e-02, -8.78906250e-02,\n",
       "         2.50000000e-01,  1.85546875e-02,  6.59179688e-02,\n",
       "         1.90429688e-01, -5.61523438e-02, -1.60156250e-01,\n",
       "        -1.41601562e-02, -1.33789062e-01,  1.20849609e-02,\n",
       "        -2.31445312e-01, -1.50390625e-01,  2.44140625e-01,\n",
       "        -1.29699707e-03,  1.01562500e-01, -1.08398438e-01,\n",
       "        -9.22851562e-02,  7.61718750e-02,  9.32617188e-02,\n",
       "        -1.64062500e-01, -1.46484375e-01,  1.14746094e-01,\n",
       "        -7.20977783e-04, -1.73828125e-01, -4.95605469e-02,\n",
       "        -6.98242188e-02, -3.61328125e-02, -7.32421875e-02,\n",
       "         1.46484375e-01, -6.54296875e-02, -1.39648438e-01,\n",
       "        -1.97753906e-02,  1.62109375e-01,  2.08984375e-01,\n",
       "        -6.54296875e-02, -1.04492188e-01, -1.75781250e-01,\n",
       "         5.39550781e-02,  1.20605469e-01,  1.94091797e-02,\n",
       "        -3.17382812e-02, -1.34277344e-02,  2.60925293e-03,\n",
       "         8.10546875e-02, -9.81445312e-02,  1.24023438e-01,\n",
       "        -2.05078125e-02, -1.20117188e-01,  2.66113281e-02,\n",
       "        -2.34375000e-02,  9.13085938e-02,  2.53906250e-02,\n",
       "        -9.66796875e-02,  2.42919922e-02,  2.07031250e-01,\n",
       "        -2.87109375e-01,  2.73437500e-02,  1.55273438e-01,\n",
       "         3.22265625e-02,  1.16577148e-02,  1.21093750e-01,\n",
       "         2.09960938e-02, -1.62109375e-01,  5.12695312e-02,\n",
       "         8.05664062e-02, -1.16729736e-03, -1.66992188e-01,\n",
       "         8.39843750e-02, -3.16406250e-01,  1.11816406e-01,\n",
       "        -2.45361328e-02,  9.76562500e-02,  6.73828125e-02,\n",
       "         1.20117188e-01,  9.81445312e-02,  1.19140625e-01,\n",
       "         1.39648438e-01,  7.42187500e-02,  2.52685547e-02,\n",
       "        -6.78710938e-02, -8.74023438e-02, -1.67968750e-01,\n",
       "         1.57226562e-01, -5.10253906e-02,  7.22656250e-02,\n",
       "        -2.34375000e-01,  9.76562500e-02, -2.57812500e-01,\n",
       "         5.63964844e-02, -4.24804688e-02, -1.31225586e-02,\n",
       "         1.79443359e-02, -5.78613281e-02, -1.14746094e-01,\n",
       "        -1.42578125e-01,  6.20117188e-02, -1.91406250e-01,\n",
       "        -1.69921875e-01, -4.76074219e-02,  3.61328125e-02,\n",
       "        -2.94189453e-02,  1.54296875e-01, -1.24511719e-02,\n",
       "        -1.30004883e-02, -3.10546875e-01, -2.42919922e-02,\n",
       "        -8.64257812e-02, -1.53320312e-01, -1.40625000e-01,\n",
       "         1.33056641e-02, -1.67968750e-01, -1.44531250e-01,\n",
       "         6.88476562e-02, -1.92382812e-01, -8.00781250e-02,\n",
       "         1.91650391e-02,  7.37304688e-02,  1.52343750e-01,\n",
       "        -1.34765625e-01,  2.92968750e-03,  2.57812500e-01,\n",
       "         1.52343750e-01, -2.88085938e-02, -1.25000000e-01,\n",
       "         1.34765625e-01, -1.67236328e-02, -6.34765625e-02,\n",
       "         2.65625000e-01,  1.34765625e-01,  1.38671875e-01,\n",
       "         1.29394531e-02,  6.54296875e-02, -1.57226562e-01,\n",
       "         2.73437500e-02, -8.10546875e-02,  1.79687500e-01,\n",
       "         2.84423828e-02,  2.57812500e-01,  4.78515625e-02,\n",
       "        -9.81445312e-02, -2.24609375e-01, -9.76562500e-02,\n",
       "         7.95898438e-02, -5.83496094e-02,  5.90820312e-02,\n",
       "        -6.15234375e-02, -2.33398438e-01, -1.28906250e-01,\n",
       "         2.47802734e-02,  7.91015625e-02,  7.42187500e-02,\n",
       "        -4.83398438e-02, -9.42382812e-02, -1.69921875e-01,\n",
       "        -5.71289062e-02, -1.67968750e-01, -9.86328125e-02,\n",
       "         1.25976562e-01,  3.41796875e-01, -2.17773438e-01,\n",
       "        -9.32617188e-02, -4.49218750e-02,  9.03320312e-02,\n",
       "        -1.92382812e-01, -6.64062500e-02, -1.54296875e-01,\n",
       "         5.51757812e-02, -1.59179688e-01, -4.58984375e-02,\n",
       "        -1.02539062e-01, -4.44335938e-02,  4.61425781e-02,\n",
       "        -8.98437500e-02,  4.27246094e-02, -1.22680664e-02,\n",
       "        -4.71191406e-02,  2.44140625e-02,  1.06445312e-01,\n",
       "        -2.40478516e-02,  1.98242188e-01, -8.10546875e-02,\n",
       "        -1.78710938e-01,  3.85742188e-02, -3.36914062e-02,\n",
       "         1.41601562e-01, -7.76367188e-02,  1.18652344e-01,\n",
       "        -1.09863281e-01, -7.91015625e-02,  1.71875000e-01,\n",
       "        -5.64575195e-03,  9.81445312e-02, -5.56640625e-02,\n",
       "        -2.67578125e-01, -6.20117188e-02, -4.78515625e-02,\n",
       "         1.02050781e-01,  7.76367188e-02, -1.20849609e-02,\n",
       "        -7.01904297e-03,  1.49414062e-01,  2.40478516e-02,\n",
       "         7.27539062e-02,  9.47265625e-02,  1.96533203e-02,\n",
       "         7.81250000e-03, -2.98828125e-01,  9.08203125e-02,\n",
       "         1.42578125e-01, -1.19018555e-02,  9.66796875e-02,\n",
       "         2.95410156e-02, -8.49609375e-02, -2.23632812e-01]], dtype=float32)"
      ]
     },
     "execution_count": 47,
     "metadata": {},
     "output_type": "execute_result"
    }
   ],
   "source": [
    "# word 2\n",
    "# ----------\n",
    "googlenews_word2vec_model.__getitem__(['company'])"
   ]
  },
  {
   "cell_type": "code",
   "execution_count": null,
   "metadata": {
    "scrolled": true
   },
   "outputs": [
    {
     "data": {
      "text/plain": [
       "array([[-1.50146484e-02,  1.93359375e-01,  1.48315430e-02,\n",
       "         7.37304688e-02,  2.49023438e-01, -2.61230469e-02,\n",
       "         3.75976562e-02, -9.81445312e-02,  1.99218750e-01,\n",
       "        -2.37304688e-01, -2.69531250e-01, -1.73828125e-01,\n",
       "        -9.37500000e-02,  2.13867188e-01, -1.88476562e-01,\n",
       "         7.37304688e-02,  3.57421875e-01,  1.43554688e-01,\n",
       "         7.65991211e-03, -8.05664062e-02,  7.37304688e-02,\n",
       "         8.59375000e-02,  1.15722656e-01, -2.01171875e-01,\n",
       "         2.03125000e-01, -2.02148438e-01,  8.64257812e-02,\n",
       "        -2.75390625e-01,  2.61718750e-01,  1.91406250e-01,\n",
       "        -1.58203125e-01,  6.54296875e-02,  3.14453125e-01,\n",
       "         1.02539062e-01,  2.21679688e-01,  1.53320312e-01,\n",
       "        -1.79687500e-01,  1.16729736e-03,  1.01562500e-01,\n",
       "         7.66601562e-02, -1.02539062e-01, -1.61132812e-01,\n",
       "        -3.49121094e-02, -1.25000000e-01,  1.86767578e-02,\n",
       "        -1.89208984e-02,  6.00585938e-02,  1.59179688e-01,\n",
       "        -1.21093750e-01,  1.45507812e-01,  2.40234375e-01,\n",
       "        -1.78710938e-01, -2.50000000e-01,  1.40625000e-01,\n",
       "         1.47460938e-01,  3.83300781e-02, -2.22656250e-01,\n",
       "         2.83203125e-01, -2.98828125e-01, -2.27539062e-01,\n",
       "        -1.09863281e-01,  1.53320312e-01, -1.96289062e-01,\n",
       "        -1.17675781e-01,  3.24707031e-02, -4.07714844e-02,\n",
       "        -1.48925781e-02, -1.51367188e-01,  2.86865234e-02,\n",
       "         1.43554688e-01,  1.02050781e-01, -1.77734375e-01,\n",
       "         2.21679688e-01, -2.73437500e-01, -9.03320312e-02,\n",
       "         2.19345093e-04,  6.78710938e-02,  3.63281250e-01,\n",
       "        -6.73828125e-02,  8.34960938e-02, -1.37695312e-01,\n",
       "         2.57812500e-01,  5.88378906e-02,  8.54492188e-02,\n",
       "         8.74023438e-02,  1.82617188e-01, -6.93359375e-02,\n",
       "         1.22070312e-01, -1.25976562e-01, -2.57812500e-01,\n",
       "         5.22460938e-02,  2.08007812e-01,  2.24609375e-02,\n",
       "        -2.08984375e-01, -2.78320312e-02, -2.38281250e-01,\n",
       "        -1.31835938e-01,  2.59765625e-01,  1.47460938e-01,\n",
       "         1.21459961e-02,  8.93554688e-02,  1.42822266e-02,\n",
       "         5.15136719e-02,  4.61425781e-02,  1.90429688e-01,\n",
       "        -3.24218750e-01, -2.53906250e-01,  1.37695312e-01,\n",
       "         1.78222656e-02, -5.76171875e-02,  3.93676758e-03,\n",
       "         3.02734375e-02, -2.89062500e-01, -1.97265625e-01,\n",
       "        -1.04980469e-01,  2.08984375e-01, -7.12890625e-02,\n",
       "         1.72851562e-01,  2.85156250e-01,  2.53906250e-02,\n",
       "        -9.61914062e-02, -1.02539062e-02,  9.76562500e-02,\n",
       "        -2.06298828e-02,  2.40234375e-01, -2.09960938e-01,\n",
       "        -2.08007812e-01,  1.80664062e-01, -1.14257812e-01,\n",
       "         1.35742188e-01, -8.10546875e-02,  6.65283203e-03,\n",
       "        -6.83593750e-02, -1.31835938e-01,  1.70898438e-01,\n",
       "        -8.10546875e-02, -1.90429688e-01, -5.27343750e-02,\n",
       "        -1.68945312e-01,  7.38525391e-03, -5.22460938e-02,\n",
       "        -4.27734375e-01,  9.76562500e-02, -2.07031250e-01,\n",
       "        -1.51367188e-01, -7.56835938e-02, -5.44433594e-02,\n",
       "         3.22265625e-01, -7.86132812e-02, -1.39770508e-02,\n",
       "        -8.00781250e-02, -6.05468750e-02,  1.33789062e-01,\n",
       "        -2.09960938e-02,  1.25976562e-01, -5.73730469e-02,\n",
       "         4.73632812e-02, -1.11328125e-01, -1.03027344e-01,\n",
       "         9.32617188e-02,  1.96289062e-01,  1.80664062e-01,\n",
       "         8.49609375e-02, -8.74023438e-02, -6.73828125e-02,\n",
       "         7.71484375e-02,  1.64062500e-01, -1.39648438e-01,\n",
       "        -2.69531250e-01,  1.91406250e-01, -1.23535156e-01,\n",
       "        -1.75781250e-01,  2.91015625e-01, -1.53320312e-01,\n",
       "        -4.83398438e-02, -3.24707031e-02, -1.91406250e-01,\n",
       "         3.12500000e-02, -2.03125000e-01, -7.08007812e-02,\n",
       "        -1.00097656e-01, -3.49609375e-01,  1.83593750e-01,\n",
       "         5.63964844e-02,  9.96093750e-02, -2.79296875e-01,\n",
       "        -7.56835938e-02,  8.83789062e-02,  1.72851562e-01,\n",
       "         3.51562500e-01, -2.12890625e-01, -3.93066406e-02,\n",
       "        -4.04296875e-01, -8.72802734e-03, -1.32812500e-01,\n",
       "         3.02734375e-01, -1.08398438e-01, -1.75781250e-02,\n",
       "         9.08203125e-02, -2.77343750e-01, -1.90429688e-01,\n",
       "         2.69531250e-01, -3.90625000e-02, -7.71484375e-02,\n",
       "         1.04003906e-01, -3.75976562e-02, -3.02734375e-01,\n",
       "         5.88378906e-02,  3.88183594e-02, -1.22558594e-01,\n",
       "         1.40380859e-02,  3.34472656e-02,  1.71875000e-01,\n",
       "         1.29394531e-02,  1.93359375e-01,  7.56835938e-03,\n",
       "         1.51367188e-01,  2.27539062e-01, -2.28515625e-01,\n",
       "        -2.79296875e-01,  3.22265625e-02, -1.66015625e-01,\n",
       "        -1.63085938e-01, -3.59375000e-01,  1.31835938e-01,\n",
       "         6.98242188e-02, -9.32617188e-02,  6.15234375e-02,\n",
       "        -4.05883789e-03,  1.40625000e-01, -1.46484375e-01,\n",
       "         5.00488281e-02,  5.22460938e-02, -4.15039062e-02,\n",
       "        -6.49414062e-02, -1.56250000e-01,  1.48437500e-01,\n",
       "        -3.12500000e-01,  2.65625000e-01,  5.17578125e-02,\n",
       "         2.33398438e-01,  1.50390625e-01,  2.85644531e-02,\n",
       "         1.11328125e-01, -9.57031250e-02, -1.14746094e-01,\n",
       "         1.22558594e-01, -1.21093750e-01, -7.22656250e-02,\n",
       "        -2.83203125e-01, -9.21630859e-03,  8.05664062e-02,\n",
       "        -8.10546875e-02, -1.00097656e-01, -2.26562500e-01,\n",
       "         1.59179688e-01,  8.15429688e-02,  2.37304688e-01,\n",
       "         4.63867188e-02, -2.27539062e-01, -2.30468750e-01,\n",
       "         1.62109375e-01, -4.04296875e-01,  5.90820312e-02,\n",
       "        -1.14135742e-02,  1.08886719e-01, -1.08398438e-01,\n",
       "         6.25000000e-02, -2.48046875e-01, -2.19726562e-01,\n",
       "        -2.03125000e-01,  2.06054688e-01, -8.83789062e-02,\n",
       "         1.01562500e-01,  6.78710938e-02,  8.74023438e-02,\n",
       "        -1.42822266e-02, -2.53906250e-01,  7.22656250e-02,\n",
       "         1.07421875e-01, -6.25000000e-02,  2.35595703e-02,\n",
       "         9.13085938e-02,  1.51977539e-02, -2.45117188e-01,\n",
       "         1.54296875e-01,  9.21630859e-03,  1.03027344e-01,\n",
       "         7.61718750e-02,  5.71289062e-02, -2.53906250e-01,\n",
       "         4.64843750e-01, -2.65625000e-01, -2.45117188e-01,\n",
       "         6.07910156e-02,  1.23046875e-01, -1.48437500e-01,\n",
       "         4.19921875e-01, -1.50390625e-01, -9.96093750e-02]], dtype=float32)"
      ]
     },
     "execution_count": 48,
     "metadata": {},
     "output_type": "execute_result"
    }
   ],
   "source": [
    "# word 3 \n",
    "# ----------\n",
    "googlenews_word2vec_model.__getitem__(['credit'])"
   ]
  },
  {
   "cell_type": "markdown",
   "metadata": {},
   "source": [
    "As above, the cell directly below will return a list of words that have been turned into word vectors by the model above:"
   ]
  },
  {
   "cell_type": "code",
   "execution_count": null,
   "metadata": {},
   "outputs": [
    {
     "name": "stdout",
     "output_type": "stream",
     "text": [
      "['</s>', 'in', 'for', 'that', 'is', 'on', '##', 'The', 'with', 'said', 'was', 'the', 'at', 'not', 'as', 'it', 'be', 'from', 'by', 'are', 'I', 'have', 'he', 'will', 'has', '####', 'his', 'an', 'this', 'or', 'their', 'who', 'they', 'but', '$', 'had', 'year', 'were', 'we', 'more', '###', 'up', 'been', 'you', 'its', 'one', 'about', 'would', 'which', 'out', 'can', 'It', 'all', 'also', 'two', 'after', 'first', 'He', 'do', 'time', 'than', 'when', 'We', 'over', 'last', 'new', 'other', 'her', 'people', 'into', 'In', 'our', 'there', 'A', 'she', 'could', 'just', 'years', 'some', 'U.S.', 'three', 'million', 'them', 'what', 'But', 'so', 'no', 'like', 'if', 'only', 'percent', 'get', 'did', 'him', 'game', 'back', 'because', 'now', '#.#', 'before']\n"
     ]
    }
   ],
   "source": [
    "# return a list of words for which we have calculations\n",
    "# ----------\n",
    "words = list(googlenews_word2vec_model.index_to_key) \n",
    "print(words[0:100])"
   ]
  },
  {
   "cell_type": "markdown",
   "metadata": {},
   "source": [
    "`gensim` comes with some handy methods to analyze word relationships. `similarity` will give us a number from 0-1 based on how similar two words are. If this sounds like cosine similarity for words, you'd be right! It just takes the cosine similarity of the high dimensional vectors we input. \n",
    "\n",
    "In the following cell, find the similarity between the words `credit` and `debt`. \n",
    "\n",
    "**QUESTION:** How does this compare to the model trained on our own small dataset?"
   ]
  },
  {
   "cell_type": "code",
   "execution_count": null,
   "metadata": {},
   "outputs": [
    {
     "data": {
      "text/plain": [
       "0.48311687"
      ]
     },
     "execution_count": 50,
     "metadata": {},
     "output_type": "execute_result"
    }
   ],
   "source": [
    "# similarty between credit and debt and compare to above\n",
    "# ----------\n",
    "googlenews_word2vec_model.similarity('credit', \n",
    "                                     'debt')"
   ]
  },
  {
   "cell_type": "markdown",
   "metadata": {},
   "source": [
    "**ANSWER:** This seems more sensible than ~0.98. They are related but have clear differences. \n",
    "\n",
    "We can also find cosine distance between two clusters of word vectors. Each cluster is measured as the mean of its words:"
   ]
  },
  {
   "cell_type": "code",
   "execution_count": null,
   "metadata": {},
   "outputs": [
    {
     "data": {
      "text/plain": [
       "0.65839386"
      ]
     },
     "execution_count": 51,
     "metadata": {},
     "output_type": "execute_result"
    }
   ],
   "source": [
    "# similarity between credit/debt and loan/mortgage\n",
    "# ----------\n",
    "googlenews_word2vec_model.n_similarity(['credit','debt'],['loan','mortgage'])"
   ]
  },
  {
   "cell_type": "markdown",
   "metadata": {},
   "source": [
    "We can find words that don't belong with `doesnt_match` parameter. This finds the mean vector of the words in the `list`, and identifies the furthest away. Try it out. Of the three words in the list `['credit', 'loan', 'student']`, which is the furthest vector from the mean?"
   ]
  },
  {
   "cell_type": "code",
   "execution_count": null,
   "metadata": {},
   "outputs": [
    {
     "data": {
      "text/plain": [
       "'student'"
      ]
     },
     "execution_count": 52,
     "metadata": {},
     "output_type": "execute_result"
    }
   ],
   "source": [
    "# words that don't match 1\n",
    "# ----------\n",
    "googlenews_word2vec_model.doesnt_match(['credit', 'loan', 'student'])"
   ]
  },
  {
   "cell_type": "code",
   "execution_count": null,
   "metadata": {},
   "outputs": [
    {
     "data": {
      "text/plain": [
       "'bank'"
      ]
     },
     "execution_count": 53,
     "metadata": {},
     "output_type": "execute_result"
    }
   ],
   "source": [
    "# words that don't match 2\n",
    "# ----------\n",
    "googlenews_word2vec_model.doesnt_match(('pandemic', 'covid', 'bank'))"
   ]
  },
  {
   "cell_type": "markdown",
   "metadata": {},
   "source": [
    "Let's look at how the Google News model did for this example above: \n",
    "$$\\vec{house} - \\vec{rent} + \\vec{loan} = $$"
   ]
  },
  {
   "cell_type": "code",
   "execution_count": null,
   "metadata": {},
   "outputs": [
    {
     "data": {
      "text/plain": [
       "[('Loan', 0.4047454297542572),\n",
       " ('Cypress_BizMark_loan', 0.38223084807395935),\n",
       " ('bungalow', 0.38082677125930786),\n",
       " ('loans', 0.37835103273391724),\n",
       " ('lender', 0.37541475892066956),\n",
       " ('mortgage', 0.36497557163238525),\n",
       " ('residence', 0.3630841076374054),\n",
       " ('NHRP_eligible', 0.3618188202381134),\n",
       " ('houses', 0.35680121183395386),\n",
       " ('midfielder_Eric_Skora', 0.35474005341529846)]"
      ]
     },
     "execution_count": 54,
     "metadata": {},
     "output_type": "execute_result"
    }
   ],
   "source": [
    "# vector math with google\n",
    "# ----------\n",
    "googlenews_word2vec_model.most_similar(positive=['house', 'loan'], \n",
    "                                       negative=['rent'])"
   ]
  },
  {
   "cell_type": "markdown",
   "metadata": {},
   "source": [
    "### Challenge PCA\n",
    "\n",
    "Next we will explore the word embeddings of our `text` visually with PCA. We can retrieve __all__ of the vectors from a trained model as follows:"
   ]
  },
  {
   "cell_type": "code",
   "execution_count": null,
   "metadata": {},
   "outputs": [
    {
     "name": "stdout",
     "output_type": "stream",
     "text": [
      "(181, 300)\n",
      "['contacting', 'mortgage', 'mortgage', 'avail', 'expressed', 'concern', 'damage', 'house', 'severe', 'mold', 'continued', 'dollars', 'mortgage', 'payments', 'house', 'water', 'called', 'backs', 'approved', 'loan', 'refinancing', 'told', 'lender', 'house', 'house', 'flooded', 'continued', 'payments', 'living', 'house', 'deemed', 'house', 'invested', 'walk', 'away', 'property', 'flood', 'insurance', 'house', 'submitted', 'damage', 'caused', 'thing', 'mortgage', 'companies', 'interested', 'mortgage', 'monthly', 'payments', 'submitted', 'supporting', 'documentation', 'work', 'related', 'job', 'working', 'waiting', 'help', 'restore', 'program', 'gotten', 'help', 'restore', 'program', 'fixed', 'house', 'sold', 'choosing', 'told', 'mortgage', 'mortgage', 'helping', 'homeowners', 'homes', 'foreclosure', 'offered', 'chance', 'refinance', 'mortgage', 'companies', 'involved', 'given', 'chance', 'loan', 'modification', 'chance', 'forbearance', 'parties', 'mentioned', 'aware', 'house', 'flooded', 'lender', 'refinance', 'mortgage', 'mortgage', 'contacted', 'mortgage', 'interest', 'loan', 'modification', 'asked', 'send', 'packet', 'email', 'address', 'told', 'packet', 'emailed', 'told', 'time', 'website', 'loan', 'modification', 'packet', 'tried', 'got', 'employees', 'public', 'help', 'avail', 'today', 'waiting', 'loan', 'modification', 'packet', 'arrive', 'mail', 'asked', 'agents', 'mortgage', 'interest', 'refinancing', 'mortgage', 'told', 'agent', 'house', 'fixed', 'explained', 'agent', 'mortgage', 'refinance', 'expect', 'lending', 'company', 'refinance', 'add', 'health', 'staying', 'house', 'affected', 'health', 'addressed', 'staying', 'refuse', 'let', 'children', 'health', 'concerns', 'staying', 'prevent', 'house', 'told', 'loan', 'modification', 'packet', 'returned', 'days', 'submitted', 'claim', 'prior', 'claim', 'difference', 'told', 'previous', 'years', 'consumer', 'financial', 'protection', 'bureau', 'like']\n"
     ]
    }
   ],
   "source": [
    "# retrieve all vectors\n",
    "# ----------\n",
    "\n",
    "# create list of model_words\n",
    "model_words = [word for word in doc if word in model.wv.index_to_key and word in googlenews_word2vec_model.index_to_key]\n",
    "\n",
    "# get word embeddings of model_words and save to a new object\n",
    "X = googlenews_word2vec_model.__getitem__(model_words)\n",
    "\n",
    "# print shape and words\n",
    "print(X.shape) # 181 words, 300 element vectors \n",
    "print(model_words)"
   ]
  },
  {
   "cell_type": "markdown",
   "metadata": {},
   "source": [
    "As we do with non-text features, we want to standardize X so that all features have the same scale. Do this by creating a `StandardScaler()`, then run its `fit_transform method` on X. "
   ]
  },
  {
   "cell_type": "code",
   "execution_count": null,
   "metadata": {},
   "outputs": [],
   "source": [
    "# scale the data\n",
    "# ----------\n",
    "X_std = StandardScaler().fit_transform(X)"
   ]
  },
  {
   "cell_type": "code",
   "execution_count": null,
   "metadata": {},
   "outputs": [],
   "source": [
    "# fit a PCA \n",
    "# ----------\n",
    "# initalize model and set parameters\n",
    "pca = PCA(n_components=2, \n",
    "          random_state = 21) # set n_components to 2 to graph in 2-D\n",
    "\n",
    "# fit and transform the standardized data\n",
    "Y_pca = pca.fit_transform(X_std)"
   ]
  },
  {
   "cell_type": "code",
   "execution_count": null,
   "metadata": {},
   "outputs": [
    {
     "data": {
      "text/plain": [
       "<Axes: >"
      ]
     },
     "execution_count": 58,
     "metadata": {},
     "output_type": "execute_result"
    },
    {
     "data": {
      "image/png": "[encoded data removed]",
      "text/plain": [
       "<Figure size 640x480 with 1 Axes>"
      ]
     },
     "metadata": {},
     "output_type": "display_data"
    }
   ],
   "source": [
    "# visualize\n",
    "# ----------\n",
    "sns.scatterplot(x = Y_pca[:, 0], # extract all the elements from the first column\n",
    "                y = Y_pca[:, 1]) # extract all the elements from the second column"
   ]
  },
  {
   "cell_type": "code",
   "execution_count": null,
   "metadata": {},
   "outputs": [
    {
     "data": {
      "image/png": "[encoded data removed]",
      "text/plain": [
       "<Figure size 640x480 with 1 Axes>"
      ]
     },
     "metadata": {},
     "output_type": "display_data"
    }
   ],
   "source": [
    "# recreate the visualization with 2 components\n",
    "# ----------\n",
    "\n",
    "# set random seed\n",
    "random.seed(10)\n",
    "\n",
    "# sample 25 words\n",
    "rando_words = random.sample(model_words, 25) \n",
    "\n",
    "# get embeddings\n",
    "X1 = model.wv.__getitem__(rando_words)\n",
    "\n",
    "# initalize PCA\n",
    "pca1 = PCA(n_components=2, \n",
    "           random_state=16)\n",
    "\n",
    "# fit and transform\n",
    "result = pca1.fit_transform(X1)\n",
    "\n",
    "# create dataframe\n",
    "result_df = pd.DataFrame(result,               \n",
    "                         columns = ['PC1', 'PC2'], \n",
    "                         index = rando)\n",
    "\n",
    "# create scatterplot\n",
    "sns.scatterplot(x = 'PC1',        # specify x-axis\n",
    "                y = 'PC2',        # specify y-axis\n",
    "                data = result_df) # specify dataset\n",
    "\n",
    "# initialize empty list\n",
    "texts = []\n",
    "\n",
    "# append words to list - FOR SOME REASON, THIS LINE WILL NOT RUN. YOU GET THE SAME OUTPUT JUST W/O THE LABELS\n",
    "#for word in result_df.index:\n",
    "#    texts.append(plt.text(result_df.loc[word, 'PC1'], \n",
    "#                          result_df.loc[word, 'PC2'], \n",
    "#                          word, \n",
    "#                          fontsize = 8))\n",
    "\n",
    "# plot text using adjust_text (because overlapping text is hard to read)\n",
    "adjust_text(texts, \n",
    "            force_text = (0.4,0.4),\n",
    "            expand = (1.2,1),\n",
    "            arrowprops = dict(arrowstyle = \"-\", \n",
    "                              color = 'black', \n",
    "                              lw = 0.5))\n",
    "\n",
    "plt.show()"
   ]
  },
  {
   "cell_type": "markdown",
   "metadata": {},
   "source": [
    "## Averaging Word Embeddings\n",
    "\n",
    "And then let's do this for every token and document in our corpus:"
   ]
  },
  {
   "cell_type": "code",
   "execution_count": null,
   "metadata": {},
   "outputs": [],
   "source": [
    "# create function to iterate over every token and document in our corpus\n",
    "# ----------\n",
    "def document_vector(model, doc):\n",
    "    doc = [word for word in doc if word in model.index_to_key]\n",
    "    return np.mean(model.__getitem__(doc), axis=0)"
   ]
  },
  {
   "cell_type": "code",
   "execution_count": null,
   "metadata": {},
   "outputs": [
    {
     "data": {
      "text/plain": [
       "array([[ 0.03796037,  0.05821978, -0.00205863, ...,  0.00640613,\n",
       "         0.00712417, -0.07280504],\n",
       "       [ 0.05317768,  0.04684288,  0.087987  , ..., -0.07933888,\n",
       "        -0.06313766, -0.05923622],\n",
       "       [-0.00520572,  0.04674008,  0.00132618, ..., -0.0285939 ,\n",
       "        -0.01937076, -0.0460888 ],\n",
       "       ...,\n",
       "       [-0.01382413,  0.00547061,  0.04800813, ..., -0.08165707,\n",
       "        -0.0485601 , -0.03988515],\n",
       "       [-0.01597179,  0.06579659,  0.00093989, ...,  0.00629847,\n",
       "        -0.02386752, -0.09298567],\n",
       "       [ 0.01626694,  0.03356077,  0.02240847, ..., -0.0462443 ,\n",
       "         0.02179062, -0.03034197]], dtype=float32)"
      ]
     },
     "execution_count": 61,
     "metadata": {},
     "output_type": "execute_result"
    }
   ],
   "source": [
    "# create an array for the size of the corpus\n",
    "# ----------\n",
    "# create empty list\n",
    "empty_list_embeddings_means = []\n",
    "\n",
    "# loop over each each token\n",
    "for doc in cfpb['tokens']: # append the vector for each document\n",
    "    empty_list_embeddings_means.append(document_vector(googlenews_word2vec_model, doc))\n",
    "\n",
    "# convert the list to array\n",
    "doc_average_embeddings = np.array(empty_list_embeddings_means) \n",
    "\n",
    "# print averages\n",
    "doc_average_embeddings"
   ]
  },
  {
   "cell_type": "markdown",
   "metadata": {},
   "source": [
    "### Challenge: Classification\n",
    "\n",
    "Let's run a classificaiton model using the Google News trained model. \n",
    "\n",
    "**QUESTION:** How does this pre-trained library do compared to our first model fit to our own data? Why do you think this is?"
   ]
  },
  {
   "cell_type": "code",
   "execution_count": null,
   "metadata": {},
   "outputs": [],
   "source": [
    "# convert word embeddings into dataframe\n",
    "# ----------\n",
    "word2vec_features_df = pd.DataFrame(doc_average_embeddings)"
   ]
  },
  {
   "cell_type": "code",
   "execution_count": null,
   "metadata": {},
   "outputs": [
    {
     "data": {
      "image/png": "[encoded data removed]",
      "text/plain": [
       "<Figure size 1000x700 with 2 Axes>"
      ]
     },
     "metadata": {},
     "output_type": "display_data"
    }
   ],
   "source": [
    "#\n",
    "# Classifcation model\n",
    "# ----------------------------------------\n",
    "\n",
    "\n",
    "# specify logit model\n",
    "# ----------\n",
    "\n",
    "# create label\n",
    "y = cfpb['Product_binary']\n",
    "\n",
    "# split into training\n",
    "X_train, X_test, y_train, y_test = train_test_split(word2vec_features_df, # specify features\n",
    "                                                    y,                    # specify labels\n",
    "                                                    train_size = .80,     # specify training split\n",
    "                                                    test_size=0.20,       # specify test split\n",
    "                                                    random_state = 10)    # set seed\n",
    "# inititialize a model\n",
    "logit_reg = LogisticRegression()\n",
    "\n",
    "# fit on training\n",
    "logit_model = logit_reg.fit(X_train, \n",
    "                            y_train.ravel())\n",
    "\n",
    "# predict on test data\n",
    "y_pred = logit_model.predict(X_test)\n",
    "\n",
    "# confusion matrix\n",
    "# ----------\n",
    "\n",
    "# create confusion matrix \n",
    "cf_matrix = confusion_matrix(y_test,              # actual\n",
    "                             y_pred,              # predictions\n",
    "                             normalize = \"true\")  # normalize\n",
    "\n",
    "# create dataframe\n",
    "df_cm = pd.DataFrame(cf_matrix,   # specify matrix for calculations\n",
    "                     range(2),\n",
    "                     range(2))\n",
    "\n",
    "# rename indices\n",
    "df_cm = df_cm.rename(index=str, columns={0: \"Checking or savings account\", \n",
    "                                         1: \"Student loan\"})\n",
    "\n",
    "df_cm.index = [\"Checking or savings account\", \"Student loan\"]\n",
    "\n",
    "\n",
    "# plot specifications\n",
    "# ----------\n",
    "\n",
    "plt.figure(figsize = (10,7))\n",
    "sns.set(font_scale=1.4)#for label size\n",
    "sns.heatmap(df_cm, \n",
    "           annot=True,\n",
    "           annot_kws={\"size\": 16},\n",
    "           fmt='g')\n",
    "\n",
    "plt.title('Google Document Averaged Embeddings')\n",
    "plt.xlabel(\"Predicted Label\")\n",
    "plt.ylabel(\"True Label\")\n",
    "plt.show()"
   ]
  },
  {
   "cell_type": "markdown",
   "metadata": {},
   "source": [
    "**ANSWER:** This model, which is traine on the Google News library, does much better the the model trained just on our data. This is likely because the Google News library has much larger training set data and therefore the model has better learned word associations than can be learned on our small dataset.  \n",
    "\n",
    "Uncomment the script code above to re-train the Google News model on your data and re-run to see how it performs in comparison. How do you think it will do?\n",
    "\n",
    "It should perform worse becuase it is a much smaller corpus and therefore does not learn the word meanings quite as well. "
   ]
  },
  {
   "cell_type": "markdown",
   "metadata": {},
   "source": [
    "# Discussion\n",
    "\n",
    "You've now had a gentle introduction to word embeddings! There are a few major lessons here.\n",
    "\n",
    "- Word embeddings are powerful and capture a lot of context that frequency based embeddings do not. However, this isn't perfect! \n",
    "- As with any machine learning application, your choice of model and hyperparameters can matter quite a lot. In this case, some of our simpler featurizations and models actually did better than word embeddings, but this won't always be true. \n",
    "- It is also worth learning more about other embeddings like [GloVe](https://nlp.stanford.edu/projects/glove/), transformer based models like [BERT](https://arxiv.org/abs/1810.04805) and deep learning approaches like [ELMo](https://arxiv.org/abs/1802.05365)."
   ]
  },
  {
   "cell_type": "markdown",
   "metadata": {},
   "source": [
    "---\n",
    "Notebook developed by Aniket Kesari. Some materials borrowed from [LS123: Data, Prediction, and Law](https://github.com/Akesari12/LS123_Data_Prediction_Law_Spring-2019/blob/master/labs/Word%20Embedding/LEGALST-190%20Word%20Embedding%20SOLUTIONS.ipynb). Modified by Prashant Sharma (2023) and annotated by Kasey Zapatka (2024)."
   ]
  }
 ],
 "metadata": {
  "kernelspec": {
   "display_name": "CSS",
   "language": "python",
   "name": "python3"
  },
  "language_info": {
   "codemirror_mode": {
    "name": "ipython",
    "version": 3
   },
   "file_extension": ".py",
   "mimetype": "text/x-python",
   "name": "python",
   "nbconvert_exporter": "python",
   "pygments_lexer": "ipython3",
   "version": "3.12.2"
  }
 },
 "nbformat": 4,
 "nbformat_minor": 4
}
