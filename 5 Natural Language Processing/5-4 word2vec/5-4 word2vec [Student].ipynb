{
 "cells": [
  {
   "cell_type": "markdown",
   "metadata": {},
   "source": [
    "# [Computational Social Science]\n",
    "## 5-4 word2vec - Student Version\n",
    "\n",
    "In this lab we will use the techniques we introduce word embeddings via word2vec."
   ]
  },
  {
   "cell_type": "markdown",
   "metadata": {},
   "source": [
    "## Virtual Environment\n",
    "Remember to always activate your virtual environment first before you install packages or run a notebook! This helps to prevent conflicts between dependencies across different projects and ensures that you are using the correct versions of packages. You must have created anaconda virtual enviornment in the `Anaconda Installation` lab. If you have not or want to create a new virtual environment, follow the instruction in the `Anaconda Installation` lab. \n",
    "\n",
    "<br>\n",
    "\n",
    "If you have already created a virtual enviornment, you can run the following command to activate it: \n",
    "\n",
    "<br>\n",
    "\n",
    "`conda activate <virtual_env_name>`\n",
    "\n",
    "<br>\n",
    "\n",
    "For example, if your virtual environment was named as CSS, run the following command. \n",
    "\n",
    "<br>\n",
    "\n",
    "`conda activate CSS`\n",
    "\n",
    "<br>\n",
    "\n",
    "To deactivate your virtual environment after you are done working with the lab, run the following command. \n",
    "\n",
    "<br>\n",
    "\n",
    "`conda deactivate`\n",
    "\n",
    "<br>"
   ]
  },
  {
   "cell_type": "code",
   "execution_count": null,
   "metadata": {},
   "outputs": [],
   "source": [
    "# load libraries\n",
    "# ----------\n",
    "import pandas as pd\n",
    "import numpy as np\n",
    "import spacy\n",
    "import en_core_web_sm\n",
    "nlp = en_core_web_sm.load()\n",
    "from spacy.lang.en.stop_words import STOP_WORDS\n",
    "from string import punctuation\n",
    "\n",
    "from tqdm import tqdm\n",
    "\n",
    "import gensim\n",
    "from gensim import models\n",
    "from gensim.models import KeyedVectors\n",
    "from gensim.models.doc2vec import Doc2Vec, TaggedDocument\n",
    "\n",
    "from sklearn.preprocessing import StandardScaler\n",
    "from sklearn.decomposition import PCA\n",
    "from sklearn import utils\n",
    "from sklearn.linear_model import LogisticRegression\n",
    "from sklearn.model_selection import train_test_split\n",
    "from sklearn.metrics import confusion_matrix\n",
    "from sklearn.preprocessing import LabelBinarizer\n",
    "from sklearn.manifold import TSNE\n",
    "\n",
    "import multiprocessing\n",
    "\n",
    "import seaborn as sns\n",
    "import matplotlib.pyplot as plt\n",
    "%matplotlib inline"
   ]
  },
  {
   "cell_type": "markdown",
   "metadata": {},
   "source": [
    "## Data"
   ]
  },
  {
   "cell_type": "markdown",
   "metadata": {},
   "source": [
    "<img src = \"../../images/cfpb_logo.png\"/>"
   ]
  },
  {
   "cell_type": "markdown",
   "metadata": {},
   "source": [
    "We'll once again use the Consumer Financial Protection Bureau's [Consumer Complaint Database](https://www.consumerfinance.gov/data-research/consumer-complaints/). Picking up from where we left off last time, we'll focus on predicting whether a consumer complaint narrative is talking about a \"mortgage\" issue or a \"student loan\" issue."
   ]
  },
  {
   "cell_type": "code",
   "execution_count": 2,
   "metadata": {},
   "outputs": [
    {
     "name": "stderr",
     "output_type": "stream",
     "text": [
      "/var/folders/f5/cxwzf1714jl8np8by14r5y8m0000gn/T/ipykernel_33558/3761492183.py:3: DtypeWarning: Columns (16) have mixed types. Specify dtype option on import or set low_memory=False.\n",
      "  cfpb = pd.read_csv(\"./data/CFPB 2020 Complaints.csv\")\n"
     ]
    }
   ],
   "source": [
    "# load the data\n",
    "# ----------\n",
    "cfpb = pd.read_csv(\"./data/CFPB 2020 Complaints.csv\")\n",
    "cfpb = cfpb.dropna(subset = ['Consumer complaint narrative'])\n",
    "cfpb = cfpb[(cfpb['Product']=='Mortgage') | (cfpb['Product'] == 'Student loan')]\n",
    "cfpb = cfpb[:1000].reset_index(drop = True)"
   ]
  },
  {
   "cell_type": "markdown",
   "metadata": {},
   "source": [
    "## Overview <a id='context'></a>\n",
    "\n",
    "In this lab, we will be turning individual words in the data set into vectors, called \"Word Embeddings\". **Word embedding** attempt to identify semantic relationships between words by observing them in the context that the word appears. `Word2Vec` is the most prominent word embedding algorithm.\n",
    "\n",
    "Imagine that each word in a novel has its meaning determined by the ones that surround it in a limited window. For example, in Moby Dick's first sentence, “me” is paired on either side by “Call” and “Ishmael.” (`“Call me Ishmael\"`). After observing the windows around every word in the novel (or many novels), the computer will notice a pattern in which “me” falls between similar pairs of words to “her,” “him,” or “them.” Of course, the computer had gone through a similar process over the words “Call” and “Ishmael,” for which “me” is reciprocally part of their contexts.  This chaining of signifiers to one another mirrors some of humanists' most sophisticated interpretative frameworks of language.\n",
    "\n",
    "The two main flavors of `Word2Vec` are CBOW (Continuous Bag of Words) and Skip-Gram, which can be distinguished partly by their input and output during training. **Skip-Grams** take a word of interest as its input (e.g., \"me\") and tries to learn how to predict its context words (\"Call\", \"Ishmael\"). **CBOW** does the opposite, taking the context words (\"Call\", \"Ishmael\") as a single input and tries to predict the word of interest (\"me\").\n",
    "\n",
    "In general, CBOW is is faster and does well with frequent words, while Skip-Gram potentially represents rare words better.\n",
    "\n",
    "### Word2Vec Features\n",
    "\n",
    "* `vector_size`: Number of dimensions for word embedding model (*formerly* `size`) \n",
    "* `window`: Number of context words to observe in each direction\n",
    "* `min_count`: Minimum frequency for words included in model\n",
    "* `sg` (Skip-Gram): '0' indicates CBOW model; '1' indicates Skip-Gram\n",
    "* `alpha`: Learning rate (initial); prevents model from over-correcting, enables finer tuning\n",
    "* `epochs`: Number of passes through dataset (*formerly* `iterations`) \n",
    "* `batch_words`: Number of words to sample from data during each pass\n",
    "\n",
    "\n",
    "For more detailed background on Word2Vec's mechanics, I suggest this  <a href=\"https://www.tensorflow.org/text/tutorials/word2vec\">brief tutorial</a> by Google, especially the sections \"Motivation,\" \"Skip-Gram Model,\" and \"Visualizing.\" There is also this [tutorial](https://radimrehurek.com/gensim/auto_examples/tutorials/run_word2vec.html#sphx-glr-auto-examples-tutorials-run-word2vec-py) that might be helpful as well. \n",
    "\n",
    "We will be using the default value for most of our parameters."
   ]
  },
  {
   "cell_type": "markdown",
   "metadata": {},
   "source": [
    "## Preprocessing"
   ]
  },
  {
   "cell_type": "markdown",
   "metadata": {},
   "source": [
    "First let's use our handy preprocessing function. Notice that this version will return a list of tokens (not a string), and we also added the `str.lower()` method."
   ]
  },
  {
   "cell_type": "code",
   "execution_count": 3,
   "metadata": {},
   "outputs": [],
   "source": [
    "# create preprocessing function - like we have in the past few labs\n",
    "# ----------\n",
    "\n",
    "def rem_punc_stop(text):\n",
    "    stop_words = STOP_WORDS\n",
    "    # Individually\n",
    "    # nlp.Defaults.stop_words.add(\"XX\")\n",
    "    # nlp.Defaults.stop_words.add(\"XXXX\")\n",
    "    # nlp.Defaults.stop_words.add(\"XXXXXXX\")\n",
    "    \n",
    "    # Using the bitwise |= (or) operator\n",
    "    nlp.Defaults.stop_words |= {\"xx\", \"xxxx\",\"xxxxxxxx\"}\n",
    "    \n",
    "    punc = set(punctuation)\n",
    "    \n",
    "    punc_free = \"\".join([ch for ch in text if ch not in punc])\n",
    "    \n",
    "    doc = nlp(punc_free)\n",
    "    \n",
    "    spacy_words = [token.text.lower() for token in doc]\n",
    "    \n",
    "    no_punc = [word for word in spacy_words if word not in stop_words]\n",
    "    \n",
    "    return no_punc"
   ]
  },
  {
   "cell_type": "code",
   "execution_count": 4,
   "metadata": {},
   "outputs": [
    {
     "data": {
      "text/plain": [
       "0      [hello, cosigner, fha, loan, loan, number, mor...\n",
       "1      [loans, serviced, aidvantage, \\n\\n, enrolled, ...\n",
       "2      [financial, hardship, government, worker, affo...\n",
       "3      [mohela, failed, communicate, important, accur...\n",
       "4      [stolen, identity, end, fix, department, educa...\n",
       "                             ...                        \n",
       "995    [lender, private, loan, servicer, mohela, deni...\n",
       "996    [covid19, forebearance, act, told, plan, descr...\n",
       "997    [recently, reviewed, years, statements, charge...\n",
       "998    [1, emailed, sps, xxxxyear, called, sps, multi...\n",
       "999    [called, mohela, took,  , student, loans, prio...\n",
       "Name: tokens, Length: 1000, dtype: object"
      ]
     },
     "execution_count": 4,
     "metadata": {},
     "output_type": "execute_result"
    }
   ],
   "source": [
    "# apply our preprocessing function to the consumer complaint column in our original dataframe\n",
    "# ----------\n",
    "cfpb['tokens'] = cfpb['Consumer complaint narrative'].map(lambda x: rem_punc_stop(x))\n",
    "cfpb['tokens']"
   ]
  },
  {
   "cell_type": "markdown",
   "metadata": {},
   "source": [
    "## Model Training\n",
    "\n",
    "Now that we have pre-processed our text, we can use the [`gensim`](https://radimrehurek.com/gensim/models/word2vec.html) library to construct our word embeddings. We will use the Continous Bag of Words model (CBOW), which predicts target words from its neighboring context words to learn word embeddings from raw text.\n",
    "\n",
    "Read through the documentation of the Word2Vec method in gensim to understand how to implement the Word2Vec model. Then fill in the blanks so that: we use a __Continuous Bag of Words__ model to create word embeddings of __vector_size 100__ for words that appear in the `text` at least __5 or more times__. Set the learning rate to .025, epochs/number of iterations to 5, and sample 10000 words from the data during each pass.\n",
    "\n",
    "**CHALLENGE:** Go ahead and annotate each line so you know what each one is doing. "
   ]
  },
  {
   "cell_type": "code",
   "execution_count": 5,
   "metadata": {},
   "outputs": [],
   "source": [
    "# apply CBOW Word2vec model to our cfpb data\n",
    "# ----------\n",
    "model = gensim.models.Word2Vec(cfpb['tokens'],   # specify data - sentences\n",
    "                               vector_size= 100,  # ...\n",
    "                               window=5,       # ...\n",
    "                               min_count=5,    # ...\n",
    "                               sg=0,             # ...\n",
    "                               alpha=0.025,        # ... \n",
    "                               epochs=5,       # ... \n",
    "                               seed=1,           # set random seed (same as random_state in sklearn )\n",
    "                               batch_words=10000,  # ...\n",
    "                               workers = 1)      # ..."
   ]
  },
  {
   "cell_type": "markdown",
   "metadata": {},
   "source": [
    "## Practice with Embeddings <a id='subsection 2'></a>\n",
    "\n",
    "Now that we've trained the mode, we can return the actual high-dimensional vector by simply indexing the model with the word as the key:"
   ]
  },
  {
   "cell_type": "code",
   "execution_count": 6,
   "metadata": {},
   "outputs": [
    {
     "name": "stdout",
     "output_type": "stream",
     "text": [
      "[[ 0.24344993  0.31578335  0.06451663  0.1095332   0.35501528 -0.5416415\n",
      "   0.5516655   1.0132245  -0.6408544  -0.22039337 -0.08962109 -0.7467598\n",
      "  -0.03871423  0.23840211 -0.02000556 -0.33053318  0.17386052 -0.46034384\n",
      "  -0.13459948 -0.879492    0.3680024   0.05144975  0.23645209 -0.20849016\n",
      "  -0.23635612 -0.0504833  -0.18092637 -0.07067711 -0.4106745   0.00212887\n",
      "   0.557341   -0.02065592  0.09469675 -0.34950665  0.08785382  0.37539378\n",
      "   0.18266475 -0.20775582 -0.28670615 -0.7884625   0.1880717  -0.51093054\n",
      "  -0.03268567 -0.00553956  0.3223483  -0.13760969 -0.20237918 -0.28011203\n",
      "   0.2669099   0.17100416  0.09787075 -0.37176424 -0.1498552   0.14230934\n",
      "  -0.5232562   0.22517641  0.13942105 -0.11891489 -0.3777184   0.2527201\n",
      "   0.27465865  0.09365211  0.22196005  0.05349127 -0.73539376  0.44660828\n",
      "   0.3018718   0.32612103 -0.65532553  0.5218315  -0.11955392  0.2579307\n",
      "   0.204896    0.14238535  0.54111725  0.13021852  0.23287229  0.15093699\n",
      "  -0.35014313 -0.00621492 -0.09421898 -0.22628707 -0.7717728   0.44007355\n",
      "  -0.27926403 -0.28102267  0.07990661  0.25202602  0.3397184   0.511326\n",
      "   0.34095165 -0.00498883  0.00524914  0.07435286  0.5381731   0.2809042\n",
      "   0.15164408 -0.4544178   0.41765407 -0.07513455]]\n"
     ]
    }
   ],
   "source": [
    "# return embeddings for specific word \n",
    "# ----------\n",
    "print(model.wv.__getitem__(['account']))  # specify a key word here: \"account\""
   ]
  },
  {
   "cell_type": "markdown",
   "metadata": {},
   "source": [
    "**QUESTION:** Check out the shape of the vectors for 'account', what do you notice?"
   ]
  },
  {
   "cell_type": "code",
   "execution_count": 7,
   "metadata": {},
   "outputs": [
    {
     "data": {
      "text/plain": [
       "(1, 100)"
      ]
     },
     "execution_count": 7,
     "metadata": {},
     "output_type": "execute_result"
    }
   ],
   "source": [
    "# get shape\n",
    "# ----------\n",
    "model.wv.__getitem__(['account']).shape"
   ]
  },
  {
   "cell_type": "markdown",
   "metadata": {},
   "source": [
    "**ANSWER:** ..."
   ]
  },
  {
   "cell_type": "markdown",
   "metadata": {},
   "source": [
    "**CHALLENGE:** Use the following empty cells to look at what the word embeddings look like for words you think may appear in the text, for example, `bank`. Keep in mind that even if a word shows up in the text as seen above, a word vector will not be created unless it satisfies all conditions we inputted into the model above. "
   ]
  },
  {
   "cell_type": "code",
   "execution_count": 8,
   "metadata": {},
   "outputs": [
    {
     "name": "stdout",
     "output_type": "stream",
     "text": [
      "[[ 0.05590696  0.21778314  0.06037746 -0.12899512  0.17757145 -0.7393289\n",
      "   0.4286989   0.96148306 -0.33327296 -0.4371452  -0.05441678 -0.85131425\n",
      "   0.02689729  0.28804687  0.02364735 -0.25107878  0.09329345 -0.53384435\n",
      "   0.0483686  -0.9281658   0.15914643  0.06811853  0.1296913  -0.27353227\n",
      "  -0.20396756  0.04451668 -0.282293   -0.053216   -0.4438227  -0.01125424\n",
      "   0.39210376  0.13257751  0.22051086 -0.45639598 -0.17124619  0.40514424\n",
      "   0.23034377 -0.4648224  -0.52554506 -0.76445264  0.00117865 -0.3367224\n",
      "  -0.21252665  0.06611375  0.5130214  -0.13166028 -0.0544741  -0.19909632\n",
      "   0.23286729  0.21412325  0.14627275 -0.3338065  -0.08272336  0.23639509\n",
      "  -0.42471132  0.19727412  0.10800872 -0.19591543 -0.3346111   0.21079096\n",
      "   0.11452653  0.07359754  0.11823492  0.13976963 -0.8830811   0.40831476\n",
      "   0.11976284  0.18387085 -0.47714102  0.3926484  -0.08801093  0.3163658\n",
      "   0.44155565  0.001077    0.62506104  0.24929176  0.05064887 -0.08897109\n",
      "  -0.5621807   0.02353168 -0.07956734  0.02115237 -0.52700263  0.42461997\n",
      "  -0.01301746 -0.0939315   0.11700734  0.3663491   0.30195472  0.42116562\n",
      "   0.5661461   0.08443928 -0.19212337  0.11892165  0.72415215  0.37967855\n",
      "   0.10111808 -0.37434432  0.20212302 -0.07089851]]\n"
     ]
    }
   ],
   "source": [
    "# word 1\n",
    "# ----------\n",
    "print(model.wv.__getitem__(['bank']))"
   ]
  },
  {
   "cell_type": "code",
   "execution_count": 9,
   "metadata": {},
   "outputs": [
    {
     "name": "stdout",
     "output_type": "stream",
     "text": [
      "[[ 0.19220024  0.17305766  0.10862435 -0.01675433  0.24384235 -0.68467265\n",
      "   0.47827652  0.9206904  -0.45405352 -0.2133339  -0.01777616 -0.8266828\n",
      "  -0.10277871  0.4032846   0.01453017 -0.33232948  0.02948302 -0.45631123\n",
      "   0.11157858 -0.88817024  0.0805806  -0.05645918  0.14080355 -0.3567188\n",
      "  -0.21762118  0.04689047 -0.24580257  0.13795264 -0.3613543  -0.02196188\n",
      "   0.49815992 -0.01192915  0.13883288 -0.53822994  0.01328181  0.39489955\n",
      "   0.28942484 -0.37568697 -0.48127222 -0.7319059   0.10068303 -0.54071444\n",
      "  -0.27886257  0.12250269  0.442179   -0.23621541 -0.04986081 -0.19169866\n",
      "   0.19372515  0.10603818  0.17651382 -0.4110744   0.04789274  0.31020787\n",
      "  -0.5244326   0.24411507  0.06634796 -0.22628061 -0.22058895  0.0702249\n",
      "   0.15388064  0.04693387  0.3390654   0.16651958 -0.90161353  0.45714337\n",
      "   0.26959375  0.2982101  -0.5780673   0.5241914  -0.05445161  0.3789402\n",
      "   0.32983178  0.06740899  0.5435239   0.23458776  0.01097776  0.13450278\n",
      "  -0.47476408 -0.07860132 -0.25084835 -0.03736602 -0.5167818   0.3650331\n",
      "  -0.09572195 -0.15870954  0.07361306  0.25328672  0.21114615  0.4546368\n",
      "   0.47901785  0.02271218 -0.08177719 -0.01915472  0.63694113  0.2571959\n",
      "   0.07491511 -0.32258537  0.28025472  0.01599615]]\n"
     ]
    }
   ],
   "source": [
    "# word 2\n",
    "# ----------\n",
    "print(model.wv.__getitem__(['mortgage']))"
   ]
  },
  {
   "cell_type": "code",
   "execution_count": 10,
   "metadata": {},
   "outputs": [
    {
     "name": "stdout",
     "output_type": "stream",
     "text": [
      "[[-0.27578723  0.43771133  0.03528306 -0.14152646  0.17638224 -0.6698562\n",
      "   0.37124208  0.8900332  -0.24668875 -0.5438069  -0.13180318 -0.73205644\n",
      "   0.01393192  0.06326588  0.07323439 -0.3032801   0.04351959 -0.56034696\n",
      "  -0.13227302 -0.7303331   0.1860374   0.30741534  0.17659771 -0.10541399\n",
      "  -0.21912076 -0.01473777 -0.17895024 -0.18495212 -0.6174244  -0.05145019\n",
      "   0.29062387  0.11244218  0.18858588 -0.280283   -0.31773365  0.41739193\n",
      "   0.14407495 -0.28685498 -0.32518765 -0.7066528   0.07170007 -0.22386472\n",
      "  -0.1414136  -0.02329508  0.47836456  0.01884893 -0.04666125 -0.24271351\n",
      "   0.29867768  0.2254238   0.21439855 -0.28313088 -0.03128625  0.027137\n",
      "  -0.34804827  0.216728    0.14718482 -0.1575027  -0.4753099   0.18798478\n",
      "   0.0818652   0.10219121 -0.10942958 -0.05056116 -0.6868313   0.34084547\n",
      "   0.09985161  0.13949533 -0.40609428  0.299543   -0.19219583  0.3239134\n",
      "   0.39733645 -0.03827087  0.6229491   0.3496295   0.02412231 -0.16850094\n",
      "  -0.46662974  0.01481146 -0.00225843 -0.09567076 -0.4756453   0.48777986\n",
      "   0.03563939 -0.14639553  0.07510247  0.41801557  0.3003642   0.40905496\n",
      "   0.5894036   0.08297278 -0.12128644  0.12855709  0.78266007  0.46880102\n",
      "   0.2188779  -0.23362295  0.13502564 -0.18382522]]\n"
     ]
    }
   ],
   "source": [
    "# word 3 \n",
    "# ----------\n",
    "print(model.wv.__getitem__(['request']))"
   ]
  },
  {
   "cell_type": "markdown",
   "metadata": {},
   "source": [
    "If you're curious, the cell directly below will return a list of words that have been turned into word vectors by the model above:"
   ]
  },
  {
   "cell_type": "code",
   "execution_count": 11,
   "metadata": {},
   "outputs": [
    {
     "name": "stdout",
     "output_type": "stream",
     "text": [
      "[' ', 'loan', 'payment', '\\n\\n', 'mortgage', '\\n', 'account', 'payments', 'received', 'told', 'nt', 'insurance', 'time', 'loans', 'mohela', 'called', 'interest', 'information', 'escrow', 'sent', 'letter', 'pay', 'home', 'company', 'forbearance', 'credit', 'xxxxyear', 'request', 'bank', 'paid', 'property', 'said', 'months', 's', 'email', 'check', 'days', 'wells', 'month', 'date', 'complaint', 'phone', 'new', 'fargo', 'modification', 'process', 'years', 'plan', 'student', 'financial', 'monthly', 'balance', 'need', 'asked', 'application', 'money', 'late', 'issue', 'requested', 'provide', 'foreclosure', 'year', 'documents', 'stated', 'times', 'federal', 'response', 'taxes', 'shellpoint', 'help', 'newrez', 'contacted', 'service', 'department', 'contact', 'applied', 'rate', '  ', 'funds', 'freedom', 'stating', 'customer', 'number', 'provided', 'tax', 'receive', 'fees', 'submitted', 'm', 'informed', 'required', 'repayment', 'debt', 'day', 'know', 'despite', 'servicing', 'send', 'able', 'multiple']\n"
     ]
    }
   ],
   "source": [
    "# return a list of word for which we have calculations\n",
    "# ----------\n",
    "words = list(model.wv.index_to_key)\n",
    "print(words[0:100])  # print the first 100 wordsd"
   ]
  },
  {
   "cell_type": "markdown",
   "metadata": {},
   "source": [
    "`gensim` comes with some handy methods to analyze word relationships. `similarity` will give us a number from 0-1 based on how similar two words are. If this sounds like cosine similarity for words, you'd be right! It just takes the cosine similarity of the high dimensional vectors we input. \n",
    "\n",
    "In the following cell, find the similarity between the words `credit` and `debt`:"
   ]
  },
  {
   "cell_type": "code",
   "execution_count": 12,
   "metadata": {},
   "outputs": [
    {
     "data": {
      "text/plain": [
       "0.9716112"
      ]
     },
     "execution_count": 12,
     "metadata": {},
     "output_type": "execute_result"
    }
   ],
   "source": [
    "# similarty between credit and debt\n",
    "# ----------\n",
    "model.wv.similarity('credit', \n",
    "                    'debt')"
   ]
  },
  {
   "cell_type": "markdown",
   "metadata": {},
   "source": [
    "We can also find cosine distance between two clusters of word vectors. Each cluster is measured as the mean of its words:"
   ]
  },
  {
   "cell_type": "code",
   "execution_count": 13,
   "metadata": {},
   "outputs": [
    {
     "data": {
      "text/plain": [
       "0.95213807"
      ]
     },
     "execution_count": 13,
     "metadata": {},
     "output_type": "execute_result"
    }
   ],
   "source": [
    "# similarity between credit/debt and loan/mortgage\n",
    "# ----------\n",
    "model.wv.n_similarity(['credit','debt'],\n",
    "                      ['loan','mortgage'])"
   ]
  },
  {
   "cell_type": "markdown",
   "metadata": {},
   "source": [
    "We can find words that don't belong with `doesnt_match`. It finds the mean vector of the words in the `list`, and identifies the furthest away. Out of the three words in the list `['credit', 'loan', 'student']`, which is the furthest vector from the mean?"
   ]
  },
  {
   "cell_type": "code",
   "execution_count": 14,
   "metadata": {},
   "outputs": [
    {
     "data": {
      "text/plain": [
       "'student'"
      ]
     },
     "execution_count": 14,
     "metadata": {},
     "output_type": "execute_result"
    }
   ],
   "source": [
    "# which doesn't belong? 1\n",
    "# ----------\n",
    "model.wv.doesnt_match(['credit', 'loan', 'student'])"
   ]
  },
  {
   "cell_type": "code",
   "execution_count": 15,
   "metadata": {},
   "outputs": [
    {
     "data": {
      "text/plain": [
       "'bank'"
      ]
     },
     "execution_count": 15,
     "metadata": {},
     "output_type": "execute_result"
    }
   ],
   "source": [
    "# which doesn't belong? 2\n",
    "# ----------\n",
    "model.wv.doesnt_match(('pandemic', 'covid', 'bank'))"
   ]
  },
  {
   "cell_type": "markdown",
   "metadata": {},
   "source": [
    "The most famous implementation of this vector math is semantics. What happens if we take:\n",
    "\n",
    "$$\\vec{house} - \\vec{rent} + \\vec{loan} = $$"
   ]
  },
  {
   "cell_type": "code",
   "execution_count": 16,
   "metadata": {},
   "outputs": [
    {
     "data": {
      "text/plain": [
       "[('private', 0.986602783203125),\n",
       " ('refinanced', 0.9839140176773071),\n",
       " ('currently', 0.982589840888977),\n",
       " ('prior', 0.9823843240737915),\n",
       " ('direct', 0.9822716116905212),\n",
       " ('years', 0.9820576310157776),\n",
       " ('consolidate', 0.9818472862243652),\n",
       " ('rates', 0.9816218018531799),\n",
       " ('servicer', 0.9813063740730286),\n",
       " ('discharged', 0.9811983108520508)]"
      ]
     },
     "execution_count": 16,
     "metadata": {},
     "output_type": "execute_result"
    }
   ],
   "source": [
    "# vector math\n",
    "# ----------\n",
    "model.wv.most_similar(positive=['house', 'loan'], \n",
    "                      negative=['rent'])"
   ]
  },
  {
   "cell_type": "markdown",
   "metadata": {},
   "source": [
    "Take a few minutes to try looking at some more vector similarity and differences. "
   ]
  },
  {
   "cell_type": "code",
   "execution_count": 17,
   "metadata": {},
   "outputs": [
    {
     "data": {
      "text/plain": [
       "0.916781"
      ]
     },
     "execution_count": 17,
     "metadata": {},
     "output_type": "execute_result"
    }
   ],
   "source": [
    "# more vector math\n",
    "# ----------\n",
    "model.wv.similarity('company','service')"
   ]
  },
  {
   "cell_type": "code",
   "execution_count": 18,
   "metadata": {},
   "outputs": [
    {
     "data": {
      "text/plain": [
       "0.84988576"
      ]
     },
     "execution_count": 18,
     "metadata": {},
     "output_type": "execute_result"
    }
   ],
   "source": [
    "model.wv.n_similarity(['house','home'],\n",
    "                      ['payment','payments'])"
   ]
  },
  {
   "cell_type": "code",
   "execution_count": 19,
   "metadata": {},
   "outputs": [
    {
     "data": {
      "text/plain": [
       "'date'"
      ]
     },
     "execution_count": 19,
     "metadata": {},
     "output_type": "execute_result"
    }
   ],
   "source": [
    "model.wv.doesnt_match(['date','month','payment'])"
   ]
  },
  {
   "cell_type": "code",
   "execution_count": 20,
   "metadata": {},
   "outputs": [
    {
     "data": {
      "text/plain": [
       "[('new', 0.9913515448570251),\n",
       " ('statement', 0.98936527967453),\n",
       " ('140000', 0.9873521327972412),\n",
       " ('bill', 0.9863402843475342),\n",
       " ('110000', 0.9863206148147583),\n",
       " ('missed', 0.9861464500427246),\n",
       " ('120000', 0.9860649108886719),\n",
       " ('analysis', 0.9860446453094482),\n",
       " ('additional', 0.9857743382453918),\n",
       " ('increased', 0.9857393503189087)]"
      ]
     },
     "execution_count": 20,
     "metadata": {},
     "output_type": "execute_result"
    }
   ],
   "source": [
    "model.wv.most_similar(positive=['month','date'],\n",
    "                      negative=['months'])"
   ]
  },
  {
   "cell_type": "code",
   "execution_count": 21,
   "metadata": {},
   "outputs": [
    {
     "data": {
      "text/plain": [
       "0.5952593"
      ]
     },
     "execution_count": 21,
     "metadata": {},
     "output_type": "execute_result"
    }
   ],
   "source": [
    "model.wv.similarity('mortgage','student')"
   ]
  },
  {
   "cell_type": "code",
   "execution_count": 22,
   "metadata": {},
   "outputs": [
    {
     "data": {
      "text/plain": [
       "0.9986506"
      ]
     },
     "execution_count": 22,
     "metadata": {},
     "output_type": "execute_result"
    }
   ],
   "source": [
    "model.wv.similarity('bad','good')"
   ]
  },
  {
   "cell_type": "code",
   "execution_count": 23,
   "metadata": {},
   "outputs": [
    {
     "data": {
      "text/plain": [
       "'worst'"
      ]
     },
     "execution_count": 23,
     "metadata": {},
     "output_type": "execute_result"
    }
   ],
   "source": [
    "model.wv.doesnt_match(['bad','worst','good'])"
   ]
  },
  {
   "cell_type": "code",
   "execution_count": 24,
   "metadata": {},
   "outputs": [
    {
     "name": "stdout",
     "output_type": "stream",
     "text": [
      "[('charges', 0.9992377161979675), ('having', 0.9991900324821472), ('way', 0.9991809129714966), ('use', 0.9991455674171448), ('resulted', 0.999127984046936), ('rent', 0.9990937113761902), ('aware', 0.9990338683128357), ('resulting', 0.9990074634552002), ('continued', 0.9990020990371704), ('reason', 0.9989846348762512)]\n",
      "[('customers', 0.9993622303009033), ('related', 0.9993203282356262), ('security', 0.9992729425430298), ('right', 0.999262273311615), ('practice', 0.9992402195930481), ('shall', 0.9992082715034485), ('fnbo', 0.9991756081581116), ('standards', 0.999165415763855), ('requirements', 0.9991552233695984), ('include', 0.9991405606269836)]\n"
     ]
    }
   ],
   "source": [
    "print(model.wv.most_similar('good', topn=10))\n",
    "print(model.wv.most_similar('bad', topn=10))"
   ]
  },
  {
   "cell_type": "code",
   "execution_count": null,
   "metadata": {},
   "outputs": [],
   "source": []
  },
  {
   "cell_type": "markdown",
   "metadata": {},
   "source": [
    "## Principal Component Analysis <a id='section 2'></a>\n",
    "\n",
    "Next we will explore the word embeddings of our `text` visually with PCA. We can retrieve __all__ of the vectors from a trained model as follows:"
   ]
  },
  {
   "cell_type": "code",
   "execution_count": 25,
   "metadata": {},
   "outputs": [],
   "source": [
    "# retrieve vectors from trained model\n",
    "# ----------\n",
    "X = model.wv.__getitem__(model.wv.index_to_key)"
   ]
  },
  {
   "cell_type": "markdown",
   "metadata": {},
   "source": [
    "As we do with non-text features, we want to standardize X so that all features have the same scale. Do this by creating a `StandardScaler()`, then run its `fit_transform` method on X. "
   ]
  },
  {
   "cell_type": "code",
   "execution_count": 26,
   "metadata": {},
   "outputs": [],
   "source": [
    "# scale the data\n",
    "# ----------\n",
    "X_std = StandardScaler().fit_transform(X)"
   ]
  },
  {
   "cell_type": "markdown",
   "metadata": {},
   "source": [
    "We can then train a projection method on the vectors, such as those methods offered in scikit-learn, then plot the projection as a scatter plot which we will do next.\n",
    "\n",
    "### Plot Word Vectors Using PCA <a id='subsection 3'></a>\n",
    "\n",
    "Recall that we can create a 2-dimensional PCA model of the word vectors using the scikit-learn PCA class. Construct a PCA objectusing the `PCA()` class of the scikit-learn library (setting n_components=2 so we can graph it in two dimensions) and use its fit_transform method on your standardized X to get Y_pca: the principal components."
   ]
  },
  {
   "cell_type": "code",
   "execution_count": 27,
   "metadata": {},
   "outputs": [],
   "source": [
    "# make a PCA\n",
    "# ----------\n",
    "pca = PCA(n_components=2,\n",
    "          random_state= 42)\n",
    "\n",
    "# fit and transform the standardized data\n",
    "# ----------\n",
    "Y_pca = pca.fit_transform(X_std)"
   ]
  },
  {
   "cell_type": "markdown",
   "metadata": {},
   "source": [
    "The resulting projection can be plotted using `matplotlib`, pulling out the two dimensions as x and y coordinates. Create a scatter plot of the standardized word embeddings, setting the __size of each scatter point to 5__ to avoid overcrowding."
   ]
  },
  {
   "cell_type": "code",
   "execution_count": 28,
   "metadata": {},
   "outputs": [
    {
     "data": {
      "image/png": "[encoded data removed]",
      "text/plain": [
       "<Figure size 640x480 with 1 Axes>"
      ]
     },
     "metadata": {},
     "output_type": "display_data"
    }
   ],
   "source": [
    "# visualize\n",
    "# ----------\n",
    "sns.scatterplot(x = Y_pca[:,0],  # extract all the elements from the first column\n",
    "                y = Y_pca[:,1]); # extract all the elements from the second column"
   ]
  },
  {
   "cell_type": "markdown",
   "metadata": {},
   "source": [
    "__QUESTION__: What do each point represent? What do the x and y axes represent?"
   ]
  },
  {
   "cell_type": "markdown",
   "metadata": {},
   "source": [
    "__ANSWER__: ..."
   ]
  },
  {
   "cell_type": "markdown",
   "metadata": {},
   "source": [
    "You might at this point still be confused on what the x- and y- axes represent. Because PCA selects and combines features according to what best describes and models the desired variable, the x and y axes actually **don't have an intuitive meaning on a human level.** PCA's job is to reduce the dimension of the features, and in this case it reduce the 100 features of each word vector to just the 2 that best described the words we modeled on. So, don't worry too much about what the coordinates of each word represents - we just want you to have a general and visual understanding of word vectors and how they may be related to one another on a graph.\n",
    "\n",
    "On that note, run the following cell. This will label each vector with its respective word. \n",
    "\n",
    "**CHALLENGE:** Annotate each line to ensure clear understanding."
   ]
  },
  {
   "cell_type": "code",
   "execution_count": 29,
   "metadata": {},
   "outputs": [
    {
     "data": {
      "image/png": "[encoded data removed]",
      "text/plain": [
       "<Figure size 640x480 with 1 Axes>"
      ]
     },
     "metadata": {},
     "output_type": "display_data"
    }
   ],
   "source": [
    "# recreate visualization with points\n",
    "# ----------\n",
    "\n",
    "# ANNOTATE EACH LINE\n",
    "\n",
    "#\n",
    "import random\n",
    "from adjustText import adjust_text\n",
    "\n",
    "#\n",
    "random.seed(10)\n",
    "\n",
    "#randomly select 25 words\n",
    "rando = random.sample(list(model.wv.index_to_key), 25) \n",
    "\n",
    "#get the word vector of each selected word\n",
    "X1 = model.wv.__getitem__(rando)\n",
    "\n",
    "\n",
    "pca1 = PCA(n_components=2, \n",
    "           random_state=15)\n",
    "\n",
    "#rerun pca on those words\n",
    "result = pca1.fit_transform(X1)\n",
    "\n",
    "#\n",
    "result_df = pd.DataFrame(result,                   # weight\n",
    "                         columns = ['PC1', 'PC2'], # naming cols\n",
    "                         index = rando)            # use word as index\n",
    "\n",
    "#\n",
    "sns.scatterplot(x = 'PC1',         # \n",
    "                y = 'PC2',         # \n",
    "                data = result_df)  # display results\n",
    "\n",
    "#\n",
    "texts = []\n",
    "\n",
    "#creating dataframe for annotation\n",
    "for word in result_df.index:\n",
    "    texts.append(plt.text(result_df.loc[word, 'PC1'], \n",
    "                          result_df.loc[word, 'PC2'], \n",
    "                          word, \n",
    "                          fontsize = 8))\n",
    "    \n",
    "#display\n",
    "adjust_text(texts, \n",
    "            force_text = (0.4,0.4),\n",
    "            expand = (1.2,1),\n",
    "            arrowprops = dict(arrowstyle = \"-\", \n",
    "                              color = 'black', \n",
    "                              lw = 0.5))\n",
    "\n",
    "#\n",
    "plt.show()"
   ]
  },
  {
   "cell_type": "markdown",
   "metadata": {},
   "source": [
    "## t-SNE\n",
    "\n",
    "Another popular unsupervised method for summarizing and visualizing word embeddings is [t-distributed stochastic neighbor embedding](https://en.wikipedia.org/wiki/T-distributed_stochastic_neighbor_embedding). We won't get into the details here, but the basic method involves:\n",
    "\n",
    "1. Estimating the joint probability of the distance between each pair of points, assuming a Gaussian distribution.\n",
    "2. Project the data into 1-dimension, and then estimate the joint probability of the distance between each pair of points assuming a Student's t-distribution.\n",
    "3. Use gradient descent to update the second distribution to become similar to the first one.\n",
    "\n",
    "The basic idea behind this two-step procedure is that we search for the the best lower dimensional representation that gets closest to modeling the original distances in higher dimensional space."
   ]
  },
  {
   "cell_type": "code",
   "execution_count": 30,
   "metadata": {},
   "outputs": [
    {
     "data": {
      "text/plain": [
       "(2976, 100)"
      ]
     },
     "execution_count": 30,
     "metadata": {},
     "output_type": "execute_result"
    }
   ],
   "source": [
    "# preprocessing\n",
    "# ----------\n",
    "\n",
    "# filter to include only those for which Word2Vec has a vector\n",
    "vector_list = [model.wv.__getitem__(word) for word in words if word in model.wv.index_to_key]\n",
    "\n",
    "# create a list of the words corresponding to these vectors\n",
    "words_filtered = [word for word in words if word in model.wv.index_to_key]\n",
    "\n",
    "# bind together both lists using zip\n",
    "word_vec_zip = zip(words_filtered, vector_list)\n",
    "\n",
    "# create a dictionary and save as a dataframe\n",
    "word_vec_dict = dict(word_vec_zip)\n",
    "word_vec_df = pd.DataFrame.from_dict(word_vec_dict, orient='index')\n",
    "word_vec_df.shape"
   ]
  },
  {
   "cell_type": "markdown",
   "metadata": {},
   "source": [
    "Here we initialize a t-SNE model using 2 components as the key hyperparameter. "
   ]
  },
  {
   "cell_type": "code",
   "execution_count": 31,
   "metadata": {},
   "outputs": [
    {
     "name": "stdout",
     "output_type": "stream",
     "text": [
      "<class 'pandas.core.frame.DataFrame'>\n",
      "(2976, 100)\n",
      "                0         1         2         3         4         5   \\\n",
      "         -0.400476  0.334358  0.052315 -0.069690  0.097499 -0.652962   \n",
      "loan     -0.322208  0.415484  0.019935  0.000032  0.173743 -0.695452   \n",
      "payment   0.162894  0.383806  0.020795  0.177307  0.379050 -0.430536   \n",
      "\\n\\n     -0.258875  0.466049  0.046051 -0.144653  0.170925 -0.721423   \n",
      "mortgage  0.192200  0.173058  0.108624 -0.016754  0.243842 -0.684673   \n",
      "\n",
      "                6         7         8         9   ...        90        91  \\\n",
      "          0.303338  0.959293 -0.375665 -0.508606  ...  0.465342  0.092515   \n",
      "loan      0.292083  1.010830 -0.458958 -0.566773  ...  0.538977  0.031766   \n",
      "payment   0.531648  1.124450 -0.724034 -0.215866  ...  0.249099 -0.045028   \n",
      "\\n\\n      0.318111  0.924514 -0.301554 -0.552353  ...  0.607275  0.089192   \n",
      "mortgage  0.478277  0.920690 -0.454054 -0.213334  ...  0.479018  0.022712   \n",
      "\n",
      "                92        93        94        95        96        97  \\\n",
      "         -0.099196  0.171239  0.848817  0.566555  0.037485 -0.255026   \n",
      "loan     -0.177654  0.189761  0.684943  0.451756  0.166718 -0.322102   \n",
      "payment   0.070170  0.122186  0.550917  0.305157  0.123412 -0.462544   \n",
      "\\n\\n     -0.178505  0.126891  0.758354  0.453059  0.222646 -0.312308   \n",
      "mortgage -0.081777 -0.019155  0.636941  0.257196  0.074915 -0.322585   \n",
      "\n",
      "                98        99  \n",
      "          0.080167 -0.030184  \n",
      "loan      0.007238 -0.121816  \n",
      "payment   0.466183 -0.164927  \n",
      "\\n\\n      0.139149 -0.178540  \n",
      "mortgage  0.280255  0.015996  \n",
      "\n",
      "[5 rows x 100 columns]\n"
     ]
    }
   ],
   "source": [
    "print(type(word_vec_df))  # 确保它是 DataFrame 或 Numpy 数组\n",
    "print(word_vec_df.shape)  # 查看数据的维度\n",
    "print(word_vec_df[:400].head())"
   ]
  },
  {
   "cell_type": "code",
   "execution_count": 32,
   "metadata": {},
   "outputs": [],
   "source": [
    "word_vec_df = word_vec_df.fillna(0) "
   ]
  },
  {
   "cell_type": "code",
   "execution_count": 33,
   "metadata": {},
   "outputs": [
    {
     "name": "stdout",
     "output_type": "stream",
     "text": [
      "{\n",
      "  \"Compilers\": {\n",
      "    \"c\": {\n",
      "      \"name\": \"clang\",\n",
      "      \"linker\": \"ld64\",\n",
      "      \"version\": \"16.0.6\",\n",
      "      \"commands\": \"arm64-apple-darwin20.0.0-clang\",\n",
      "      \"args\": \"-ftree-vectorize, -fPIC, -fstack-protector-strong, -O2, -pipe, -isystem, /opt/anaconda3/envs/CSS/include, -fdebug-prefix-map=/Users/runner/miniforge3/conda-bld/numpy_1707225421156/work=/usr/local/src/conda/numpy-1.26.4, -fdebug-prefix-map=/opt/anaconda3/envs/CSS=/usr/local/src/conda-prefix, -D_FORTIFY_SOURCE=2, -isystem, /opt/anaconda3/envs/CSS/include, -mmacosx-version-min=11.0\",\n",
      "      \"linker args\": \"-Wl,-headerpad_max_install_names, -Wl,-dead_strip_dylibs, -Wl,-rpath,/opt/anaconda3/envs/CSS/lib, -L/opt/anaconda3/envs/CSS/lib, -ftree-vectorize, -fPIC, -fstack-protector-strong, -O2, -pipe, -isystem, /opt/anaconda3/envs/CSS/include, -fdebug-prefix-map=/Users/runner/miniforge3/conda-bld/numpy_1707225421156/work=/usr/local/src/conda/numpy-1.26.4, -fdebug-prefix-map=/opt/anaconda3/envs/CSS=/usr/local/src/conda-prefix, -D_FORTIFY_SOURCE=2, -isystem, /opt/anaconda3/envs/CSS/include, -mmacosx-version-min=11.0\"\n",
      "    },\n",
      "    \"cython\": {\n",
      "      \"name\": \"cython\",\n",
      "      \"linker\": \"cython\",\n",
      "      \"version\": \"3.0.8\",\n",
      "      \"commands\": \"cython\"\n",
      "    },\n",
      "    \"c++\": {\n",
      "      \"name\": \"clang\",\n",
      "      \"linker\": \"ld64\",\n",
      "      \"version\": \"16.0.6\",\n",
      "      \"commands\": \"arm64-apple-darwin20.0.0-clang++\",\n",
      "      \"args\": \"-ftree-vectorize, -fPIC, -fstack-protector-strong, -O2, -pipe, -stdlib=libc++, -fvisibility-inlines-hidden, -fmessage-length=0, -isystem, /opt/anaconda3/envs/CSS/include, -fdebug-prefix-map=/Users/runner/miniforge3/conda-bld/numpy_1707225421156/work=/usr/local/src/conda/numpy-1.26.4, -fdebug-prefix-map=/opt/anaconda3/envs/CSS=/usr/local/src/conda-prefix, -D_FORTIFY_SOURCE=2, -isystem, /opt/anaconda3/envs/CSS/include, -mmacosx-version-min=11.0\",\n",
      "      \"linker args\": \"-Wl,-headerpad_max_install_names, -Wl,-dead_strip_dylibs, -Wl,-rpath,/opt/anaconda3/envs/CSS/lib, -L/opt/anaconda3/envs/CSS/lib, -ftree-vectorize, -fPIC, -fstack-protector-strong, -O2, -pipe, -stdlib=libc++, -fvisibility-inlines-hidden, -fmessage-length=0, -isystem, /opt/anaconda3/envs/CSS/include, -fdebug-prefix-map=/Users/runner/miniforge3/conda-bld/numpy_1707225421156/work=/usr/local/src/conda/numpy-1.26.4, -fdebug-prefix-map=/opt/anaconda3/envs/CSS=/usr/local/src/conda-prefix, -D_FORTIFY_SOURCE=2, -isystem, /opt/anaconda3/envs/CSS/include, -mmacosx-version-min=11.0\"\n",
      "    }\n",
      "  },\n",
      "  \"Machine Information\": {\n",
      "    \"host\": {\n",
      "      \"cpu\": \"arm64\",\n",
      "      \"family\": \"aarch64\",\n",
      "      \"endian\": \"little\",\n",
      "      \"system\": \"darwin\"\n",
      "    },\n",
      "    \"build\": {\n",
      "      \"cpu\": \"aarch64\",\n",
      "      \"family\": \"aarch64\",\n",
      "      \"endian\": \"little\",\n",
      "      \"system\": \"darwin\"\n",
      "    },\n",
      "    \"cross-compiled\": true\n",
      "  },\n",
      "  \"Build Dependencies\": {\n",
      "    \"blas\": {\n",
      "      \"name\": \"blas\",\n",
      "      \"found\": true,\n",
      "      \"version\": \"3.9.0\",\n",
      "      \"detection method\": \"pkgconfig\",\n",
      "      \"include directory\": \"/opt/anaconda3/envs/CSS/include\",\n",
      "      \"lib directory\": \"/opt/anaconda3/envs/CSS/lib\",\n",
      "      \"openblas configuration\": \"unknown\",\n",
      "      \"pc file directory\": \"/opt/anaconda3/envs/CSS/lib/pkgconfig\"\n",
      "    },\n",
      "    \"lapack\": {\n",
      "      \"name\": \"dep4569863840\",\n",
      "      \"found\": true,\n",
      "      \"version\": \"1.26.4\",\n",
      "      \"detection method\": \"internal\",\n",
      "      \"include directory\": \"unknown\",\n",
      "      \"lib directory\": \"unknown\",\n",
      "      \"openblas configuration\": \"unknown\",\n",
      "      \"pc file directory\": \"unknown\"\n",
      "    }\n",
      "  },\n",
      "  \"Python Information\": {\n",
      "    \"path\": \"/opt/anaconda3/envs/CSS/bin/python\",\n",
      "    \"version\": \"3.12\"\n",
      "  },\n",
      "  \"SIMD Extensions\": {\n",
      "    \"baseline\": [\n",
      "      \"NEON\",\n",
      "      \"NEON_FP16\",\n",
      "      \"NEON_VFPV4\",\n",
      "      \"ASIMD\"\n",
      "    ],\n",
      "    \"found\": [\n",
      "      \"ASIMDHP\"\n",
      "    ],\n",
      "    \"not found\": [\n",
      "      \"ASIMDFHM\"\n",
      "    ]\n",
      "  }\n",
      "}\n"
     ]
    },
    {
     "name": "stderr",
     "output_type": "stream",
     "text": [
      "/opt/anaconda3/envs/CSS/lib/python3.12/site-packages/numpy/__config__.py:155: UserWarning: Install `pyyaml` for better output\n",
      "  warnings.warn(\"Install `pyyaml` for better output\", stacklevel=1)\n"
     ]
    }
   ],
   "source": [
    "np.show_config()"
   ]
  },
  {
   "cell_type": "code",
   "execution_count": 34,
   "metadata": {},
   "outputs": [
    {
     "data": {
      "image/png": "[encoded data removed]",
      "text/plain": [
       "<Figure size 1170x827 with 1 Axes>"
      ]
     },
     "metadata": {},
     "output_type": "display_data"
    }
   ],
   "source": [
    "# create t-SNE visualization\n",
    "# ----------\n",
    "\n",
    "# initialize t-SNE\n",
    "tsne = TSNE(n_components = 2,  # specify 2 components\n",
    "            init = 'random',   # set initalization\n",
    "            random_state = 10, # set seed\n",
    "            perplexity = 100)  # set preplexity threshold\n",
    "\n",
    "# subset to only 400 rows to speed up training time\n",
    "tsne_df = tsne.fit_transform(word_vec_df[:400])\n",
    "\n",
    "# figure specifications\n",
    "fig, ax = plt.subplots(figsize = (11.7, 8.27))\n",
    "sns.scatterplot(x = tsne_df[:, 0], \n",
    "                y = tsne_df[:, 1], \n",
    "                alpha = 0.5)\n",
    "\n",
    "# initialize empty list\n",
    "texts = []\n",
    "\n",
    "# create list of words\n",
    "words_to_plot = list(np.arange(0, 400, 10))\n",
    "\n",
    "# append words to list using loop\n",
    "for word in words_to_plot:\n",
    "    texts.append(plt.text(tsne_df[word, 0], \n",
    "                          tsne_df[word, 1], \n",
    "                          word_vec_df.index[word], \n",
    "                          fontsize = 10))\n",
    "    \n",
    "# adjust text to clearlly see labels\n",
    "adjust_text(texts, \n",
    "            force_text = (0.4,0.4),\n",
    "            expand = (1.2,1),\n",
    "            arrowprops = dict(arrowstyle = \"-\",\n",
    "                              color = 'black', \n",
    "                              lw = 0.5))\n",
    "\n",
    "# plot\n",
    "plt.show()"
   ]
  },
  {
   "cell_type": "markdown",
   "metadata": {},
   "source": [
    "### Challenge: t-SNE hyperparameters\n",
    "\n",
    "Try playing with the hyperparameters to see if you can get a different looking plot. Why might this be a problem for interpretability or inference?"
   ]
  },
  {
   "cell_type": "code",
   "execution_count": 35,
   "metadata": {},
   "outputs": [
    {
     "ename": "SyntaxError",
     "evalue": "invalid syntax. Perhaps you forgot a comma? (222822557.py, line 10)",
     "output_type": "error",
     "traceback": [
      "\u001b[0;36m  Cell \u001b[0;32mIn[35], line 10\u001b[0;36m\u001b[0m\n\u001b[0;31m    tsne_df = tsne.fit_transform(word_vec_df...)\u001b[0m\n\u001b[0m                                 ^\u001b[0m\n\u001b[0;31mSyntaxError\u001b[0m\u001b[0;31m:\u001b[0m invalid syntax. Perhaps you forgot a comma?\n"
     ]
    }
   ],
   "source": [
    "# recreate t-SNE visualization with 3 components\n",
    "# ----------\n",
    "tsne = TSNE(n_components = ..., # specify 3 components  \n",
    "            init = 'random',    # set initalization \n",
    "            random_state = 10,  # set seed   \n",
    "            perplexity = ...)   # you might have to lower preplexity threshold\n",
    "   \n",
    "\n",
    "# subset to only 400 rows to speed up training time\n",
    "tsne_df = tsne.fit_transform(word_vec_df...)\n",
    "\n",
    "\n",
    "\n",
    "# figure specifications\n",
    "fig, ax = plt.subplots(figsize = (11.7, 8.27))\n",
    "sns.scatterplot(x = tsne_df[:, 0], \n",
    "                y = tsne_df[:, 2], \n",
    "                alpha = 0.5)\n",
    "\n",
    "\n",
    "# initialize empty list\n",
    "texts = []\n",
    "\n",
    "# create list of words\n",
    "words_to_plot = list(np.arange(0, 400, 10))\n",
    "\n",
    "# append words to list using loop\n",
    "for word in words_to_plot:\n",
    "    texts.append(plt.text(tsne_df[word, 0], \n",
    "                          tsne_df[word, 1],\n",
    "                          word_vec_df.index[word], \n",
    "                          fontsize = 10))\n",
    "    \n",
    "# adjust text to clearlly see labels   \n",
    "adjust_text(texts, \n",
    "            force_text = (0.4,0.4),\n",
    "            expand = (1.2,1),\n",
    "            arrowprops = dict(arrowstyle = \"-\",\n",
    "                              color = 'black', \n",
    "                              lw = 0.5))\n",
    "\n",
    "# plot \n",
    "plt.show()"
   ]
  },
  {
   "cell_type": "markdown",
   "metadata": {},
   "source": [
    "## Averaging Word Embeddings\n",
    "\n",
    "You'll notice that right now each token is represented by a 100-dimensional array. If we passed these directly to a classification algorithm our feature space would get very high dimensional quickly! A common practice to avoid this problem is to average the word embeddings somehow. You might have heard of variations of `word2vec` like `sent2vec` and `par2vec` which creates embeddings for sentences and paragraphs, respectively. We'll introduce a similar method below, but one straightforward way to do this without a fancy new model is to simply average the word embeddings at the document level.\n",
    "\n",
    "To get a sense of how this works, let's look at how many tokens we have in our first document:"
   ]
  },
  {
   "cell_type": "code",
   "execution_count": 57,
   "metadata": {},
   "outputs": [
    {
     "data": {
      "text/plain": [
       "230"
      ]
     },
     "execution_count": 57,
     "metadata": {},
     "output_type": "execute_result"
    }
   ],
   "source": [
    "# get length\n",
    "# ----------\n",
    "len(cfpb['tokens'][0])"
   ]
  },
  {
   "cell_type": "markdown",
   "metadata": {},
   "source": [
    "223 - but remember not all documents will have vectors associated with them if do not meet word2vec's criteria. Let's see how many we have that are in our model's vocabulary:"
   ]
  },
  {
   "cell_type": "code",
   "execution_count": 58,
   "metadata": {},
   "outputs": [
    {
     "data": {
      "text/plain": [
       "207"
      ]
     },
     "execution_count": 58,
     "metadata": {},
     "output_type": "execute_result"
    }
   ],
   "source": [
    "# get model's vocabulary\n",
    "# ----------\n",
    "doc = [word for word in cfpb['tokens'][0] if word in model.wv.index_to_key]\n",
    "len(doc)"
   ]
  },
  {
   "cell_type": "markdown",
   "metadata": {},
   "source": [
    "195! Looks like quite a few tokens didn't make it into the model. Let's look at a few that did: "
   ]
  },
  {
   "cell_type": "code",
   "execution_count": 59,
   "metadata": {},
   "outputs": [
    {
     "data": {
      "text/plain": [
       "['hello', 'cosigner', 'fha', 'loan', 'loan']"
      ]
     },
     "execution_count": 59,
     "metadata": {},
     "output_type": "execute_result"
    }
   ],
   "source": [
    "# look at the first five\n",
    "# ----------\n",
    "doc[0:5]"
   ]
  },
  {
   "cell_type": "markdown",
   "metadata": {},
   "source": [
    "Let's look at the array for 'contacting'. Notice that it is represented by a 100-dimensional array. "
   ]
  },
  {
   "cell_type": "code",
   "execution_count": 60,
   "metadata": {},
   "outputs": [
    {
     "name": "stdout",
     "output_type": "stream",
     "text": [
      "[-0.07897891  0.1827366   0.02804618 -0.08435655  0.07086502 -0.3964269\n",
      "  0.19726284  0.52154404 -0.166975   -0.27627262 -0.07454096 -0.4292223\n",
      " -0.00552619  0.08429752  0.03081451 -0.13365145  0.02494838 -0.30921412\n",
      " -0.03200896 -0.47943485  0.10831783  0.10271825  0.09790572 -0.09731004\n",
      " -0.09315227  0.04085263 -0.14365071 -0.07663283 -0.2958138  -0.01096479\n",
      "  0.17642543  0.09338     0.10076898 -0.1932118  -0.10770694  0.20044759\n",
      "  0.10324168 -0.20973565 -0.23855044 -0.3992134   0.02125718 -0.16689345\n",
      " -0.1012636   0.01427705  0.25246254 -0.03454233 -0.01999041 -0.11040056\n",
      "  0.14493419  0.13993871  0.10965136 -0.17161912 -0.04048305  0.06119935\n",
      " -0.22464849  0.11694042  0.07141281 -0.09206302 -0.23777464  0.09770422\n",
      "  0.05756482  0.07287811 -0.01840686  0.05185549 -0.38422126  0.19578026\n",
      "  0.09216883  0.09080969 -0.23893963  0.19497935 -0.0793037   0.15534268\n",
      "  0.21059987 -0.0170808   0.31756386  0.19327906  0.03847501 -0.08033931\n",
      " -0.26590934  0.02194929  0.0063759  -0.02455836 -0.27138042  0.22817516\n",
      "  0.00669385 -0.04903116  0.07321095  0.22764112  0.16569015  0.22240368\n",
      "  0.32176617  0.0440934  -0.09941656  0.07368395  0.39757916  0.23774122\n",
      "  0.10357889 -0.16933258  0.0747409  -0.08241418]\n",
      "(100,)\n"
     ]
    }
   ],
   "source": [
    "# word embeddings for \"contacting\"\n",
    "# ----------\n",
    "print(model.wv.__getitem__('contacting'))\n",
    "print(model.wv.__getitem__('contacting').shape)"
   ]
  },
  {
   "cell_type": "code",
   "execution_count": null,
   "metadata": {},
   "outputs": [
    {
     "data": {
      "text/plain": [
       "-0.002415923"
      ]
     },
     "execution_count": 51,
     "metadata": {},
     "output_type": "execute_result"
    }
   ],
   "source": [
    "# find the mean\n",
    "# ----------\n",
    "np.mean(model.wv.__getitem__('contacting'))"
   ]
  },
  {
   "cell_type": "markdown",
   "metadata": {},
   "source": [
    "Now let's grab the first vector each token and take their mean:"
   ]
  },
  {
   "cell_type": "code",
   "execution_count": 61,
   "metadata": {},
   "outputs": [
    {
     "data": {
      "text/plain": [
       "-0.10157746"
      ]
     },
     "execution_count": 61,
     "metadata": {},
     "output_type": "execute_result"
    }
   ],
   "source": [
    "# find the first vector of each token and find their mean\n",
    "# ----------\n",
    "# create empty list\n",
    "first_vec = []\n",
    "\n",
    "# loop over each document\n",
    "for token in model.wv.__getitem__(doc):\n",
    "    first_vec.append(token[0])\n",
    "    \n",
    "# calculate their mean\n",
    "np.mean(first_vec)"
   ]
  },
  {
   "cell_type": "markdown",
   "metadata": {},
   "source": [
    "And then let's do this for every token and document in our corpus:"
   ]
  },
  {
   "cell_type": "code",
   "execution_count": 62,
   "metadata": {},
   "outputs": [],
   "source": [
    "# create function to do this for every token and document in our corpus\n",
    "# ----------\n",
    "def document_vector(word2vec_model, doc):\n",
    "    doc = [word for word in doc if word in model.wv.index_to_key]\n",
    "    return np.mean(word2vec_model.wv.__getitem__(doc), axis=0)"
   ]
  },
  {
   "cell_type": "code",
   "execution_count": null,
   "metadata": {},
   "outputs": [
    {
     "data": {
      "text/plain": [
       "array([[-0.10157748,  0.2689546 ,  0.03866407, ..., -0.25607073,\n",
       "         0.12019993, -0.09345632],\n",
       "       [-0.1687456 ,  0.31518134,  0.024669  , ..., -0.2680723 ,\n",
       "         0.13230854, -0.12293495],\n",
       "       [-0.15537794,  0.3027893 ,  0.03405221, ..., -0.25728852,\n",
       "         0.11775187, -0.11249152],\n",
       "       ...,\n",
       "       [-0.01092415,  0.2686601 ,  0.03503671, ..., -0.3178325 ,\n",
       "         0.19482921, -0.10673963],\n",
       "       [-0.14262962,  0.34774405,  0.04366424, ..., -0.2537704 ,\n",
       "         0.20152633, -0.12112431],\n",
       "       [-0.15975162,  0.31877214,  0.02585794, ..., -0.27125522,\n",
       "         0.15120634, -0.12958258]], dtype=float32)"
      ]
     },
     "execution_count": 56,
     "metadata": {},
     "output_type": "execute_result"
    }
   ],
   "source": [
    "# create an array for the size of the corpus\n",
    "# ----------\n",
    "# create empty list\n",
    "empty_list_embeddings_means = []\n",
    "\n",
    "# loop over each each token\n",
    "for puppy in cfpb['tokens']: # append the vector for each document\n",
    "    empty_list_embeddings_means.append(document_vector(model, puppy))\n",
    "    \n",
    "# convert the list to array\n",
    "doc_average_embeddings = np.array(empty_list_embeddings_means)\n",
    "\n",
    "# print averages\n",
    "doc_average_embeddings"
   ]
  },
  {
   "cell_type": "markdown",
   "metadata": {},
   "source": [
    "Ultimately we get an array with `n` rows and 100 columns:"
   ]
  },
  {
   "cell_type": "code",
   "execution_count": null,
   "metadata": {},
   "outputs": [
    {
     "data": {
      "text/plain": [
       "(1000, 100)"
      ]
     },
     "execution_count": 57,
     "metadata": {},
     "output_type": "execute_result"
    }
   ],
   "source": [
    "# find the shape \n",
    "doc_average_embeddings.shape"
   ]
  },
  {
   "cell_type": "markdown",
   "metadata": {},
   "source": [
    "## Document averaged work embedding (doc2vec)\n",
    "\n",
    "Document averaged word embeddings tend to perform well with downstream prediction tasks, but there are other options as well. Here, we'll take a look at [Doc2Vec](https://radimrehurek.com/gensim/models/doc2vec.html). This is also a very helpful [tutorial](https://radimrehurek.com/gensim/auto_examples/tutorials/run_doc2vec_lee.html).  \n",
    "\n",
    "We're getting close to classifying, and this is a good point to do our train/test splits. While normally we recommend waiting to do splits until after all preprocessing is done, in this case it will be easier to do the split now because of the way the `TaggedDocument` class works. Let's take a look:"
   ]
  },
  {
   "cell_type": "code",
   "execution_count": 36,
   "metadata": {},
   "outputs": [
    {
     "data": {
      "text/html": [
       "<div>\n",
       "<style scoped>\n",
       "    .dataframe tbody tr th:only-of-type {\n",
       "        vertical-align: middle;\n",
       "    }\n",
       "\n",
       "    .dataframe tbody tr th {\n",
       "        vertical-align: top;\n",
       "    }\n",
       "\n",
       "    .dataframe thead th {\n",
       "        text-align: right;\n",
       "    }\n",
       "</style>\n",
       "<table border=\"1\" class=\"dataframe\">\n",
       "  <thead>\n",
       "    <tr style=\"text-align: right;\">\n",
       "      <th></th>\n",
       "      <th>Date received</th>\n",
       "      <th>Product</th>\n",
       "      <th>Sub-product</th>\n",
       "      <th>Issue</th>\n",
       "      <th>Sub-issue</th>\n",
       "      <th>Consumer complaint narrative</th>\n",
       "      <th>Company public response</th>\n",
       "      <th>Company</th>\n",
       "      <th>State</th>\n",
       "      <th>ZIP code</th>\n",
       "      <th>Tags</th>\n",
       "      <th>Consumer consent provided?</th>\n",
       "      <th>Submitted via</th>\n",
       "      <th>Date sent to company</th>\n",
       "      <th>Company response to consumer</th>\n",
       "      <th>Timely response?</th>\n",
       "      <th>Consumer disputed?</th>\n",
       "      <th>Complaint ID</th>\n",
       "      <th>tokens</th>\n",
       "      <th>Product_binary</th>\n",
       "    </tr>\n",
       "  </thead>\n",
       "  <tbody>\n",
       "    <tr>\n",
       "      <th>29</th>\n",
       "      <td>2025-01-17</td>\n",
       "      <td>Mortgage</td>\n",
       "      <td>Conventional home mortgage</td>\n",
       "      <td>Trouble during payment process</td>\n",
       "      <td>Private mortgage insurance (PMI)</td>\n",
       "      <td>I have requested multiple times for the PMI to...</td>\n",
       "      <td>Company has responded to the consumer and the ...</td>\n",
       "      <td>NEW YORK COMMUNITY BANCORP INC</td>\n",
       "      <td>FL</td>\n",
       "      <td>336XX</td>\n",
       "      <td>Servicemember</td>\n",
       "      <td>Consent provided</td>\n",
       "      <td>Web</td>\n",
       "      <td>2025-01-17</td>\n",
       "      <td>Closed with explanation</td>\n",
       "      <td>Yes</td>\n",
       "      <td>NaN</td>\n",
       "      <td>11594894</td>\n",
       "      <td>[requested, multiple, times, pmi, removed, tol...</td>\n",
       "      <td>0</td>\n",
       "    </tr>\n",
       "    <tr>\n",
       "      <th>535</th>\n",
       "      <td>2025-01-15</td>\n",
       "      <td>Mortgage</td>\n",
       "      <td>USDA mortgage</td>\n",
       "      <td>Applying for a mortgage or refinancing an exis...</td>\n",
       "      <td>Application denials</td>\n",
       "      <td>I recently applied for a mortgage with LeaderO...</td>\n",
       "      <td>Company disputes the facts presented in the co...</td>\n",
       "      <td>LEADER ONE FINANCIAL CORPORATION</td>\n",
       "      <td>MS</td>\n",
       "      <td>38701</td>\n",
       "      <td>NaN</td>\n",
       "      <td>Consent provided</td>\n",
       "      <td>Web</td>\n",
       "      <td>2025-01-15</td>\n",
       "      <td>Closed with explanation</td>\n",
       "      <td>Yes</td>\n",
       "      <td>NaN</td>\n",
       "      <td>11548993</td>\n",
       "      <td>[recently, applied, mortgage, leaderone, finan...</td>\n",
       "      <td>0</td>\n",
       "    </tr>\n",
       "    <tr>\n",
       "      <th>695</th>\n",
       "      <td>2024-12-11</td>\n",
       "      <td>Mortgage</td>\n",
       "      <td>Conventional home mortgage</td>\n",
       "      <td>Trouble during payment process</td>\n",
       "      <td>Escrow, taxes, or insurance</td>\n",
       "      <td>I am writing to demand the immediate terminati...</td>\n",
       "      <td>NaN</td>\n",
       "      <td>Selene Holdings LLC</td>\n",
       "      <td>RI</td>\n",
       "      <td>02864</td>\n",
       "      <td>Servicemember</td>\n",
       "      <td>Consent provided</td>\n",
       "      <td>Web</td>\n",
       "      <td>2024-12-11</td>\n",
       "      <td>Closed with explanation</td>\n",
       "      <td>Yes</td>\n",
       "      <td>NaN</td>\n",
       "      <td>11110269</td>\n",
       "      <td>[writing, demand, immediate, termination, escr...</td>\n",
       "      <td>0</td>\n",
       "    </tr>\n",
       "    <tr>\n",
       "      <th>557</th>\n",
       "      <td>2024-11-20</td>\n",
       "      <td>Student loan</td>\n",
       "      <td>Private student loan</td>\n",
       "      <td>Getting a loan</td>\n",
       "      <td>Confusing or misleading advertising</td>\n",
       "      <td>Dear Consumer Financial Protection Bureau, I a...</td>\n",
       "      <td>NaN</td>\n",
       "      <td>Climb Credit Inc.</td>\n",
       "      <td>NY</td>\n",
       "      <td>11103</td>\n",
       "      <td>NaN</td>\n",
       "      <td>Consent provided</td>\n",
       "      <td>Web</td>\n",
       "      <td>2024-11-20</td>\n",
       "      <td>Closed with explanation</td>\n",
       "      <td>Yes</td>\n",
       "      <td>NaN</td>\n",
       "      <td>10853907</td>\n",
       "      <td>[dear, consumer, financial, protection, bureau...</td>\n",
       "      <td>1</td>\n",
       "    </tr>\n",
       "    <tr>\n",
       "      <th>836</th>\n",
       "      <td>2024-12-17</td>\n",
       "      <td>Mortgage</td>\n",
       "      <td>VA mortgage</td>\n",
       "      <td>Struggling to pay mortgage</td>\n",
       "      <td>Applying for or obtaining a modification, forb...</td>\n",
       "      <td>am currently in default on my VA mortgage loan...</td>\n",
       "      <td>Company has responded to the consumer and the ...</td>\n",
       "      <td>NEW YORK COMMUNITY BANCORP INC</td>\n",
       "      <td>NC</td>\n",
       "      <td>28216</td>\n",
       "      <td>Servicemember</td>\n",
       "      <td>Consent provided</td>\n",
       "      <td>Web</td>\n",
       "      <td>2024-12-17</td>\n",
       "      <td>Closed with explanation</td>\n",
       "      <td>Yes</td>\n",
       "      <td>NaN</td>\n",
       "      <td>11188536</td>\n",
       "      <td>[currently, default, va, mortgage, loan, reque...</td>\n",
       "      <td>0</td>\n",
       "    </tr>\n",
       "  </tbody>\n",
       "</table>\n",
       "</div>"
      ],
      "text/plain": [
       "    Date received       Product                 Sub-product  \\\n",
       "29     2025-01-17      Mortgage  Conventional home mortgage   \n",
       "535    2025-01-15      Mortgage               USDA mortgage   \n",
       "695    2024-12-11      Mortgage  Conventional home mortgage   \n",
       "557    2024-11-20  Student loan        Private student loan   \n",
       "836    2024-12-17      Mortgage                 VA mortgage   \n",
       "\n",
       "                                                 Issue  \\\n",
       "29                      Trouble during payment process   \n",
       "535  Applying for a mortgage or refinancing an exis...   \n",
       "695                     Trouble during payment process   \n",
       "557                                     Getting a loan   \n",
       "836                         Struggling to pay mortgage   \n",
       "\n",
       "                                             Sub-issue  \\\n",
       "29                    Private mortgage insurance (PMI)   \n",
       "535                                Application denials   \n",
       "695                        Escrow, taxes, or insurance   \n",
       "557                Confusing or misleading advertising   \n",
       "836  Applying for or obtaining a modification, forb...   \n",
       "\n",
       "                          Consumer complaint narrative  \\\n",
       "29   I have requested multiple times for the PMI to...   \n",
       "535  I recently applied for a mortgage with LeaderO...   \n",
       "695  I am writing to demand the immediate terminati...   \n",
       "557  Dear Consumer Financial Protection Bureau, I a...   \n",
       "836  am currently in default on my VA mortgage loan...   \n",
       "\n",
       "                               Company public response  \\\n",
       "29   Company has responded to the consumer and the ...   \n",
       "535  Company disputes the facts presented in the co...   \n",
       "695                                                NaN   \n",
       "557                                                NaN   \n",
       "836  Company has responded to the consumer and the ...   \n",
       "\n",
       "                              Company State ZIP code           Tags  \\\n",
       "29     NEW YORK COMMUNITY BANCORP INC    FL    336XX  Servicemember   \n",
       "535  LEADER ONE FINANCIAL CORPORATION    MS    38701            NaN   \n",
       "695               Selene Holdings LLC    RI    02864  Servicemember   \n",
       "557                 Climb Credit Inc.    NY    11103            NaN   \n",
       "836    NEW YORK COMMUNITY BANCORP INC    NC    28216  Servicemember   \n",
       "\n",
       "    Consumer consent provided? Submitted via Date sent to company  \\\n",
       "29            Consent provided           Web           2025-01-17   \n",
       "535           Consent provided           Web           2025-01-15   \n",
       "695           Consent provided           Web           2024-12-11   \n",
       "557           Consent provided           Web           2024-11-20   \n",
       "836           Consent provided           Web           2024-12-17   \n",
       "\n",
       "    Company response to consumer Timely response? Consumer disputed?  \\\n",
       "29       Closed with explanation              Yes                NaN   \n",
       "535      Closed with explanation              Yes                NaN   \n",
       "695      Closed with explanation              Yes                NaN   \n",
       "557      Closed with explanation              Yes                NaN   \n",
       "836      Closed with explanation              Yes                NaN   \n",
       "\n",
       "     Complaint ID                                             tokens  \\\n",
       "29       11594894  [requested, multiple, times, pmi, removed, tol...   \n",
       "535      11548993  [recently, applied, mortgage, leaderone, finan...   \n",
       "695      11110269  [writing, demand, immediate, termination, escr...   \n",
       "557      10853907  [dear, consumer, financial, protection, bureau...   \n",
       "836      11188536  [currently, default, va, mortgage, loan, reque...   \n",
       "\n",
       "     Product_binary  \n",
       "29                0  \n",
       "535               0  \n",
       "695               0  \n",
       "557               1  \n",
       "836               0  "
      ]
     },
     "execution_count": 36,
     "metadata": {},
     "output_type": "execute_result"
    }
   ],
   "source": [
    "# preprocessing\n",
    "# ----------\n",
    "\n",
    "# intitalize label binarizer\n",
    "lb_style = LabelBinarizer()\n",
    "\n",
    "# fit transform\n",
    "y = cfpb['Product_binary'] = lb_style.fit_transform(cfpb[\"Product\"])\n",
    "\n",
    "# train/test split\n",
    "train, test = train_test_split(cfpb,             # specify dataset\n",
    "                               test_size=0.2,    # specify test size\n",
    "                               random_state=42)  # set seed\n",
    "# view\n",
    "train.head()"
   ]
  },
  {
   "cell_type": "markdown",
   "metadata": {},
   "source": [
    "After we do our train test splits, we apply the `TaggedDocument()` function to every token. This allows us to associate each document with the class that we want to predict later:"
   ]
  },
  {
   "cell_type": "code",
   "execution_count": null,
   "metadata": {},
   "outputs": [
    {
     "data": {
      "text/plain": [
       "TaggedDocument(words=['hello', 'cosigner', 'fha', 'loan', 'loan', 'number', 'mortgage', 'lender', 'carrington', 'mortgage', '\\n\\n', 'contacted', 'bank', 'multiple', 'times', 'past', 'deleting', 'loan', 'terms', 'loan', 'payment', 'completely', 'changed', 'payment', 'changed', 'term', 'loan', 'extended', '30', 'year', 'note', 'refinancing', 'loan', 'bank', 'says', 'nt', 'note', 'loan', 'modified', 'refinance', 'mortgageits', 'wording', 'bank', 'says', 'nt', 'loan', 'changed', 'term', 'loan', '30', 'years', 'payment', 'changed', 'substantially', '\\n', 'fact', 'letter', 'carrington', 'bank', 'saying', 'borrower', 'bank', 'nt', 'know', 'location', '\\n', 'borrower', 'live', 'town', 'moved', 'changed', 'address', 'probably', '23', 'years', '\\n', 'able', 'print', 'letter', 'carrington', 'mortgage', 'letter', 'states', 'signer', 'locate', 'signature', 'carrington', 'mortgage', 'info', 'online', 'account', 'monitor', 'loan', 'like', 'pay', 'debts', 'reason', 'contacted', 'lived', 'property', 'paid', 'payment', 'loan', '\\n', 'deceitful', 'communications', 'loan', 'changes', 'right', 'start', 'having', 'carrington', 'mortgage', 'loan', '\\n\\n', 'bank', 'deceitful', 'wording', 'term', 'modification', 'deceitful', 'morally', 'wrong', 'reason', 'wording', 'loan', '\\n', 'line', 'loan', 'totaly', 'changed', 'atleast', 'twice', 'carrington', 'mortgage', 'end', 'date', 'mortgage', 'new', 'terms', 'loan', 'think', 'loan', 'taken', 'carrington', 'mortgage', ' ', 'atleast', 'couple', 'modifications', 'bank', 'puts', 'end', 'date', '\\n', 'include', 'years', 'carrington', 'bank', 'loan', 'transferred', 'carrington', 'mortgage', 'years', '\\n', 'totaly', 'wrong', 'loan', 'loan', 'totaly', 'changed', 'term', 'length', 'payment', '\\n', 'outright', 'lied', ' ', 'knowing', 'whereabouts', 'bank', 'totally', 'lied', 'able', 'contact', 'information', 'live', 'phone', 'number', 'total', 'online', 'access', 'contact', 'fha', 'loans', 'require', 'signatures', 'signers', 'mortgagethey', 'went', 'went', 'ahead', 'changes', 'loani', 'registered', 'online', 'access', 'carrington', 'mortgage', 'major', 'changes', 'loan', 'warrant', 'deleted', 'loan', 'loan', 'refinanced', 'banks', 'terminology', 'notethat', 'totally', 'morally', 'wrong', '\\n', 'hope', 'help', 'matter', 'bank', 'remove', 'loan'], tags=[0])"
      ]
     },
     "execution_count": 59,
     "metadata": {},
     "output_type": "execute_result"
    }
   ],
   "source": [
    "# apply tag to each train/test dataset\n",
    "# ----------\n",
    "\n",
    "# tag training datatset\n",
    "cfpb_train_tagged = train.apply(lambda r: TaggedDocument(words=r['tokens'],\n",
    "                                                         tags=[r.Product_binary]), \n",
    "                                axis=1)\n",
    "\n",
    "# tag testing datatset\n",
    "cfpb_test_tagged = test.apply(lambda r: TaggedDocument(words=r['tokens'], \n",
    "                                                       tags=[r.Product_binary]),\n",
    "                              axis=1)\n",
    "\n",
    "# view the first row\n",
    "cfpb_train_tagged[0]"
   ]
  },
  {
   "cell_type": "markdown",
   "metadata": {},
   "source": [
    "We're now ready to train our `doc2vec!` One of the key features of gensim is that it natively allows multicore processing - meaning it can take advantage of your CPU cores. Note that this is slightly different from tensorflow that we covered last semester, which also allows GPU acceleration. You can check how many CPU cores you have available: "
   ]
  },
  {
   "cell_type": "code",
   "execution_count": null,
   "metadata": {},
   "outputs": [
    {
     "data": {
      "text/plain": [
       "8"
      ]
     },
     "execution_count": 60,
     "metadata": {},
     "output_type": "execute_result"
    }
   ],
   "source": [
    "# count your cores for processing\n",
    "# ----------\n",
    "cores = multiprocessing.cpu_count()\n",
    "cores"
   ]
  },
  {
   "cell_type": "markdown",
   "metadata": {},
   "source": [
    "[Parallel processing](https://en.wikipedia.org/wiki/Parallel_computing) is an important topic in computational social science - it will be the key to speeding up lots of different operations. In general, we recommend that whenever you use parallel processing you reserve 1 CPU core for your computer's other functions (keeping your browser and other software running), and use the remaining for your task at hand. In this case, doc2vec's training process is an example of [embarrassingly parallel](https://en.wikipedia.org/wiki/Embarrassingly_parallel) meaning that the different CPUs don't need to talk to each other to do their computations. They can independently work and combine the results at the end. In this case, we are working with very few observations (just 1000), but this is a useful technique to keep in mind for your projects and research! \n",
    "\n",
    "First we'll train the model (notice the use of the [`tqdm`](https://tqdm.github.io/) library for progerss bars):"
   ]
  },
  {
   "cell_type": "code",
   "execution_count": null,
   "metadata": {},
   "outputs": [
    {
     "name": "stderr",
     "output_type": "stream",
     "text": [
      "100%|██████████| 800/800 [00:00<00:00, 263089.48it/s]\n",
      "0.00s - Debugger warning: It seems that frozen modules are being used, which may\n",
      "0.00s - make the debugger miss breakpoints. Please pass -Xfrozen_modules=off\n",
      "0.00s - to python to disable frozen modules.\n",
      "0.00s - Note: Debugging will proceed. Set PYDEVD_DISABLE_FILE_VALIDATION=1 to disable this validation.\n"
     ]
    }
   ],
   "source": [
    "# train a Doc2Vec model \n",
    "# ----------\n",
    "# initalize Doc2Vec\n",
    "Doc2Vec()\n",
    "model_dbow = Doc2Vec(dm=0,               # specify a distributed bag of words\n",
    "                     vector_size=300,               # set word embedding to 300\n",
    "                     negative = 5,               # include 5 negative samples\n",
    "                     hs=0,              # hierarchical softmax using negative samples\n",
    "                     min_count=2,       # ignores all words with a total frequency lower than this threshold.\n",
    "                     sample = 0,               # essentially turn off downsampling\n",
    "                     seed = 1995,       # set seed for reproducibility\n",
    "                     workers = cores-1)               # set # of cores to 1 less than you have - not be fully reproducible if not 1\n",
    "\n",
    "# apply to training data\n",
    "model_dbow.build_vocab([x for x in tqdm(cfpb_train_tagged.values)])"
   ]
  },
  {
   "cell_type": "markdown",
   "metadata": {},
   "source": [
    "We'll allow the model to train for 30 iterations (epochs - this is the same as our neural nets lab):"
   ]
  },
  {
   "cell_type": "code",
   "execution_count": null,
   "metadata": {},
   "outputs": [
    {
     "name": "stderr",
     "output_type": "stream",
     "text": [
      "100%|██████████| 800/800 [00:00<00:00, 333576.22it/s]\n",
      "100%|██████████| 800/800 [00:00<00:00, 373491.01it/s]\n",
      "100%|██████████| 800/800 [00:00<00:00, 370685.29it/s]\n",
      "100%|██████████| 800/800 [00:00<00:00, 362515.47it/s]\n",
      "100%|██████████| 800/800 [00:00<00:00, 376846.72it/s]\n",
      "100%|██████████| 800/800 [00:00<00:00, 362163.32it/s]\n",
      "100%|██████████| 800/800 [00:00<00:00, 362633.01it/s]\n",
      "100%|██████████| 800/800 [00:00<00:00, 326404.98it/s]\n",
      "100%|██████████| 800/800 [00:00<00:00, 278575.61it/s]\n",
      "100%|██████████| 800/800 [00:00<00:00, 277883.49it/s]\n",
      "100%|██████████| 800/800 [00:00<00:00, 272092.38it/s]\n",
      "100%|██████████| 800/800 [00:00<00:00, 232564.68it/s]\n",
      "100%|██████████| 800/800 [00:00<00:00, 226306.28it/s]\n",
      "100%|██████████| 800/800 [00:00<00:00, 281993.71it/s]\n",
      "100%|██████████| 800/800 [00:00<00:00, 285715.53it/s]\n",
      "100%|██████████| 800/800 [00:00<00:00, 283782.41it/s]\n",
      "100%|██████████| 800/800 [00:00<00:00, 326278.02it/s]\n",
      "100%|██████████| 800/800 [00:00<00:00, 230741.52it/s]\n",
      "100%|██████████| 800/800 [00:00<00:00, 278252.19it/s]\n",
      "100%|██████████| 800/800 [00:00<00:00, 306993.89it/s]\n",
      "100%|██████████| 800/800 [00:00<00:00, 338865.20it/s]\n",
      "100%|██████████| 800/800 [00:00<00:00, 328675.01it/s]\n",
      "100%|██████████| 800/800 [00:00<00:00, 223220.01it/s]\n",
      "100%|██████████| 800/800 [00:00<00:00, 330455.31it/s]\n",
      "100%|██████████| 800/800 [00:00<00:00, 334874.57it/s]\n",
      "100%|██████████| 800/800 [00:00<00:00, 319444.33it/s]\n",
      "100%|██████████| 800/800 [00:00<00:00, 328257.01it/s]\n",
      "100%|██████████| 800/800 [00:00<00:00, 333476.76it/s]\n",
      "100%|██████████| 800/800 [00:00<00:00, 331238.22it/s]\n"
     ]
    }
   ],
   "source": [
    "# loop over our data\n",
    "# ----------\n",
    "for epoch in range(1,30):\n",
    "    model_dbow.train(utils.shuffle([x for x in tqdm(cfpb_train_tagged.values)]), \n",
    "                     total_examples=len(cfpb_train_tagged.values), \n",
    "                     epochs=epoch)\n",
    "    model_dbow.alpha -= 0.002\n",
    "    model_dbow.min_alpha = model_dbow.alpha"
   ]
  },
  {
   "cell_type": "markdown",
   "metadata": {},
   "source": [
    "Finally, we'll define a function that will grab the embeddings for each document:"
   ]
  },
  {
   "cell_type": "code",
   "execution_count": null,
   "metadata": {},
   "outputs": [],
   "source": [
    "# grab the embeddings\n",
    "# ----------\n",
    "def vec_for_learning(model, tagged_docs):\n",
    "    sents = tagged_docs.values\n",
    "    targets, regressors = zip(*[(doc.tags[0], model.infer_vector(doc.words)) for doc in sents])\n",
    "    return targets, regressors"
   ]
  },
  {
   "cell_type": "markdown",
   "metadata": {},
   "source": [
    "## Classification\n",
    "\n",
    "And finally, let's use logistic regression to see how well our document embeddings do:"
   ]
  },
  {
   "cell_type": "code",
   "execution_count": null,
   "metadata": {},
   "outputs": [
    {
     "data": {
      "image/png": "[encoded data removed]",
      "text/plain": [
       "<Figure size 1000x700 with 2 Axes>"
      ]
     },
     "metadata": {},
     "output_type": "display_data"
    },
    {
     "ename": "",
     "evalue": "",
     "output_type": "error",
     "traceback": [
      "\u001b[1;31m在当前单元格或上一个单元格中执行代码时 Kernel 崩溃。\n",
      "\u001b[1;31m请查看单元格中的代码，以确定故障的可能原因。\n",
      "\u001b[1;31m单击<a href='https://aka.ms/vscodeJupyterKernelCrash'>此处</a>了解详细信息。\n",
      "\u001b[1;31m有关更多详细信息，请查看 Jupyter <a href='command:jupyter.viewOutput'>log</a>。"
     ]
    }
   ],
   "source": [
    "#\n",
    "# Classifcation model\n",
    "# ----------------------------------------\n",
    "\n",
    "\n",
    "# intialize a logit model\n",
    "# ----------\n",
    "\n",
    "# split into training\n",
    "y_train, X_train = vec_for_learning(model_dbow,     # specify datasets for split\n",
    "                                    cfpb_train_tagged)\n",
    "\n",
    "# split into testing\n",
    "y_test, X_test = vec_for_learning(model_dbow,       # specify datasets for split\n",
    "                                  cfpb_test_tagged)\n",
    "\n",
    "# initalize model\n",
    "logit_reg = LogisticRegression()  # initialize logit model\n",
    "\n",
    "# fit on training\n",
    "logit_model = logit_reg.fit(X_train,   # fit to training data\n",
    "                            y_train)\n",
    "\n",
    "# predict on test data\n",
    "y_pred = logit_model.predict(X_test) # predict on test data\n",
    "\n",
    "\n",
    "# confusion matrix\n",
    "# ----------\n",
    "\n",
    "# create confusion matrix \n",
    "cf_matrix = confusion_matrix(y_test,                 # actual\n",
    "                             y_pred,                 # predictions\n",
    "                             normalize= 'true')                 # normalize\n",
    "\n",
    "# create dataframe\n",
    "df_cm = pd.DataFrame(cf_matrix,    # specify matrix for calculations \n",
    "                     range(2),\n",
    "                     range(2))\n",
    "\n",
    "# rename indices\n",
    "df_cm = df_cm.rename(index=str, columns={0: \"Checking or savings account\", \n",
    "                                         1: \"Student loan\"})\n",
    "\n",
    "df_cm.index = [\"Checking or savings account\", \"Student loan\"]\n",
    "\n",
    "# plot specifications\n",
    "# ----------\n",
    "plt.figure(figsize = (10,7))\n",
    "sns.set(font_scale=1.4) # for label size\n",
    "sns.heatmap(df_cm, \n",
    "           annot=True,\n",
    "           annot_kws={\"size\": 16},\n",
    "           fmt='g')\n",
    "\n",
    "plt.title('Confusion Matrix')\n",
    "plt.xlabel(\"Predicted Label\")\n",
    "plt.ylabel(\"True Label\")\n",
    "plt.show()"
   ]
  },
  {
   "cell_type": "markdown",
   "metadata": {},
   "source": [
    "Hmm, not as well as we might think! But this shouldn't be too surprising with a small dataset - word embeddings tend to work best when given lots of data."
   ]
  },
  {
   "cell_type": "markdown",
   "metadata": {},
   "source": [
    "# Loading Pre-Trained Embeddings\n",
    "\n",
    "So far we have been working with embeddings trained on our particular corpus. However, this is not usually standard - as you saw above, word2vec works best when it has lots of data. The problem is that training state-of-the-art models requires intense computational resources. It also has a [large carbon footprint](https://arxiv.org/pdf/1906.02243.pdf). Luckily, we can use pre-trained models like Google News or Stanford's GloVe. Note to run this next chunk of code, you need to have the [GoogleNews embeddings](https://drive.google.com/file/d/0B7XkCwpI5KDYNlNUTTlSS21pQmM/edit) in your \"data\" directory in this repo."
   ]
  },
  {
   "cell_type": "code",
   "execution_count": 37,
   "metadata": {},
   "outputs": [],
   "source": [
    "# load pre-trained Google News model \n",
    "# ----------\n",
    "googlenews_word2vec_model = gensim.models.KeyedVectors.load_word2vec_format('./data/GoogleNews-vectors-negative300.bin.gz', \n",
    "                                                                            binary = True) "
   ]
  },
  {
   "cell_type": "markdown",
   "metadata": {},
   "source": [
    "We can also tune the Google News embeddings to a domain-specific corpus. This may or may not be necessary depending on how specific or unique you think words in your corpus might be:"
   ]
  },
  {
   "cell_type": "code",
   "execution_count": 38,
   "metadata": {},
   "outputs": [],
   "source": [
    "# retrain google on your own corpus\n",
    "# ----------\n",
    "\n",
    "# ! NOTE: THIS TAKES A VERY LONG TIME TO RUN - SO WE WON'T RUN IT HERE\n",
    "# ! BUT WE CAN RE-RUN FROM HERE TO SEE HOW THIS MIGHT ULTIMATELY AFFECT\n",
    "# ! OUR CLASSIFICATION MODEL\n",
    "\n",
    "\n",
    "\n",
    "## specify your corpus\n",
    "#your_corpus = cfpb['tokens']  # Load your corpus here, make sure it's tokenized\n",
    "#\n",
    "## initialize Word2Vec model with the same dimensions as the Google News vectors\n",
    "#word2vec_model = gensim.models.Word2Vec(vector_size=300,    # word embedding size\n",
    "#                                        window=5,           # window size\n",
    "#                                        min_count=1,        # ignores words w/ frequency lower than this threshold\n",
    "#                                        workers=cores - 1)  # how many cores will be used\n",
    "#\n",
    "## build vocabulary \n",
    "#word2vec_model.build_vocab(your_corpus)\n",
    "#\n",
    "## initialize word vectors using the Google News pre-trained vectors\n",
    "#word2vec_model.wv.vectors = googlenews_word2vec_model.vectors\n",
    "#\n",
    "## training model\n",
    "#word2vec_model.train(your_corpus, \n",
    "#                     total_examples=len(your_corpus), \n",
    "#                     epochs=5, \n",
    "#                     compute_loss=True)"
   ]
  },
  {
   "cell_type": "markdown",
   "metadata": {},
   "source": [
    "## Challenges\n",
    "\n",
    "### Challenge Embeddings \n",
    "\n",
    "Repeat the exploration we did in the first part where we trained word embeddings with the new Google model. Do you notice any differences? Create document averaged word embeddings and predict our outcome ('Product_binary'). How did this compare to doc2vec?"
   ]
  },
  {
   "cell_type": "code",
   "execution_count": 42,
   "metadata": {},
   "outputs": [
    {
     "name": "stdout",
     "output_type": "stream",
     "text": [
      "[[-0.02563477 -0.00460815  0.03039551 -0.21484375 -0.12011719  0.19726562\n",
      "   0.16210938 -0.01361084  0.26757812 -0.04077148  0.04370117 -0.01037598\n",
      "  -0.09228516  0.02209473  0.00344849  0.0324707   0.02539062  0.02758789\n",
      "  -0.03930664  0.0703125   0.17285156 -0.11035156 -0.00897217 -0.00340271\n",
      "   0.12011719 -0.06933594 -0.37109375 -0.00595093  0.01080322  0.16601562\n",
      "  -0.36914062 -0.203125   -0.0067749   0.15039062 -0.08886719 -0.22558594\n",
      "   0.10302734 -0.19140625 -0.02783203  0.05273438  0.16015625 -0.0612793\n",
      "   0.10498047 -0.0390625   0.0402832  -0.32421875  0.07910156  0.14453125\n",
      "  -0.14746094 -0.13867188  0.06591797 -0.16601562 -0.07128906 -0.15039062\n",
      "   0.06103516  0.09228516 -0.28125     0.01037598  0.11621094 -0.296875\n",
      "  -0.09667969 -0.09570312  0.12988281  0.13769531 -0.07568359  0.22363281\n",
      "   0.03063965  0.03808594  0.00860596 -0.1484375  -0.05908203  0.14355469\n",
      "   0.4375     -0.13964844  0.01312256  0.12109375  0.10107422  0.13183594\n",
      "   0.0030365  -0.04199219  0.09667969 -0.18847656  0.03613281  0.20800781\n",
      "   0.04663086 -0.01586914 -0.12792969  0.08203125 -0.14648438 -0.04174805\n",
      "   0.18847656  0.04858398 -0.09619141 -0.35742188 -0.16308594 -0.03540039\n",
      "  -0.2890625   0.0546875   0.26367188 -0.13085938 -0.09423828 -0.1015625\n",
      "  -0.1015625  -0.01757812  0.0189209  -0.34179688 -0.29101562 -0.08886719\n",
      "   0.15820312  0.125       0.06542969 -0.29101562 -0.30664062 -0.09033203\n",
      "  -0.04663086  0.16308594 -0.24511719  0.07666016  0.16308594  0.21777344\n",
      "  -0.20800781 -0.14648438 -0.11865234  0.1484375   0.16308594  0.15429688\n",
      "   0.02307129  0.22753906 -0.05322266 -0.07470703 -0.12695312 -0.1796875\n",
      "  -0.16796875  0.05712891  0.44335938 -0.05639648 -0.42773438 -0.10644531\n",
      "  -0.13476562  0.01293945 -0.06640625  0.14160156  0.05249023  0.02050781\n",
      "  -0.01037598  0.03857422  0.01953125 -0.03491211 -0.20117188  0.14355469\n",
      "   0.12792969  0.13183594  0.10498047  0.13378906 -0.00448608 -0.21191406\n",
      "  -0.16210938  0.11621094 -0.00466919  0.16992188  0.01379395  0.0546875\n",
      "   0.04077148  0.00242615 -0.03222656  0.0703125   0.06298828  0.02612305\n",
      "  -0.14453125  0.14257812 -0.08349609  0.21484375 -0.08349609 -0.13964844\n",
      "  -0.0480957  -0.140625    0.06005859 -0.17675781 -0.05053711  0.05615234\n",
      "   0.12695312 -0.09667969 -0.13183594 -0.0559082  -0.07910156 -0.45898438\n",
      "   0.06176758  0.19921875 -0.203125    0.22753906 -0.171875   -0.14453125\n",
      "  -0.171875    0.02758789 -0.22949219  0.19140625 -0.13574219 -0.04223633\n",
      "   0.14355469 -0.23925781 -0.06494141  0.25195312 -0.01916504 -0.04003906\n",
      "   0.21972656  0.13769531 -0.234375   -0.12890625  0.08105469 -0.01348877\n",
      "   0.15234375  0.13964844 -0.05200195  0.29101562 -0.3203125   0.15332031\n",
      "   0.14746094  0.0145874  -0.13183594 -0.13574219  0.08447266  0.1953125\n",
      "  -0.07275391 -0.15917969  0.140625    0.19628906  0.10595703 -0.02966309\n",
      "  -0.28515625  0.14355469  0.12695312  0.01477051  0.02648926  0.02893066\n",
      "   0.11914062 -0.06591797  0.06445312  0.13085938 -0.12792969 -0.08740234\n",
      "  -0.04516602  0.13867188  0.29296875 -0.04150391 -0.04272461  0.078125\n",
      "  -0.15429688  0.17480469  0.02355957  0.03735352 -0.06982422 -0.06396484\n",
      "  -0.33007812 -0.13085938 -0.01049805 -0.03271484  0.16992188  0.16796875\n",
      "  -0.07910156 -0.00363159 -0.05004883  0.0050354  -0.140625    0.12451172\n",
      "  -0.16992188  0.23339844 -0.26953125  0.13476562 -0.17285156 -0.06884766\n",
      "  -0.05566406  0.12060547 -0.09716797 -0.01928711  0.07470703 -0.328125\n",
      "  -0.06494141 -0.03076172 -0.109375    0.0859375   0.16894531 -0.06738281\n",
      "  -0.41992188 -0.0177002   0.05004883  0.01818848  0.00601196  0.33203125\n",
      "   0.15722656  0.07910156 -0.00326538  0.09814453  0.08886719 -0.20898438\n",
      "  -0.21191406 -0.27148438  0.21289062 -0.17089844 -0.18945312 -0.05371094]]\n"
     ]
    }
   ],
   "source": [
    "# return embeddings for specific word -- \"account\"\n",
    "# ----------\n",
    "print(googlenews_word2vec_model.__getitem__([\"account\"]))"
   ]
  },
  {
   "cell_type": "markdown",
   "metadata": {},
   "source": [
    "**QUESTION:** Check out the shape of the vectors for 'account', what do you notice?"
   ]
  },
  {
   "cell_type": "code",
   "execution_count": 43,
   "metadata": {},
   "outputs": [
    {
     "data": {
      "text/plain": [
       "(1, 300)"
      ]
     },
     "execution_count": 43,
     "metadata": {},
     "output_type": "execute_result"
    }
   ],
   "source": [
    "# get the shape of the embeddings - what does this tell us?\n",
    "# ----------\n",
    "googlenews_word2vec_model.__getitem__(['account']).shape"
   ]
  },
  {
   "cell_type": "markdown",
   "metadata": {},
   "source": [
    "**ANSWER:** ..."
   ]
  },
  {
   "cell_type": "markdown",
   "metadata": {},
   "source": [
    "Use the following empty cells to look at what the word embeddings look like for words you think may appear in the text! Keep in mind that even if a word shows up in the text as seen above, a word vector will not be created unless it satisfies all conditions we inputted into the model above. "
   ]
  },
  {
   "cell_type": "code",
   "execution_count": 45,
   "metadata": {},
   "outputs": [
    {
     "ename": "KeyError",
     "evalue": "\"Key 'navient' not present\"",
     "output_type": "error",
     "traceback": [
      "\u001b[0;31m---------------------------------------------------------------------------\u001b[0m",
      "\u001b[0;31mKeyError\u001b[0m                                  Traceback (most recent call last)",
      "Cell \u001b[0;32mIn[45], line 3\u001b[0m\n\u001b[1;32m      1\u001b[0m \u001b[38;5;66;03m# word 1 - try the word \"navient\"\u001b[39;00m\n\u001b[1;32m      2\u001b[0m \u001b[38;5;66;03m# ----------\u001b[39;00m\n\u001b[0;32m----> 3\u001b[0m \u001b[38;5;28mprint\u001b[39m(\u001b[43mgooglenews_word2vec_model\u001b[49m\u001b[38;5;241;43m.\u001b[39;49m\u001b[38;5;21;43m__getitem__\u001b[39;49m\u001b[43m(\u001b[49m\u001b[43m[\u001b[49m\u001b[38;5;124;43m'\u001b[39;49m\u001b[38;5;124;43mnavient\u001b[39;49m\u001b[38;5;124;43m'\u001b[39;49m\u001b[43m]\u001b[49m\u001b[43m)\u001b[49m)\n",
      "File \u001b[0;32m/opt/anaconda3/envs/CSS/lib/python3.12/site-packages/gensim/models/keyedvectors.py:405\u001b[0m, in \u001b[0;36mKeyedVectors.__getitem__\u001b[0;34m(self, key_or_keys)\u001b[0m\n\u001b[1;32m    402\u001b[0m \u001b[38;5;28;01mif\u001b[39;00m \u001b[38;5;28misinstance\u001b[39m(key_or_keys, _KEY_TYPES):\n\u001b[1;32m    403\u001b[0m     \u001b[38;5;28;01mreturn\u001b[39;00m \u001b[38;5;28mself\u001b[39m\u001b[38;5;241m.\u001b[39mget_vector(key_or_keys)\n\u001b[0;32m--> 405\u001b[0m \u001b[38;5;28;01mreturn\u001b[39;00m vstack([\u001b[38;5;28;43mself\u001b[39;49m\u001b[38;5;241;43m.\u001b[39;49m\u001b[43mget_vector\u001b[49m\u001b[43m(\u001b[49m\u001b[43mkey\u001b[49m\u001b[43m)\u001b[49m \u001b[38;5;28;01mfor\u001b[39;00m key \u001b[38;5;129;01min\u001b[39;00m key_or_keys])\n",
      "File \u001b[0;32m/opt/anaconda3/envs/CSS/lib/python3.12/site-packages/gensim/models/keyedvectors.py:446\u001b[0m, in \u001b[0;36mKeyedVectors.get_vector\u001b[0;34m(self, key, norm)\u001b[0m\n\u001b[1;32m    422\u001b[0m \u001b[38;5;28;01mdef\u001b[39;00m\u001b[38;5;250m \u001b[39m\u001b[38;5;21mget_vector\u001b[39m(\u001b[38;5;28mself\u001b[39m, key, norm\u001b[38;5;241m=\u001b[39m\u001b[38;5;28;01mFalse\u001b[39;00m):\n\u001b[1;32m    423\u001b[0m \u001b[38;5;250m    \u001b[39m\u001b[38;5;124;03m\"\"\"Get the key's vector, as a 1D numpy array.\u001b[39;00m\n\u001b[1;32m    424\u001b[0m \n\u001b[1;32m    425\u001b[0m \u001b[38;5;124;03m    Parameters\u001b[39;00m\n\u001b[0;32m   (...)\u001b[0m\n\u001b[1;32m    444\u001b[0m \n\u001b[1;32m    445\u001b[0m \u001b[38;5;124;03m    \"\"\"\u001b[39;00m\n\u001b[0;32m--> 446\u001b[0m     index \u001b[38;5;241m=\u001b[39m \u001b[38;5;28;43mself\u001b[39;49m\u001b[38;5;241;43m.\u001b[39;49m\u001b[43mget_index\u001b[49m\u001b[43m(\u001b[49m\u001b[43mkey\u001b[49m\u001b[43m)\u001b[49m\n\u001b[1;32m    447\u001b[0m     \u001b[38;5;28;01mif\u001b[39;00m norm:\n\u001b[1;32m    448\u001b[0m         \u001b[38;5;28mself\u001b[39m\u001b[38;5;241m.\u001b[39mfill_norms()\n",
      "File \u001b[0;32m/opt/anaconda3/envs/CSS/lib/python3.12/site-packages/gensim/models/keyedvectors.py:420\u001b[0m, in \u001b[0;36mKeyedVectors.get_index\u001b[0;34m(self, key, default)\u001b[0m\n\u001b[1;32m    418\u001b[0m     \u001b[38;5;28;01mreturn\u001b[39;00m default\n\u001b[1;32m    419\u001b[0m \u001b[38;5;28;01melse\u001b[39;00m:\n\u001b[0;32m--> 420\u001b[0m     \u001b[38;5;28;01mraise\u001b[39;00m \u001b[38;5;167;01mKeyError\u001b[39;00m(\u001b[38;5;124mf\u001b[39m\u001b[38;5;124m\"\u001b[39m\u001b[38;5;124mKey \u001b[39m\u001b[38;5;124m'\u001b[39m\u001b[38;5;132;01m{\u001b[39;00mkey\u001b[38;5;132;01m}\u001b[39;00m\u001b[38;5;124m'\u001b[39m\u001b[38;5;124m not present\u001b[39m\u001b[38;5;124m\"\u001b[39m)\n",
      "\u001b[0;31mKeyError\u001b[0m: \"Key 'navient' not present\""
     ]
    }
   ],
   "source": [
    "# word 1 - try the word \"navient\"\n",
    "# ----------\n",
    "print(googlenews_word2vec_model.__getitem__(['navient']))"
   ]
  },
  {
   "cell_type": "markdown",
   "metadata": {},
   "source": [
    "**QUESTION:** Did this run as you expected? Why or why not?"
   ]
  },
  {
   "cell_type": "markdown",
   "metadata": {},
   "source": [
    "**ANSWER:** \"Key 'navient' not present\""
   ]
  },
  {
   "cell_type": "code",
   "execution_count": 47,
   "metadata": {},
   "outputs": [
    {
     "name": "stdout",
     "output_type": "stream",
     "text": [
      "[[-3.56445312e-02 -1.33789062e-01 -7.32421875e-02 -9.37500000e-02\n",
      "   6.59179688e-02 -3.69262695e-03  1.39648438e-01  4.56542969e-02\n",
      "   1.20239258e-02 -6.54296875e-02 -8.78906250e-02  1.54296875e-01\n",
      "   1.30859375e-01 -1.86523438e-01 -3.53515625e-01  5.71289062e-02\n",
      "  -5.24902344e-03 -6.29882812e-02 -3.02734375e-02 -2.02636719e-02\n",
      "  -7.29370117e-03  2.13623047e-02 -1.27929688e-01 -8.49609375e-02\n",
      "   2.94189453e-02  2.84423828e-02 -3.18527222e-04  1.63085938e-01\n",
      "   1.07910156e-01 -1.95312500e-01  8.78906250e-02 -1.28906250e-01\n",
      "  -1.06445312e-01  9.08203125e-02  4.58984375e-02  2.02636719e-02\n",
      "   2.27539062e-01 -5.20019531e-02  6.93359375e-02  4.15039062e-02\n",
      "   9.71679688e-02  1.42578125e-01  1.41601562e-01  8.15429688e-02\n",
      "  -2.30468750e-01 -1.74804688e-01 -1.97753906e-02  1.06445312e-01\n",
      "  -1.25976562e-01  2.01416016e-02  2.79296875e-01  3.85742188e-02\n",
      "   1.40625000e-01 -4.32128906e-02  1.15234375e-01 -1.78222656e-02\n",
      "  -8.05664062e-02  5.55419922e-03  1.12792969e-01  4.41894531e-02\n",
      "   8.23974609e-03  5.81054688e-02 -1.75781250e-01  3.22265625e-02\n",
      "  -7.22656250e-02  2.88085938e-02 -5.00488281e-02 -1.58691406e-02\n",
      "   9.42382812e-02  1.45507812e-01 -1.04980469e-01  4.54101562e-02\n",
      "  -1.23291016e-02  1.94091797e-02 -1.31835938e-01  1.70898438e-01\n",
      "   2.47802734e-02 -7.53784180e-03 -2.27050781e-02 -7.22656250e-02\n",
      "  -8.72802734e-03 -2.38281250e-01  3.00292969e-02  2.03125000e-01\n",
      "  -6.80541992e-03  3.27148438e-02 -8.78906250e-02  2.50000000e-01\n",
      "   1.85546875e-02  6.59179688e-02  1.90429688e-01 -5.61523438e-02\n",
      "  -1.60156250e-01 -1.41601562e-02 -1.33789062e-01  1.20849609e-02\n",
      "  -2.31445312e-01 -1.50390625e-01  2.44140625e-01 -1.29699707e-03\n",
      "   1.01562500e-01 -1.08398438e-01 -9.22851562e-02  7.61718750e-02\n",
      "   9.32617188e-02 -1.64062500e-01 -1.46484375e-01  1.14746094e-01\n",
      "  -7.20977783e-04 -1.73828125e-01 -4.95605469e-02 -6.98242188e-02\n",
      "  -3.61328125e-02 -7.32421875e-02  1.46484375e-01 -6.54296875e-02\n",
      "  -1.39648438e-01 -1.97753906e-02  1.62109375e-01  2.08984375e-01\n",
      "  -6.54296875e-02 -1.04492188e-01 -1.75781250e-01  5.39550781e-02\n",
      "   1.20605469e-01  1.94091797e-02 -3.17382812e-02 -1.34277344e-02\n",
      "   2.60925293e-03  8.10546875e-02 -9.81445312e-02  1.24023438e-01\n",
      "  -2.05078125e-02 -1.20117188e-01  2.66113281e-02 -2.34375000e-02\n",
      "   9.13085938e-02  2.53906250e-02 -9.66796875e-02  2.42919922e-02\n",
      "   2.07031250e-01 -2.87109375e-01  2.73437500e-02  1.55273438e-01\n",
      "   3.22265625e-02  1.16577148e-02  1.21093750e-01  2.09960938e-02\n",
      "  -1.62109375e-01  5.12695312e-02  8.05664062e-02 -1.16729736e-03\n",
      "  -1.66992188e-01  8.39843750e-02 -3.16406250e-01  1.11816406e-01\n",
      "  -2.45361328e-02  9.76562500e-02  6.73828125e-02  1.20117188e-01\n",
      "   9.81445312e-02  1.19140625e-01  1.39648438e-01  7.42187500e-02\n",
      "   2.52685547e-02 -6.78710938e-02 -8.74023438e-02 -1.67968750e-01\n",
      "   1.57226562e-01 -5.10253906e-02  7.22656250e-02 -2.34375000e-01\n",
      "   9.76562500e-02 -2.57812500e-01  5.63964844e-02 -4.24804688e-02\n",
      "  -1.31225586e-02  1.79443359e-02 -5.78613281e-02 -1.14746094e-01\n",
      "  -1.42578125e-01  6.20117188e-02 -1.91406250e-01 -1.69921875e-01\n",
      "  -4.76074219e-02  3.61328125e-02 -2.94189453e-02  1.54296875e-01\n",
      "  -1.24511719e-02 -1.30004883e-02 -3.10546875e-01 -2.42919922e-02\n",
      "  -8.64257812e-02 -1.53320312e-01 -1.40625000e-01  1.33056641e-02\n",
      "  -1.67968750e-01 -1.44531250e-01  6.88476562e-02 -1.92382812e-01\n",
      "  -8.00781250e-02  1.91650391e-02  7.37304688e-02  1.52343750e-01\n",
      "  -1.34765625e-01  2.92968750e-03  2.57812500e-01  1.52343750e-01\n",
      "  -2.88085938e-02 -1.25000000e-01  1.34765625e-01 -1.67236328e-02\n",
      "  -6.34765625e-02  2.65625000e-01  1.34765625e-01  1.38671875e-01\n",
      "   1.29394531e-02  6.54296875e-02 -1.57226562e-01  2.73437500e-02\n",
      "  -8.10546875e-02  1.79687500e-01  2.84423828e-02  2.57812500e-01\n",
      "   4.78515625e-02 -9.81445312e-02 -2.24609375e-01 -9.76562500e-02\n",
      "   7.95898438e-02 -5.83496094e-02  5.90820312e-02 -6.15234375e-02\n",
      "  -2.33398438e-01 -1.28906250e-01  2.47802734e-02  7.91015625e-02\n",
      "   7.42187500e-02 -4.83398438e-02 -9.42382812e-02 -1.69921875e-01\n",
      "  -5.71289062e-02 -1.67968750e-01 -9.86328125e-02  1.25976562e-01\n",
      "   3.41796875e-01 -2.17773438e-01 -9.32617188e-02 -4.49218750e-02\n",
      "   9.03320312e-02 -1.92382812e-01 -6.64062500e-02 -1.54296875e-01\n",
      "   5.51757812e-02 -1.59179688e-01 -4.58984375e-02 -1.02539062e-01\n",
      "  -4.44335938e-02  4.61425781e-02 -8.98437500e-02  4.27246094e-02\n",
      "  -1.22680664e-02 -4.71191406e-02  2.44140625e-02  1.06445312e-01\n",
      "  -2.40478516e-02  1.98242188e-01 -8.10546875e-02 -1.78710938e-01\n",
      "   3.85742188e-02 -3.36914062e-02  1.41601562e-01 -7.76367188e-02\n",
      "   1.18652344e-01 -1.09863281e-01 -7.91015625e-02  1.71875000e-01\n",
      "  -5.64575195e-03  9.81445312e-02 -5.56640625e-02 -2.67578125e-01\n",
      "  -6.20117188e-02 -4.78515625e-02  1.02050781e-01  7.76367188e-02\n",
      "  -1.20849609e-02 -7.01904297e-03  1.49414062e-01  2.40478516e-02\n",
      "   7.27539062e-02  9.47265625e-02  1.96533203e-02  7.81250000e-03\n",
      "  -2.98828125e-01  9.08203125e-02  1.42578125e-01 -1.19018555e-02\n",
      "   9.66796875e-02  2.95410156e-02 -8.49609375e-02 -2.23632812e-01]]\n"
     ]
    },
    {
     "data": {
      "text/plain": [
       "(1, 300)"
      ]
     },
     "execution_count": 47,
     "metadata": {},
     "output_type": "execute_result"
    }
   ],
   "source": [
    "# word 2 - try the word \"company\"\n",
    "# ----------\n",
    "print(googlenews_word2vec_model.__getitem__(['company']))\n",
    "googlenews_word2vec_model.__getitem__(['company']).shape"
   ]
  },
  {
   "cell_type": "code",
   "execution_count": 48,
   "metadata": {},
   "outputs": [
    {
     "name": "stdout",
     "output_type": "stream",
     "text": [
      "[[-1.50146484e-02  1.93359375e-01  1.48315430e-02  7.37304688e-02\n",
      "   2.49023438e-01 -2.61230469e-02  3.75976562e-02 -9.81445312e-02\n",
      "   1.99218750e-01 -2.37304688e-01 -2.69531250e-01 -1.73828125e-01\n",
      "  -9.37500000e-02  2.13867188e-01 -1.88476562e-01  7.37304688e-02\n",
      "   3.57421875e-01  1.43554688e-01  7.65991211e-03 -8.05664062e-02\n",
      "   7.37304688e-02  8.59375000e-02  1.15722656e-01 -2.01171875e-01\n",
      "   2.03125000e-01 -2.02148438e-01  8.64257812e-02 -2.75390625e-01\n",
      "   2.61718750e-01  1.91406250e-01 -1.58203125e-01  6.54296875e-02\n",
      "   3.14453125e-01  1.02539062e-01  2.21679688e-01  1.53320312e-01\n",
      "  -1.79687500e-01  1.16729736e-03  1.01562500e-01  7.66601562e-02\n",
      "  -1.02539062e-01 -1.61132812e-01 -3.49121094e-02 -1.25000000e-01\n",
      "   1.86767578e-02 -1.89208984e-02  6.00585938e-02  1.59179688e-01\n",
      "  -1.21093750e-01  1.45507812e-01  2.40234375e-01 -1.78710938e-01\n",
      "  -2.50000000e-01  1.40625000e-01  1.47460938e-01  3.83300781e-02\n",
      "  -2.22656250e-01  2.83203125e-01 -2.98828125e-01 -2.27539062e-01\n",
      "  -1.09863281e-01  1.53320312e-01 -1.96289062e-01 -1.17675781e-01\n",
      "   3.24707031e-02 -4.07714844e-02 -1.48925781e-02 -1.51367188e-01\n",
      "   2.86865234e-02  1.43554688e-01  1.02050781e-01 -1.77734375e-01\n",
      "   2.21679688e-01 -2.73437500e-01 -9.03320312e-02  2.19345093e-04\n",
      "   6.78710938e-02  3.63281250e-01 -6.73828125e-02  8.34960938e-02\n",
      "  -1.37695312e-01  2.57812500e-01  5.88378906e-02  8.54492188e-02\n",
      "   8.74023438e-02  1.82617188e-01 -6.93359375e-02  1.22070312e-01\n",
      "  -1.25976562e-01 -2.57812500e-01  5.22460938e-02  2.08007812e-01\n",
      "   2.24609375e-02 -2.08984375e-01 -2.78320312e-02 -2.38281250e-01\n",
      "  -1.31835938e-01  2.59765625e-01  1.47460938e-01  1.21459961e-02\n",
      "   8.93554688e-02  1.42822266e-02  5.15136719e-02  4.61425781e-02\n",
      "   1.90429688e-01 -3.24218750e-01 -2.53906250e-01  1.37695312e-01\n",
      "   1.78222656e-02 -5.76171875e-02  3.93676758e-03  3.02734375e-02\n",
      "  -2.89062500e-01 -1.97265625e-01 -1.04980469e-01  2.08984375e-01\n",
      "  -7.12890625e-02  1.72851562e-01  2.85156250e-01  2.53906250e-02\n",
      "  -9.61914062e-02 -1.02539062e-02  9.76562500e-02 -2.06298828e-02\n",
      "   2.40234375e-01 -2.09960938e-01 -2.08007812e-01  1.80664062e-01\n",
      "  -1.14257812e-01  1.35742188e-01 -8.10546875e-02  6.65283203e-03\n",
      "  -6.83593750e-02 -1.31835938e-01  1.70898438e-01 -8.10546875e-02\n",
      "  -1.90429688e-01 -5.27343750e-02 -1.68945312e-01  7.38525391e-03\n",
      "  -5.22460938e-02 -4.27734375e-01  9.76562500e-02 -2.07031250e-01\n",
      "  -1.51367188e-01 -7.56835938e-02 -5.44433594e-02  3.22265625e-01\n",
      "  -7.86132812e-02 -1.39770508e-02 -8.00781250e-02 -6.05468750e-02\n",
      "   1.33789062e-01 -2.09960938e-02  1.25976562e-01 -5.73730469e-02\n",
      "   4.73632812e-02 -1.11328125e-01 -1.03027344e-01  9.32617188e-02\n",
      "   1.96289062e-01  1.80664062e-01  8.49609375e-02 -8.74023438e-02\n",
      "  -6.73828125e-02  7.71484375e-02  1.64062500e-01 -1.39648438e-01\n",
      "  -2.69531250e-01  1.91406250e-01 -1.23535156e-01 -1.75781250e-01\n",
      "   2.91015625e-01 -1.53320312e-01 -4.83398438e-02 -3.24707031e-02\n",
      "  -1.91406250e-01  3.12500000e-02 -2.03125000e-01 -7.08007812e-02\n",
      "  -1.00097656e-01 -3.49609375e-01  1.83593750e-01  5.63964844e-02\n",
      "   9.96093750e-02 -2.79296875e-01 -7.56835938e-02  8.83789062e-02\n",
      "   1.72851562e-01  3.51562500e-01 -2.12890625e-01 -3.93066406e-02\n",
      "  -4.04296875e-01 -8.72802734e-03 -1.32812500e-01  3.02734375e-01\n",
      "  -1.08398438e-01 -1.75781250e-02  9.08203125e-02 -2.77343750e-01\n",
      "  -1.90429688e-01  2.69531250e-01 -3.90625000e-02 -7.71484375e-02\n",
      "   1.04003906e-01 -3.75976562e-02 -3.02734375e-01  5.88378906e-02\n",
      "   3.88183594e-02 -1.22558594e-01  1.40380859e-02  3.34472656e-02\n",
      "   1.71875000e-01  1.29394531e-02  1.93359375e-01  7.56835938e-03\n",
      "   1.51367188e-01  2.27539062e-01 -2.28515625e-01 -2.79296875e-01\n",
      "   3.22265625e-02 -1.66015625e-01 -1.63085938e-01 -3.59375000e-01\n",
      "   1.31835938e-01  6.98242188e-02 -9.32617188e-02  6.15234375e-02\n",
      "  -4.05883789e-03  1.40625000e-01 -1.46484375e-01  5.00488281e-02\n",
      "   5.22460938e-02 -4.15039062e-02 -6.49414062e-02 -1.56250000e-01\n",
      "   1.48437500e-01 -3.12500000e-01  2.65625000e-01  5.17578125e-02\n",
      "   2.33398438e-01  1.50390625e-01  2.85644531e-02  1.11328125e-01\n",
      "  -9.57031250e-02 -1.14746094e-01  1.22558594e-01 -1.21093750e-01\n",
      "  -7.22656250e-02 -2.83203125e-01 -9.21630859e-03  8.05664062e-02\n",
      "  -8.10546875e-02 -1.00097656e-01 -2.26562500e-01  1.59179688e-01\n",
      "   8.15429688e-02  2.37304688e-01  4.63867188e-02 -2.27539062e-01\n",
      "  -2.30468750e-01  1.62109375e-01 -4.04296875e-01  5.90820312e-02\n",
      "  -1.14135742e-02  1.08886719e-01 -1.08398438e-01  6.25000000e-02\n",
      "  -2.48046875e-01 -2.19726562e-01 -2.03125000e-01  2.06054688e-01\n",
      "  -8.83789062e-02  1.01562500e-01  6.78710938e-02  8.74023438e-02\n",
      "  -1.42822266e-02 -2.53906250e-01  7.22656250e-02  1.07421875e-01\n",
      "  -6.25000000e-02  2.35595703e-02  9.13085938e-02  1.51977539e-02\n",
      "  -2.45117188e-01  1.54296875e-01  9.21630859e-03  1.03027344e-01\n",
      "   7.61718750e-02  5.71289062e-02 -2.53906250e-01  4.64843750e-01\n",
      "  -2.65625000e-01 -2.45117188e-01  6.07910156e-02  1.23046875e-01\n",
      "  -1.48437500e-01  4.19921875e-01 -1.50390625e-01 -9.96093750e-02]]\n"
     ]
    }
   ],
   "source": [
    "# word 3 - try the word \"credit\"\n",
    "# ----------\n",
    "print(googlenews_word2vec_model.__getitem__(['credit']))"
   ]
  },
  {
   "cell_type": "code",
   "execution_count": 49,
   "metadata": {},
   "outputs": [
    {
     "name": "stdout",
     "output_type": "stream",
     "text": [
      "['</s>', 'in', 'for', 'that', 'is', 'on', '##', 'The', 'with', 'said', 'was', 'the', 'at', 'not', 'as', 'it', 'be', 'from', 'by', 'are', 'I', 'have', 'he', 'will', 'has', '####', 'his', 'an', 'this', 'or', 'their', 'who', 'they', 'but', '$', 'had', 'year', 'were', 'we', 'more', '###', 'up', 'been', 'you', 'its', 'one', 'about', 'would', 'which', 'out', 'can', 'It', 'all', 'also', 'two', 'after', 'first', 'He', 'do', 'time', 'than', 'when', 'We', 'over', 'last', 'new', 'other', 'her', 'people', 'into', 'In', 'our', 'there', 'A', 'she', 'could', 'just', 'years', 'some', 'U.S.', 'three', 'million', 'them', 'what', 'But', 'so', 'no', 'like', 'if', 'only', 'percent', 'get', 'did', 'him', 'game', 'back', 'because', 'now', '#.#', 'before']\n"
     ]
    }
   ],
   "source": [
    "# return a list of words for which we have calculations\n",
    "# ----------\n",
    "words = list(googlenews_word2vec_model. index_to_key) # get the indices and keys\n",
    "print(words[0:100])                              # return the first 100 words"
   ]
  },
  {
   "cell_type": "markdown",
   "metadata": {},
   "source": [
    "`gensim` comes with some handy methods to analyze word relationships. `similarity` will give us a number from 0-1 based on how similar two words are. If this sounds like cosine similarity for words, you'd be right! It just takes the cosine similarity of the high dimensional vectors we input. \n",
    "\n",
    "In the following cell, find the similarity between the words `credit` and `debt`. \n",
    "\n",
    "**QUESTION:** How does this compare to the model trained on our own small dataset?"
   ]
  },
  {
   "cell_type": "code",
   "execution_count": 51,
   "metadata": {},
   "outputs": [
    {
     "data": {
      "text/plain": [
       "0.48311687"
      ]
     },
     "execution_count": 51,
     "metadata": {},
     "output_type": "execute_result"
    }
   ],
   "source": [
    "# similarty between credit and debt and compare to above\n",
    "# ----------\n",
    "googlenews_word2vec_model.similarity('credit','debt')"
   ]
  },
  {
   "cell_type": "markdown",
   "metadata": {},
   "source": [
    "**ANSWER:** ...\n",
    "\n",
    "We can also find cosine distance between two clusters of word vectors. Each cluster is measured as the mean of its words:"
   ]
  },
  {
   "cell_type": "code",
   "execution_count": 52,
   "metadata": {},
   "outputs": [
    {
     "data": {
      "text/plain": [
       "0.6583939"
      ]
     },
     "execution_count": 52,
     "metadata": {},
     "output_type": "execute_result"
    }
   ],
   "source": [
    "# similarity between credit/debt and loan/mortgage\n",
    "# ----------\n",
    "googlenews_word2vec_model.n_similarity(['credit','debt'],\n",
    "                                       ['loan','mortgage'])"
   ]
  },
  {
   "cell_type": "markdown",
   "metadata": {},
   "source": [
    "We can find words that don't belong with `doesnt_match` parameter. This finds the mean vector of the words in the `list`, and identifies the furthest away. Try it out. Of the three words in the list `['credit', 'loan', 'student']`, which is the furthest vector from the mean?"
   ]
  },
  {
   "cell_type": "code",
   "execution_count": 53,
   "metadata": {},
   "outputs": [
    {
     "data": {
      "text/plain": [
       "'student'"
      ]
     },
     "execution_count": 53,
     "metadata": {},
     "output_type": "execute_result"
    }
   ],
   "source": [
    "# words that don't match 1\n",
    "# ----------\n",
    "googlenews_word2vec_model.doesnt_match(['credit','loan','student'])"
   ]
  },
  {
   "cell_type": "code",
   "execution_count": 54,
   "metadata": {},
   "outputs": [
    {
     "data": {
      "text/plain": [
       "'loan'"
      ]
     },
     "execution_count": 54,
     "metadata": {},
     "output_type": "execute_result"
    }
   ],
   "source": [
    "# words that don't match 2\n",
    "# ----------\n",
    "googlenews_word2vec_model.doesnt_match(['credut','loan','mortgage'])"
   ]
  },
  {
   "cell_type": "code",
   "execution_count": 68,
   "metadata": {},
   "outputs": [
    {
     "data": {
      "text/plain": [
       "'bank'"
      ]
     },
     "execution_count": 68,
     "metadata": {},
     "output_type": "execute_result"
    }
   ],
   "source": [
    "googlenews_word2vec_model.doesnt_match(['pandemic', 'covid', 'bank'])"
   ]
  },
  {
   "cell_type": "markdown",
   "metadata": {},
   "source": [
    "Let's look at how the Google News model did for this example above: \n",
    "$$\\vec{house} - \\vec{rent} + \\vec{loan} = $$"
   ]
  },
  {
   "cell_type": "code",
   "execution_count": 55,
   "metadata": {},
   "outputs": [
    {
     "data": {
      "text/plain": [
       "[('Loan', 0.4047453999519348),\n",
       " ('Cypress_BizMark_loan', 0.38223081827163696),\n",
       " ('bungalow', 0.3808267414569855),\n",
       " ('loans', 0.37835097312927246),\n",
       " ('lender', 0.37541475892066956),\n",
       " ('mortgage', 0.36497557163238525),\n",
       " ('residence', 0.3630841076374054),\n",
       " ('NHRP_eligible', 0.361818790435791),\n",
       " ('houses', 0.35680124163627625),\n",
       " ('midfielder_Eric_Skora', 0.3547400236129761)]"
      ]
     },
     "execution_count": 55,
     "metadata": {},
     "output_type": "execute_result"
    }
   ],
   "source": [
    "# vector math with google\n",
    "# ----------\n",
    "googlenews_word2vec_model.most_similar(positive=['house','loan'], \n",
    "                                       negative='rent')"
   ]
  },
  {
   "cell_type": "markdown",
   "metadata": {},
   "source": [
    "### Challenge PCA\n",
    "\n",
    "Next we will explore the word embeddings of our `text` visually with PCA. We can retrieve __all__ of the vectors from a trained model as follows:"
   ]
  },
  {
   "cell_type": "code",
   "execution_count": 63,
   "metadata": {},
   "outputs": [
    {
     "name": "stdout",
     "output_type": "stream",
     "text": [
      "(179, 300)\n",
      "['hello', 'cosigner', 'loan', 'loan', 'number', 'mortgage', 'lender', 'mortgage', 'contacted', 'bank', 'multiple', 'times', 'past', 'loan', 'terms', 'loan', 'payment', 'completely', 'changed', 'payment', 'changed', 'term', 'loan', 'extended', 'year', 'note', 'refinancing', 'loan', 'bank', 'says', 'nt', 'note', 'loan', 'modified', 'refinance', 'bank', 'says', 'nt', 'loan', 'changed', 'term', 'loan', 'years', 'payment', 'changed', 'substantially', 'fact', 'letter', 'bank', 'saying', 'borrower', 'bank', 'nt', 'know', 'location', 'borrower', 'live', 'town', 'moved', 'changed', 'address', 'probably', 'years', 'able', 'print', 'letter', 'mortgage', 'letter', 'states', 'locate', 'signature', 'mortgage', 'info', 'online', 'account', 'loan', 'like', 'pay', 'debts', 'reason', 'contacted', 'lived', 'property', 'paid', 'payment', 'loan', 'deceitful', 'communications', 'loan', 'changes', 'right', 'start', 'having', 'mortgage', 'loan', 'bank', 'deceitful', 'term', 'modification', 'deceitful', 'wrong', 'reason', 'loan', 'line', 'loan', 'changed', 'twice', 'mortgage', 'end', 'date', 'mortgage', 'new', 'terms', 'loan', 'think', 'loan', 'taken', 'mortgage', 'couple', 'modifications', 'bank', 'end', 'date', 'include', 'years', 'bank', 'loan', 'transferred', 'mortgage', 'years', 'wrong', 'loan', 'loan', 'changed', 'term', 'length', 'payment', 'lied', 'knowing', 'bank', 'totally', 'lied', 'able', 'contact', 'information', 'live', 'phone', 'number', 'total', 'online', 'access', 'contact', 'loans', 'require', 'signatures', 'went', 'went', 'ahead', 'changes', 'registered', 'online', 'access', 'mortgage', 'major', 'changes', 'loan', 'deleted', 'loan', 'loan', 'refinanced', 'banks', 'totally', 'wrong', 'hope', 'help', 'matter', 'bank', 'remove', 'loan']\n"
     ]
    }
   ],
   "source": [
    "# retrieve all vectors\n",
    "# ----------\n",
    "\n",
    "# ANNOTATE WHAT EACH LINE IS DOING\n",
    "\n",
    "# \n",
    "model_words = [word for word in doc if word in model.wv.index_to_key and word in googlenews_word2vec_model.index_to_key]\n",
    "\n",
    "# \n",
    "X = googlenews_word2vec_model.__getitem__(model_words)\n",
    "\n",
    "#\n",
    "print(X.shape) # what is the shape of this and what does it mean?\n",
    "print(model_words)\n"
   ]
  },
  {
   "cell_type": "markdown",
   "metadata": {},
   "source": [
    "As we do with non-text features, we want to standardize X so that all features have the same scale. Do this by creating a `StandardScaler()`, then run its `fit_transform method` on X. "
   ]
  },
  {
   "cell_type": "code",
   "execution_count": 64,
   "metadata": {},
   "outputs": [],
   "source": [
    "# scale the data\n",
    "# ----------\n",
    "X_std = StandardScaler().fit_transform(X)"
   ]
  },
  {
   "cell_type": "code",
   "execution_count": 66,
   "metadata": {},
   "outputs": [],
   "source": [
    "# fit a PCA \n",
    "# ----------\n",
    "# initalize model and set parameters\n",
    "pca = PCA(n_components = 2,\n",
    "          random_state = 42) # set n_components to 2 \n",
    "\n",
    "# fit and transform the standardized data\n",
    "Y_pca = pca.fit_transform(X_std)"
   ]
  },
  {
   "cell_type": "code",
   "execution_count": 67,
   "metadata": {},
   "outputs": [
    {
     "data": {
      "text/plain": [
       "<Axes: >"
      ]
     },
     "execution_count": 67,
     "metadata": {},
     "output_type": "execute_result"
    },
    {
     "data": {
      "image/png": "[encoded data removed]",
      "text/plain": [
       "<Figure size 640x480 with 1 Axes>"
      ]
     },
     "metadata": {},
     "output_type": "display_data"
    }
   ],
   "source": [
    "# visualize\n",
    "# ----------\n",
    "sns.scatterplot(x = Y_pca[:, 0], # extract all the elements from the first column\n",
    "                y = Y_pca[:, 1]) # extract all the elements from the second column"
   ]
  },
  {
   "cell_type": "code",
   "execution_count": 69,
   "metadata": {},
   "outputs": [
    {
     "data": {
      "image/png": "[encoded data removed]",
      "text/plain": [
       "<Figure size 640x480 with 1 Axes>"
      ]
     },
     "metadata": {},
     "output_type": "display_data"
    }
   ],
   "source": [
    "# recreate the visualization with 2 components\n",
    "# ----------\n",
    "\n",
    "# set random seed\n",
    "random.seed(10)\n",
    "\n",
    "# sample 25 words\n",
    "rando_words = random.sample(model_words, 25) \n",
    "\n",
    "# get embeddings\n",
    "X1 = model.wv.__getitem__(rando_words)\n",
    "\n",
    "# initalize PCA\n",
    "pca1 = PCA(n_components=2, \n",
    "          random_state=16)\n",
    "\n",
    "# fit and transform\n",
    "result = pca1.fit_transform(X1)\n",
    "\n",
    "# create dataframe\n",
    "result_df = pd.DataFrame(result,               \n",
    "                         columns = ['PC1', 'PC2'], \n",
    "                         index = rando)\n",
    "\n",
    "# create scatterplot\n",
    "sns.scatterplot(x = 'PC1',        # specify x-axis\n",
    "                y = 'PC2',        # specify y-axis\n",
    "                data = result_df) # specify dataset\n",
    "\n",
    "# initialize empty list\n",
    "texts = []\n",
    "\n",
    "# append words to list - FOR SOME REASON, THIS LINE WILL NOT RUN. YOU GET THE SAME OUTPUT JUST W/O THE LABELS\n",
    "#for word in result_df.index:\n",
    "#    texts.append(plt.text(result_df.loc[word, 'PC1'], \n",
    "#                          result_df.loc[word, 'PC2'], \n",
    "#                          word, \n",
    "#                          fontsize = 8))\n",
    "\n",
    "# plot text using adjust_text (because overlapping text is hard to read)\n",
    "adjust_text(texts, \n",
    "            force_text = (0.4,0.4),\n",
    "            expand = (1.2,1),\n",
    "            arrowprops = dict(arrowstyle = \"-\", \n",
    "                              color = 'black', \n",
    "                              lw = 0.5))\n",
    "\n",
    "plt.show()"
   ]
  },
  {
   "cell_type": "markdown",
   "metadata": {},
   "source": [
    "## Averaging Word Embeddings\n",
    "\n",
    "And then let's do this for every token and document in our corpus:"
   ]
  },
  {
   "cell_type": "code",
   "execution_count": 70,
   "metadata": {},
   "outputs": [],
   "source": [
    "# create function to iterate over every token and document in our corpus\n",
    "# ----------\n",
    "def document_vector(model, doc):\n",
    "    doc = [word for word in doc if word in model.index_to_key]\n",
    "    return np.mean(model.__getitem__(doc), axis=0)"
   ]
  },
  {
   "cell_type": "code",
   "execution_count": 72,
   "metadata": {},
   "outputs": [
    {
     "data": {
      "text/plain": [
       "array([[ 0.01107225,  0.05889446,  0.02401414, ..., -0.01152439,\n",
       "        -0.01455139, -0.09273032],\n",
       "       [-0.00627663,  0.05752753, -0.00707209, ..., -0.04551885,\n",
       "        -0.02815773, -0.04940417],\n",
       "       [ 0.00904846,  0.07690274,  0.00400127, ...,  0.02244163,\n",
       "         0.00069271, -0.04808807],\n",
       "       ...,\n",
       "       [ 0.01583585,  0.05642978,  0.01154397, ..., -0.02958263,\n",
       "        -0.05187919, -0.10531339],\n",
       "       [-0.00470088, -0.00990648,  0.02046791, ..., -0.07050969,\n",
       "        -0.02496103,  0.02214168],\n",
       "       [-0.00827374,  0.04146086,  0.00508167, ...,  0.01880816,\n",
       "         0.02728265, -0.08050224]], dtype=float32)"
      ]
     },
     "execution_count": 72,
     "metadata": {},
     "output_type": "execute_result"
    }
   ],
   "source": [
    "# create an array for the size of the corpus\n",
    "# ----------\n",
    "# ANNOTATE EACH LINE\n",
    "\n",
    "#\n",
    "empty_list_embeddings_means = []\n",
    "\n",
    "#\n",
    "for doc in cfpb['tokens']: \n",
    "    empty_list_embeddings_means.append(document_vector(googlenews_word2vec_model, doc))\n",
    "\n",
    "# \n",
    "doc_average_embeddings = np.array(empty_list_embeddings_means) \n",
    "\n",
    "# \n",
    "doc_average_embeddings"
   ]
  },
  {
   "cell_type": "markdown",
   "metadata": {},
   "source": [
    "### Challenge: Classification\n",
    "\n",
    "Let's run a classificaiton model using the Google News trained model. \n",
    "\n",
    "**QUESTION:** How does this pre-trained library do compared to our first model fit to our own data? Why do you think this is?"
   ]
  },
  {
   "cell_type": "code",
   "execution_count": 73,
   "metadata": {},
   "outputs": [],
   "source": [
    "# convert word embeddings into dataframe\n",
    "# ----------\n",
    "word2vec_features_df = pd.DataFrame(doc_average_embeddings)"
   ]
  },
  {
   "cell_type": "code",
   "execution_count": 78,
   "metadata": {},
   "outputs": [
    {
     "name": "stderr",
     "output_type": "stream",
     "text": [
      "/var/folders/f5/cxwzf1714jl8np8by14r5y8m0000gn/T/ipykernel_33558/2194352070.py:23: FutureWarning: Series.ravel is deprecated. The underlying array is already 1D, so ravel is not necessary.  Use `to_numpy()` for conversion to a numpy array instead.\n",
      "  y_train.ravel())\n"
     ]
    },
    {
     "data": {
      "image/png": "[encoded data removed]",
      "text/plain": [
       "<Figure size 1000x700 with 2 Axes>"
      ]
     },
     "metadata": {},
     "output_type": "display_data"
    }
   ],
   "source": [
    "#\n",
    "# Classifcation model\n",
    "# ----------------------------------------\n",
    "\n",
    "\n",
    "# specify logit model\n",
    "# ----------\n",
    "\n",
    "# create label\n",
    "y = cfpb['Product_binary']  # subset the product binary column from cfpb dataframe\n",
    "\n",
    "# split into training\n",
    "X_train, X_test, y_train, y_test = train_test_split(word2vec_features_df,                # specify features\n",
    "                                                    y,                # specify labels\n",
    "                                                    train_size = .75,          # specify training split\n",
    "                                                    test_size = .25,            # specify test split\n",
    "                                                    random_state = 10)  # set seed\n",
    "# inititialize a model\n",
    "logit_reg = LogisticRegression()\n",
    "\n",
    "# fit on training\n",
    "logit_model = logit_reg.fit(X_train, \n",
    "                            y_train.ravel())\n",
    "\n",
    "# predict on test data\n",
    "y_pred = logit_model.predict(X_test)\n",
    "\n",
    "# confusion matrix\n",
    "# ----------\n",
    "\n",
    "# create confusion matrix \n",
    "cf_matrix = confusion_matrix(y_test,              # actual\n",
    "                 y_pred,              # predictions\n",
    "                 normalize = \"true\")     # normalize\n",
    "\n",
    "# create dataframe\n",
    "df_cm = pd.DataFrame(cf_matrix,   # specify matrix for calculations\n",
    "                     range(2),\n",
    "                     range(2))\n",
    "\n",
    "# rename indices\n",
    "df_cm = df_cm.rename(index=str, columns={0: \"Checking or savings account\", \n",
    "                                         1: \"Student loan\"})\n",
    "\n",
    "df_cm.index = [\"Checking or savings account\", \"Student loan\"]\n",
    "\n",
    "\n",
    "# plot specifications\n",
    "# ----------\n",
    "\n",
    "plt.figure(figsize = (10,7))\n",
    "sns.set(font_scale=1.4)#for label size\n",
    "sns.heatmap(df_cm, \n",
    "           annot=True,\n",
    "           annot_kws={\"size\": 16},\n",
    "           fmt='g')\n",
    "\n",
    "plt.title('Google Document Averaged Embeddings')\n",
    "plt.xlabel(\"Predicted Label\")\n",
    "plt.ylabel(\"True Label\")\n",
    "plt.show()"
   ]
  },
  {
   "cell_type": "markdown",
   "metadata": {},
   "source": [
    "**ANSWER:** ...\n",
    "\n",
    "Uncomment the script code above to re-train the Google News model on your data and re-run to see how it performs in comparison. How do you think it will do?\n",
    "\n"
   ]
  },
  {
   "cell_type": "markdown",
   "metadata": {},
   "source": [
    "# Discussion\n",
    "\n",
    "You've now had a gentle introduction to word embeddings! There are a few major lessons here.\n",
    "\n",
    "- Word embeddings are powerful and capture a lot of context that frequency based embeddings do not. However, this isn't perfect! \n",
    "- As with any machine learning application, your choice of model and hyperparameters can matter quite a lot. In this case, some of our simpler featurizations and models actually did better than word embeddings, but this won't always be true. \n",
    "- It is also worth learning more about other embeddings like [GloVe](https://nlp.stanford.edu/projects/glove/), transformer based models like [BERT](https://arxiv.org/abs/1810.04805) and deep learning approaches like [ELMo](https://arxiv.org/abs/1802.05365)."
   ]
  },
  {
   "cell_type": "markdown",
   "metadata": {},
   "source": [
    "---\n",
    "Notebook developed by Aniket Kesari. Some materials borrowed from [LS123: Data, Prediction, and Law](https://github.com/Akesari12/LS123_Data_Prediction_Law_Spring-2019/blob/master/labs/Word%20Embedding/LEGALST-190%20Word%20Embedding%20SOLUTIONS.ipynb). Modified by Prashant Sharma (2023) and annotated by Kasey Zapatka (2024)."
   ]
  }
 ],
 "metadata": {
  "kernelspec": {
   "display_name": "CSS",
   "language": "python",
   "name": "python3"
  },
  "language_info": {
   "codemirror_mode": {
    "name": "ipython",
    "version": 3
   },
   "file_extension": ".py",
   "mimetype": "text/x-python",
   "name": "python",
   "nbconvert_exporter": "python",
   "pygments_lexer": "ipython3",
   "version": "3.12.2"
  }
 },
 "nbformat": 4,
 "nbformat_minor": 4
}
